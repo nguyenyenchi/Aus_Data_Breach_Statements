{
 "cells": [
  {
   "cell_type": "markdown",
   "id": "c90f5011",
   "metadata": {},
   "source": [
    "https://machinelearningmastery.com/clean-text-machine-learning-python/"
   ]
  },
  {
   "cell_type": "code",
   "execution_count": 1,
   "id": "709dc271",
   "metadata": {},
   "outputs": [],
   "source": [
    "import pandas as pd\n",
    "import numpy as np\n",
    "import matplotlib.pyplot as plt\n",
    "\n",
    "import string\n",
    "import nltk\n",
    "from nltk.corpus import stopwords\n",
    "from nltk.tokenize import word_tokenize\n",
    "from nltk.stem import WordNetLemmatizer\n",
    "from nltk.tokenize import word_tokenize\n",
    "from wordcloud import WordCloud, STOPWORDS"
   ]
  },
  {
   "cell_type": "code",
   "execution_count": 84,
   "id": "88cfd624",
   "metadata": {},
   "outputs": [],
   "source": [
    "latitude = '''20 March 2023\n",
    "Latitude Financial announced on 16 March 2023 that it had detected unusual activity on its systems which it can now confirm as a sophisticated, well-organised and malicious cyber-attack which remains active.\n",
    "\n",
    "We recognise the distress to our customers caused by the theft of their personal information and we are committed to transparently updating our customers, partners, employees and the broader community.\n",
    "\n",
    "Latitude immediately engaged leading external cyber security experts, the Australian Cyber Security Centre, the Australian Federal Police and other relevant Government agencies.\n",
    "\n",
    "The attack on Latitude is now the subject of an investigation by the Australian Federal Police.\n",
    "\n",
    "Our people are working around the clock to contain the attackers. We have taken the prudent action of isolating some of our technology platforms which means that we are currently not onboarding new customers.\n",
    "\n",
    "Because the attack remains active, we have taken our platforms offline and are unable to service our customers and merchant partners. We cannot restore this capability immediately, however we are working to do so gradually over the coming days and ask our customers for their continued patience. Our restoration of these services is aligned to our forensic review.\n",
    "\n",
    "In conjunction with our cyber-security experts, we are continuing our forensic review of our IT platforms to identify the full extent of the theft of customer information as a result of the attack on Latitude.\n",
    "\n",
    "So far, Latitude can confirm that:\n",
    "\n",
    "As previously disclosed, approximately 330,000 customers and applicants have had their personal information stolen\n",
    "Approximately 96% of the personal information stolen was copies of drivers’ licences or driver licence numbers\n",
    "Less than 4% was copies of passports or passport numbers\n",
    "Less than 1% was Medicare numbers\n",
    "As our review deepens to include non-customer originating platforms and historical customer information, we are likely to uncover more stolen information affecting both current and past Latitude customers and applicants. We will provide a further update when we have more information to share.\n",
    "\n",
    "Latitude encourages our customers to remain vigilant. We will never contact customers requesting their passwords.\n",
    "\n",
    "From today, Latitude will commence contacting customers and applicants who have so far been impacted by this criminal act, having already written to all our customers on Thursday 16 March 2023 to alert them to the cyber-attack.\n",
    "\n",
    "Latitude will confirm to each impacted customer and applicant what personal information has been stolen, what we are doing to support them and what additional steps customers should consider taking to further protect their information. This includes Latitude working with relevant agencies to replace identification documents, where necessary, at no cost to our customers.\n",
    "\n",
    "We have engaged IDCARE to help support those impacted. IDCARE is a not-for profit organisation and Australia and New Zealand’s national incident response service specialising in providing free, confidential cyber incident information and assistance. Impacted customers and applicants will be able to contact IDCARE during business hours on 1800 595 160.\n",
    "\n",
    "As of today, Latitude has established dedicated contact centres for impacted customers in Australia and New Zealand to answer queries, as well as a dedicated help page on our website to keep customers and partners fully informed of developments.\n",
    "\n",
    "Once the cyber-attack is contained, Latitude commits to a review of this incident. This review will help Latitude to most effectively safeguard our customers, partners and platforms, while contributing to the continued fight against cyber-crime on Australian businesses.\n",
    "\n",
    "Latitude is still assessing the anticipated total cost to it of this incident, including the cost to Latitude of the support we intend to provide our customers as described in this announcement.\n",
    "\n",
    "Latitude maintains insurance policies to cover risks, including cyber security risks, and we have notified our insurers in respect of the incident.\n",
    "\n",
    "Latitude Financial Services CEO Ahmed Fahour said:\n",
    "“I sincerely apologise to our customers and partners for the distress and inconvenience this criminal act has caused. I understand fully the wider concern that this cyber-attack has created within the community.\n",
    "\n",
    "“Our focus is on protecting the ongoing security of our customers, partners and employees’ personal and identity information, while also doing everything we can to support customers and applicants who have had information stolen.\n",
    "\n",
    "“While we continue to deliver transactional services, some functionality has been affected resulting in disruption. We are working extremely hard to restore full services to our customers and merchant partners and thank them for their patience and support. We understand their frustration. Customers should refer to Latitude’s website for regular updates.”\n",
    "\n",
    "Media contact\n",
    "Mark Gardy\n",
    "Mark.Gardy@latitudefinancial.com\n",
    "+61 412 376 817\n",
    "\n",
    "Latitude strongly advises all Australian and New Zealand citizens to regulary change passwords of important financial accounts.\n",
    "\n",
    "There are immediate precautions that you can take to protect your identity and personal information:\n",
    "\n",
    "You can contact one of Australia’s three credit reporting bodies to obtain your credit report so you can confirm if your identity has been used to obtain credit without your knowledge.\n",
    "You can also request the credit reporting bodies to place a credit ban on your credit file via their website or by contacting them directly. If you intend to apply for a credit ban, please be aware that you will not be able to apply for credit while the ban is in place.\n",
    "Credit Reporting Agency\tWebsite\n",
    "Illion\tAU: illion.com.au/credit-report-ban-request/\n",
    "NZ dbcsprodaecdn.azureedge.net/web/themes/cycnz/ assets/static/SuppressionRequestFormCYCNZ.pdf\n",
    "Equifax\tAU www.equifax.com.au/eform/submit/credit-ban\n",
    "NZ equifax.co.nz/credit-file-suppression\n",
    "Experian\texperian.com.au/consumer/request-a-ban\n",
    "Centrix\tcentrix.co.nz/my-credit-score/suppress-your-credit-file/\n",
    "You can refer to Australian Government information on how you can protect yourself at cyber.gov.au or to Office of the Privacy Commissioner for information on how you can protect yourself at privacy.org.nz\n",
    "\n",
    "You should be alert for any phishing scams that may be sent via SMS, phone, email or post.\n",
    "\n",
    "You should always verify the sender of the communications you receive to ensure they are legitimate.\n",
    "\n",
    "You should never click on links contained in SMS or email messages unless you know they are legitimate.\n",
    "\n",
    "You should be careful when opening or responding to texts from unknown or suspicious numbers.\n",
    "\n",
    "You should be careful when answering calls from private numbers or callers originating from unusual geographic locations.\n",
    "\n",
    "You should regularly update your passwords and ensure you are using strong passwords. Also use multi-factor authentication where possible.\n",
    "\n",
    "'''"
   ]
  },
  {
   "cell_type": "markdown",
   "id": "b9c774cb",
   "metadata": {},
   "source": [
    "### Split into Sentences"
   ]
  },
  {
   "cell_type": "code",
   "execution_count": 18,
   "id": "4b30fa54",
   "metadata": {},
   "outputs": [
    {
     "name": "stdout",
     "output_type": "stream",
     "text": [
      "\n",
      "20 March 2023\n",
      "Latitude Financial announced on 16 March 2023 that it had detected unusual activity on its systems which it can now confirm as a sophisticated, well-organised and malicious cyber-attack which remains active.\n"
     ]
    }
   ],
   "source": [
    "from nltk import sent_tokenize\n",
    "sentences = sent_tokenize(text)\n",
    "print(sentences[0])"
   ]
  },
  {
   "cell_type": "markdown",
   "id": "faf3d1b4",
   "metadata": {},
   "source": [
    "### Split into Words"
   ]
  },
  {
   "cell_type": "code",
   "execution_count": 28,
   "id": "8b725266",
   "metadata": {},
   "outputs": [
    {
     "name": "stdout",
     "output_type": "stream",
     "text": [
      "['20', 'March', '2023', 'Latitude', 'Financial', 'announced', 'on', '16', 'March', '2023', 'that', 'it', 'had', 'detected', 'unusual', 'activity', 'on', 'its', 'systems', 'which', 'it', 'can', 'now', 'confirm', 'as', 'a', 'sophisticated', ',', 'well-organised', 'and', 'malicious', 'cyber-attack', 'which', 'remains', 'active', '.', 'We', 'recognise', 'the', 'distress', 'to', 'our', 'customers', 'caused', 'by', 'the', 'theft', 'of', 'their', 'personal', 'information', 'and', 'we', 'are', 'committed', 'to', 'transparently', 'updating', 'our', 'customers', ',', 'partners', ',', 'employees', 'and', 'the', 'broader', 'community', '.', 'Latitude', 'immediately', 'engaged', 'leading', 'external', 'cyber', 'security', 'experts', ',', 'the', 'Australian', 'Cyber', 'Security', 'Centre', ',', 'the', 'Australian', 'Federal', 'Police', 'and', 'other', 'relevant', 'Government', 'agencies', '.', 'The', 'attack', 'on', 'Latitude', 'is', 'now']\n"
     ]
    }
   ],
   "source": [
    "# split into words\n",
    "from nltk.tokenize import word_tokenize\n",
    "tokens = word_tokenize(text)\n",
    "print(tokens[:100])"
   ]
  },
  {
   "cell_type": "code",
   "execution_count": 29,
   "id": "5acc5ccb",
   "metadata": {},
   "outputs": [
    {
     "name": "stdout",
     "output_type": "stream",
     "text": [
      "['20', 'march', '2023', 'latitude', 'financial', 'announced', 'on', '16', 'march', '2023', 'that', 'it', 'had', 'detected', 'unusual', 'activity', 'on', 'its', 'systems', 'which', 'it', 'can', 'now', 'confirm', 'as', 'a', 'sophisticated', ',', 'well-organised', 'and', 'malicious', 'cyber-attack', 'which', 'remains', 'active', '.', 'we', 'recognise', 'the', 'distress', 'to', 'our', 'customers', 'caused', 'by', 'the', 'theft', 'of', 'their', 'personal', 'information', 'and', 'we', 'are', 'committed', 'to', 'transparently', 'updating', 'our', 'customers', ',', 'partners', ',', 'employees', 'and', 'the', 'broader', 'community', '.', 'latitude', 'immediately', 'engaged', 'leading', 'external', 'cyber', 'security', 'experts', ',', 'the', 'australian', 'cyber', 'security', 'centre', ',', 'the', 'australian', 'federal', 'police', 'and', 'other', 'relevant', 'government', 'agencies', '.', 'the', 'attack', 'on', 'latitude', 'is', 'now']\n"
     ]
    }
   ],
   "source": [
    "# convert to lower case\n",
    "tokens = [w.lower() for w in tokens]\n",
    "print(tokens[:100])"
   ]
  },
  {
   "cell_type": "code",
   "execution_count": 31,
   "id": "47498f94",
   "metadata": {},
   "outputs": [
    {
     "name": "stdout",
     "output_type": "stream",
     "text": [
      "['20', 'march', '2023', 'latitude', 'financial', 'announced', 'on', '16', 'march', '2023', 'that', 'it', 'had', 'detected', 'unusual', 'activity', 'on', 'its', 'systems', 'which', 'it', 'can', 'now', 'confirm', 'as', 'a', 'sophisticated', '', 'wellorganised', 'and', 'malicious', 'cyberattack', 'which', 'remains', 'active', '', 'we', 'recognise', 'the', 'distress', 'to', 'our', 'customers', 'caused', 'by', 'the', 'theft', 'of', 'their', 'personal', 'information', 'and', 'we', 'are', 'committed', 'to', 'transparently', 'updating', 'our', 'customers', '', 'partners', '', 'employees', 'and', 'the', 'broader', 'community', '', 'latitude', 'immediately', 'engaged', 'leading', 'external', 'cyber', 'security', 'experts', '', 'the', 'australian', 'cyber', 'security', 'centre', '', 'the', 'australian', 'federal', 'police', 'and', 'other', 'relevant', 'government', 'agencies', '', 'the', 'attack', 'on', 'latitude', 'is', 'now']\n"
     ]
    }
   ],
   "source": [
    "# remove punctuation from each word\n",
    "import string\n",
    "table = str.maketrans('', '', string.punctuation)\n",
    "stripped = [w.translate(table) for w in tokens]\n",
    "print(stripped[:100])"
   ]
  },
  {
   "cell_type": "code",
   "execution_count": 32,
   "id": "bd84c481",
   "metadata": {},
   "outputs": [
    {
     "name": "stdout",
     "output_type": "stream",
     "text": [
      "['march', 'latitude', 'financial', 'announced', 'on', 'march', 'that', 'it', 'had', 'detected', 'unusual', 'activity', 'on', 'its', 'systems', 'which', 'it', 'can', 'now', 'confirm', 'as', 'a', 'sophisticated', 'wellorganised', 'and', 'malicious', 'cyberattack', 'which', 'remains', 'active', 'we', 'recognise', 'the', 'distress', 'to', 'our', 'customers', 'caused', 'by', 'the', 'theft', 'of', 'their', 'personal', 'information', 'and', 'we', 'are', 'committed', 'to', 'transparently', 'updating', 'our', 'customers', 'partners', 'employees', 'and', 'the', 'broader', 'community', 'latitude', 'immediately', 'engaged', 'leading', 'external', 'cyber', 'security', 'experts', 'the', 'australian', 'cyber', 'security', 'centre', 'the', 'australian', 'federal', 'police', 'and', 'other', 'relevant', 'government', 'agencies', 'the', 'attack', 'on', 'latitude', 'is', 'now', 'the', 'subject', 'of', 'an', 'investigation', 'by', 'the', 'australian', 'federal', 'police', 'our', 'people']\n"
     ]
    }
   ],
   "source": [
    "# remove remaining tokens that are not alphabetic\n",
    "words = [word for word in stripped if word.isalpha()]\n",
    "print(words[:100])"
   ]
  },
  {
   "cell_type": "code",
   "execution_count": 33,
   "id": "c98faf3e",
   "metadata": {},
   "outputs": [
    {
     "name": "stdout",
     "output_type": "stream",
     "text": [
      "['march', 'latitude', 'financial', 'announced', 'march', 'detected', 'unusual', 'activity', 'systems', 'confirm', 'sophisticated', 'wellorganised', 'malicious', 'cyberattack', 'remains', 'active', 'recognise', 'distress', 'customers', 'caused', 'theft', 'personal', 'information', 'committed', 'transparently', 'updating', 'customers', 'partners', 'employees', 'broader', 'community', 'latitude', 'immediately', 'engaged', 'leading', 'external', 'cyber', 'security', 'experts', 'australian', 'cyber', 'security', 'centre', 'australian', 'federal', 'police', 'relevant', 'government', 'agencies', 'attack', 'latitude', 'subject', 'investigation', 'australian', 'federal', 'police', 'people', 'working', 'around', 'clock', 'contain', 'attackers', 'taken', 'prudent', 'action', 'isolating', 'technology', 'platforms', 'means', 'currently', 'onboarding', 'new', 'customers', 'attack', 'remains', 'active', 'taken', 'platforms', 'offline', 'unable', 'service', 'customers', 'merchant', 'partners', 'restore', 'capability', 'immediately', 'however', 'working', 'gradually', 'coming', 'days', 'ask', 'customers', 'continued', 'patience', 'restoration', 'services', 'aligned', 'forensic']\n"
     ]
    }
   ],
   "source": [
    "# filter out stop words\n",
    "from nltk.corpus import stopwords\n",
    "stop_words = set(stopwords.words('english'))\n",
    "words = [w for w in words if not w in stop_words]\n",
    "print(words[:100])"
   ]
  },
  {
   "cell_type": "code",
   "execution_count": 112,
   "id": "18e6384d",
   "metadata": {},
   "outputs": [
    {
     "name": "stdout",
     "output_type": "stream",
     "text": [
      "['march', 'latitude', 'financial', 'announced', 'march', 'detected', 'unusual', 'activity', 'system', 'confirm', 'sophisticated', 'wellorganised', 'malicious', 'cyberattack', 'remains', 'active', 'recognise', 'distress', 'customer', 'caused', 'theft', 'personal', 'information', 'committed', 'transparently', 'updating', 'customer', 'partner', 'employee', 'broader', 'community', 'latitude', 'immediately', 'engaged', 'leading', 'external', 'cyber', 'security', 'expert', 'australian', 'cyber', 'security', 'centre', 'australian', 'federal', 'police', 'relevant', 'government', 'agency', 'attack', 'latitude', 'subject', 'investigation', 'australian', 'federal', 'police', 'people', 'working', 'around', 'clock', 'contain', 'attacker', 'taken', 'prudent', 'action', 'isolating', 'technology', 'platform', 'mean', 'currently', 'onboarding', 'new', 'customer', 'attack', 'remains', 'active', 'taken', 'platform', 'offline', 'unable', 'service', 'customer', 'merchant', 'partner', 'restore', 'capability', 'immediately', 'however', 'working', 'gradually', 'coming', 'day', 'ask', 'customer', 'continued', 'patience', 'restoration', 'service', 'aligned', 'forensic']\n"
     ]
    },
    {
     "name": "stderr",
     "output_type": "stream",
     "text": [
      "[nltk_data] Downloading package wordnet to C:\\Users\\Yen Chi\n",
      "[nltk_data]     Nguyen\\AppData\\Roaming\\nltk_data...\n",
      "[nltk_data]   Package wordnet is already up-to-date!\n"
     ]
    }
   ],
   "source": [
    "# Lemmatize the tokens\n",
    "nltk.download('wordnet')\n",
    "from nltk.stem import WordNetLemmatizer\n",
    "lemmatizer = WordNetLemmatizer()\n",
    "lemmatized_tokens = [lemmatizer.lemmatize(word) for word in words]\n",
    "print(lemmatized_tokens[:100])"
   ]
  },
  {
   "cell_type": "code",
   "execution_count": 34,
   "id": "16605020",
   "metadata": {},
   "outputs": [
    {
     "name": "stdout",
     "output_type": "stream",
     "text": [
      "['march', 'latitud', 'financi', 'announc', 'march', 'detect', 'unusu', 'activ', 'system', 'confirm', 'sophist', 'wellorganis', 'malici', 'cyberattack', 'remain', 'activ', 'recognis', 'distress', 'custom', 'caus', 'theft', 'person', 'inform', 'commit', 'transpar', 'updat', 'custom', 'partner', 'employe', 'broader', 'commun', 'latitud', 'immedi', 'engag', 'lead', 'extern', 'cyber', 'secur', 'expert', 'australian', 'cyber', 'secur', 'centr', 'australian', 'feder', 'polic', 'relev', 'govern', 'agenc', 'attack', 'latitud', 'subject', 'investig', 'australian', 'feder', 'polic', 'peopl', 'work', 'around', 'clock', 'contain', 'attack', 'taken', 'prudent', 'action', 'isol', 'technolog', 'platform', 'mean', 'current', 'onboard', 'new', 'custom', 'attack', 'remain', 'activ', 'taken', 'platform', 'offlin', 'unabl', 'servic', 'custom', 'merchant', 'partner', 'restor', 'capabl', 'immedi', 'howev', 'work', 'gradual', 'come', 'day', 'ask', 'custom', 'continu', 'patienc', 'restor', 'servic', 'align', 'forens']\n"
     ]
    }
   ],
   "source": [
    "# stemming of words\n",
    "from nltk.stem.porter import PorterStemmer\n",
    "porter = PorterStemmer()\n",
    "stemmed = [porter.stem(word) for word in words]\n",
    "print(stemmed[:100])"
   ]
  },
  {
   "cell_type": "code",
   "execution_count": 35,
   "id": "e685a9ea",
   "metadata": {},
   "outputs": [
    {
     "data": {
      "text/plain": [
       "553"
      ]
     },
     "execution_count": 35,
     "metadata": {},
     "output_type": "execute_result"
    }
   ],
   "source": [
    "len(words)"
   ]
  },
  {
   "cell_type": "code",
   "execution_count": 42,
   "id": "99974618",
   "metadata": {},
   "outputs": [
    {
     "name": "stdout",
     "output_type": "stream",
     "text": [
      "<FreqDist with 325 samples and 553 outcomes>\n"
     ]
    }
   ],
   "source": [
    "from nltk.probability import FreqDist\n",
    "fdist = FreqDist(word for word in words)\n",
    "print(fdist)"
   ]
  },
  {
   "cell_type": "code",
   "execution_count": 48,
   "id": "0388c676",
   "metadata": {},
   "outputs": [
    {
     "name": "stdout",
     "output_type": "stream",
     "text": [
      "[('customers', 23), ('latitude', 19), ('information', 15), ('credit', 9), ('partners', 7), ('personal', 6), ('australian', 6), ('platforms', 5), ('review', 5), ('applicants', 5)]\n"
     ]
    }
   ],
   "source": [
    "# Most common words\n",
    "most_common = fdist.most_common(10)\n",
    "print(most_common) "
   ]
  },
  {
   "cell_type": "code",
   "execution_count": 41,
   "id": "fc068274",
   "metadata": {},
   "outputs": [
    {
     "name": "stdout",
     "output_type": "stream",
     "text": [
      "325\n"
     ]
    }
   ],
   "source": [
    "# Total number of unique words\n",
    "unique_words = len(fdist)\n",
    "print(unique_words)"
   ]
  },
  {
   "cell_type": "code",
   "execution_count": 47,
   "id": "1eb132c8",
   "metadata": {},
   "outputs": [
    {
     "data": {
      "image/png": "[encoded data removed]",
      "text/plain": [
       "<Figure size 432x288 with 1 Axes>"
      ]
     },
     "metadata": {
      "needs_background": "light"
     },
     "output_type": "display_data"
    }
   ],
   "source": [
    "# Plot a frequency distribution graph of 10 most common words\n",
    "fdist.plot(10)\n",
    "plt.show()"
   ]
  },
  {
   "cell_type": "code",
   "execution_count": 85,
   "id": "222bf158",
   "metadata": {},
   "outputs": [],
   "source": [
    "telstra = '''We’re in the process of communicating to some unlisted customers whose details were incorrectly made available via Directory Assistance or the White Pages. We wanted to explain what has happened and what we’re doing to resolve it.\n",
    "What’s happened and why\n",
    "As part of our regulatory obligations Telstra is responsible for providing Directory Assistance services and the White Pages.\n",
    "\n",
    "We recently discovered an error which resulted in some customers’ names, numbers and addresses being listed when they should not have been. This was a result of a misalignment of databases – no cyber activity was involved.\n",
    "\n",
    "What we’ve done and what we’re doing\n",
    "As soon as we became aware, we started work to remove the identified impacted customers from the Directory Assistance service and the online version of the White Pages.\n",
    "\n",
    "We’re in the process of contacting every affected customer to let them know, and to offer free support through IDCARE.\n",
    "\n",
    "We are conducting an internal investigation to better understand how it happened and to protect against it happening again.\n",
    "\n",
    "We’re sorry for breaching your trust\n",
    "Protecting our customers’ privacy is absolutely paramount, and for the customers impacted we understand this is an unacceptable breach of your trust.\n",
    "\n",
    "We’re sorry it occurred, and we know we have let you down.\n",
    "\n",
    "Our customer service has come a long way in recent years, including in truth-telling about our mistakes – it is part of what drives us to make change. We acknowledge that we still get it wrong too often and we simply must do better.\n",
    "'''"
   ]
  },
  {
   "cell_type": "code",
   "execution_count": 119,
   "id": "bac8230b",
   "metadata": {},
   "outputs": [
    {
     "data": {
      "text/plain": [
       "'march latitude financial announced march detected unusual activity system confirm sophisticated wellorganised malicious cyberattack remains active recognise distress customer caused theft personal information committed transparently updating customer partner employee broader community latitude immediately engaged leading external cyber security expert australian cyber security centre australian federal police relevant government agency attack latitude subject investigation australian federal police people working around clock contain attacker taken prudent action isolating technology platform mean currently onboarding new customer attack remains active taken platform offline unable service customer merchant partner restore capability immediately however working gradually coming day ask customer continued patience restoration service aligned forensic review conjunction cybersecurity expert continuing forensic review platform identify full extent theft customer information result attack latitude far latitude confirm previously disclosed approximately customer applicant personal information stolen approximately personal information stolen copy driver licence driver licence number le copy passport passport number le medicare number review deepens include noncustomer originating platform historical customer information likely uncover stolen information affecting current past latitude customer applicant provide update information share latitude encourages customer remain vigilant never contact customer requesting password today latitude commence contacting customer applicant far impacted criminal act already written customer thursday march alert cyberattack latitude confirm impacted customer applicant personal information stolen support additional step customer consider taking protect information includes latitude working relevant agency replace identification document necessary cost customer engaged idcare help support impacted idcare notfor profit organisation australia new zealand national incident response service specialising providing free confidential cyber incident information assistance impacted customer applicant able contact idcare business hour today latitude established dedicated contact centre impacted customer australia new zealand answer query well dedicated help page website keep customer partner fully informed development cyberattack contained latitude commits review incident review help latitude effectively safeguard customer partner platform contributing continued fight cybercrime australian business latitude still assessing anticipated total cost incident including cost latitude support intend provide customer described announcement latitude maintains insurance policy cover risk including cyber security risk notified insurer respect incident latitude financial service ceo ahmed fahour said sincerely apologise customer partner distress inconvenience criminal act caused understand fully wider concern cyberattack created within community focus protecting ongoing security customer partner employee personal identity information also everything support customer applicant information stolen continue deliver transactional service functionality affected resulting disruption working extremely hard restore full service customer merchant partner thank patience support understand frustration customer refer latitude website regular update medium contact mark gardy markgardy latitudefinancialcom latitude strongly advises australian new zealand citizen regulary change password important financial account immediate precaution take protect identity personal information contact one australia three credit reporting body obtain credit report confirm identity used obtain credit without knowledge also request credit reporting body place credit ban credit file via website contacting directly intend apply credit ban please aware able apply credit ban place credit reporting agency website illion au illioncomaucreditreportbanrequest nz dbcsprodaecdnazureedgenetwebthemescycnz assetsstaticsuppressionrequestformcycnzpdf equifax au wwwequifaxcomaueformsubmitcreditban nz equifaxconzcreditfilesuppression experian experiancomauconsumerrequestaban centrix centrixconzmycreditscoresuppressyourcreditfile refer australian government information protect cybergovau office privacy commissioner information protect privacyorgnz alert phishing scam may sent via sm phone email post always verify sender communication receive ensure legitimate never click link contained sm email message unless know legitimate careful opening responding text unknown suspicious number careful answering call private number caller originating unusual geographic location regularly update password ensure using strong password also use multifactor authentication possible'"
      ]
     },
     "execution_count": 119,
     "metadata": {},
     "output_type": "execute_result"
    }
   ],
   "source": [
    "import string\n",
    "import nltk\n",
    "from nltk.corpus import stopwords\n",
    "from nltk import sent_tokenize\n",
    "from nltk.tokenize import word_tokenize\n",
    "from nltk.stem import WordNetLemmatizer\n",
    "from nltk.tokenize import word_tokenize\n",
    "from nltk.stem import WordNetLemmatizer\n",
    "\n",
    "def preprocess(text):\n",
    "    # split into sentences\n",
    "    sentences = sent_tokenize(text)\n",
    "    \n",
    "    # split into words\n",
    "    tokens = word_tokenize(text)\n",
    "    \n",
    "    # convert to lower case\n",
    "    tokens = [w.lower() for w in tokens]\n",
    "    \n",
    "    # remove punctuation from each word\n",
    "    table = str.maketrans('', '', string.punctuation)\n",
    "    stripped = [w.translate(table) for w in tokens]\n",
    "    \n",
    "    # remove remaining tokens that are not alphabetic\n",
    "    words = [word for word in stripped if word.isalpha()]\n",
    "    \n",
    "    # filter out stop words\n",
    "    stop_words = set(stopwords.words('english'))\n",
    "    words = [w for w in words if not w in stop_words]\n",
    "    \n",
    "    # Lemmatize the tokens\n",
    "    lemmatizer = WordNetLemmatizer()\n",
    "    lemmatized_tokens = [lemmatizer.lemmatize(word) for word in words]\n",
    "\n",
    "    # Join the tokens back into a string\n",
    "    processed_text = ' '.join(lemmatized_tokens)\n",
    "    return processed_text"
   ]
  },
  {
   "cell_type": "code",
   "execution_count": null,
   "id": "3d78e290",
   "metadata": {},
   "outputs": [],
   "source": [
    "preprocess(latitude)"
   ]
  },
  {
   "cell_type": "code",
   "execution_count": 118,
   "id": "a68961af",
   "metadata": {},
   "outputs": [
    {
     "data": {
      "text/plain": [
       "1"
      ]
     },
     "execution_count": 118,
     "metadata": {},
     "output_type": "execute_result"
    }
   ],
   "source": [
    "# initialize NLTK sentiment analyzer\n",
    "# nltk.download('vader_lexicon')\n",
    "from nltk.sentiment.vader import SentimentIntensityAnalyzer\n",
    "analyzer = SentimentIntensityAnalyzer()\n",
    "\n",
    "# create get_sentiment function\n",
    "def get_sentiment(text):\n",
    "    scores = analyzer.polarity_scores(text)\n",
    "    sentiment = 1 if scores['pos'] > 0 else 0\n",
    "    return sentiment\n",
    "\n",
    "get_sentiment(preprocess(telstra))"
   ]
  },
  {
   "cell_type": "code",
   "execution_count": 70,
   "id": "13cb57a6",
   "metadata": {},
   "outputs": [
    {
     "data": {
      "image/png": "[encoded data removed]",
      "text/plain": [
       "<Figure size 432x288 with 1 Axes>"
      ]
     },
     "metadata": {
      "needs_background": "light"
     },
     "output_type": "display_data"
    }
   ],
   "source": [
    "from nltk.probability import FreqDist\n",
    "\n",
    "# Get word frequencies\n",
    "def get_frequencies(words): \n",
    "    fdist = FreqDist(word for word in words)\n",
    "    return fdist\n",
    "\n",
    "freq_dist=get_frequencies(preprocess(telstra))\n",
    "\n",
    "# Plot a frequency distribution graph of 10 most common words\n",
    "freq_dist.plot(10)\n",
    "plt.show()"
   ]
  },
  {
   "cell_type": "code",
   "execution_count": 87,
   "id": "c565d44d",
   "metadata": {},
   "outputs": [],
   "source": [
    "df = pd.DataFrame(data={'Company': ['Latitude', 'Telstra'],\n",
    "                   'Statement': [latitude, telstra]\n",
    "                   })"
   ]
  },
  {
   "cell_type": "code",
   "execution_count": 88,
   "id": "4afe82ea",
   "metadata": {},
   "outputs": [
    {
     "name": "stdout",
     "output_type": "stream",
     "text": [
      "<class 'pandas.core.frame.DataFrame'>\n",
      "RangeIndex: 2 entries, 0 to 1\n",
      "Data columns (total 2 columns):\n",
      " #   Column     Non-Null Count  Dtype \n",
      "---  ------     --------------  ----- \n",
      " 0   Company    2 non-null      object\n",
      " 1   Statement  2 non-null      object\n",
      "dtypes: object(2)\n",
      "memory usage: 160.0+ bytes\n"
     ]
    }
   ],
   "source": [
    "df.info()"
   ]
  },
  {
   "cell_type": "code",
   "execution_count": 89,
   "id": "a644bf69",
   "metadata": {},
   "outputs": [
    {
     "data": {
      "text/html": [
       "<div>\n",
       "<style scoped>\n",
       "    .dataframe tbody tr th:only-of-type {\n",
       "        vertical-align: middle;\n",
       "    }\n",
       "\n",
       "    .dataframe tbody tr th {\n",
       "        vertical-align: top;\n",
       "    }\n",
       "\n",
       "    .dataframe thead th {\n",
       "        text-align: right;\n",
       "    }\n",
       "</style>\n",
       "<table border=\"1\" class=\"dataframe\">\n",
       "  <thead>\n",
       "    <tr style=\"text-align: right;\">\n",
       "      <th></th>\n",
       "      <th>Company</th>\n",
       "      <th>Statement</th>\n",
       "    </tr>\n",
       "  </thead>\n",
       "  <tbody>\n",
       "    <tr>\n",
       "      <th>0</th>\n",
       "      <td>Latitude</td>\n",
       "      <td>20 March 2023\\nLatitude Financial announced on...</td>\n",
       "    </tr>\n",
       "    <tr>\n",
       "      <th>1</th>\n",
       "      <td>Telstra</td>\n",
       "      <td>We’re in the process of communicating to some ...</td>\n",
       "    </tr>\n",
       "  </tbody>\n",
       "</table>\n",
       "</div>"
      ],
      "text/plain": [
       "    Company                                          Statement\n",
       "0  Latitude  20 March 2023\\nLatitude Financial announced on...\n",
       "1   Telstra  We’re in the process of communicating to some ..."
      ]
     },
     "execution_count": 89,
     "metadata": {},
     "output_type": "execute_result"
    }
   ],
   "source": [
    "df.head()"
   ]
  },
  {
   "cell_type": "code",
   "execution_count": 92,
   "id": "6e00a20a",
   "metadata": {},
   "outputs": [],
   "source": [
    "df['CleanWords'] = df['Statement'].apply(lambda x: preprocess(x))"
   ]
  },
  {
   "cell_type": "code",
   "execution_count": 93,
   "id": "021331e3",
   "metadata": {},
   "outputs": [
    {
     "data": {
      "text/html": [
       "<div>\n",
       "<style scoped>\n",
       "    .dataframe tbody tr th:only-of-type {\n",
       "        vertical-align: middle;\n",
       "    }\n",
       "\n",
       "    .dataframe tbody tr th {\n",
       "        vertical-align: top;\n",
       "    }\n",
       "\n",
       "    .dataframe thead th {\n",
       "        text-align: right;\n",
       "    }\n",
       "</style>\n",
       "<table border=\"1\" class=\"dataframe\">\n",
       "  <thead>\n",
       "    <tr style=\"text-align: right;\">\n",
       "      <th></th>\n",
       "      <th>Company</th>\n",
       "      <th>Statement</th>\n",
       "      <th>Words</th>\n",
       "      <th>CleanWords</th>\n",
       "    </tr>\n",
       "  </thead>\n",
       "  <tbody>\n",
       "    <tr>\n",
       "      <th>0</th>\n",
       "      <td>Latitude</td>\n",
       "      <td>20 March 2023\\nLatitude Financial announced on...</td>\n",
       "      <td>[march, latitude, financial, announced, march,...</td>\n",
       "      <td>[march, latitude, financial, announced, march,...</td>\n",
       "    </tr>\n",
       "    <tr>\n",
       "      <th>1</th>\n",
       "      <td>Telstra</td>\n",
       "      <td>We’re in the process of communicating to some ...</td>\n",
       "      <td>[process, communicating, unlisted, customers, ...</td>\n",
       "      <td>[process, communicating, unlisted, customers, ...</td>\n",
       "    </tr>\n",
       "  </tbody>\n",
       "</table>\n",
       "</div>"
      ],
      "text/plain": [
       "    Company                                          Statement  \\\n",
       "0  Latitude  20 March 2023\\nLatitude Financial announced on...   \n",
       "1   Telstra  We’re in the process of communicating to some ...   \n",
       "\n",
       "                                               Words  \\\n",
       "0  [march, latitude, financial, announced, march,...   \n",
       "1  [process, communicating, unlisted, customers, ...   \n",
       "\n",
       "                                          CleanWords  \n",
       "0  [march, latitude, financial, announced, march,...  \n",
       "1  [process, communicating, unlisted, customers, ...  "
      ]
     },
     "execution_count": 93,
     "metadata": {},
     "output_type": "execute_result"
    }
   ],
   "source": [
    "df.head()"
   ]
  },
  {
   "cell_type": "code",
   "execution_count": 95,
   "id": "e306244f",
   "metadata": {},
   "outputs": [],
   "source": [
    "import re\n",
    "df['WordCount'] = df['Statement'].apply(lambda x: len(re.findall(r'\\b\\w+\\b', x)))"
   ]
  },
  {
   "cell_type": "code",
   "execution_count": 99,
   "id": "1ca63fff",
   "metadata": {},
   "outputs": [
    {
     "data": {
      "text/html": [
       "<div>\n",
       "<style scoped>\n",
       "    .dataframe tbody tr th:only-of-type {\n",
       "        vertical-align: middle;\n",
       "    }\n",
       "\n",
       "    .dataframe tbody tr th {\n",
       "        vertical-align: top;\n",
       "    }\n",
       "\n",
       "    .dataframe thead th {\n",
       "        text-align: right;\n",
       "    }\n",
       "</style>\n",
       "<table border=\"1\" class=\"dataframe\">\n",
       "  <thead>\n",
       "    <tr style=\"text-align: right;\">\n",
       "      <th></th>\n",
       "      <th>Company</th>\n",
       "      <th>Statement</th>\n",
       "      <th>CleanWords</th>\n",
       "      <th>WordCount</th>\n",
       "    </tr>\n",
       "  </thead>\n",
       "  <tbody>\n",
       "    <tr>\n",
       "      <th>0</th>\n",
       "      <td>Latitude</td>\n",
       "      <td>20 March 2023\\nLatitude Financial announced on...</td>\n",
       "      <td>[march, latitude, financial, announced, march,...</td>\n",
       "      <td>1077</td>\n",
       "    </tr>\n",
       "    <tr>\n",
       "      <th>1</th>\n",
       "      <td>Telstra</td>\n",
       "      <td>We’re in the process of communicating to some ...</td>\n",
       "      <td>[process, communicating, unlisted, customers, ...</td>\n",
       "      <td>261</td>\n",
       "    </tr>\n",
       "  </tbody>\n",
       "</table>\n",
       "</div>"
      ],
      "text/plain": [
       "    Company                                          Statement  \\\n",
       "0  Latitude  20 March 2023\\nLatitude Financial announced on...   \n",
       "1   Telstra  We’re in the process of communicating to some ...   \n",
       "\n",
       "                                          CleanWords  WordCount  \n",
       "0  [march, latitude, financial, announced, march,...       1077  \n",
       "1  [process, communicating, unlisted, customers, ...        261  "
      ]
     },
     "execution_count": 99,
     "metadata": {},
     "output_type": "execute_result"
    }
   ],
   "source": [
    "df.head()"
   ]
  },
  {
   "cell_type": "code",
   "execution_count": 97,
   "id": "c8122695",
   "metadata": {},
   "outputs": [
    {
     "name": "stdout",
     "output_type": "stream",
     "text": [
      "Number of words: 5\n"
     ]
    }
   ],
   "source": [
    "# text = \"This is a sample sentence.\"\n",
    "# word_count = len(re.findall(r'\\b\\w+\\b', text))\n",
    "# print(\"Number of words:\", word_count)"
   ]
  },
  {
   "cell_type": "code",
   "execution_count": 100,
   "id": "688619b2",
   "metadata": {},
   "outputs": [
    {
     "data": {
      "application/vnd.jupyter.widget-view+json": {
       "model_id": "7a272b9ce74f40fd843ef9374f339411",
       "version_major": 2,
       "version_minor": 0
      },
      "text/plain": [
       "Downloading (…)lve/main/config.json:   0%|          | 0.00/687 [00:00<?, ?B/s]"
      ]
     },
     "metadata": {},
     "output_type": "display_data"
    },
    {
     "name": "stderr",
     "output_type": "stream",
     "text": [
      "C:\\Apps\\Anaconda\\lib\\site-packages\\huggingface_hub\\file_download.py:133: UserWarning: `huggingface_hub` cache-system uses symlinks by default to efficiently store duplicated files but your machine does not support them in C:\\Users\\Yen Chi Nguyen\\.cache\\huggingface\\hub. Caching files will still work but in a degraded version that might require more space on your disk. This warning can be disabled by setting the `HF_HUB_DISABLE_SYMLINKS_WARNING` environment variable. For more details, see https://huggingface.co/docs/huggingface_hub/how-to-cache#limitations.\n",
      "To support symlinks on Windows, you either need to activate Developer Mode or to run Python as an administrator. In order to see activate developer mode, see this article: https://docs.microsoft.com/en-us/windows/apps/get-started/enable-your-device-for-development\n",
      "  warnings.warn(message)\n"
     ]
    },
    {
     "data": {
      "application/vnd.jupyter.widget-view+json": {
       "model_id": "59dd78c9f6a1486ba94b0c4d377ef15c",
       "version_major": 2,
       "version_minor": 0
      },
      "text/plain": [
       "Downloading pytorch_model.bin:   0%|          | 0.00/1.42G [00:00<?, ?B/s]"
      ]
     },
     "metadata": {},
     "output_type": "display_data"
    },
    {
     "data": {
      "application/vnd.jupyter.widget-view+json": {
       "model_id": "d1a1a72d64904aa6b73804b99934b66b",
       "version_major": 2,
       "version_minor": 0
      },
      "text/plain": [
       "Downloading (…)okenizer_config.json:   0%|          | 0.00/256 [00:00<?, ?B/s]"
      ]
     },
     "metadata": {},
     "output_type": "display_data"
    },
    {
     "data": {
      "application/vnd.jupyter.widget-view+json": {
       "model_id": "cf740f219b1b4fd1bfc2be7f776ae63f",
       "version_major": 2,
       "version_minor": 0
      },
      "text/plain": [
       "Downloading (…)olve/main/vocab.json:   0%|          | 0.00/798k [00:00<?, ?B/s]"
      ]
     },
     "metadata": {},
     "output_type": "display_data"
    },
    {
     "data": {
      "application/vnd.jupyter.widget-view+json": {
       "model_id": "ac667352147d450781cbee8d9cd4145d",
       "version_major": 2,
       "version_minor": 0
      },
      "text/plain": [
       "Downloading (…)olve/main/merges.txt:   0%|          | 0.00/456k [00:00<?, ?B/s]"
      ]
     },
     "metadata": {},
     "output_type": "display_data"
    },
    {
     "data": {
      "application/vnd.jupyter.widget-view+json": {
       "model_id": "91b4be6b1ce3425083d638ad8c29fb95",
       "version_major": 2,
       "version_minor": 0
      },
      "text/plain": [
       "Downloading (…)cial_tokens_map.json:   0%|          | 0.00/150 [00:00<?, ?B/s]"
      ]
     },
     "metadata": {},
     "output_type": "display_data"
    },
    {
     "name": "stdout",
     "output_type": "stream",
     "text": [
      "[{'label': 'POSITIVE', 'score': 0.9988656044006348}]\n"
     ]
    }
   ],
   "source": [
    "from transformers import pipeline\n",
    "# sentiment_analysis = pipeline(\"sentiment-analysis\",model=\"siebert/sentiment-roberta-large-english\")\n",
    "# print(sentiment_analysis(\"I love this!\"))"
   ]
  },
  {
   "cell_type": "markdown",
   "id": "215e3950",
   "metadata": {},
   "source": [
    "### Get sentiment for each sentence"
   ]
  },
  {
   "cell_type": "code",
   "execution_count": 109,
   "id": "ce036ab1",
   "metadata": {},
   "outputs": [
    {
     "name": "stdout",
     "output_type": "stream",
     "text": [
      "Number of sentences: 12\n",
      "{'Positive': 4, 'Negative': 8}\n"
     ]
    }
   ],
   "source": [
    "# Ref: https://huggingface.co/siebert/sentiment-roberta-large-english\n",
    "sentences = sent_tokenize(telstra)\n",
    "print(f'Number of sentences: {len(sentences)}')\n",
    "\n",
    "sent_dict = {'Positive': 0, 'Negative': 0}\n",
    "\n",
    "for sentence in sentences:\n",
    "    # Get sentiment for each sentence in the statement\n",
    "    sentiment = sentiment_analysis(sentence)   \n",
    "    if sentiment[0]['label'] == 'NEGATIVE':\n",
    "        sent_dict['Negative'] += 1\n",
    "    else: \n",
    "        sent_dict['Positive'] += 1\n",
    "print(sent_dict)"
   ]
  },
  {
   "cell_type": "code",
   "execution_count": 122,
   "id": "203147e7",
   "metadata": {},
   "outputs": [],
   "source": [
    "df = pd.read_csv('Statements/2022.09.20 Optus.txt', delimiter='\\t')"
   ]
  },
  {
   "cell_type": "code",
   "execution_count": 124,
   "id": "2471353a",
   "metadata": {},
   "outputs": [
    {
     "data": {
      "text/html": [
       "<div>\n",
       "<style scoped>\n",
       "    .dataframe tbody tr th:only-of-type {\n",
       "        vertical-align: middle;\n",
       "    }\n",
       "\n",
       "    .dataframe tbody tr th {\n",
       "        vertical-align: top;\n",
       "    }\n",
       "\n",
       "    .dataframe thead th {\n",
       "        text-align: right;\n",
       "    }\n",
       "</style>\n",
       "<table border=\"1\" class=\"dataframe\">\n",
       "  <thead>\n",
       "    <tr style=\"text-align: right;\">\n",
       "      <th></th>\n",
       "      <th>Following a cyberattack, Optus is investigating the possible unauthorised access of current and former customers’ information.</th>\n",
       "    </tr>\n",
       "  </thead>\n",
       "  <tbody>\n",
       "    <tr>\n",
       "      <th>0</th>\n",
       "      <td>Upon discovering this, Optus immediately shut ...</td>\n",
       "    </tr>\n",
       "    <tr>\n",
       "      <th>1</th>\n",
       "      <td>We are devastated to discover that we have bee...</td>\n",
       "    </tr>\n",
       "    <tr>\n",
       "      <th>2</th>\n",
       "      <td>As soon as we knew, we took action to block th...</td>\n",
       "    </tr>\n",
       "    <tr>\n",
       "      <th>3</th>\n",
       "      <td>Information which may have been exposed includ...</td>\n",
       "    </tr>\n",
       "    <tr>\n",
       "      <th>4</th>\n",
       "      <td>Optus services, including mobile and home inte...</td>\n",
       "    </tr>\n",
       "  </tbody>\n",
       "</table>\n",
       "</div>"
      ],
      "text/plain": [
       "  Following a cyberattack, Optus is investigating the possible unauthorised access of current and former customers’ information.\n",
       "0  Upon discovering this, Optus immediately shut ...                                                                            \n",
       "1  We are devastated to discover that we have bee...                                                                            \n",
       "2  As soon as we knew, we took action to block th...                                                                            \n",
       "3  Information which may have been exposed includ...                                                                            \n",
       "4  Optus services, including mobile and home inte...                                                                            "
      ]
     },
     "execution_count": 124,
     "metadata": {},
     "output_type": "execute_result"
    }
   ],
   "source": [
    "df.head()"
   ]
  },
  {
   "cell_type": "code",
   "execution_count": 130,
   "id": "ec67c786",
   "metadata": {},
   "outputs": [
    {
     "data": {
      "text/html": [
       "<div>\n",
       "<style scoped>\n",
       "    .dataframe tbody tr th:only-of-type {\n",
       "        vertical-align: middle;\n",
       "    }\n",
       "\n",
       "    .dataframe tbody tr th {\n",
       "        vertical-align: top;\n",
       "    }\n",
       "\n",
       "    .dataframe thead th {\n",
       "        text-align: right;\n",
       "    }\n",
       "</style>\n",
       "<table border=\"1\" class=\"dataframe\">\n",
       "  <thead>\n",
       "    <tr style=\"text-align: right;\">\n",
       "      <th></th>\n",
       "      <th>0</th>\n",
       "    </tr>\n",
       "  </thead>\n",
       "  <tbody>\n",
       "    <tr>\n",
       "      <th>0</th>\n",
       "      <td>Following a cyberattack, Optus is investigatin...</td>\n",
       "    </tr>\n",
       "    <tr>\n",
       "      <th>1</th>\n",
       "      <td>Upon discovering this, Optus immediately shut ...</td>\n",
       "    </tr>\n",
       "    <tr>\n",
       "      <th>2</th>\n",
       "      <td>We are devastated to discover that we have bee...</td>\n",
       "    </tr>\n",
       "    <tr>\n",
       "      <th>3</th>\n",
       "      <td>As soon as we knew, we took action to block th...</td>\n",
       "    </tr>\n",
       "    <tr>\n",
       "      <th>4</th>\n",
       "      <td>Information which may have been exposed includ...</td>\n",
       "    </tr>\n",
       "  </tbody>\n",
       "</table>\n",
       "</div>"
      ],
      "text/plain": [
       "                                                   0\n",
       "0  Following a cyberattack, Optus is investigatin...\n",
       "1  Upon discovering this, Optus immediately shut ...\n",
       "2  We are devastated to discover that we have bee...\n",
       "3  As soon as we knew, we took action to block th...\n",
       "4  Information which may have been exposed includ..."
      ]
     },
     "execution_count": 130,
     "metadata": {},
     "output_type": "execute_result"
    }
   ],
   "source": [
    "# Read the text file into a DataFrame with a single row\n",
    "df = pd.read_csv('Statements/2022.09.20 Optus.txt', sep='\\t', header=None)\n",
    "\n",
    "# # Transpose the DataFrame to have a single row\n",
    "# df = df.T\n",
    "\n",
    "df.head()"
   ]
  },
  {
   "cell_type": "code",
   "execution_count": 131,
   "id": "aeb02fb4",
   "metadata": {},
   "outputs": [
    {
     "data": {
      "text/plain": [
       "0    Upon discovering this, Optus immediately shut ...\n",
       "Name: 1, dtype: object"
      ]
     },
     "execution_count": 131,
     "metadata": {},
     "output_type": "execute_result"
    }
   ],
   "source": [
    "df.iloc[1]"
   ]
  },
  {
   "cell_type": "code",
   "execution_count": 132,
   "id": "f3c000d7",
   "metadata": {},
   "outputs": [],
   "source": [
    "df.to_excel('output.xlsx', index=False)"
   ]
  },
  {
   "cell_type": "code",
   "execution_count": null,
   "id": "cd57ff34",
   "metadata": {},
   "outputs": [],
   "source": []
  }
 ],
 "metadata": {
  "kernelspec": {
   "display_name": "Python 3 (ipykernel)",
   "language": "python",
   "name": "python3"
  },
  "language_info": {
   "codemirror_mode": {
    "name": "ipython",
    "version": 3
   },
   "file_extension": ".py",
   "mimetype": "text/x-python",
   "name": "python",
   "nbconvert_exporter": "python",
   "pygments_lexer": "ipython3",
   "version": "3.9.7"
  }
 },
 "nbformat": 4,
 "nbformat_minor": 5
}
