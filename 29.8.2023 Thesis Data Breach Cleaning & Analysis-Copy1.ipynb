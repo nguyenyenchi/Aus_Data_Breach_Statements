{
 "cells": [
  {
   "cell_type": "code",
   "execution_count": 1,
   "id": "32b16493",
   "metadata": {},
   "outputs": [],
   "source": [
    "# nltk.download()"
   ]
  },
  {
   "cell_type": "code",
   "execution_count": 2,
   "id": "709dc271",
   "metadata": {},
   "outputs": [],
   "source": [
    "import pandas as pd\n",
    "import numpy as np\n",
    "import matplotlib.pyplot as plt\n",
    "import seaborn as sns\n",
    "\n",
    "import string\n",
    "import nltk\n",
    "from nltk.corpus import stopwords\n",
    "from nltk import sent_tokenize\n",
    "from nltk.tokenize import word_tokenize\n",
    "from nltk.stem import WordNetLemmatizer\n",
    "from nltk.tokenize import word_tokenize\n",
    "from wordcloud import WordCloud, STOPWORDS"
   ]
  },
  {
   "cell_type": "markdown",
   "id": "4dd9a79e",
   "metadata": {},
   "source": [
    "#### Get all files in the Statements folder"
   ]
  },
  {
   "cell_type": "code",
   "execution_count": 3,
   "id": "656cdca4",
   "metadata": {},
   "outputs": [
    {
     "name": "stdout",
     "output_type": "stream",
     "text": [
      "['2018.01.31 GoGet.txt', '2018.03.22 Facebook.txt', '2018.03.29 Under Armour.txt', '2018.05.06 PageUp People.txt', '2018.05.14 Family Planning NSW.txt', '2018.06.04 MyHeritage.txt', '2018.06.04 Southport Sharks.txt', '2018.06.14 Motorcycle Accessories Supermarket Pty Ltd.txt', '2018.06.22 PEXA.txt', '2018.07.04 RCR Tomlinson.txt', '2018.09.08 The Perth Mint.txt', '2018.09.28 Facebook.txt', '2018.11.01 Austal.txt', '2018.11.30 Marriott.txt', '2018.12.27 Nova.txt', '2019.01.05 Early Warning Network.txt', '2019.02.05 Landmark White.txt', '2019.02.14 Coffee Meets Bagel.txt', '2019.03.13 Kathmandu.txt', '2019.05.24 Canva.txt', '2019.06.04 Australian National University.txt', '2019.06.17 Australian Catholic University.txt', '2019.07.26 NAB.txt', '2019.07.29 Sephora.txt', '2019.10.17 Optus.txt', '2019.11.12 Monash IVF.txt', '2019.12.02 Vistaprint.txt', '2019.12.10 Australian Sports Commission.txt', '2020.01.16 P&N Bank.txt', '2020.03.11 Melbourne Polytechnic.txt', '2020.03.23 Henning Harders.txt', '2020.03.31 Federal Court of Australia.txt', '2020.05.05 Toll Group.txt', '2020.05.28 Service NSW.txt', '2020.05.29 Big Interest Group (BigFooty).com.txt', '2020.06.09 Lion.txt', '2020.07.20 WA Department of Health.txt', '2020.07.30 Appen.txt', '2020.08.03 Regis Healthcare.txt', '2020.08.07 ProctorU.txt', '2020.08.14 ACT Education Directorate.txt', '2020.08.16 iSignthis.txt', '2020.09.02 Anglicare Sydney.txt', '2020.09.21 University of Tasmania.txt', '2020.09.24 Scouts Victoria.txt', '2020.09.30 Department of Foreign Affairs and Trade.txt', '2020.10.21 Nitro Software.txt', '2020.10.28 City of Port Phillip council.txt', '2020.11.23 Law In Order.txt', '2020.11.30 BTC Markets.txt', '2021.02.04 Oxfam Australia.txt', '2021.02.05 Ambulance Tasmania.txt', '2021.04.16 Swinburne University of Technology.txt', '2021.05.24 TPG Telecom.txt', '2021.07.08 NSW Department of Education.txt', '2021.11.10 SA Ambulance Service.txt', '2021.11.16 Frontier Software.txt', '2022.03.22 Okta.txt', '2022.04.19 Department of Home Affairs.txt', '2022.05.04 National Tertiary Education Union.txt', '2022.05.04 Transport for NSW.txt', '2022.05.27 Spirit Super.txt', '2022.05.30 CTARS.txt', '2022.07.12 Deakin University.txt', '2022.07.29 University of Western Australia.txt', '2022.09.04 Fremantle Football Club.txt', '2022.09.20 Optus.txt', '2022.10.05 icare.txt', '2022.10.08 Costa Group.txt', '2022.10.11 Dialog.txt', '2022.10.13 Medibank.txt', '2022.10.14 MyDeal (Woolworths Group).txt', '2022.10.17 Vinomofo Australia.txt', '2022.10.27 Medlab Pathology (Australian Clinical Labs).txt', '2022.10.27 SSKB.txt', '2022.11.03 Harcourts.txt', '2022.11.04 BWX (Flora & Fauna).txt', '2022.11.04 Legal Aid ACT.txt', '2022.11.06 PNORS Technology Group.txt', '2022.11.22 The Smith Family.txt', '2022.11.23 Xavier College.txt', '2022.12.09 Telstra.txt', '2022.12.14 TPG Telecom.txt', '2022.12.23 Queensland University of Technology.txt', '2023.01.06 Fire Rescue Victoria.txt', '2023.01.29 Mount Lilydale Mercy College.txt', '2023.02.23 My Rewards International.txt', '2023.03.16 iph.txt', '2023.03.20 Latitude.txt', '2023.03.29 Meriton Suites.txt', '2023.04.03 Service NSW.txt', '2023.04.04 TAFE South Australia.txt', '2023.04.28 Amnesty International Australia.txt', '2023.05.10 Dr Felix Chan.txt', '2023.05.19 Ambulance Victoria.txt', '2023.05.26 NT Health.txt', '2023.05.29 PwC.txt', '2023.05.31 Toyota.txt', '2023.06.16 Smartpay.txt', '2023.06.21 HWL Ebsworth.txt', '2023.08.04 Aristocrat.txt']\n"
     ]
    }
   ],
   "source": [
    "import glob\n",
    "import os\n",
    "\n",
    "folder_path = \"Statements\"  # Replace with the path to your folder\n",
    "\n",
    "# Get all file paths in the folder\n",
    "file_paths = glob.glob(folder_path + \"/*\")\n",
    "\n",
    "all_files = []\n",
    "# Iterate over the file paths and print their names\n",
    "for file_path in file_paths:\n",
    "    file_name = os.path.basename(file_path)\n",
    "    all_files.append(file_name)\n",
    "print(all_files)"
   ]
  },
  {
   "cell_type": "markdown",
   "id": "2e9ea735",
   "metadata": {},
   "source": [
    "#### Number of statements"
   ]
  },
  {
   "cell_type": "code",
   "execution_count": 4,
   "id": "c21fba42",
   "metadata": {},
   "outputs": [
    {
     "data": {
      "text/plain": [
       "101"
      ]
     },
     "execution_count": 4,
     "metadata": {},
     "output_type": "execute_result"
    }
   ],
   "source": [
    "len(all_files)"
   ]
  },
  {
   "cell_type": "markdown",
   "id": "8ffea4bf",
   "metadata": {},
   "source": [
    "#### Read each file / statement into a string"
   ]
  },
  {
   "cell_type": "code",
   "execution_count": 5,
   "id": "cd57ff34",
   "metadata": {},
   "outputs": [],
   "source": [
    "def read_file_as_string(file_path):\n",
    "    with open('Statements/'+file_path, 'r', encoding='utf-8') as file:\n",
    "        lines = file.readlines()\n",
    "        text = ' '.join(lines).replace(\"\\n\", \"\")\n",
    "    return text"
   ]
  },
  {
   "cell_type": "code",
   "execution_count": 6,
   "id": "a63f1195",
   "metadata": {},
   "outputs": [],
   "source": [
    "from datetime import datetime\n",
    "\n",
    "statements = []\n",
    "companies = []\n",
    "dates = []\n",
    "years = []\n",
    "\n",
    "# Function to format date\n",
    "def format_date(date):\n",
    "    # Get date\n",
    "    date_str = date\n",
    "\n",
    "    # Convert the date string to a datetime object\n",
    "    try:\n",
    "        date_obj = datetime.strptime(date_str, \"%Y.%m.%d\")\n",
    "        # Convert the datetime object to the desired format\n",
    "        formatted_date = date_obj.strftime(\"%d/%m/%Y\")\n",
    "        return formatted_date\n",
    "    except ValueError:\n",
    "        return None  \n",
    "\n",
    "for file_name in all_files:\n",
    "    # Get statement\n",
    "    statements.append(read_file_as_string(file_name))\n",
    "    # Get company name from file name\n",
    "    companies.append(file_name[11:-4])\n",
    "    \n",
    "    # Transform date into correct datetime format\n",
    "    date = file_name[:10]\n",
    "    formatted_date = format_date(date)\n",
    "    dates.append(formatted_date)\n",
    "    \n",
    "    # Get year\n",
    "    year = int(file_name[:4])\n",
    "    years.append(year)"
   ]
  },
  {
   "cell_type": "code",
   "execution_count": 7,
   "id": "bf83491a",
   "metadata": {},
   "outputs": [
    {
     "name": "stdout",
     "output_type": "stream",
     "text": [
      "<class 'pandas.core.frame.DataFrame'>\n",
      "RangeIndex: 101 entries, 0 to 100\n",
      "Data columns (total 4 columns):\n",
      " #   Column            Non-Null Count  Dtype \n",
      "---  ------            --------------  ----- \n",
      " 0   Name              101 non-null    object\n",
      " 1   NotificationDate  101 non-null    object\n",
      " 2   Year              101 non-null    int64 \n",
      " 3   Statement         101 non-null    object\n",
      "dtypes: int64(1), object(3)\n",
      "memory usage: 3.3+ KB\n"
     ]
    }
   ],
   "source": [
    "data = {'Name': companies, 'NotificationDate': dates, 'Year': years, 'Statement': statements}\n",
    "df = pd.DataFrame(data=data)\n",
    "df.info()"
   ]
  },
  {
   "cell_type": "code",
   "execution_count": 8,
   "id": "e0446c5f-922e-46ee-b2e0-a0ca39deece2",
   "metadata": {},
   "outputs": [
    {
     "data": {
      "text/html": [
       "<div>\n",
       "<style scoped>\n",
       "    .dataframe tbody tr th:only-of-type {\n",
       "        vertical-align: middle;\n",
       "    }\n",
       "\n",
       "    .dataframe tbody tr th {\n",
       "        vertical-align: top;\n",
       "    }\n",
       "\n",
       "    .dataframe thead th {\n",
       "        text-align: right;\n",
       "    }\n",
       "</style>\n",
       "<table border=\"1\" class=\"dataframe\">\n",
       "  <thead>\n",
       "    <tr style=\"text-align: right;\">\n",
       "      <th></th>\n",
       "      <th>Name</th>\n",
       "      <th>NotificationDate</th>\n",
       "      <th>Year</th>\n",
       "      <th>Statement</th>\n",
       "    </tr>\n",
       "  </thead>\n",
       "  <tbody>\n",
       "    <tr>\n",
       "      <th>0</th>\n",
       "      <td>GoGet</td>\n",
       "      <td>31/01/2018</td>\n",
       "      <td>2018</td>\n",
       "      <td>A statement from GoGet’s CEO To our valued mem...</td>\n",
       "    </tr>\n",
       "    <tr>\n",
       "      <th>1</th>\n",
       "      <td>Facebook</td>\n",
       "      <td>22/03/2018</td>\n",
       "      <td>2018</td>\n",
       "      <td>I want to share an update on the Cambridge Ana...</td>\n",
       "    </tr>\n",
       "    <tr>\n",
       "      <th>2</th>\n",
       "      <td>Under Armour</td>\n",
       "      <td>29/03/2018</td>\n",
       "      <td>2018</td>\n",
       "      <td>To the MyFitnessPal Community:  We are writing...</td>\n",
       "    </tr>\n",
       "    <tr>\n",
       "      <th>3</th>\n",
       "      <td>PageUp People</td>\n",
       "      <td>06/05/2018</td>\n",
       "      <td>2018</td>\n",
       "      <td>Information update 5 June 2018  As part of our...</td>\n",
       "    </tr>\n",
       "    <tr>\n",
       "      <th>4</th>\n",
       "      <td>Family Planning NSW</td>\n",
       "      <td>14/05/2018</td>\n",
       "      <td>2018</td>\n",
       "      <td>We are writing to personally inform you and ap...</td>\n",
       "    </tr>\n",
       "  </tbody>\n",
       "</table>\n",
       "</div>"
      ],
      "text/plain": [
       "                  Name NotificationDate  Year  \\\n",
       "0                GoGet       31/01/2018  2018   \n",
       "1             Facebook       22/03/2018  2018   \n",
       "2         Under Armour       29/03/2018  2018   \n",
       "3        PageUp People       06/05/2018  2018   \n",
       "4  Family Planning NSW       14/05/2018  2018   \n",
       "\n",
       "                                           Statement  \n",
       "0  A statement from GoGet’s CEO To our valued mem...  \n",
       "1  I want to share an update on the Cambridge Ana...  \n",
       "2  To the MyFitnessPal Community:  We are writing...  \n",
       "3  Information update 5 June 2018  As part of our...  \n",
       "4  We are writing to personally inform you and ap...  "
      ]
     },
     "execution_count": 8,
     "metadata": {},
     "output_type": "execute_result"
    }
   ],
   "source": [
    "df.head()"
   ]
  },
  {
   "cell_type": "markdown",
   "id": "d7f92998",
   "metadata": {},
   "source": [
    "#### Determine the number of rows and columns in the dataset"
   ]
  },
  {
   "cell_type": "code",
   "execution_count": 9,
   "id": "167d40c4",
   "metadata": {},
   "outputs": [
    {
     "data": {
      "text/plain": [
       "(101, 4)"
      ]
     },
     "execution_count": 9,
     "metadata": {},
     "output_type": "execute_result"
    }
   ],
   "source": [
    "df.shape"
   ]
  },
  {
   "cell_type": "markdown",
   "id": "d4e3c5ba",
   "metadata": {},
   "source": [
    "#### Find number of rows"
   ]
  },
  {
   "cell_type": "code",
   "execution_count": 10,
   "id": "8f0f8e96",
   "metadata": {},
   "outputs": [
    {
     "data": {
      "text/plain": [
       "101"
      ]
     },
     "execution_count": 10,
     "metadata": {},
     "output_type": "execute_result"
    }
   ],
   "source": [
    "len(df)"
   ]
  },
  {
   "cell_type": "code",
   "execution_count": 11,
   "id": "ba337734",
   "metadata": {},
   "outputs": [
    {
     "data": {
      "text/plain": [
       "2022    27\n",
       "2020    22\n",
       "2023    17\n",
       "2018    15\n",
       "2019    13\n",
       "2021     7\n",
       "Name: Year, dtype: int64"
      ]
     },
     "execution_count": 11,
     "metadata": {},
     "output_type": "execute_result"
    }
   ],
   "source": [
    "df['Year'].value_counts()"
   ]
  },
  {
   "cell_type": "markdown",
   "id": "c7a64c76-27da-4254-ace5-6409be5dc9b8",
   "metadata": {},
   "source": [
    "### Plot year"
   ]
  },
  {
   "cell_type": "code",
   "execution_count": 12,
   "id": "dd26a2e4",
   "metadata": {},
   "outputs": [],
   "source": [
    "#function to display values on barcharts\n",
    "def show_values(axs, orient=\"v\", space=.01):\n",
    "    def _single(ax):\n",
    "        if orient == \"v\":\n",
    "            for p in ax.patches:\n",
    "                _x = p.get_x() + p.get_width() / 2\n",
    "                _y = p.get_y() + p.get_height() + (p.get_height()*0.01)\n",
    "                value = '{:.0f}'.format(p.get_height(), fontsize=14)\n",
    "                ax.text(_x, _y, value, ha=\"center\", fontsize=12) \n",
    "        elif orient == \"h\":\n",
    "            for p in ax.patches:\n",
    "                _x = p.get_x() + p.get_width() + float(space)\n",
    "                _y = p.get_y() + p.get_height() - (p.get_height()*0.5)\n",
    "                value = '{:.0f}'.format(p.get_width(), fontsize=14)\n",
    "                ax.text(_x, _y, value, ha=\"left\", fontsize=12)\n",
    "\n",
    "    if isinstance(axs, np.ndarray):\n",
    "        for idx, ax in np.ndenumerate(axs):\n",
    "            _single(ax)\n",
    "    else:\n",
    "        _single(axs)"
   ]
  },
  {
   "cell_type": "code",
   "execution_count": 13,
   "id": "ebc1d415",
   "metadata": {},
   "outputs": [
    {
     "data": {
      "image/png": "[encoded data removed]",
      "text/plain": [
       "<Figure size 504x360 with 1 Axes>"
      ]
     },
     "metadata": {
      "needs_background": "light"
     },
     "output_type": "display_data"
    }
   ],
   "source": [
    "value_counts = df['Year'].value_counts()\n",
    "\n",
    "# Create bar plot\n",
    "plt.figure(figsize=(7, 5))\n",
    "p = sns.barplot(x=value_counts.index, y=value_counts.values, color='#035397')\n",
    "show_values(p)\n",
    "plt.xlabel('Year')\n",
    "plt.ylabel('Frequency')\n",
    "plt.title('Number of Statements by Year')\n",
    "plt.xticks(fontsize=8)\n",
    "plt.yticks(fontsize=8)\n",
    "plt.show()"
   ]
  },
  {
   "cell_type": "markdown",
   "id": "f157c745-c467-4a81-80ba-75dfd8df033c",
   "metadata": {},
   "source": [
    "### Ref: https://github.com/j-hartmann/siebert/blob/main/SieBERT.ipynb"
   ]
  },
  {
   "cell_type": "code",
   "execution_count": 14,
   "id": "54b4c231",
   "metadata": {},
   "outputs": [
    {
     "name": "stdout",
     "output_type": "stream",
     "text": [
      "4.27.4\n"
     ]
    }
   ],
   "source": [
    "# Check version of transformers\n",
    "import transformers\n",
    "print(transformers.__version__)     "
   ]
  },
  {
   "cell_type": "code",
   "execution_count": 15,
   "id": "a9a4a4b2",
   "metadata": {},
   "outputs": [],
   "source": [
    "# load dependencies\n",
    "import torch\n",
    "import pandas as pd\n",
    "from transformers import AutoTokenizer, AutoModelForSequenceClassification\n",
    "\n",
    "# specify path of pretrained model\n",
    "checkpoint = \"siebert/sentiment-roberta-large-english\"  # SieBERT\n",
    "\n",
    "# load pretrained tokenizer and model\n",
    "tokenizer = AutoTokenizer.from_pretrained(checkpoint)\n",
    "model = AutoModelForSequenceClassification.from_pretrained(checkpoint)"
   ]
  },
  {
   "cell_type": "code",
   "execution_count": 50,
   "id": "51320d8e",
   "metadata": {
    "scrolled": true,
    "tags": []
   },
   "outputs": [],
   "source": [
    "def get_sentiment(text):\n",
    "    sequences = sent_tokenize(text)\n",
    "\n",
    "    # tokenize sequences\n",
    "    tokens = tokenizer(sequences, padding=True, truncation=True, return_tensors=\"pt\")\n",
    "\n",
    "    # predict with model\n",
    "    output = model(**tokens)\n",
    "\n",
    "    # transform logits to class labels\n",
    "    predictions = torch.nn.functional.softmax(output.logits, dim=-1)\n",
    "\n",
    "    confidences = predictions.max(1)[0].tolist()\n",
    "\n",
    "    classes = predictions.argmax(-1).tolist()\n",
    "\n",
    "    # labels = pd.Series(classes).map(model.config.id2label)\n",
    "    \n",
    "    # consolidate results into a dataframe\n",
    "    sentiment = pd.DataFrame(list(zip(classes, confidences)), columns=['class', 'confidence'])\n",
    "    \n",
    "    # Get counts\n",
    "    sent_count = sentiment['class'].value_counts()\n",
    "    \n",
    "    # Count of positive sentences\n",
    "    pos_cnt = sent_count[1]\n",
    "\n",
    "    # Count of negative sentences\n",
    "    neg_cnt = sent_count[0]\n",
    "    \n",
    "    # Get averages of confidence scores\n",
    "    confi_avg = sentiment.groupby('class')['confidence'].mean()\n",
    "    \n",
    "    # Average of positive\n",
    "    pos_avg = confi_avg[1]\n",
    "    \n",
    "    # Average of negative\n",
    "    neg_avg = confi_avg[0]\n",
    "    \n",
    "    return pos_cnt, neg_cnt, pos_avg, neg_avg"
   ]
  },
  {
   "cell_type": "code",
   "execution_count": 53,
   "id": "651e9677",
   "metadata": {
    "scrolled": true,
    "tags": []
   },
   "outputs": [],
   "source": [
    "df['SentimentScores'] = df['Statement'].apply(lambda x: get_sentiment(x))"
   ]
  },
  {
   "cell_type": "code",
   "execution_count": 55,
   "id": "086b0dbd-942b-4c79-8ae3-00c2959ef782",
   "metadata": {
    "scrolled": true,
    "tags": []
   },
   "outputs": [],
   "source": [
    "df.to_csv('sentiment', index=False)"
   ]
  },
  {
   "cell_type": "markdown",
   "id": "c3e86059-e641-43ab-ae41-e343a6d2c8cb",
   "metadata": {},
   "source": [
    "### Stop here for sentiment analysis.\n",
    "\n",
    "### Create new notebook for sentiment analysis\n",
    "\n",
    "### Duplicate this notebook for other features"
   ]
  },
  {
   "cell_type": "code",
   "execution_count": 21,
   "id": "44ac3c27-07c1-4fda-8589-eb9cefad8b35",
   "metadata": {},
   "outputs": [
    {
     "name": "stdout",
     "output_type": "stream",
     "text": [
      "0.9948539018630982\n"
     ]
    }
   ],
   "source": [
    "# Calculate averages of probabilities\n",
    "import statistics as stats\n",
    "\n",
    "print(stats.mean(confidences))"
   ]
  },
  {
   "cell_type": "code",
   "execution_count": 23,
   "id": "155d46ba-37b3-4d85-a1ba-7f710d4cf5a0",
   "metadata": {},
   "outputs": [
    {
     "name": "stdout",
     "output_type": "stream",
     "text": [
      "23\n"
     ]
    },
    {
     "data": {
      "text/plain": [
       "22"
      ]
     },
     "execution_count": 23,
     "metadata": {},
     "output_type": "execute_result"
    }
   ],
   "source": [
    "# Calculate total positive sentences ie. Positive 1, Negative 0\n",
    "print(sum(classes))\n",
    "\n",
    "# Calculate total negative sentences\n",
    "len(classes) - sum(classes)"
   ]
  },
  {
   "cell_type": "code",
   "execution_count": null,
   "id": "76db7238-ad3d-480d-b027-e2cd7db5d81a",
   "metadata": {},
   "outputs": [],
   "source": [
    "# Function to count paragraphs in a statement\n",
    "def count_paragraphs(text):\n",
    "    paragraphs = text.split('  ')\n",
    "    return paragraphs\n",
    "\n",
    "d = count_paragraphs(df['Statement'][1])\n",
    "print(d)\n",
    "print(len(d))"
   ]
  },
  {
   "cell_type": "code",
   "execution_count": null,
   "id": "8d5c9786-5f8d-43e0-a9ef-b87ccfbeda3f",
   "metadata": {},
   "outputs": [],
   "source": [
    "text = \"\"\"\n",
    "Here's a timeline of the events:\n",
    "\"\"\"\n",
    "for index, value in enumerate(d):\n",
    "    if text.strip() in d[index]:\n",
    "        print(index)"
   ]
  },
  {
   "cell_type": "code",
   "execution_count": null,
   "id": "f05d990f-849f-4397-878c-2b739b77838d",
   "metadata": {},
   "outputs": [],
   "source": [
    "d[0]"
   ]
  },
  {
   "cell_type": "code",
   "execution_count": null,
   "id": "6ebf8afc-f541-438b-89ab-185f8c4d9728",
   "metadata": {},
   "outputs": [],
   "source": [
    "if text.strip() in d:\n",
    "    print(\"true\")\n",
    "else:\n",
    "    print(\"false\")"
   ]
  },
  {
   "cell_type": "code",
   "execution_count": null,
   "id": "d9c0f0a5-336a-4412-998d-204d507c2f9f",
   "metadata": {},
   "outputs": [],
   "source": [
    "sentiment[:3]"
   ]
  },
  {
   "cell_type": "code",
   "execution_count": null,
   "id": "a73e9925-5940-4345-913f-fa0cbe13fc0e",
   "metadata": {},
   "outputs": [],
   "source": [
    "# Function to check which paragraph the sentence belongs to\n",
    "\n",
    "# statement is a list of paragraphs\n",
    "def check_paragraph(text, list_of_paragraphs):\n",
    "    for index, value in enumerate(list_of_paragraphs):\n",
    "        if text.strip() in list_of_paragraphs[index]:\n",
    "            return index\n",
    "\n",
    "\n",
    "sentiment['paragraph'] = sentiment['text'].apply(lambda x: check_paragraph(x, d))"
   ]
  },
  {
   "cell_type": "code",
   "execution_count": null,
   "id": "abaa92b3-c908-42af-b42d-a09540ab27e4",
   "metadata": {},
   "outputs": [],
   "source": [
    "sentiment"
   ]
  },
  {
   "cell_type": "markdown",
   "id": "7df0cbbb-8cf3-487a-9a44-66b81e1cf67a",
   "metadata": {},
   "source": [
    "### Simple example"
   ]
  },
  {
   "cell_type": "code",
   "execution_count": null,
   "id": "6347ae8e-c290-4386-92fe-eb7700fbc884",
   "metadata": {},
   "outputs": [],
   "source": [
    "# Ref: https://huggingface.co/siebert/sentiment-roberta-large-english\n",
    "\n",
    "from transformers import pipeline\n",
    "sentiment_analysis = pipeline(\"sentiment-analysis\", model=\"siebert/sentiment-roberta-large-english\")\n",
    "# print(sentiment_analysis(\"I love this!\"))"
   ]
  },
  {
   "cell_type": "code",
   "execution_count": null,
   "id": "853a6824-0c4e-4b45-9d23-79dc5d6cce9f",
   "metadata": {},
   "outputs": [],
   "source": [
    "# Create a function to get sentiment\n",
    "def get_sentiment(text):\n",
    "    sentences = sent_tokenize(text)\n",
    "\n",
    "    sent_dict = {'Positive': 0, 'Negative': 0}\n",
    "\n",
    "    for sentence in sentences:\n",
    "        # Get sentiment for each sentence in the statement\n",
    "        sentiment = sentiment_analysis(sentence)   \n",
    "        if sentiment[0]['label'] == 'NEGATIVE':\n",
    "            sent_dict['Negative'] += 1\n",
    "        else: \n",
    "            sent_dict['Positive'] += 1\n",
    "    print(sent_dict)\n",
    "    # Check Positive or Negative has higher values\n",
    "    if sent_dict['Positive'] > sent_dict['Negative']:\n",
    "        return 1\n",
    "    else:\n",
    "        return 0"
   ]
  },
  {
   "cell_type": "code",
   "execution_count": null,
   "id": "a0202bc0-2dcd-446d-a0ce-b5d545847d73",
   "metadata": {},
   "outputs": [],
   "source": [
    "get_sentiment(df['Statement'][1])"
   ]
  },
  {
   "cell_type": "code",
   "execution_count": null,
   "id": "5d4287be-b6a1-4261-808f-815d7712c004",
   "metadata": {},
   "outputs": [],
   "source": []
  },
  {
   "cell_type": "markdown",
   "id": "f1a165d1",
   "metadata": {},
   "source": [
    "## II. Feature Engineering\n",
    "\n",
    "- Word count \n",
    "\n",
    "- Character count \n",
    "\n",
    "- Sentence count \n",
    "\n",
    "- Key word / unique word count \n",
    "\n",
    "- Cybersecurity word count \n",
    "\n",
    "- Numerical terms \n",
    "\n",
    "- Average word length \n",
    "\n",
    "- Average sentence length \n"
   ]
  },
  {
   "cell_type": "code",
   "execution_count": null,
   "id": "c8b0b9db",
   "metadata": {},
   "outputs": [],
   "source": [
    "# Count of tokens ie. sequence of characters\n",
    "len(df['Statement'][0])"
   ]
  },
  {
   "cell_type": "markdown",
   "id": "c0b2e762",
   "metadata": {},
   "source": [
    "### 1. Word count"
   ]
  },
  {
   "cell_type": "code",
   "execution_count": null,
   "id": "20328a18",
   "metadata": {},
   "outputs": [],
   "source": [
    "df.head()"
   ]
  },
  {
   "cell_type": "code",
   "execution_count": null,
   "id": "45ffd538",
   "metadata": {},
   "outputs": [],
   "source": [
    "df['WordCount'] = df['Statement'].apply(lambda x: len(x.split()))"
   ]
  },
  {
   "cell_type": "code",
   "execution_count": null,
   "id": "7d6b65f4",
   "metadata": {},
   "outputs": [],
   "source": [
    "# Average word length\n",
    "df['WordCount'].mean()"
   ]
  },
  {
   "cell_type": "code",
   "execution_count": null,
   "id": "ca96f9b1",
   "metadata": {},
   "outputs": [],
   "source": [
    "df['Statement'][0]"
   ]
  },
  {
   "cell_type": "code",
   "execution_count": null,
   "id": "58c11b13",
   "metadata": {},
   "outputs": [],
   "source": [
    "# Character count???\n",
    "def character_count(text):\n",
    "    character_count = 0\n",
    "    word_list = text.split()\n",
    "    for word in word_list:\n",
    "        character_count += len(word)\n",
    "    return character_count"
   ]
  },
  {
   "cell_type": "code",
   "execution_count": null,
   "id": "8ac6f06e",
   "metadata": {},
   "outputs": [],
   "source": []
  },
  {
   "cell_type": "code",
   "execution_count": null,
   "id": "78e73d25",
   "metadata": {},
   "outputs": [],
   "source": []
  },
  {
   "cell_type": "code",
   "execution_count": null,
   "id": "27e476cd",
   "metadata": {},
   "outputs": [],
   "source": [
    "saying = ['After', 'all', 'is', 'said', 'and', 'done',\n",
    "        'more', 'is', 'said', 'than', 'done']\n",
    "tokens = set(saying)\n",
    "print(tokens)\n",
    "\n",
    "tokens = sorted(tokens)\n",
    "tokens[-2:]"
   ]
  },
  {
   "cell_type": "markdown",
   "id": "16b40099",
   "metadata": {},
   "source": [
    "### Text Preprocessing"
   ]
  },
  {
   "cell_type": "code",
   "execution_count": null,
   "id": "bac8230b",
   "metadata": {},
   "outputs": [],
   "source": [
    "import string\n",
    "import nltk\n",
    "from nltk.corpus import stopwords\n",
    "from nltk import sent_tokenize\n",
    "from nltk.tokenize import word_tokenize\n",
    "from nltk.stem import WordNetLemmatizer\n",
    "from nltk.tokenize import word_tokenize\n",
    "from nltk.stem import WordNetLemmatizer\n",
    "\n",
    "def preprocess(text):\n",
    "    # split into sentences\n",
    "    sentences = sent_tokenize(text)\n",
    "    \n",
    "    # split into words\n",
    "    tokens = word_tokenize(text)\n",
    "    \n",
    "    # convert to lower case\n",
    "    tokens = [w.lower() for w in tokens]\n",
    "    \n",
    "    # remove punctuation from each word\n",
    "    table = str.maketrans('', '', string.punctuation)\n",
    "    stripped = [w.translate(table) for w in tokens]\n",
    "    \n",
    "    # remove remaining tokens that are not alphabetic\n",
    "    words = [word for word in stripped if word.isalpha()]\n",
    "    \n",
    "    # filter out stop words\n",
    "    stop_words = set(stopwords.words('english'))\n",
    "    words = [w for w in words if not w in stop_words]\n",
    "    \n",
    "    # Lemmatize the tokens\n",
    "    lemmatizer = WordNetLemmatizer()\n",
    "    lemmatized_tokens = [lemmatizer.lemmatize(word) for word in words]\n",
    "\n",
    "    # Join the tokens back into a string\n",
    "    processed_text = ' '.join(lemmatized_tokens)\n",
    "    return processed_text"
   ]
  },
  {
   "cell_type": "code",
   "execution_count": null,
   "id": "6e00a20a",
   "metadata": {},
   "outputs": [],
   "source": [
    "df['CleanStatement'] = df['Statement'].apply(lambda x: preprocess(x))"
   ]
  },
  {
   "cell_type": "code",
   "execution_count": null,
   "id": "229158bd",
   "metadata": {},
   "outputs": [],
   "source": [
    "df.head()"
   ]
  },
  {
   "cell_type": "code",
   "execution_count": null,
   "id": "ecdc3f93",
   "metadata": {},
   "outputs": [],
   "source": [
    "df.info()"
   ]
  },
  {
   "cell_type": "code",
   "execution_count": null,
   "id": "7c255086",
   "metadata": {},
   "outputs": [],
   "source": [
    "df[df['NotificationDate'].isnull()]"
   ]
  },
  {
   "cell_type": "markdown",
   "id": "eb7f54c4",
   "metadata": {},
   "source": [
    "### Get sentiment using SiEBERT - English-Language Sentiment Classification"
   ]
  },
  {
   "cell_type": "code",
   "execution_count": null,
   "id": "688619b2",
   "metadata": {},
   "outputs": [],
   "source": [
    "# Ref: https://huggingface.co/siebert/sentiment-roberta-large-english\n",
    "\n",
    "from transformers import pipeline\n",
    "sentiment_analysis = pipeline(\"sentiment-analysis\", model=\"siebert/sentiment-roberta-large-english\")\n",
    "# print(sentiment_analysis(\"I love this!\"))"
   ]
  },
  {
   "cell_type": "code",
   "execution_count": null,
   "id": "251f97cc",
   "metadata": {},
   "outputs": [],
   "source": [
    "# Create a function to get sentiment\n",
    "def get_sentiment(text):\n",
    "    sentences = sent_tokenize(text)\n",
    "\n",
    "    sent_dict = {'Positive': 0, 'Negative': 0}\n",
    "\n",
    "    for sentence in sentences:\n",
    "        # Get sentiment for each sentence in the statement\n",
    "        sentiment = sentiment_analysis(sentence)   \n",
    "        if sentiment[0]['label'] == 'NEGATIVE':\n",
    "            sent_dict['Negative'] += 1\n",
    "        else: \n",
    "            sent_dict['Positive'] += 1\n",
    "    # Check Positive or Negative has higher values\n",
    "    if sent_dict['Positive'] > sent_dict['Negative']:\n",
    "        return 1\n",
    "    else:\n",
    "        return 0"
   ]
  },
  {
   "cell_type": "code",
   "execution_count": null,
   "id": "641287d4",
   "metadata": {},
   "outputs": [],
   "source": [
    "df['Siebert_Sentiment'] = df['Statement'].apply(lambda x: get_sentiment(x))"
   ]
  },
  {
   "cell_type": "code",
   "execution_count": null,
   "id": "77227294",
   "metadata": {},
   "outputs": [],
   "source": [
    "df['Siebert_Sentiment'].value_counts(normalize=True)"
   ]
  },
  {
   "cell_type": "code",
   "execution_count": null,
   "id": "4a600a03",
   "metadata": {},
   "outputs": [],
   "source": [
    "df.head()"
   ]
  },
  {
   "cell_type": "code",
   "execution_count": null,
   "id": "90c485ea",
   "metadata": {},
   "outputs": [],
   "source": [
    "value_counts = df['Siebert_Sentiment'].value_counts()\n",
    "\n",
    "# Create bar plot\n",
    "plt.figure(figsize=(6, 4))\n",
    "p = sns.barplot(x=value_counts.index, y=value_counts.values, color='#035397')\n",
    "show_values(p)\n",
    "plt.xlabel('Sentiment')\n",
    "plt.ylabel('Frequency')\n",
    "plt.title('Sentiment Analysis of Statements')\n",
    "plt.xticks(fontsize=8)\n",
    "plt.yticks(fontsize=8)\n",
    "plt.show()\n"
   ]
  },
  {
   "cell_type": "code",
   "execution_count": null,
   "id": "51f46ed7",
   "metadata": {},
   "outputs": [],
   "source": [
    "df['Length'].max()"
   ]
  },
  {
   "cell_type": "markdown",
   "id": "44817164",
   "metadata": {},
   "source": [
    "### Import databreaches Excel file"
   ]
  },
  {
   "cell_type": "code",
   "execution_count": null,
   "id": "9653cde0",
   "metadata": {},
   "outputs": [],
   "source": [
    "# Import dataframe with Description split into 2 columns: DescriptionClean (text only - need more cleaning) & WebsiteLink\n",
    "\n",
    "columns_to_read = ['Name', 'Day', 'Month', 'Year', 'NotificationDate', 'WebpageTitle', 'Author',\n",
    "                   'DetailedExplanation', 'Whitewashing', 'Apology', 'Compensation',\n",
    "                  'ResponsiveAction', 'ValueCommitment', 'CustomerFocus', 'OpenDisclosure', 'CustomerAdvice']\n",
    "df_st = pd.read_csv('ausdatabreach2018-23v1.csv', usecols=columns_to_read, encoding='latin1')\n",
    "df_st.info()"
   ]
  },
  {
   "cell_type": "code",
   "execution_count": null,
   "id": "570879e5",
   "metadata": {},
   "outputs": [],
   "source": [
    "df_st.head()"
   ]
  },
  {
   "cell_type": "code",
   "execution_count": null,
   "id": "afa7b798",
   "metadata": {},
   "outputs": [],
   "source": [
    "df_st.tail()"
   ]
  },
  {
   "cell_type": "code",
   "execution_count": null,
   "id": "9943d6cc",
   "metadata": {},
   "outputs": [],
   "source": [
    "df['Name'].equals(df_st['Name'])"
   ]
  },
  {
   "cell_type": "code",
   "execution_count": null,
   "id": "9b49a206",
   "metadata": {},
   "outputs": [],
   "source": [
    "comparison = df['Name'] != df_st['Name']\n",
    "\n",
    "# Get the indices of the differing rows\n",
    "differing_rows = comparison[comparison].index\n",
    "\n",
    "# Print the differing rows\n",
    "print(differing_rows)"
   ]
  },
  {
   "cell_type": "code",
   "execution_count": null,
   "id": "3c792e33",
   "metadata": {},
   "outputs": [],
   "source": [
    "df_st['Name'].iloc[39:]"
   ]
  },
  {
   "cell_type": "code",
   "execution_count": null,
   "id": "778fc092",
   "metadata": {},
   "outputs": [],
   "source": [
    "df['Name'].iloc[39:]"
   ]
  },
  {
   "cell_type": "markdown",
   "id": "c8b902c9",
   "metadata": {},
   "source": [
    "### EDA"
   ]
  },
  {
   "cell_type": "code",
   "execution_count": null,
   "id": "e2d63a8f",
   "metadata": {},
   "outputs": [],
   "source": [
    "df = df_st"
   ]
  },
  {
   "cell_type": "code",
   "execution_count": null,
   "id": "63879274",
   "metadata": {},
   "outputs": [],
   "source": [
    "df.info()"
   ]
  },
  {
   "cell_type": "code",
   "execution_count": null,
   "id": "56ed07e1",
   "metadata": {},
   "outputs": [],
   "source": [
    "df.head()"
   ]
  },
  {
   "cell_type": "code",
   "execution_count": null,
   "id": "e0d3958b",
   "metadata": {},
   "outputs": [],
   "source": [
    "df.tail()"
   ]
  },
  {
   "cell_type": "code",
   "execution_count": null,
   "id": "e214c784",
   "metadata": {},
   "outputs": [],
   "source": [
    "import seaborn as sns\n",
    "\n",
    "# Calculate value counts\n",
    "value_counts = df['Year'].value_counts()\n",
    "\n",
    "# Create bar plot\n",
    "p = sns.barplot(x=value_counts.index, y=value_counts.values, color='#035397')\n",
    "show_values(p)\n",
    "plt.xlabel('Year')\n",
    "plt.ylabel('Frequency')\n",
    "plt.title('Number of breaches by year')\n",
    "plt.xticks(fontsize=8)\n",
    "plt.yticks(fontsize=8)\n",
    "plt.show()"
   ]
  },
  {
   "cell_type": "markdown",
   "id": "0984fec5",
   "metadata": {},
   "source": [
    "### Percentages of each characteristics"
   ]
  },
  {
   "cell_type": "code",
   "execution_count": null,
   "id": "29011bae",
   "metadata": {},
   "outputs": [],
   "source": [
    "df['DetailedExplanation'].value_counts(normalize=True)[1]*100"
   ]
  },
  {
   "cell_type": "code",
   "execution_count": null,
   "id": "04baedb5",
   "metadata": {},
   "outputs": [],
   "source": [
    "import pandas as pd\n",
    "import seaborn as sns\n",
    "import matplotlib.pyplot as plt\n",
    "\n",
    "# Set up the figure and axes\n",
    "fig, ax = plt.subplots()\n",
    "\n",
    "boolean_col = ['DetailedExplanation', 'Whitewashing', 'Apology', \n",
    "               'Compensation', 'ResponsiveAction', 'ValueCommitment',\n",
    "                'CustomerFocus', 'OpenDisclosure', 'CustomerAdvice']\n",
    "sns.countplot(data=df, x=\"DetailedExplanation\")\n",
    "plt.show()"
   ]
  },
  {
   "cell_type": "code",
   "execution_count": null,
   "id": "89f7e468",
   "metadata": {},
   "outputs": [],
   "source": [
    "boolean_col = ['DetailedExplanation', 'Whitewashing', 'Apology', \n",
    "               'Compensation', 'ResponsiveAction', 'ValueCommitment',\n",
    "                'CustomerFocus', 'OpenDisclosure', 'CustomerAdvice']\n",
    "\n",
    "values = []\n",
    "for col in boolean_col:\n",
    "    pct = df[col].value_counts(normalize=True)[1]*100\n",
    "    values.append(pct)"
   ]
  },
  {
   "cell_type": "code",
   "execution_count": null,
   "id": "09c23742",
   "metadata": {},
   "outputs": [],
   "source": [
    "# Create bar plot\n",
    "\n",
    "plt.figure(figsize=(10,7))\n",
    "p = sns.barplot(x=boolean_col, y=values, color='#035397')\n",
    "show_values(p)\n",
    "plt.xlabel('Characteristics')\n",
    "plt.ylabel('Percentages')\n",
    "plt.title('Percentages of Characteristics')\n",
    "plt.xticks(fontsize=7)\n",
    "plt.yticks(fontsize=5)\n",
    "plt.show()"
   ]
  },
  {
   "cell_type": "markdown",
   "id": "5b2b5e1c",
   "metadata": {},
   "source": [
    "### Response Grouping"
   ]
  },
  {
   "cell_type": "code",
   "execution_count": null,
   "id": "3a63c282",
   "metadata": {},
   "outputs": [],
   "source": [
    "# FullTransparency\n",
    "def type1(row):\n",
    "    \n",
    "    if (row['DetailedExplanation'] == 1) & (row['Whitewashing'] == 0) & (row['ResponsiveAction'] == 1) & (row['ValueCommitment'] == 1)  & (row['OpenDisclosure'] == 1):\n",
    "        return 1\n",
    "    else:\n",
    "        return 0\n",
    "\n",
    "# Apply the custom function to create a new column\n",
    "df['FullTransparency'] = df.apply(type1, axis=1)"
   ]
  },
  {
   "cell_type": "code",
   "execution_count": null,
   "id": "d7899fd3",
   "metadata": {},
   "outputs": [],
   "source": [
    "df[df['FullTransparency']==1].iloc[:,7:-1]"
   ]
  },
  {
   "cell_type": "code",
   "execution_count": null,
   "id": "0b20b68f",
   "metadata": {},
   "outputs": [],
   "source": [
    "# Guarded\n",
    "def type2(row):\n",
    "    \n",
    "    if (row['DetailedExplanation'] == 0) & (row['Whitewashing'] == 1) & (row['ResponsiveAction'] == 1) & (row['ValueCommitment'] == 1)  & (row['OpenDisclosure'] == 0):\n",
    "        return 1\n",
    "    else:\n",
    "        return 0\n",
    "\n",
    "# Apply the custom function to create a new column\n",
    "df['Guarded'] = df.apply(type2, axis=1)"
   ]
  },
  {
   "cell_type": "code",
   "execution_count": null,
   "id": "edf21472",
   "metadata": {},
   "outputs": [],
   "source": [
    "# Opacity\n",
    "def type3(row):\n",
    "    \n",
    "    if (row['DetailedExplanation'] == 0) & (row['Whitewashing'] == 1) & (row['ResponsiveAction'] == 1) & (row['ValueCommitment'] == 0)  & (row['OpenDisclosure'] == 0):\n",
    "        return 1\n",
    "    else:\n",
    "        return 0\n",
    "\n",
    "# Apply the custom function to create a new column\n",
    "df['Opacity'] = df.apply(type3, axis=1)"
   ]
  },
  {
   "cell_type": "code",
   "execution_count": null,
   "id": "09d95c15",
   "metadata": {},
   "outputs": [],
   "source": [
    "# CustomerInterest\n",
    "def type4(row):\n",
    "    \n",
    "    if (row['Apology'] == 1) & (row['Compensation'] == 1) & (row['CustomerFocus'] == 1) & (row['CustomerAdvice'] == 1):\n",
    "        return 1\n",
    "    else:\n",
    "        return 0\n",
    "\n",
    "# Apply the custom function to create a new column\n",
    "df['CustomerInterest'] = df.apply(type4, axis=1)"
   ]
  },
  {
   "cell_type": "code",
   "execution_count": null,
   "id": "abdcffe5",
   "metadata": {},
   "outputs": [],
   "source": [
    "# CustomerInterest\n",
    "def type5(row):\n",
    "    \n",
    "    if (row['Apology'] == 1) & (row['Compensation'] == 0):\n",
    "        return 1\n",
    "    else:\n",
    "        return 0\n",
    "\n",
    "# Apply the custom function to create a new column\n",
    "df['BalancedInterest'] = df.apply(type5, axis=1)"
   ]
  },
  {
   "cell_type": "code",
   "execution_count": null,
   "id": "bcb7e66b",
   "metadata": {},
   "outputs": [],
   "source": [
    "# CustomerInterest\n",
    "def type6(row):\n",
    "    \n",
    "    if (row['Apology'] == 0) & (row['Compensation'] == 0) & (row['CustomerFocus'] == 0) & (row['CustomerAdvice'] == 0):\n",
    "        return 1\n",
    "    else:\n",
    "        return 0\n",
    "\n",
    "# Apply the custom function to create a new column\n",
    "df['CompanyInterest'] = df.apply(type6, axis=1)"
   ]
  },
  {
   "cell_type": "code",
   "execution_count": null,
   "id": "614b0d14",
   "metadata": {},
   "outputs": [],
   "source": [
    "df.iloc[:5,7:]"
   ]
  },
  {
   "cell_type": "markdown",
   "id": "20003b6a",
   "metadata": {},
   "source": [
    "### Percentages of each response types"
   ]
  },
  {
   "cell_type": "code",
   "execution_count": null,
   "id": "62073ed6",
   "metadata": {},
   "outputs": [],
   "source": [
    "response_col = ['FullTransparency', 'Guarded', 'Opacity', \n",
    "               'CustomerInterest', 'BalancedInterest', 'CompanyInterest']\n",
    "\n",
    "values_pct = []\n",
    "for col in response_col:\n",
    "    # If there is only one value \n",
    "    if len(df[col].value_counts(normalize=True)) == 1:\n",
    "        values_pct.append(0)\n",
    "        \n",
    "    else:\n",
    "        pct = df[col].value_counts(normalize=True)[1]*100\n",
    "        \n",
    "        values_pct.append(pct)\n",
    "    \n",
    "# Create bar plot\n",
    "\n",
    "plt.figure(figsize=(7,5))\n",
    "p = sns.barplot(x=response_col, y=values_pct, color='#035397')\n",
    "show_values(p)\n",
    "plt.xlabel('Response Types')\n",
    "plt.ylabel('Percentages')\n",
    "plt.title('Percentages of Response Types')\n",
    "plt.xticks(fontsize=5)\n",
    "plt.yticks(fontsize=5)\n",
    "plt.show()"
   ]
  },
  {
   "cell_type": "code",
   "execution_count": null,
   "id": "49810c56",
   "metadata": {},
   "outputs": [],
   "source": [
    "df['BalancedInterest'].value_counts(normalize=True)[1]*100"
   ]
  },
  {
   "cell_type": "markdown",
   "id": "1b19a3db",
   "metadata": {},
   "source": [
    "### Bigrams for titles"
   ]
  },
  {
   "cell_type": "code",
   "execution_count": null,
   "id": "7d8ddbf2",
   "metadata": {},
   "outputs": [],
   "source": [
    "import string\n",
    "import nltk\n",
    "from nltk.corpus import stopwords\n",
    "from nltk import sent_tokenize\n",
    "from nltk.tokenize import word_tokenize\n",
    "from nltk.stem import WordNetLemmatizer\n",
    "from nltk.tokenize import word_tokenize\n",
    "from nltk.stem import WordNetLemmatizer"
   ]
  },
  {
   "cell_type": "code",
   "execution_count": null,
   "id": "245a9208",
   "metadata": {},
   "outputs": [],
   "source": [
    "# Ref: https://www.machinelearningplus.com/nlp/lemmatization-examples-python/\n",
    "\n",
    "# Lemmatize with POS Tag\n",
    "from nltk.corpus import wordnet\n",
    "# nltk.download('averaged_perceptron_tagger')\n",
    "\n",
    "def get_wordnet_pos(word):\n",
    "    \"\"\"Map POS tag to first character lemmatize() accepts\"\"\"\n",
    "    tag = nltk.pos_tag([word])[0][1][0].upper()\n",
    "    tag_dict = {\"J\": wordnet.ADJ,\n",
    "                \"N\": wordnet.NOUN,\n",
    "                \"V\": wordnet.VERB,\n",
    "                \"R\": wordnet.ADV}\n",
    "\n",
    "    return tag_dict.get(tag, wordnet.NOUN)"
   ]
  },
  {
   "cell_type": "code",
   "execution_count": null,
   "id": "f875f27b",
   "metadata": {},
   "outputs": [],
   "source": [
    "def preprocess(text):\n",
    "    try: \n",
    "        # split into sentences\n",
    "        sentences = sent_tokenize(text)\n",
    "\n",
    "        # split into words\n",
    "        tokens = word_tokenize(text)\n",
    "\n",
    "        # convert to lower case\n",
    "        tokens = [w.lower() for w in tokens]\n",
    "\n",
    "        # remove punctuation from each word\n",
    "        table = str.maketrans('', '', string.punctuation)\n",
    "        stripped = [w.translate(table) for w in tokens]\n",
    "\n",
    "        # remove remaining tokens that are not alphabetic\n",
    "        words = [word for word in stripped if word.isalpha()]\n",
    "\n",
    "        # filter out stop words\n",
    "        stop_words = set(stopwords.words('english'))\n",
    "        words = [w for w in words if not w in stop_words]\n",
    "\n",
    "        # Lemmatise the tokens\n",
    "        lemmatizer = WordNetLemmatizer()\n",
    "        lemmatized_tokens = [lemmatizer.lemmatize(word, get_wordnet_pos(word)) for word in words]\n",
    "\n",
    "        # Join the tokens back into a string\n",
    "        processed_text = ' '.join(lemmatized_tokens)\n",
    "        return processed_text\n",
    "    except TypeError:\n",
    "        return \"\""
   ]
  },
  {
   "cell_type": "code",
   "execution_count": null,
   "id": "7e541eec",
   "metadata": {},
   "outputs": [],
   "source": [
    "df['Title_nltk'] = df['WebpageTitle'].apply(lambda x: preprocess(x))"
   ]
  },
  {
   "cell_type": "code",
   "execution_count": null,
   "id": "a03cf637",
   "metadata": {},
   "outputs": [],
   "source": [
    "df['Title_nltk'].head()"
   ]
  },
  {
   "cell_type": "code",
   "execution_count": null,
   "id": "3a7f26de",
   "metadata": {},
   "outputs": [],
   "source": [
    "from nltk.util import ngrams\n",
    "\n",
    "def bigrams_convert(column, n=2):\n",
    "    df['bigrams'+'_'+column]=df[column].apply(lambda sentence: list(ngrams(sentence.split(), n)))\n",
    "    \n",
    "def trigrams_convert(column, n=3):\n",
    "    df['trigrams'+'_'+column]=df[column].apply(lambda sentence: list(ngrams(sentence.split(), n)))"
   ]
  },
  {
   "cell_type": "code",
   "execution_count": null,
   "id": "fa0dd416",
   "metadata": {},
   "outputs": [],
   "source": [
    "bigrams_convert('Title_nltk')\n",
    "trigrams_convert('Title_nltk')"
   ]
  },
  {
   "cell_type": "code",
   "execution_count": null,
   "id": "fde8b6b0",
   "metadata": {},
   "outputs": [],
   "source": [
    "df.head()"
   ]
  },
  {
   "cell_type": "code",
   "execution_count": null,
   "id": "7fcb0942",
   "metadata": {},
   "outputs": [],
   "source": [
    "from collections import Counter\n",
    "\n",
    "bigrams = []\n",
    "for row in df['bigrams_Title_nltk']:\n",
    "    bigrams.extend(row)\n",
    "    \n",
    "print(f'Count of bigrams: {len(bigrams)}')\n",
    "print(\"\\n\")\n",
    "    \n",
    "# Count the frequency of each bigram\n",
    "bigram_frequency = Counter(bigrams)\n",
    "\n",
    "# Print the frequency of each bigram\n",
    "# for bigram, frequency in bigram_frequency.items():\n",
    "#     print(bigram, frequency)\n",
    "    \n",
    "# Organize elements by frequency using most_common()\n",
    "bigrams_organized_by_frequency = bigram_frequency.most_common()\n",
    "\n",
    "# Print the elements organized by frequency\n",
    "for element, frequency in bigrams_organized_by_frequency:\n",
    "    print(element, frequency)"
   ]
  },
  {
   "cell_type": "code",
   "execution_count": null,
   "id": "57c48cab",
   "metadata": {},
   "outputs": [],
   "source": [
    "import seaborn as sns\n",
    "\n",
    "bigrams_organized_by_frequency_10 = bigram_frequency.most_common(5)\n",
    "\n",
    "# Print the elements organized by frequency\n",
    "# print('Top 10 trigrams')\n",
    "bi = []\n",
    "freq = []\n",
    "\n",
    "for element, frequency in bigrams_organized_by_frequency_10:\n",
    "    bigram = ' '.join(element)\n",
    "    print(f'Bigram: {bigram} - Frequency: {frequency}')\n",
    "    bi.append(bigram)\n",
    "    freq.append(frequency)\n",
    "\n",
    "\n",
    "df_bi = pd.DataFrame({'Bigram': bi, 'Count': freq})\n",
    "\n",
    "plt.figure(figsize=(7, 5))\n",
    "ax = sns.barplot(x=df_bi['Bigram'].values, y=df_bi['Count'].values)\n",
    "\n",
    "# Display the count on each bar\n",
    "for p in ax.patches:\n",
    "    ax.annotate(format(p.get_height(), '.0f'), (p.get_x() + p.get_width() / 2., p.get_height()), ha = 'center', va = 'center', xytext = (0, 5), textcoords = 'offset points')\n",
    "\n",
    "plt.ylabel('Count')\n",
    "plt.title('Top 5 Most Frequently Occuring Bigrams')\n",
    "\n",
    "plt.xticks(rotation=70)\n",
    "plt.tight_layout()\n",
    "plt.show()"
   ]
  },
  {
   "cell_type": "code",
   "execution_count": null,
   "id": "f4215844",
   "metadata": {},
   "outputs": [],
   "source": [
    "trigrams = []\n",
    "for row in df['trigrams_Title_nltk']:\n",
    "    trigrams.extend(row)\n",
    "    \n",
    "print(f'Count of trigrams: {len(trigrams)}')\n",
    "print(\"\\n\")\n",
    "    \n",
    "# Count the frequency of each trigram\n",
    "trigram_frequency = Counter(trigrams)\n",
    "\n",
    "# Organize elements by frequency using most_common()\n",
    "trigrams_organized_by_frequency = trigram_frequency.most_common()\n",
    "\n",
    "# Print the elements organized by frequency\n",
    "for element, frequency in trigrams_organized_by_frequency:\n",
    "    print(element, frequency)"
   ]
  },
  {
   "cell_type": "code",
   "execution_count": null,
   "id": "4e4fc838",
   "metadata": {},
   "outputs": [],
   "source": [
    "trigrams_organized_by_frequency_10 = trigram_frequency.most_common(5)\n",
    "\n",
    "# Print the elements organized by frequency\n",
    "# print('Top 10 trigrams')\n",
    "tri = []\n",
    "freq = []\n",
    "\n",
    "for element, frequency in trigrams_organized_by_frequency_10:\n",
    "    trigram = ' '.join(element)\n",
    "#     print(f'Trigram: {trigram} - Frequency: {frequency}')\n",
    "    tri.append(trigram)\n",
    "    freq.append(frequency)\n",
    "    \n",
    "df_tri = pd.DataFrame({'Trigram': tri, 'Count': freq})\n",
    "\n",
    "plt.figure(figsize=(7, 5))\n",
    "ax = sns.barplot(x=df_tri['Trigram'].values, y=df_tri['Count'].values)\n",
    "\n",
    "# Display the count on each bar\n",
    "for p in ax.patches:\n",
    "    ax.annotate(format(p.get_height(), '.0f'), (p.get_x() + p.get_width() / 2., p.get_height()), ha = 'center', va = 'center', xytext = (0, 5), textcoords = 'offset points')\n",
    "\n",
    "plt.ylabel('Count')\n",
    "plt.title('Top 5 Most Frequently Occuring Trigrams')\n",
    "\n",
    "plt.xticks(rotation=70)\n",
    "plt.tight_layout()\n",
    "plt.show()"
   ]
  },
  {
   "cell_type": "code",
   "execution_count": null,
   "id": "dd9225eb",
   "metadata": {},
   "outputs": [],
   "source": [
    "# Calculate value counts\n",
    "value_counts = df['Author'].value_counts(dropna=False)\n",
    "\n",
    "# Create bar plot\n",
    "plt.figure(figsize=(9, 5))\n",
    "p = sns.barplot(x=value_counts.index, y=value_counts.values, color='#035397')\n",
    "show_values(p)\n",
    "plt.xlabel('Author')\n",
    "plt.ylabel('Frequency')\n",
    "plt.title('Authors of Statements')\n",
    "plt.xticks(fontsize=8)\n",
    "plt.yticks(fontsize=8)\n",
    "plt.show()"
   ]
  },
  {
   "cell_type": "code",
   "execution_count": null,
   "id": "b8b3e4b9",
   "metadata": {},
   "outputs": [],
   "source": [
    "df['Author'].value_counts(dropna=False)"
   ]
  },
  {
   "cell_type": "code",
   "execution_count": null,
   "id": "f3c000d7",
   "metadata": {},
   "outputs": [],
   "source": [
    "# df.to_excel('output.xlsx', index=False)"
   ]
  },
  {
   "cell_type": "code",
   "execution_count": null,
   "id": "81c53ee0",
   "metadata": {},
   "outputs": [],
   "source": [
    "# df.drop(['CleanStatement2'], axis=1, inplace=True)"
   ]
  },
  {
   "cell_type": "code",
   "execution_count": null,
   "id": "a68961af",
   "metadata": {},
   "outputs": [],
   "source": [
    "# initialize NLTK sentiment analyzer\n",
    "# nltk.download('vader_lexicon')\n",
    "# from nltk.sentiment.vader import SentimentIntensityAnalyzer\n",
    "# analyzer = SentimentIntensityAnalyzer()\n",
    "\n",
    "# # create get_sentiment function\n",
    "# def get_sentiment(text):\n",
    "#     scores = analyzer.polarity_scores(text)\n",
    "#     sentiment = 1 if scores['pos'] > 0 else 0\n",
    "#     return sentiment"
   ]
  }
 ],
 "metadata": {
  "kernelspec": {
   "display_name": "Python 3 (ipykernel)",
   "language": "python",
   "name": "python3"
  },
  "language_info": {
   "codemirror_mode": {
    "name": "ipython",
    "version": 3
   },
   "file_extension": ".py",
   "mimetype": "text/x-python",
   "name": "python",
   "nbconvert_exporter": "python",
   "pygments_lexer": "ipython3",
   "version": "3.9.7"
  }
 },
 "nbformat": 4,
 "nbformat_minor": 5
}
