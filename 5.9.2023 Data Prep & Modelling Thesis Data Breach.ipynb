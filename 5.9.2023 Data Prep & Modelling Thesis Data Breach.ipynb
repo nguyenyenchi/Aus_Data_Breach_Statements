{
 "cells": [
  {
   "cell_type": "code",
   "execution_count": 188,
   "id": "338f9988-b1eb-4806-889f-6f65e0b66f2d",
   "metadata": {},
   "outputs": [],
   "source": [
    "import pandas as pd\n",
    "import numpy as np\n",
    "import matplotlib.pyplot as plt\n",
    "import seaborn as sns"
   ]
  },
  {
   "cell_type": "code",
   "execution_count": 189,
   "id": "35b96f36-b43e-4fad-a3ce-8390bfe2f4c9",
   "metadata": {},
   "outputs": [
    {
     "name": "stdout",
     "output_type": "stream",
     "text": [
      "<class 'pandas.core.frame.DataFrame'>\n",
      "RangeIndex: 100 entries, 0 to 99\n",
      "Data columns (total 31 columns):\n",
      " #   Column                 Non-Null Count  Dtype  \n",
      "---  ------                 --------------  -----  \n",
      " 0   Name                   100 non-null    object \n",
      " 1   DataBreachSource       100 non-null    object \n",
      " 2   Title                  95 non-null     object \n",
      " 3   Channel                100 non-null    object \n",
      " 4   Sector                 100 non-null    object \n",
      " 5   Author                 42 non-null     object \n",
      " 6   VaderSentiment         100 non-null    object \n",
      " 7   DataType               80 non-null     object \n",
      " 8   PositiveCount          100 non-null    int64  \n",
      " 9   NegativeCount          100 non-null    int64  \n",
      " 10  PosNegRatio            100 non-null    float64\n",
      " 11  PosTotalRatio          100 non-null    float64\n",
      " 12  AvgPositiveConf        100 non-null    float64\n",
      " 13  AvgNegativeConf        100 non-null    float64\n",
      " 14  WordCount              100 non-null    int64  \n",
      " 15  SentenceCount          100 non-null    int64  \n",
      " 16  ReadingEase            100 non-null    float64\n",
      " 17  Flesch-KincaidGrade    100 non-null    float64\n",
      " 18  HyperlinksCount        100 non-null    int64  \n",
      " 19  CyberKeywordCount      100 non-null    int64  \n",
      " 20  AuthorityKeywordCount  100 non-null    int64  \n",
      " 21  FAQKeywordCount        100 non-null    int64  \n",
      " 22  AvgWordLength          100 non-null    float64\n",
      " 23  AvgSentenceLength      100 non-null    float64\n",
      " 24  UniqueWordCount        100 non-null    int64  \n",
      " 25  StopWordCount          100 non-null    int64  \n",
      " 26  CharCount              100 non-null    int64  \n",
      " 27  PunctuationCount       100 non-null    int64  \n",
      " 28  EmailTagCount          100 non-null    int64  \n",
      " 29  TimelagGroupEncoded    100 non-null    float64\n",
      " 30  CombinedLabel          100 non-null    float64\n",
      "dtypes: float64(10), int64(13), object(8)\n",
      "memory usage: 24.3+ KB\n"
     ]
    }
   ],
   "source": [
    "df = pd.read_csv('model1.csv')\n",
    "df.info()"
   ]
  },
  {
   "cell_type": "code",
   "execution_count": 190,
   "id": "2a66b7f4-c54a-4952-8607-429e6a7c2ddd",
   "metadata": {},
   "outputs": [
    {
     "data": {
      "text/html": [
       "<div>\n",
       "<style scoped>\n",
       "    .dataframe tbody tr th:only-of-type {\n",
       "        vertical-align: middle;\n",
       "    }\n",
       "\n",
       "    .dataframe tbody tr th {\n",
       "        vertical-align: top;\n",
       "    }\n",
       "\n",
       "    .dataframe thead th {\n",
       "        text-align: right;\n",
       "    }\n",
       "</style>\n",
       "<table border=\"1\" class=\"dataframe\">\n",
       "  <thead>\n",
       "    <tr style=\"text-align: right;\">\n",
       "      <th></th>\n",
       "      <th>Name</th>\n",
       "      <th>DataBreachSource</th>\n",
       "      <th>Title</th>\n",
       "      <th>Channel</th>\n",
       "      <th>Sector</th>\n",
       "      <th>Author</th>\n",
       "      <th>VaderSentiment</th>\n",
       "      <th>DataType</th>\n",
       "      <th>PositiveCount</th>\n",
       "      <th>NegativeCount</th>\n",
       "      <th>...</th>\n",
       "      <th>FAQKeywordCount</th>\n",
       "      <th>AvgWordLength</th>\n",
       "      <th>AvgSentenceLength</th>\n",
       "      <th>UniqueWordCount</th>\n",
       "      <th>StopWordCount</th>\n",
       "      <th>CharCount</th>\n",
       "      <th>PunctuationCount</th>\n",
       "      <th>EmailTagCount</th>\n",
       "      <th>TimelagGroupEncoded</th>\n",
       "      <th>CombinedLabel</th>\n",
       "    </tr>\n",
       "  </thead>\n",
       "  <tbody>\n",
       "    <tr>\n",
       "      <th>0</th>\n",
       "      <td>PageUp People</td>\n",
       "      <td>Malicious or criminal attack</td>\n",
       "      <td>Unauthorised Activity on IT System</td>\n",
       "      <td>Website</td>\n",
       "      <td>Information media and telecommunications</td>\n",
       "      <td>Chief Executive Officer</td>\n",
       "      <td>Positive</td>\n",
       "      <td>name, street address, email address, telephone...</td>\n",
       "      <td>7</td>\n",
       "      <td>3</td>\n",
       "      <td>...</td>\n",
       "      <td>2</td>\n",
       "      <td>5.240566</td>\n",
       "      <td>21.200000</td>\n",
       "      <td>150</td>\n",
       "      <td>91</td>\n",
       "      <td>1349</td>\n",
       "      <td>21</td>\n",
       "      <td>0</td>\n",
       "      <td>0.45</td>\n",
       "      <td>2.0</td>\n",
       "    </tr>\n",
       "    <tr>\n",
       "      <th>1</th>\n",
       "      <td>Canva</td>\n",
       "      <td>Malicious or criminal attack</td>\n",
       "      <td>Canva Security Incident  May 24 FAQs</td>\n",
       "      <td>Website</td>\n",
       "      <td>Information media and telecommunications</td>\n",
       "      <td>Head of Security</td>\n",
       "      <td>Neutral</td>\n",
       "      <td>username, name, email address, country, city, ...</td>\n",
       "      <td>23</td>\n",
       "      <td>24</td>\n",
       "      <td>...</td>\n",
       "      <td>0</td>\n",
       "      <td>4.885478</td>\n",
       "      <td>19.250000</td>\n",
       "      <td>440</td>\n",
       "      <td>376</td>\n",
       "      <td>5118</td>\n",
       "      <td>111</td>\n",
       "      <td>0</td>\n",
       "      <td>0.45</td>\n",
       "      <td>1.0</td>\n",
       "    </tr>\n",
       "    <tr>\n",
       "      <th>2</th>\n",
       "      <td>Australian National University</td>\n",
       "      <td>Malicious or criminal attack</td>\n",
       "      <td>Message from the Vice-Chancellor</td>\n",
       "      <td>Website</td>\n",
       "      <td>Education and training</td>\n",
       "      <td>Vice-Chancellor</td>\n",
       "      <td>Positive</td>\n",
       "      <td>name, address, date of birth, phone number, pe...</td>\n",
       "      <td>21</td>\n",
       "      <td>7</td>\n",
       "      <td>...</td>\n",
       "      <td>1</td>\n",
       "      <td>5.143141</td>\n",
       "      <td>16.833333</td>\n",
       "      <td>281</td>\n",
       "      <td>229</td>\n",
       "      <td>3206</td>\n",
       "      <td>61</td>\n",
       "      <td>1</td>\n",
       "      <td>0.17</td>\n",
       "      <td>2.0</td>\n",
       "    </tr>\n",
       "    <tr>\n",
       "      <th>3</th>\n",
       "      <td>Australian Catholic University</td>\n",
       "      <td>Malicious or criminal attack</td>\n",
       "      <td>Cyber attack on ACU IT systems</td>\n",
       "      <td>Website</td>\n",
       "      <td>Education and training</td>\n",
       "      <td>Acting Vice-Chancellor</td>\n",
       "      <td>Positive</td>\n",
       "      <td>email account, calendar, bank account details</td>\n",
       "      <td>7</td>\n",
       "      <td>9</td>\n",
       "      <td>...</td>\n",
       "      <td>0</td>\n",
       "      <td>5.392523</td>\n",
       "      <td>20.619048</td>\n",
       "      <td>255</td>\n",
       "      <td>169</td>\n",
       "      <td>2799</td>\n",
       "      <td>49</td>\n",
       "      <td>1</td>\n",
       "      <td>0.45</td>\n",
       "      <td>1.0</td>\n",
       "    </tr>\n",
       "    <tr>\n",
       "      <th>4</th>\n",
       "      <td>NAB</td>\n",
       "      <td>Human error</td>\n",
       "      <td>NAB apologises to customers for data breach</td>\n",
       "      <td>Website</td>\n",
       "      <td>Financial and insurance services</td>\n",
       "      <td>NaN</td>\n",
       "      <td>Positive</td>\n",
       "      <td>customer name, date of birth, contact details,...</td>\n",
       "      <td>14</td>\n",
       "      <td>5</td>\n",
       "      <td>...</td>\n",
       "      <td>0</td>\n",
       "      <td>5.308357</td>\n",
       "      <td>14.708333</td>\n",
       "      <td>217</td>\n",
       "      <td>134</td>\n",
       "      <td>2274</td>\n",
       "      <td>52</td>\n",
       "      <td>0</td>\n",
       "      <td>0.45</td>\n",
       "      <td>1.0</td>\n",
       "    </tr>\n",
       "  </tbody>\n",
       "</table>\n",
       "<p>5 rows × 31 columns</p>\n",
       "</div>"
      ],
      "text/plain": [
       "                             Name              DataBreachSource  \\\n",
       "0                   PageUp People  Malicious or criminal attack   \n",
       "1                           Canva  Malicious or criminal attack   \n",
       "2  Australian National University  Malicious or criminal attack   \n",
       "3  Australian Catholic University  Malicious or criminal attack   \n",
       "4                             NAB                   Human error   \n",
       "\n",
       "                                         Title  Channel  \\\n",
       "0           Unauthorised Activity on IT System  Website   \n",
       "1        Canva Security Incident  May 24 FAQs  Website   \n",
       "2             Message from the Vice-Chancellor  Website   \n",
       "3               Cyber attack on ACU IT systems  Website   \n",
       "4  NAB apologises to customers for data breach  Website   \n",
       "\n",
       "                                     Sector                   Author  \\\n",
       "0  Information media and telecommunications  Chief Executive Officer   \n",
       "1  Information media and telecommunications         Head of Security   \n",
       "2                    Education and training          Vice-Chancellor   \n",
       "3                    Education and training   Acting Vice-Chancellor   \n",
       "4          Financial and insurance services                      NaN   \n",
       "\n",
       "  VaderSentiment                                           DataType  \\\n",
       "0       Positive  name, street address, email address, telephone...   \n",
       "1        Neutral  username, name, email address, country, city, ...   \n",
       "2       Positive  name, address, date of birth, phone number, pe...   \n",
       "3       Positive      email account, calendar, bank account details   \n",
       "4       Positive  customer name, date of birth, contact details,...   \n",
       "\n",
       "   PositiveCount  NegativeCount  ...  FAQKeywordCount  AvgWordLength  \\\n",
       "0              7              3  ...                2       5.240566   \n",
       "1             23             24  ...                0       4.885478   \n",
       "2             21              7  ...                1       5.143141   \n",
       "3              7              9  ...                0       5.392523   \n",
       "4             14              5  ...                0       5.308357   \n",
       "\n",
       "   AvgSentenceLength  UniqueWordCount  StopWordCount  CharCount  \\\n",
       "0          21.200000              150             91       1349   \n",
       "1          19.250000              440            376       5118   \n",
       "2          16.833333              281            229       3206   \n",
       "3          20.619048              255            169       2799   \n",
       "4          14.708333              217            134       2274   \n",
       "\n",
       "   PunctuationCount  EmailTagCount  TimelagGroupEncoded  CombinedLabel  \n",
       "0                21              0                 0.45            2.0  \n",
       "1               111              0                 0.45            1.0  \n",
       "2                61              1                 0.17            2.0  \n",
       "3                49              1                 0.45            1.0  \n",
       "4                52              0                 0.45            1.0  \n",
       "\n",
       "[5 rows x 31 columns]"
      ]
     },
     "execution_count": 190,
     "metadata": {},
     "output_type": "execute_result"
    }
   ],
   "source": [
    "df.head()"
   ]
  },
  {
   "cell_type": "markdown",
   "id": "3582093b-95a5-40ed-8e9b-ebcb7aa09dd7",
   "metadata": {},
   "source": [
    "### Feature Engineering & Feature Transformation"
   ]
  },
  {
   "cell_type": "markdown",
   "id": "0a45aedb-0279-4003-880e-9e694b07a0d3",
   "metadata": {
    "tags": []
   },
   "source": [
    "#### Transform CombinedLabel"
   ]
  },
  {
   "cell_type": "code",
   "execution_count": 191,
   "id": "2b4a484d-9245-4bd1-8ae5-381d8c983f15",
   "metadata": {},
   "outputs": [],
   "source": [
    "# Rename the column\n",
    "df.rename(columns={'CombinedLabel': 'LevelOfDetail'}, inplace=True)\n",
    "\n",
    "# Convert the class label from int to string\n",
    "df['LevelOfDetail'] = df['LevelOfDetail'].astype(str)"
   ]
  },
  {
   "cell_type": "code",
   "execution_count": 192,
   "id": "2fae6b26-c506-427f-bc55-52caea97f943",
   "metadata": {},
   "outputs": [],
   "source": [
    "label = {'1.0' : 0, '2.0': 1, '3.0': 2} # 0 FullTranparency, 1 Guarded, 2 Opacity\n",
    "\n",
    "for dataset in [df]:\n",
    "    dataset['LevelOfDetail'] = dataset['LevelOfDetail'].map(label)"
   ]
  },
  {
   "cell_type": "code",
   "execution_count": 193,
   "id": "deb84015-3f7d-405f-a47e-b32c916e3ac4",
   "metadata": {},
   "outputs": [
    {
     "data": {
      "image/png": "[encoded data removed]",
      "text/plain": [
       "<Figure size 432x288 with 1 Axes>"
      ]
     },
     "metadata": {
      "needs_background": "light"
     },
     "output_type": "display_data"
    }
   ],
   "source": [
    "sns.countplot(x='LevelOfDetail', data=df)\n",
    "plt.show()"
   ]
  },
  {
   "cell_type": "code",
   "execution_count": 194,
   "id": "20aa998a-7052-408d-b3af-619c30283c6c",
   "metadata": {},
   "outputs": [
    {
     "data": {
      "text/plain": [
       "1    52\n",
       "2    25\n",
       "0    23\n",
       "Name: LevelOfDetail, dtype: int64"
      ]
     },
     "execution_count": 194,
     "metadata": {},
     "output_type": "execute_result"
    }
   ],
   "source": [
    "df['LevelOfDetail'].value_counts()"
   ]
  },
  {
   "cell_type": "markdown",
   "id": "78e01bf1-59a0-484d-8f03-5cae37dee402",
   "metadata": {},
   "source": [
    "#### Frequency Encoding Categorical features"
   ]
  },
  {
   "cell_type": "code",
   "execution_count": 195,
   "id": "38491d49-100f-4106-938a-7db9ab6fe30b",
   "metadata": {},
   "outputs": [],
   "source": [
    "nominal_col = ['DataBreachSource', 'Channel', 'Sector', 'VaderSentiment']\n",
    "\n",
    "def freq_encoding(df, nominal_cols):\n",
    "    for col in nominal_cols:\n",
    "        # generate the frequency encoding for each categorical value in the target column\n",
    "        fr_enc = (df.groupby(col).size()) / len(df)\n",
    "\n",
    "        # # print the encoding values\n",
    "        # print(fr_enc)\n",
    "\n",
    "        # create a new column that apply frequency encoding to Age Group\n",
    "        df[col+\"_Encoded\"] = df[col].apply(lambda x : fr_enc[x])\n",
    "        \n",
    "freq_encoding(df, nominal_col)"
   ]
  },
  {
   "cell_type": "code",
   "execution_count": 196,
   "id": "16a0667a-f17f-4cee-85ac-441d437c6807",
   "metadata": {},
   "outputs": [
    {
     "data": {
      "text/plain": [
       "0.24    24\n",
       "0.07    14\n",
       "0.13    13\n",
       "0.09     9\n",
       "0.04     8\n",
       "0.08     8\n",
       "0.02     8\n",
       "0.03     6\n",
       "0.01     5\n",
       "0.05     5\n",
       "Name: Sector_Encoded, dtype: int64"
      ]
     },
     "execution_count": 196,
     "metadata": {},
     "output_type": "execute_result"
    }
   ],
   "source": [
    "df['Sector_Encoded'].value_counts()"
   ]
  },
  {
   "cell_type": "markdown",
   "id": "edd6c325-a2bd-4eae-b9e7-e070f7dbcece",
   "metadata": {},
   "source": [
    "#### Author column"
   ]
  },
  {
   "cell_type": "code",
   "execution_count": 197,
   "id": "99dcb2ec-5a51-4a60-afef-8b720cb6c38a",
   "metadata": {},
   "outputs": [
    {
     "data": {
      "text/plain": [
       "NaN                                   58\n",
       "Chief Executive Officer               11\n",
       "Company's Name                         5\n",
       "Board                                  5\n",
       "Vice-Chancellor                        3\n",
       "Managing Director                      2\n",
       "Chief Information Security Officer     1\n",
       "Community moderator                    1\n",
       "VP of Product Management               1\n",
       "Chief Digital Officer                  1\n",
       "Vice President Media Relations         1\n",
       "Chairman                               1\n",
       "Media contact                          1\n",
       "Chief Financial Officer                1\n",
       "Principal                              1\n",
       "Head of Security                       1\n",
       "Chief Security Officer                 1\n",
       "Acting Chief Executive                 1\n",
       "General Secretary                      1\n",
       "Company Secretary                      1\n",
       "Acting Vice-Chancellor                 1\n",
       "General Manager Corporate HR / IR      1\n",
       "Name: Author, dtype: int64"
      ]
     },
     "execution_count": 197,
     "metadata": {},
     "output_type": "execute_result"
    }
   ],
   "source": [
    "df['Author'].value_counts(dropna=False)"
   ]
  },
  {
   "cell_type": "code",
   "execution_count": 198,
   "id": "d5f0385d-fbfe-49dd-85df-437793003c5d",
   "metadata": {},
   "outputs": [
    {
     "data": {
      "text/plain": [
       "False"
      ]
     },
     "execution_count": 198,
     "metadata": {},
     "output_type": "execute_result"
    }
   ],
   "source": [
    "isinstance(df['Author'][4], str)"
   ]
  },
  {
   "cell_type": "code",
   "execution_count": 199,
   "id": "9a6774b2-a3d5-4402-a45d-ba5618718e7d",
   "metadata": {},
   "outputs": [],
   "source": [
    "# Create new column if there is an author mentioned\n",
    "df['AuthorMention'] = df['Author'].apply(lambda x: 1 if isinstance(x, str) else 0)"
   ]
  },
  {
   "cell_type": "code",
   "execution_count": 200,
   "id": "e6cda97d-0d14-45a4-8c57-e0d021a154f0",
   "metadata": {},
   "outputs": [
    {
     "data": {
      "text/plain": [
       "0    58\n",
       "1    42\n",
       "Name: AuthorMention, dtype: int64"
      ]
     },
     "execution_count": 200,
     "metadata": {},
     "output_type": "execute_result"
    }
   ],
   "source": [
    "df['AuthorMention'].value_counts()"
   ]
  },
  {
   "cell_type": "markdown",
   "id": "9e75507d-e9dc-4ce9-8566-7ee197832082",
   "metadata": {},
   "source": [
    "#### Title column"
   ]
  },
  {
   "cell_type": "code",
   "execution_count": 201,
   "id": "3300526e-4596-4a52-8efd-b396925743e6",
   "metadata": {},
   "outputs": [
    {
     "data": {
      "text/plain": [
       "0             Unauthorised Activity on IT System\n",
       "1          Canva Security Incident  May 24 FAQs\n",
       "2               Message from the Vice-Chancellor\n",
       "3                 Cyber attack on ACU IT systems\n",
       "4    NAB apologises to customers for data breach\n",
       "Name: Title, dtype: object"
      ]
     },
     "execution_count": 201,
     "metadata": {},
     "output_type": "execute_result"
    }
   ],
   "source": [
    "df['Title'].head()"
   ]
  },
  {
   "cell_type": "code",
   "execution_count": 202,
   "id": "a96fffd4-1b32-4df1-a754-83c05bb99877",
   "metadata": {},
   "outputs": [],
   "source": [
    "import string\n",
    "import nltk\n",
    "from nltk.corpus import stopwords\n",
    "from nltk import sent_tokenize\n",
    "from nltk.tokenize import word_tokenize\n",
    "from nltk.stem import WordNetLemmatizer\n",
    "from nltk.tokenize import word_tokenize\n",
    "from nltk.stem import WordNetLemmatizer"
   ]
  },
  {
   "cell_type": "code",
   "execution_count": 203,
   "id": "b279b208-30f0-477a-bb89-1ead0e97a899",
   "metadata": {},
   "outputs": [],
   "source": [
    "# Ref: https://www.machinelearningplus.com/nlp/lemmatization-examples-python/\n",
    "\n",
    "# Lemmatize with POS Tag\n",
    "from nltk.corpus import wordnet\n",
    "# nltk.download('averaged_perceptron_tagger')\n",
    "\n",
    "def get_wordnet_pos(word):\n",
    "    \"\"\"Map POS tag to first character lemmatize() accepts\"\"\"\n",
    "    tag = nltk.pos_tag([word])[0][1][0].upper()\n",
    "    tag_dict = {\"J\": wordnet.ADJ,\n",
    "                \"N\": wordnet.NOUN,\n",
    "                \"V\": wordnet.VERB,\n",
    "                \"R\": wordnet.ADV}\n",
    "\n",
    "    return tag_dict.get(tag, wordnet.NOUN)"
   ]
  },
  {
   "cell_type": "code",
   "execution_count": 204,
   "id": "844cd456-1807-4426-972b-97ac786f6559",
   "metadata": {},
   "outputs": [],
   "source": [
    "def preprocess(text):\n",
    "    try: \n",
    "        # split into sentences\n",
    "        sentences = sent_tokenize(text)\n",
    "\n",
    "        # split into words\n",
    "        tokens = word_tokenize(text)\n",
    "\n",
    "        # convert to lower case\n",
    "        tokens = [w.lower() for w in tokens]\n",
    "\n",
    "        # remove punctuation from each word\n",
    "        table = str.maketrans('', '', string.punctuation)\n",
    "        stripped = [w.translate(table) for w in tokens]\n",
    "\n",
    "        # remove remaining tokens that are not alphabetic\n",
    "        words = [word for word in stripped if word.isalpha()]\n",
    "\n",
    "        # filter out stop words\n",
    "        stop_words = set(stopwords.words('english'))\n",
    "        words = [w for w in words if not w in stop_words]\n",
    "\n",
    "        # Lemmatise the tokens\n",
    "        lemmatizer = WordNetLemmatizer()\n",
    "        lemmatized_tokens = [lemmatizer.lemmatize(word, get_wordnet_pos(word)) for word in words]\n",
    "\n",
    "        # Join the tokens back into a string\n",
    "        processed_text = ' '.join(lemmatized_tokens)\n",
    "        return processed_text\n",
    "    except TypeError:\n",
    "        return \"\""
   ]
  },
  {
   "cell_type": "code",
   "execution_count": 205,
   "id": "11acafba-85bc-4428-afcd-de54477f63b5",
   "metadata": {},
   "outputs": [],
   "source": [
    "df['Title_nltk'] = df['Title'].apply(lambda x: preprocess(x))"
   ]
  },
  {
   "cell_type": "code",
   "execution_count": 206,
   "id": "8c3e05ee-4985-4eab-8331-6dab166b935a",
   "metadata": {},
   "outputs": [
    {
     "data": {
      "text/plain": [
       "0           unauthorised activity system\n",
       "1        canva security incident may faq\n",
       "2                 message vicechancellor\n",
       "3                cyber attack acu system\n",
       "4    nab apologises customer data breach\n",
       "Name: Title_nltk, dtype: object"
      ]
     },
     "execution_count": 206,
     "metadata": {},
     "output_type": "execute_result"
    }
   ],
   "source": [
    "df['Title_nltk'].head()"
   ]
  },
  {
   "cell_type": "markdown",
   "id": "05a8ff3d-7538-4627-930d-b09ee19deee4",
   "metadata": {},
   "source": [
    "##### Topic modelling for Title"
   ]
  },
  {
   "cell_type": "code",
   "execution_count": 207,
   "id": "7eec3669-8542-4cd4-a1f5-68dc15a6c035",
   "metadata": {},
   "outputs": [
    {
     "name": "stdout",
     "output_type": "stream",
     "text": [
      "Topic 0:\n",
      "data incident\n",
      "Topic 1:\n",
      "data incident\n",
      "Topic 2:\n",
      "incident data\n",
      "Topic 3:\n",
      "incident data\n",
      "Topic 4:\n",
      "incident data\n"
     ]
    }
   ],
   "source": [
    "# Ref: https://scikit-learn.org/stable/modules/generated/sklearn.feature_extraction.text.CountVectorizer.html\n",
    "# Ref: https://www.studytonight.com/post/scikitlearn-countvectorizer-in-nlp\n",
    "\n",
    "from sklearn.feature_extraction.text import CountVectorizer\n",
    "from sklearn.decomposition import LatentDirichletAllocation\n",
    "\n",
    "# LATENT DIRICHLET ALLOCATION (LDA) TOPIC MODELLING\n",
    "\n",
    "tf_vectorizer = CountVectorizer(max_df=0.90, min_df=25, max_features=5000)\n",
    "tf = tf_vectorizer.fit_transform(df['Title_nltk'].values.astype('U'))\n",
    "tf_feature_names = tf_vectorizer.get_feature_names_out()\n",
    "doc_term_matrix = pd.DataFrame(tf.toarray(), columns=list(tf_feature_names))\n",
    "doc_term_matrix\n",
    "\n",
    "lda_model = LatentDirichletAllocation(n_components=5,learning_method='online',max_iter=50, random_state=0).fit(tf)\n",
    "no_top_words = 2\n",
    "def display_topics(model, feature_names, no_top_words):\n",
    "    for topix_idx, topic in enumerate(model.components_):\n",
    "        print(\"Topic %d:\" % (topix_idx))\n",
    "        print(\" \".join([feature_names[i] for i in topic.argsort()[:-no_top_words-1:-1]]))\n",
    "display_topics(lda_model, tf_feature_names, no_top_words)"
   ]
  },
  {
   "cell_type": "markdown",
   "id": "0c388d6d-e7e3-458f-bc2d-730a029b19f4",
   "metadata": {},
   "source": [
    "Summary: All titles revolve around the topic: \"data incident.\""
   ]
  },
  {
   "cell_type": "code",
   "execution_count": 208,
   "id": "144ddf06-564b-49a8-aeff-cb3bec16b393",
   "metadata": {},
   "outputs": [
    {
     "data": {
      "text/plain": [
       "NaN                                                5\n",
       "Data Breach                                        2\n",
       "Cyber Security Incident                            2\n",
       "Privacy breach                                     2\n",
       "Cyber Incident                                     2\n",
       "                                                  ..\n",
       "IMPORTANT INFORMATION: CTARS DATA BREACH           1\n",
       "AIS privacy incident                               1\n",
       "Unauthorised disclosure of personal information    1\n",
       "Frontier Software Cyber Incident                   1\n",
       "Appen Advises Of IT Security Incident              1\n",
       "Name: Title, Length: 92, dtype: int64"
      ]
     },
     "execution_count": 208,
     "metadata": {},
     "output_type": "execute_result"
    }
   ],
   "source": [
    "df['Title'].value_counts(dropna=False)"
   ]
  },
  {
   "cell_type": "code",
   "execution_count": 209,
   "id": "eeba66bb-450c-4352-a4da-63a1ef02d110",
   "metadata": {},
   "outputs": [],
   "source": [
    "# Create new column if there is a title for the statement\n",
    "df['TitleMention'] = df['Title'].apply(lambda x: 1 if isinstance(x, str) else 0)"
   ]
  },
  {
   "cell_type": "code",
   "execution_count": 210,
   "id": "ac91c507-5e99-4622-9f68-f9f9efed3377",
   "metadata": {},
   "outputs": [
    {
     "data": {
      "text/plain": [
       "1    95\n",
       "0     5\n",
       "Name: TitleMention, dtype: int64"
      ]
     },
     "execution_count": 210,
     "metadata": {},
     "output_type": "execute_result"
    }
   ],
   "source": [
    "df['TitleMention'].value_counts(dropna=False)"
   ]
  },
  {
   "cell_type": "markdown",
   "id": "4a70a840-72d5-4b9d-a8df-0b2d1acfd579",
   "metadata": {},
   "source": [
    "#### Datatype"
   ]
  },
  {
   "cell_type": "code",
   "execution_count": 211,
   "id": "c5cd52c2-f6ad-4a61-9126-4fd28bed80d3",
   "metadata": {},
   "outputs": [
    {
     "data": {
      "text/plain": [
       "0     name, street address, email address, telephone...\n",
       "1     username, name, email address, country, city, ...\n",
       "2     name, address, date of birth, phone number, pe...\n",
       "3         email account, calendar, bank account details\n",
       "4     customer name, date of birth, contact details,...\n",
       "                            ...                        \n",
       "95    name, address, country, phone, email, hashed p...\n",
       "96                    name, phone number, email address\n",
       "97    name, email address, mobile, Landline phone nu...\n",
       "98    personal information of Aristocrate employees ...\n",
       "99    customer and crowd name, company name, email a...\n",
       "Name: DataType, Length: 100, dtype: object"
      ]
     },
     "execution_count": 211,
     "metadata": {},
     "output_type": "execute_result"
    }
   ],
   "source": [
    "df['DataType']"
   ]
  },
  {
   "cell_type": "code",
   "execution_count": 212,
   "id": "d3d1573f-3a6a-4a41-b5d9-caaaa96e9329",
   "metadata": {},
   "outputs": [
    {
     "data": {
      "text/plain": [
       "'name, street address, email address, telephone number, employment information, gender, date of birth, middle name, nationality, job references, job information, system communication, approval request, agency contacts login detail'"
      ]
     },
     "execution_count": 212,
     "metadata": {},
     "output_type": "execute_result"
    }
   ],
   "source": [
    "df['DataType'][0]"
   ]
  },
  {
   "cell_type": "code",
   "execution_count": 213,
   "id": "5a65f61d-fac8-4d7d-b262-5a191de4b0e0",
   "metadata": {},
   "outputs": [
    {
     "data": {
      "text/plain": [
       "{'OAuth login token',\n",
       " 'city',\n",
       " 'country',\n",
       " 'credit card',\n",
       " 'cryptographically protected password',\n",
       " 'email address',\n",
       " 'homepage URL',\n",
       " 'name',\n",
       " 'payment data',\n",
       " 'username'}"
      ]
     },
     "execution_count": 213,
     "metadata": {},
     "output_type": "execute_result"
    }
   ],
   "source": [
    "set(df['DataType'][1].split(', '))"
   ]
  },
  {
   "cell_type": "code",
   "execution_count": 214,
   "id": "ab44e3af-6eaa-4817-a987-8d7f753fb153",
   "metadata": {},
   "outputs": [
    {
     "data": {
      "text/plain": [
       "10"
      ]
     },
     "execution_count": 214,
     "metadata": {},
     "output_type": "execute_result"
    }
   ],
   "source": [
    "len(set(df['DataType'][1].split(', ')))"
   ]
  },
  {
   "cell_type": "code",
   "execution_count": 215,
   "id": "5e1f6e99-2621-409e-800d-ebf7547ef471",
   "metadata": {},
   "outputs": [
    {
     "data": {
      "text/plain": [
       "NaN                                                                                                                                                                                                                                      20\n",
       "name, email address, phone number, customer chat transcripts                                                                                                                                                                              2\n",
       "                                                                                                                                                                                                                                          2\n",
       "email address, phone number                                                                                                                                                                                                               2\n",
       "name, street address, email address, telephone number, employment information, gender, date of birth, middle name, nationality, job references, job information, system communication, approval request, agency contacts login detail     1\n",
       "                                                                                                                                                                                                                                         ..\n",
       "name, student ID and image, date of birth, contact details, course details, unit grades                                                                                                                                                   1\n",
       "student name, student ID, mobile number, Deakin email address, special comments                                                                                                                                                           1\n",
       "confidential government tax policy information                                                                                                                                                                                            1\n",
       "personal, health and other sensitive information                                                                                                                                                                                          1\n",
       "customer and crowd name, company name, email address, encrypted (hashed) password, IP address, historical login and log off time, phone number                                                                                            1\n",
       "Name: DataType, Length: 78, dtype: int64"
      ]
     },
     "execution_count": 215,
     "metadata": {},
     "output_type": "execute_result"
    }
   ],
   "source": [
    "# 20 records without datatype mentioned\n",
    "df['DataType'].value_counts(dropna=False)"
   ]
  },
  {
   "cell_type": "code",
   "execution_count": 216,
   "id": "06cac980-f6d7-41bd-abb3-0681862a855a",
   "metadata": {},
   "outputs": [
    {
     "data": {
      "text/plain": [
       "False"
      ]
     },
     "execution_count": 216,
     "metadata": {},
     "output_type": "execute_result"
    }
   ],
   "source": [
    "isinstance(df['DataType'][7], str)"
   ]
  },
  {
   "cell_type": "code",
   "execution_count": 217,
   "id": "5336899a-c55d-4555-a598-7a5759023fe4",
   "metadata": {},
   "outputs": [],
   "source": [
    "df['DataTypeCount'] = df['DataType'].apply(lambda x: len(set(x.split(', '))) if isinstance(x, str) else 0)"
   ]
  },
  {
   "cell_type": "code",
   "execution_count": 218,
   "id": "fc09b4a8-1d9a-445a-9fe3-edfba88ddbbd",
   "metadata": {},
   "outputs": [
    {
     "data": {
      "text/plain": [
       "0     20\n",
       "1     17\n",
       "2     12\n",
       "4      8\n",
       "7      8\n",
       "3      7\n",
       "6      7\n",
       "9      4\n",
       "10     4\n",
       "5      4\n",
       "12     3\n",
       "14     1\n",
       "8      1\n",
       "18     1\n",
       "13     1\n",
       "22     1\n",
       "11     1\n",
       "Name: DataTypeCount, dtype: int64"
      ]
     },
     "execution_count": 218,
     "metadata": {},
     "output_type": "execute_result"
    }
   ],
   "source": [
    "df['DataTypeCount'].value_counts()"
   ]
  },
  {
   "cell_type": "code",
   "execution_count": 219,
   "id": "f84427cc-b773-4b04-9a74-9ab38568b3d2",
   "metadata": {},
   "outputs": [
    {
     "data": {
      "text/html": [
       "<div>\n",
       "<style scoped>\n",
       "    .dataframe tbody tr th:only-of-type {\n",
       "        vertical-align: middle;\n",
       "    }\n",
       "\n",
       "    .dataframe tbody tr th {\n",
       "        vertical-align: top;\n",
       "    }\n",
       "\n",
       "    .dataframe thead th {\n",
       "        text-align: right;\n",
       "    }\n",
       "</style>\n",
       "<table border=\"1\" class=\"dataframe\">\n",
       "  <thead>\n",
       "    <tr style=\"text-align: right;\">\n",
       "      <th></th>\n",
       "      <th>Name</th>\n",
       "      <th>DataBreachSource</th>\n",
       "      <th>Title</th>\n",
       "      <th>Channel</th>\n",
       "      <th>Sector</th>\n",
       "      <th>Author</th>\n",
       "      <th>VaderSentiment</th>\n",
       "      <th>DataType</th>\n",
       "      <th>PositiveCount</th>\n",
       "      <th>NegativeCount</th>\n",
       "      <th>...</th>\n",
       "      <th>TimelagGroupEncoded</th>\n",
       "      <th>LevelOfDetail</th>\n",
       "      <th>DataBreachSource_Encoded</th>\n",
       "      <th>Channel_Encoded</th>\n",
       "      <th>Sector_Encoded</th>\n",
       "      <th>VaderSentiment_Encoded</th>\n",
       "      <th>AuthorMention</th>\n",
       "      <th>Title_nltk</th>\n",
       "      <th>TitleMention</th>\n",
       "      <th>DataTypeCount</th>\n",
       "    </tr>\n",
       "  </thead>\n",
       "  <tbody>\n",
       "    <tr>\n",
       "      <th>0</th>\n",
       "      <td>PageUp People</td>\n",
       "      <td>Malicious or criminal attack</td>\n",
       "      <td>Unauthorised Activity on IT System</td>\n",
       "      <td>Website</td>\n",
       "      <td>Information media and telecommunications</td>\n",
       "      <td>Chief Executive Officer</td>\n",
       "      <td>Positive</td>\n",
       "      <td>name, street address, email address, telephone...</td>\n",
       "      <td>7</td>\n",
       "      <td>3</td>\n",
       "      <td>...</td>\n",
       "      <td>0.45</td>\n",
       "      <td>1</td>\n",
       "      <td>0.75</td>\n",
       "      <td>0.79</td>\n",
       "      <td>0.24</td>\n",
       "      <td>0.77</td>\n",
       "      <td>1</td>\n",
       "      <td>unauthorised activity system</td>\n",
       "      <td>1</td>\n",
       "      <td>14</td>\n",
       "    </tr>\n",
       "    <tr>\n",
       "      <th>1</th>\n",
       "      <td>Canva</td>\n",
       "      <td>Malicious or criminal attack</td>\n",
       "      <td>Canva Security Incident  May 24 FAQs</td>\n",
       "      <td>Website</td>\n",
       "      <td>Information media and telecommunications</td>\n",
       "      <td>Head of Security</td>\n",
       "      <td>Neutral</td>\n",
       "      <td>username, name, email address, country, city, ...</td>\n",
       "      <td>23</td>\n",
       "      <td>24</td>\n",
       "      <td>...</td>\n",
       "      <td>0.45</td>\n",
       "      <td>0</td>\n",
       "      <td>0.75</td>\n",
       "      <td>0.79</td>\n",
       "      <td>0.24</td>\n",
       "      <td>0.19</td>\n",
       "      <td>1</td>\n",
       "      <td>canva security incident may faq</td>\n",
       "      <td>1</td>\n",
       "      <td>10</td>\n",
       "    </tr>\n",
       "    <tr>\n",
       "      <th>2</th>\n",
       "      <td>Australian National University</td>\n",
       "      <td>Malicious or criminal attack</td>\n",
       "      <td>Message from the Vice-Chancellor</td>\n",
       "      <td>Website</td>\n",
       "      <td>Education and training</td>\n",
       "      <td>Vice-Chancellor</td>\n",
       "      <td>Positive</td>\n",
       "      <td>name, address, date of birth, phone number, pe...</td>\n",
       "      <td>21</td>\n",
       "      <td>7</td>\n",
       "      <td>...</td>\n",
       "      <td>0.17</td>\n",
       "      <td>1</td>\n",
       "      <td>0.75</td>\n",
       "      <td>0.79</td>\n",
       "      <td>0.13</td>\n",
       "      <td>0.77</td>\n",
       "      <td>1</td>\n",
       "      <td>message vicechancellor</td>\n",
       "      <td>1</td>\n",
       "      <td>9</td>\n",
       "    </tr>\n",
       "    <tr>\n",
       "      <th>3</th>\n",
       "      <td>Australian Catholic University</td>\n",
       "      <td>Malicious or criminal attack</td>\n",
       "      <td>Cyber attack on ACU IT systems</td>\n",
       "      <td>Website</td>\n",
       "      <td>Education and training</td>\n",
       "      <td>Acting Vice-Chancellor</td>\n",
       "      <td>Positive</td>\n",
       "      <td>email account, calendar, bank account details</td>\n",
       "      <td>7</td>\n",
       "      <td>9</td>\n",
       "      <td>...</td>\n",
       "      <td>0.45</td>\n",
       "      <td>0</td>\n",
       "      <td>0.75</td>\n",
       "      <td>0.79</td>\n",
       "      <td>0.13</td>\n",
       "      <td>0.77</td>\n",
       "      <td>1</td>\n",
       "      <td>cyber attack acu system</td>\n",
       "      <td>1</td>\n",
       "      <td>3</td>\n",
       "    </tr>\n",
       "    <tr>\n",
       "      <th>4</th>\n",
       "      <td>NAB</td>\n",
       "      <td>Human error</td>\n",
       "      <td>NAB apologises to customers for data breach</td>\n",
       "      <td>Website</td>\n",
       "      <td>Financial and insurance services</td>\n",
       "      <td>NaN</td>\n",
       "      <td>Positive</td>\n",
       "      <td>customer name, date of birth, contact details,...</td>\n",
       "      <td>14</td>\n",
       "      <td>5</td>\n",
       "      <td>...</td>\n",
       "      <td>0.45</td>\n",
       "      <td>0</td>\n",
       "      <td>0.18</td>\n",
       "      <td>0.79</td>\n",
       "      <td>0.09</td>\n",
       "      <td>0.77</td>\n",
       "      <td>0</td>\n",
       "      <td>nab apologises customer data breach</td>\n",
       "      <td>1</td>\n",
       "      <td>4</td>\n",
       "    </tr>\n",
       "  </tbody>\n",
       "</table>\n",
       "<p>5 rows × 39 columns</p>\n",
       "</div>"
      ],
      "text/plain": [
       "                             Name              DataBreachSource  \\\n",
       "0                   PageUp People  Malicious or criminal attack   \n",
       "1                           Canva  Malicious or criminal attack   \n",
       "2  Australian National University  Malicious or criminal attack   \n",
       "3  Australian Catholic University  Malicious or criminal attack   \n",
       "4                             NAB                   Human error   \n",
       "\n",
       "                                         Title  Channel  \\\n",
       "0           Unauthorised Activity on IT System  Website   \n",
       "1        Canva Security Incident  May 24 FAQs  Website   \n",
       "2             Message from the Vice-Chancellor  Website   \n",
       "3               Cyber attack on ACU IT systems  Website   \n",
       "4  NAB apologises to customers for data breach  Website   \n",
       "\n",
       "                                     Sector                   Author  \\\n",
       "0  Information media and telecommunications  Chief Executive Officer   \n",
       "1  Information media and telecommunications         Head of Security   \n",
       "2                    Education and training          Vice-Chancellor   \n",
       "3                    Education and training   Acting Vice-Chancellor   \n",
       "4          Financial and insurance services                      NaN   \n",
       "\n",
       "  VaderSentiment                                           DataType  \\\n",
       "0       Positive  name, street address, email address, telephone...   \n",
       "1        Neutral  username, name, email address, country, city, ...   \n",
       "2       Positive  name, address, date of birth, phone number, pe...   \n",
       "3       Positive      email account, calendar, bank account details   \n",
       "4       Positive  customer name, date of birth, contact details,...   \n",
       "\n",
       "   PositiveCount  NegativeCount  ...  TimelagGroupEncoded  LevelOfDetail  \\\n",
       "0              7              3  ...                 0.45              1   \n",
       "1             23             24  ...                 0.45              0   \n",
       "2             21              7  ...                 0.17              1   \n",
       "3              7              9  ...                 0.45              0   \n",
       "4             14              5  ...                 0.45              0   \n",
       "\n",
       "   DataBreachSource_Encoded  Channel_Encoded  Sector_Encoded  \\\n",
       "0                      0.75             0.79            0.24   \n",
       "1                      0.75             0.79            0.24   \n",
       "2                      0.75             0.79            0.13   \n",
       "3                      0.75             0.79            0.13   \n",
       "4                      0.18             0.79            0.09   \n",
       "\n",
       "   VaderSentiment_Encoded  AuthorMention                           Title_nltk  \\\n",
       "0                    0.77              1         unauthorised activity system   \n",
       "1                    0.19              1      canva security incident may faq   \n",
       "2                    0.77              1               message vicechancellor   \n",
       "3                    0.77              1              cyber attack acu system   \n",
       "4                    0.77              0  nab apologises customer data breach   \n",
       "\n",
       "   TitleMention  DataTypeCount  \n",
       "0             1             14  \n",
       "1             1             10  \n",
       "2             1              9  \n",
       "3             1              3  \n",
       "4             1              4  \n",
       "\n",
       "[5 rows x 39 columns]"
      ]
     },
     "execution_count": 219,
     "metadata": {},
     "output_type": "execute_result"
    }
   ],
   "source": [
    "df.head()"
   ]
  },
  {
   "cell_type": "code",
   "execution_count": 222,
   "id": "16a2d345-7713-4f68-bd3a-fc5fa9a119e1",
   "metadata": {},
   "outputs": [
    {
     "data": {
      "image/png": "[encoded data removed]",
      "text/plain": [
       "<Figure size 1080x360 with 3 Axes>"
      ]
     },
     "metadata": {
      "needs_background": "light"
     },
     "output_type": "display_data"
    },
    {
     "data": {
      "image/png": "[encoded data removed]",
      "text/plain": [
       "<Figure size 1080x360 with 3 Axes>"
      ]
     },
     "metadata": {
      "needs_background": "light"
     },
     "output_type": "display_data"
    },
    {
     "data": {
      "image/png": "[encoded data removed]",
      "text/plain": [
       "<Figure size 1080x360 with 3 Axes>"
      ]
     },
     "metadata": {
      "needs_background": "light"
     },
     "output_type": "display_data"
    }
   ],
   "source": [
    "for col in ['DataBreachSource', 'VaderSentiment', 'AuthorMention']:\n",
    "    g = sns.catplot(x = col, kind='count', col = 'LevelOfDetail', data=df, sharey=False)\n",
    "    g.set_xticklabels(rotation=60)"
   ]
  },
  {
   "cell_type": "markdown",
   "id": "b26c8f99-1eab-4215-b36e-cf4369514a65",
   "metadata": {
    "tags": []
   },
   "source": [
    "### Feature Selection"
   ]
  },
  {
   "cell_type": "code",
   "execution_count": 33,
   "id": "fef5c0b3-e4fd-4d3a-9bfc-570c269e0c53",
   "metadata": {},
   "outputs": [],
   "source": [
    "# Copy certain columns to create a new DataFrame\n",
    "selected_columns = ['AuthorMention', 'TitleMention', 'DataTypeCount',\n",
    "    'DataBreachSource_Encoded', 'Channel_Encoded', 'Sector_Encoded', 'VaderSentiment_Encoded',\n",
    "    'PositiveCount', 'NegativeCount', 'PosNegRatio', 'PosTotalRatio', 'AvgPositiveConf', 'AvgNegativeConf', \n",
    "                                              'WordCount', 'SentenceCount', 'ReadingEase', 'Flesch-KincaidGrade', 'HyperlinksCount', 'CyberKeywordCount', 'AuthorityKeywordCount',  'FAQKeywordCount', \n",
    "                                             'AvgWordLength', 'AvgSentenceLength', \n",
    "    'UniqueWordCount', 'StopWordCount', 'CharCount', 'PunctuationCount', 'EmailTagCount', 'TimelagGroupEncoded',\n",
    "    'LevelOfDetail']  \n",
    "# Test modelling for class \"LevelDetail\"\n",
    "df = df[selected_columns].copy()"
   ]
  },
  {
   "cell_type": "code",
   "execution_count": 34,
   "id": "9a8207c8-5d37-4432-a03a-007efe149b9b",
   "metadata": {},
   "outputs": [
    {
     "name": "stdout",
     "output_type": "stream",
     "text": [
      "<class 'pandas.core.frame.DataFrame'>\n",
      "RangeIndex: 100 entries, 0 to 99\n",
      "Data columns (total 30 columns):\n",
      " #   Column                    Non-Null Count  Dtype  \n",
      "---  ------                    --------------  -----  \n",
      " 0   AuthorMention             100 non-null    int64  \n",
      " 1   TitleMention              100 non-null    int64  \n",
      " 2   DataTypeCount             100 non-null    int64  \n",
      " 3   DataBreachSource_Encoded  100 non-null    float64\n",
      " 4   Channel_Encoded           100 non-null    float64\n",
      " 5   Sector_Encoded            100 non-null    float64\n",
      " 6   VaderSentiment_Encoded    100 non-null    float64\n",
      " 7   PositiveCount             100 non-null    int64  \n",
      " 8   NegativeCount             100 non-null    int64  \n",
      " 9   PosNegRatio               100 non-null    float64\n",
      " 10  PosTotalRatio             100 non-null    float64\n",
      " 11  AvgPositiveConf           100 non-null    float64\n",
      " 12  AvgNegativeConf           100 non-null    float64\n",
      " 13  WordCount                 100 non-null    int64  \n",
      " 14  SentenceCount             100 non-null    int64  \n",
      " 15  ReadingEase               100 non-null    float64\n",
      " 16  Flesch-KincaidGrade       100 non-null    float64\n",
      " 17  HyperlinksCount           100 non-null    int64  \n",
      " 18  CyberKeywordCount         100 non-null    int64  \n",
      " 19  AuthorityKeywordCount     100 non-null    int64  \n",
      " 20  FAQKeywordCount           100 non-null    int64  \n",
      " 21  AvgWordLength             100 non-null    float64\n",
      " 22  AvgSentenceLength         100 non-null    float64\n",
      " 23  UniqueWordCount           100 non-null    int64  \n",
      " 24  StopWordCount             100 non-null    int64  \n",
      " 25  CharCount                 100 non-null    int64  \n",
      " 26  PunctuationCount          100 non-null    int64  \n",
      " 27  EmailTagCount             100 non-null    int64  \n",
      " 28  TimelagGroupEncoded       100 non-null    float64\n",
      " 29  LevelOfDetail             100 non-null    int64  \n",
      "dtypes: float64(13), int64(17)\n",
      "memory usage: 23.6 KB\n"
     ]
    }
   ],
   "source": [
    "df.info()"
   ]
  },
  {
   "cell_type": "code",
   "execution_count": 35,
   "id": "8c8aa043-0f29-438c-bc64-20ed380b455e",
   "metadata": {},
   "outputs": [
    {
     "data": {
      "text/html": [
       "<div>\n",
       "<style scoped>\n",
       "    .dataframe tbody tr th:only-of-type {\n",
       "        vertical-align: middle;\n",
       "    }\n",
       "\n",
       "    .dataframe tbody tr th {\n",
       "        vertical-align: top;\n",
       "    }\n",
       "\n",
       "    .dataframe thead th {\n",
       "        text-align: right;\n",
       "    }\n",
       "</style>\n",
       "<table border=\"1\" class=\"dataframe\">\n",
       "  <thead>\n",
       "    <tr style=\"text-align: right;\">\n",
       "      <th></th>\n",
       "      <th>AuthorMention</th>\n",
       "      <th>TitleMention</th>\n",
       "      <th>DataTypeCount</th>\n",
       "      <th>DataBreachSource_Encoded</th>\n",
       "      <th>Channel_Encoded</th>\n",
       "      <th>Sector_Encoded</th>\n",
       "      <th>VaderSentiment_Encoded</th>\n",
       "      <th>PositiveCount</th>\n",
       "      <th>NegativeCount</th>\n",
       "      <th>PosNegRatio</th>\n",
       "      <th>...</th>\n",
       "      <th>FAQKeywordCount</th>\n",
       "      <th>AvgWordLength</th>\n",
       "      <th>AvgSentenceLength</th>\n",
       "      <th>UniqueWordCount</th>\n",
       "      <th>StopWordCount</th>\n",
       "      <th>CharCount</th>\n",
       "      <th>PunctuationCount</th>\n",
       "      <th>EmailTagCount</th>\n",
       "      <th>TimelagGroupEncoded</th>\n",
       "      <th>LevelOfDetail</th>\n",
       "    </tr>\n",
       "  </thead>\n",
       "  <tbody>\n",
       "    <tr>\n",
       "      <th>0</th>\n",
       "      <td>1</td>\n",
       "      <td>1</td>\n",
       "      <td>14</td>\n",
       "      <td>0.75</td>\n",
       "      <td>0.79</td>\n",
       "      <td>0.24</td>\n",
       "      <td>0.77</td>\n",
       "      <td>7</td>\n",
       "      <td>3</td>\n",
       "      <td>2.333333</td>\n",
       "      <td>...</td>\n",
       "      <td>2</td>\n",
       "      <td>5.240566</td>\n",
       "      <td>21.200000</td>\n",
       "      <td>150</td>\n",
       "      <td>91</td>\n",
       "      <td>1349</td>\n",
       "      <td>21</td>\n",
       "      <td>0</td>\n",
       "      <td>0.45</td>\n",
       "      <td>1</td>\n",
       "    </tr>\n",
       "    <tr>\n",
       "      <th>1</th>\n",
       "      <td>1</td>\n",
       "      <td>1</td>\n",
       "      <td>10</td>\n",
       "      <td>0.75</td>\n",
       "      <td>0.79</td>\n",
       "      <td>0.24</td>\n",
       "      <td>0.19</td>\n",
       "      <td>23</td>\n",
       "      <td>24</td>\n",
       "      <td>0.958333</td>\n",
       "      <td>...</td>\n",
       "      <td>0</td>\n",
       "      <td>4.885478</td>\n",
       "      <td>19.250000</td>\n",
       "      <td>440</td>\n",
       "      <td>376</td>\n",
       "      <td>5118</td>\n",
       "      <td>111</td>\n",
       "      <td>0</td>\n",
       "      <td>0.45</td>\n",
       "      <td>0</td>\n",
       "    </tr>\n",
       "    <tr>\n",
       "      <th>2</th>\n",
       "      <td>1</td>\n",
       "      <td>1</td>\n",
       "      <td>9</td>\n",
       "      <td>0.75</td>\n",
       "      <td>0.79</td>\n",
       "      <td>0.13</td>\n",
       "      <td>0.77</td>\n",
       "      <td>21</td>\n",
       "      <td>7</td>\n",
       "      <td>3.000000</td>\n",
       "      <td>...</td>\n",
       "      <td>1</td>\n",
       "      <td>5.143141</td>\n",
       "      <td>16.833333</td>\n",
       "      <td>281</td>\n",
       "      <td>229</td>\n",
       "      <td>3206</td>\n",
       "      <td>61</td>\n",
       "      <td>1</td>\n",
       "      <td>0.17</td>\n",
       "      <td>1</td>\n",
       "    </tr>\n",
       "    <tr>\n",
       "      <th>3</th>\n",
       "      <td>1</td>\n",
       "      <td>1</td>\n",
       "      <td>3</td>\n",
       "      <td>0.75</td>\n",
       "      <td>0.79</td>\n",
       "      <td>0.13</td>\n",
       "      <td>0.77</td>\n",
       "      <td>7</td>\n",
       "      <td>9</td>\n",
       "      <td>0.777778</td>\n",
       "      <td>...</td>\n",
       "      <td>0</td>\n",
       "      <td>5.392523</td>\n",
       "      <td>20.619048</td>\n",
       "      <td>255</td>\n",
       "      <td>169</td>\n",
       "      <td>2799</td>\n",
       "      <td>49</td>\n",
       "      <td>1</td>\n",
       "      <td>0.45</td>\n",
       "      <td>0</td>\n",
       "    </tr>\n",
       "    <tr>\n",
       "      <th>4</th>\n",
       "      <td>0</td>\n",
       "      <td>1</td>\n",
       "      <td>4</td>\n",
       "      <td>0.18</td>\n",
       "      <td>0.79</td>\n",
       "      <td>0.09</td>\n",
       "      <td>0.77</td>\n",
       "      <td>14</td>\n",
       "      <td>5</td>\n",
       "      <td>2.800000</td>\n",
       "      <td>...</td>\n",
       "      <td>0</td>\n",
       "      <td>5.308357</td>\n",
       "      <td>14.708333</td>\n",
       "      <td>217</td>\n",
       "      <td>134</td>\n",
       "      <td>2274</td>\n",
       "      <td>52</td>\n",
       "      <td>0</td>\n",
       "      <td>0.45</td>\n",
       "      <td>0</td>\n",
       "    </tr>\n",
       "  </tbody>\n",
       "</table>\n",
       "<p>5 rows × 30 columns</p>\n",
       "</div>"
      ],
      "text/plain": [
       "   AuthorMention  TitleMention  DataTypeCount  DataBreachSource_Encoded  \\\n",
       "0              1             1             14                      0.75   \n",
       "1              1             1             10                      0.75   \n",
       "2              1             1              9                      0.75   \n",
       "3              1             1              3                      0.75   \n",
       "4              0             1              4                      0.18   \n",
       "\n",
       "   Channel_Encoded  Sector_Encoded  VaderSentiment_Encoded  PositiveCount  \\\n",
       "0             0.79            0.24                    0.77              7   \n",
       "1             0.79            0.24                    0.19             23   \n",
       "2             0.79            0.13                    0.77             21   \n",
       "3             0.79            0.13                    0.77              7   \n",
       "4             0.79            0.09                    0.77             14   \n",
       "\n",
       "   NegativeCount  PosNegRatio  ...  FAQKeywordCount  AvgWordLength  \\\n",
       "0              3     2.333333  ...                2       5.240566   \n",
       "1             24     0.958333  ...                0       4.885478   \n",
       "2              7     3.000000  ...                1       5.143141   \n",
       "3              9     0.777778  ...                0       5.392523   \n",
       "4              5     2.800000  ...                0       5.308357   \n",
       "\n",
       "   AvgSentenceLength  UniqueWordCount  StopWordCount  CharCount  \\\n",
       "0          21.200000              150             91       1349   \n",
       "1          19.250000              440            376       5118   \n",
       "2          16.833333              281            229       3206   \n",
       "3          20.619048              255            169       2799   \n",
       "4          14.708333              217            134       2274   \n",
       "\n",
       "   PunctuationCount  EmailTagCount  TimelagGroupEncoded  LevelOfDetail  \n",
       "0                21              0                 0.45              1  \n",
       "1               111              0                 0.45              0  \n",
       "2                61              1                 0.17              1  \n",
       "3                49              1                 0.45              0  \n",
       "4                52              0                 0.45              0  \n",
       "\n",
       "[5 rows x 30 columns]"
      ]
     },
     "execution_count": 35,
     "metadata": {},
     "output_type": "execute_result"
    }
   ],
   "source": [
    "df.head()"
   ]
  },
  {
   "cell_type": "markdown",
   "id": "8b367c26-ffe8-4757-b8bf-4cda7f939fbb",
   "metadata": {
    "tags": []
   },
   "source": [
    "#### 2. Try Train/Test Split 80, 20 % for all classifiers without standardisation and PCA"
   ]
  },
  {
   "cell_type": "code",
   "execution_count": 36,
   "id": "0c289048-95f6-412c-b786-bc6a9d181bb3",
   "metadata": {},
   "outputs": [],
   "source": [
    "from sklearn.model_selection import train_test_split\n",
    "from sklearn.preprocessing import StandardScaler\n",
    "from sklearn.decomposition import PCA\n",
    "from sklearn.pipeline import make_pipeline\n",
    "from sklearn.pipeline import Pipeline\n",
    "from sklearn import metrics\n",
    "from sklearn import datasets, preprocessing, svm\n",
    "from sklearn.model_selection import cross_validate\n",
    "from sklearn.metrics import accuracy_score, classification_report, confusion_matrix"
   ]
  },
  {
   "cell_type": "code",
   "execution_count": 37,
   "id": "a01a93cc-2658-4ae3-8915-57b33379ad9f",
   "metadata": {},
   "outputs": [
    {
     "data": {
      "text/plain": [
       "((80, 29), (80,), (20, 29), (20,))"
      ]
     },
     "execution_count": 37,
     "metadata": {},
     "output_type": "execute_result"
    }
   ],
   "source": [
    "X = df.drop(columns='LevelOfDetail')\n",
    "y = df['LevelOfDetail']\n",
    "\n",
    "X_train, X_test, y_train, y_test = train_test_split(X, y, test_size=0.2, random_state=0)\n",
    "# Random state 0 results in accuracy of 50% for NB, 65% for SVM linear??? \n",
    "X_train.shape, y_train.shape, X_test.shape, y_test.shape"
   ]
  },
  {
   "cell_type": "code",
   "execution_count": 38,
   "id": "287c27f9-9ac3-4530-a510-585267ac42d3",
   "metadata": {},
   "outputs": [
    {
     "data": {
      "text/html": [
       "<div>\n",
       "<style scoped>\n",
       "    .dataframe tbody tr th:only-of-type {\n",
       "        vertical-align: middle;\n",
       "    }\n",
       "\n",
       "    .dataframe tbody tr th {\n",
       "        vertical-align: top;\n",
       "    }\n",
       "\n",
       "    .dataframe thead th {\n",
       "        text-align: right;\n",
       "    }\n",
       "</style>\n",
       "<table border=\"1\" class=\"dataframe\">\n",
       "  <thead>\n",
       "    <tr style=\"text-align: right;\">\n",
       "      <th></th>\n",
       "      <th>AuthorMention</th>\n",
       "      <th>TitleMention</th>\n",
       "      <th>DataTypeCount</th>\n",
       "      <th>DataBreachSource_Encoded</th>\n",
       "      <th>Channel_Encoded</th>\n",
       "      <th>Sector_Encoded</th>\n",
       "      <th>VaderSentiment_Encoded</th>\n",
       "      <th>PositiveCount</th>\n",
       "      <th>NegativeCount</th>\n",
       "      <th>PosNegRatio</th>\n",
       "      <th>...</th>\n",
       "      <th>AuthorityKeywordCount</th>\n",
       "      <th>FAQKeywordCount</th>\n",
       "      <th>AvgWordLength</th>\n",
       "      <th>AvgSentenceLength</th>\n",
       "      <th>UniqueWordCount</th>\n",
       "      <th>StopWordCount</th>\n",
       "      <th>CharCount</th>\n",
       "      <th>PunctuationCount</th>\n",
       "      <th>EmailTagCount</th>\n",
       "      <th>TimelagGroupEncoded</th>\n",
       "    </tr>\n",
       "  </thead>\n",
       "  <tbody>\n",
       "    <tr>\n",
       "      <th>0</th>\n",
       "      <td>1</td>\n",
       "      <td>1</td>\n",
       "      <td>14</td>\n",
       "      <td>0.75</td>\n",
       "      <td>0.79</td>\n",
       "      <td>0.24</td>\n",
       "      <td>0.77</td>\n",
       "      <td>7</td>\n",
       "      <td>3</td>\n",
       "      <td>2.333333</td>\n",
       "      <td>...</td>\n",
       "      <td>0</td>\n",
       "      <td>2</td>\n",
       "      <td>5.240566</td>\n",
       "      <td>21.200000</td>\n",
       "      <td>150</td>\n",
       "      <td>91</td>\n",
       "      <td>1349</td>\n",
       "      <td>21</td>\n",
       "      <td>0</td>\n",
       "      <td>0.45</td>\n",
       "    </tr>\n",
       "    <tr>\n",
       "      <th>1</th>\n",
       "      <td>1</td>\n",
       "      <td>1</td>\n",
       "      <td>10</td>\n",
       "      <td>0.75</td>\n",
       "      <td>0.79</td>\n",
       "      <td>0.24</td>\n",
       "      <td>0.19</td>\n",
       "      <td>23</td>\n",
       "      <td>24</td>\n",
       "      <td>0.958333</td>\n",
       "      <td>...</td>\n",
       "      <td>0</td>\n",
       "      <td>0</td>\n",
       "      <td>4.885478</td>\n",
       "      <td>19.250000</td>\n",
       "      <td>440</td>\n",
       "      <td>376</td>\n",
       "      <td>5118</td>\n",
       "      <td>111</td>\n",
       "      <td>0</td>\n",
       "      <td>0.45</td>\n",
       "    </tr>\n",
       "    <tr>\n",
       "      <th>2</th>\n",
       "      <td>1</td>\n",
       "      <td>1</td>\n",
       "      <td>9</td>\n",
       "      <td>0.75</td>\n",
       "      <td>0.79</td>\n",
       "      <td>0.13</td>\n",
       "      <td>0.77</td>\n",
       "      <td>21</td>\n",
       "      <td>7</td>\n",
       "      <td>3.000000</td>\n",
       "      <td>...</td>\n",
       "      <td>0</td>\n",
       "      <td>1</td>\n",
       "      <td>5.143141</td>\n",
       "      <td>16.833333</td>\n",
       "      <td>281</td>\n",
       "      <td>229</td>\n",
       "      <td>3206</td>\n",
       "      <td>61</td>\n",
       "      <td>1</td>\n",
       "      <td>0.17</td>\n",
       "    </tr>\n",
       "    <tr>\n",
       "      <th>3</th>\n",
       "      <td>1</td>\n",
       "      <td>1</td>\n",
       "      <td>3</td>\n",
       "      <td>0.75</td>\n",
       "      <td>0.79</td>\n",
       "      <td>0.13</td>\n",
       "      <td>0.77</td>\n",
       "      <td>7</td>\n",
       "      <td>9</td>\n",
       "      <td>0.777778</td>\n",
       "      <td>...</td>\n",
       "      <td>4</td>\n",
       "      <td>0</td>\n",
       "      <td>5.392523</td>\n",
       "      <td>20.619048</td>\n",
       "      <td>255</td>\n",
       "      <td>169</td>\n",
       "      <td>2799</td>\n",
       "      <td>49</td>\n",
       "      <td>1</td>\n",
       "      <td>0.45</td>\n",
       "    </tr>\n",
       "    <tr>\n",
       "      <th>4</th>\n",
       "      <td>0</td>\n",
       "      <td>1</td>\n",
       "      <td>4</td>\n",
       "      <td>0.18</td>\n",
       "      <td>0.79</td>\n",
       "      <td>0.09</td>\n",
       "      <td>0.77</td>\n",
       "      <td>14</td>\n",
       "      <td>5</td>\n",
       "      <td>2.800000</td>\n",
       "      <td>...</td>\n",
       "      <td>1</td>\n",
       "      <td>0</td>\n",
       "      <td>5.308357</td>\n",
       "      <td>14.708333</td>\n",
       "      <td>217</td>\n",
       "      <td>134</td>\n",
       "      <td>2274</td>\n",
       "      <td>52</td>\n",
       "      <td>0</td>\n",
       "      <td>0.45</td>\n",
       "    </tr>\n",
       "  </tbody>\n",
       "</table>\n",
       "<p>5 rows × 29 columns</p>\n",
       "</div>"
      ],
      "text/plain": [
       "   AuthorMention  TitleMention  DataTypeCount  DataBreachSource_Encoded  \\\n",
       "0              1             1             14                      0.75   \n",
       "1              1             1             10                      0.75   \n",
       "2              1             1              9                      0.75   \n",
       "3              1             1              3                      0.75   \n",
       "4              0             1              4                      0.18   \n",
       "\n",
       "   Channel_Encoded  Sector_Encoded  VaderSentiment_Encoded  PositiveCount  \\\n",
       "0             0.79            0.24                    0.77              7   \n",
       "1             0.79            0.24                    0.19             23   \n",
       "2             0.79            0.13                    0.77             21   \n",
       "3             0.79            0.13                    0.77              7   \n",
       "4             0.79            0.09                    0.77             14   \n",
       "\n",
       "   NegativeCount  PosNegRatio  ...  AuthorityKeywordCount  FAQKeywordCount  \\\n",
       "0              3     2.333333  ...                      0                2   \n",
       "1             24     0.958333  ...                      0                0   \n",
       "2              7     3.000000  ...                      0                1   \n",
       "3              9     0.777778  ...                      4                0   \n",
       "4              5     2.800000  ...                      1                0   \n",
       "\n",
       "   AvgWordLength  AvgSentenceLength  UniqueWordCount  StopWordCount  \\\n",
       "0       5.240566          21.200000              150             91   \n",
       "1       4.885478          19.250000              440            376   \n",
       "2       5.143141          16.833333              281            229   \n",
       "3       5.392523          20.619048              255            169   \n",
       "4       5.308357          14.708333              217            134   \n",
       "\n",
       "   CharCount  PunctuationCount  EmailTagCount  TimelagGroupEncoded  \n",
       "0       1349                21              0                 0.45  \n",
       "1       5118               111              0                 0.45  \n",
       "2       3206                61              1                 0.17  \n",
       "3       2799                49              1                 0.45  \n",
       "4       2274                52              0                 0.45  \n",
       "\n",
       "[5 rows x 29 columns]"
      ]
     },
     "execution_count": 38,
     "metadata": {},
     "output_type": "execute_result"
    }
   ],
   "source": [
    "X.head()"
   ]
  },
  {
   "cell_type": "code",
   "execution_count": 39,
   "id": "f87a253c-8c23-4793-b947-45317de625f1",
   "metadata": {},
   "outputs": [
    {
     "data": {
      "text/plain": [
       "Index(['AuthorMention', 'TitleMention', 'DataTypeCount',\n",
       "       'DataBreachSource_Encoded', 'Channel_Encoded', 'Sector_Encoded',\n",
       "       'VaderSentiment_Encoded', 'PositiveCount', 'NegativeCount',\n",
       "       'PosNegRatio', 'PosTotalRatio', 'AvgPositiveConf', 'AvgNegativeConf',\n",
       "       'WordCount', 'SentenceCount', 'ReadingEase', 'Flesch-KincaidGrade',\n",
       "       'HyperlinksCount', 'CyberKeywordCount', 'AuthorityKeywordCount',\n",
       "       'FAQKeywordCount', 'AvgWordLength', 'AvgSentenceLength',\n",
       "       'UniqueWordCount', 'StopWordCount', 'CharCount', 'PunctuationCount',\n",
       "       'EmailTagCount', 'TimelagGroupEncoded'],\n",
       "      dtype='object')"
      ]
     },
     "execution_count": 39,
     "metadata": {},
     "output_type": "execute_result"
    }
   ],
   "source": [
    "X.columns"
   ]
  },
  {
   "cell_type": "markdown",
   "id": "9438fafe-2123-48ef-835f-029fa0b003d8",
   "metadata": {},
   "source": [
    "#### Import libraries"
   ]
  },
  {
   "cell_type": "code",
   "execution_count": 46,
   "id": "82f2ea6d-cd6f-4d73-91c4-3b038b03cd95",
   "metadata": {},
   "outputs": [],
   "source": [
    "# Machine learning\n",
    "from sklearn.model_selection import train_test_split, GridSearchCV\n",
    "from sklearn import model_selection, tree, preprocessing, datasets, metrics, linear_model\n",
    "from sklearn.svm import LinearSVC, SVC\n",
    "from sklearn.ensemble import RandomForestClassifier\n",
    "from sklearn.naive_bayes import GaussianNB\n",
    "from sklearn.linear_model import LogisticRegression\n",
    "from sklearn.preprocessing import StandardScaler\n",
    "from sklearn.pipeline import make_pipeline\n",
    "from sklearn.decomposition import PCA\n",
    "from sklearn.metrics import accuracy_score, precision_score, recall_score, f1_score, roc_curve, precision_recall_curve, confusion_matrix\n",
    "\n",
    "import math, time, random, datetime"
   ]
  },
  {
   "cell_type": "markdown",
   "id": "dc911bc0-2a6a-49d3-85ee-8ae60dbddcb4",
   "metadata": {},
   "source": [
    "#### Naive Bayes Gaussian"
   ]
  },
  {
   "cell_type": "code",
   "execution_count": 42,
   "id": "5156d02c-ef99-43e6-aaf0-85761c0d6fe8",
   "metadata": {},
   "outputs": [
    {
     "name": "stdout",
     "output_type": "stream",
     "text": [
      "\n",
      "Prediction accuracy on the test dataset:\n",
      "50.00%\n",
      "Number of mislabeled points out of a total 20 points : 10\n"
     ]
    }
   ],
   "source": [
    "# fit a GaussianNB classifier to the training set\n",
    "clf = GaussianNB()\n",
    "clf.fit(X_train, y_train)\n",
    "\n",
    "# perform classification on the test set\n",
    "y_hat = clf.predict(X_test)\n",
    "\n",
    "# print performance\n",
    "print(\"\\nPrediction accuracy on the test dataset:\")\n",
    "print(\"{:.2%}\".format(metrics.accuracy_score(y_test, y_hat)))\n",
    "print(\"Number of mislabeled points out of a total %d points : %d\" % (X_test.shape[0], (y_test != y_hat).sum()))"
   ]
  },
  {
   "cell_type": "markdown",
   "id": "09793829-ed04-463e-8248-dcaff00ad0d0",
   "metadata": {},
   "source": [
    "#### Support Vector Machines"
   ]
  },
  {
   "cell_type": "markdown",
   "id": "7917a14b-3e13-413d-8d34-2c8b664736c0",
   "metadata": {},
   "source": [
    "##### Linear kernel"
   ]
  },
  {
   "cell_type": "code",
   "execution_count": 43,
   "id": "c25ff1a8-7629-4644-90d2-0202017efa62",
   "metadata": {},
   "outputs": [],
   "source": [
    "# # create an instance of the SVM classifier with a Linear kernel\n",
    "# clf = SVC(kernel='linear')\n",
    "\n",
    "# # train the model using the training set\n",
    "# clf.fit(X_train, y_train)\n",
    "\n",
    "# # predict the classes in the test set\n",
    "# y_hat = clf.predict(X_test)\n",
    "\n",
    "# # print accuracy\n",
    "# print(\"\\nAccuracy: %.3f%%\" % (metrics.accuracy_score(y_test, y_hat)*100))\n",
    "\n",
    "# # get feature weights\n",
    "# print(\"\\nFeature weights:\")\n",
    "# # get a list of variable (feature) names\n",
    "# f_names = ['AuthorMention', 'TitleMention', 'DataTypeCount',\n",
    "#        'DataBreachSource_Encoded', 'Channel_Encoded', 'Sector_Encoded',\n",
    "#        'VaderSentiment_Encoded', 'PositiveCount', 'NegativeCount',\n",
    "#        'PosNegRatio', 'PosTotalRatio', 'AvgPositiveConf', 'AvgNegativeConf',\n",
    "#        'WordCount', 'SentenceCount', 'ReadingEase', 'Flesch-KincaidGrade',\n",
    "#        'HyperlinksCount', 'CyberKeywordCount', 'AuthorityKeywordCount',\n",
    "#        'FAQKeywordCount', 'AvgWordLength', 'AvgSentenceLength',\n",
    "#        'UniqueWordCount', 'StopWordCount', 'CharCount', 'PunctuationCount',\n",
    "#        'EmailTagCount', 'TimelagGroupEncoded']\n",
    "\n",
    "# # get each feature weight learned by SVM\n",
    "# f_weights = clf.coef_[0].tolist()\n",
    "\n",
    "# # remove any sign from the weights\n",
    "# f_weights_abs = [abs(x) for x in f_weights]\n",
    "    \n",
    "# # match weight with feature name, and sort in descending order of weight\n",
    "# srt_list = list(zip(f_weights_abs, f_names))\n",
    "# srt_list.sort(reverse=True)\n",
    "\n",
    "# # print\n",
    "# for e in srt_list:\n",
    "#     print(e[1], \": \", e[0])"
   ]
  },
  {
   "cell_type": "markdown",
   "id": "b9c0932c-710d-4b01-a7e3-e3774f5042a7",
   "metadata": {},
   "source": [
    "DataBreachSource_Encoded has the highest coefficient, most important feature."
   ]
  },
  {
   "cell_type": "markdown",
   "id": "12f686e6-fb62-4a1f-b11f-661c1cf5b73c",
   "metadata": {},
   "source": [
    "##### RBF kernel"
   ]
  },
  {
   "cell_type": "code",
   "execution_count": 44,
   "id": "18444e14-e9bc-4eea-b2ae-b3a1c7b6653e",
   "metadata": {},
   "outputs": [
    {
     "name": "stdout",
     "output_type": "stream",
     "text": [
      "\n",
      "Accuracy: 55.000%\n"
     ]
    }
   ],
   "source": [
    "clf = SVC(kernel='rbf')  # activate this to train a non-linear SVM\n",
    "\n",
    "# train the model using the training set\n",
    "clf.fit(X_train, y_train)\n",
    "\n",
    "# predict the classes in the test set\n",
    "y_hat = clf.predict(X_test)\n",
    "\n",
    "# print accuracy\n",
    "print(\"\\nAccuracy: %.3f%%\" % (metrics.accuracy_score(y_test, y_hat)*100))\n",
    "# Same with this score\n",
    "# print(\"\\nAccuracy of clf: %.3f%%\" % (clf.score(X_test, y_test)*100))"
   ]
  },
  {
   "cell_type": "markdown",
   "id": "e873594b-6dd4-4281-a089-e7686bdb8faa",
   "metadata": {},
   "source": [
    "SUMMARY: The dataset is quite linearly separable as the result for Linear kernel is better than with RBF kernel."
   ]
  },
  {
   "cell_type": "markdown",
   "id": "5ec8f327-48c5-4863-8cef-07a4ef4a26f1",
   "metadata": {},
   "source": [
    "#### Logistic Regression"
   ]
  },
  {
   "cell_type": "code",
   "execution_count": 47,
   "id": "93a22417-22b4-478a-9e77-552bb3b28f53",
   "metadata": {},
   "outputs": [
    {
     "name": "stdout",
     "output_type": "stream",
     "text": [
      "Accuracy: 0.60\n"
     ]
    },
    {
     "name": "stderr",
     "output_type": "stream",
     "text": [
      "C:\\Apps\\Anaconda\\lib\\site-packages\\sklearn\\linear_model\\_logistic.py:458: ConvergenceWarning: lbfgs failed to converge (status=1):\n",
      "STOP: TOTAL NO. of ITERATIONS REACHED LIMIT.\n",
      "\n",
      "Increase the number of iterations (max_iter) or scale the data as shown in:\n",
      "    https://scikit-learn.org/stable/modules/preprocessing.html\n",
      "Please also refer to the documentation for alternative solver options:\n",
      "    https://scikit-learn.org/stable/modules/linear_model.html#logistic-regression\n",
      "  n_iter_i = _check_optimize_result(\n"
     ]
    }
   ],
   "source": [
    "X = df.drop(columns='LevelOfDetail')\n",
    "y = df['LevelOfDetail']\n",
    "\n",
    "X_train, X_test, y_train, y_test = train_test_split(X, y, test_size=0.2, random_state=0)\n",
    "\n",
    "LRModel=LogisticRegression()\n",
    "LRModel.fit(X_train, y_train)\n",
    "y_pred = LRModel.predict(X_test)\n",
    "print('Accuracy: %.2f' % accuracy_score(y_test, y_pred))"
   ]
  },
  {
   "cell_type": "markdown",
   "id": "9a671e0f-b2cd-426e-ab56-3fd68d9fa436",
   "metadata": {
    "tags": []
   },
   "source": [
    "#### Decision Tree"
   ]
  },
  {
   "cell_type": "code",
   "execution_count": 48,
   "id": "1596f602-ad09-4ada-adac-c7e658a3f0bf",
   "metadata": {
    "tags": []
   },
   "outputs": [
    {
     "name": "stdout",
     "output_type": "stream",
     "text": [
      "0.55\n"
     ]
    },
    {
     "data": {
      "image/png": "[encoded data removed]",
      "text/plain": [
       "<Figure size 2520x1440 with 1 Axes>"
      ]
     },
     "metadata": {
      "needs_background": "light"
     },
     "output_type": "display_data"
    }
   ],
   "source": [
    "from sklearn.tree import DecisionTreeClassifier\n",
    "from sklearn import tree\n",
    "\n",
    "clf = tree.DecisionTreeClassifier(max_depth=3,criterion='entropy')\n",
    "clf.fit(X_train,y_train)\n",
    "\n",
    "print(clf.score(X_test,y_test))\n",
    "\n",
    "fig = plt.figure(figsize=(35,20))\n",
    "\n",
    "\n",
    "t = tree.plot_tree(clf, feature_names=('AuthorMention', 'TitleMention', 'DataTypeCount',\n",
    "       'DataBreachSource_Encoded', 'Channel_Encoded', 'Sector_Encoded',\n",
    "       'VaderSentiment_Encoded', 'PositiveCount', 'NegativeCount',\n",
    "       'PosNegRatio', 'PosTotalRatio', 'AvgPositiveConf', 'AvgNegativeConf',\n",
    "       'WordCount', 'SentenceCount', 'ReadingEase', 'Flesch-KincaidGrade',\n",
    "       'HyperlinksCount', 'CyberKeywordCount', 'AuthorityKeywordCount',\n",
    "       'FAQKeywordCount', 'AvgWordLength', 'AvgSentenceLength',\n",
    "       'UniqueWordCount', 'StopWordCount', 'CharCount', 'PunctuationCount',\n",
    "       'EmailTagCount', 'TimelagGroupEncoded'\n",
    "       ),\n",
    "                   class_names=['class 0', 'class 1', 'class 2'],\n",
    "                   filled=True)"
   ]
  },
  {
   "cell_type": "markdown",
   "id": "c1180fb2-445a-4c5d-b7be-351624240dc0",
   "metadata": {},
   "source": [
    "#### Random Forest Classifier"
   ]
  },
  {
   "cell_type": "code",
   "execution_count": 49,
   "id": "c5c270a9-3593-4e3e-ab88-8db6b2764f61",
   "metadata": {},
   "outputs": [
    {
     "name": "stdout",
     "output_type": "stream",
     "text": [
      "0.65\n"
     ]
    }
   ],
   "source": [
    "from sklearn.ensemble import RandomForestClassifier\n",
    "\n",
    "clf = RandomForestClassifier(max_depth=3)\n",
    "clf.fit(X_train,y_train)\n",
    "\n",
    "print(clf.score(X_test,y_test))"
   ]
  },
  {
   "cell_type": "markdown",
   "id": "0c1dead2-8eb6-45e7-8b89-5d4d236f6c52",
   "metadata": {},
   "source": [
    "#### XGBoost"
   ]
  },
  {
   "cell_type": "code",
   "execution_count": 62,
   "id": "fe230f80-009f-4b1b-a87e-7281c9b6e80c",
   "metadata": {},
   "outputs": [
    {
     "data": {
      "text/plain": [
       "<Figure size 1800x1440 with 0 Axes>"
      ]
     },
     "metadata": {},
     "output_type": "display_data"
    },
    {
     "data": {
      "image/png": "[encoded data removed]",
      "text/plain": [
       "<Figure size 432x288 with 1 Axes>"
      ]
     },
     "metadata": {
      "needs_background": "light"
     },
     "output_type": "display_data"
    },
    {
     "name": "stdout",
     "output_type": "stream",
     "text": [
      "Accuracy: 0.65\n",
      "Confusion Matrix:\n",
      "[[2 1 0]\n",
      " [2 8 1]\n",
      " [0 3 3]]\n",
      "Classification Report:\n",
      "              precision    recall  f1-score   support\n",
      "\n",
      "     class 0       0.50      0.67      0.57         3\n",
      "     class 1       0.67      0.73      0.70        11\n",
      "     class 2       0.75      0.50      0.60         6\n",
      "\n",
      "    accuracy                           0.65        20\n",
      "   macro avg       0.64      0.63      0.62        20\n",
      "weighted avg       0.67      0.65      0.65        20\n",
      "\n"
     ]
    }
   ],
   "source": [
    "# Ensemble\n",
    "import xgboost\n",
    "from xgboost import XGBClassifier\n",
    "from xgboost import plot_importance\n",
    "from matplotlib import pyplot\n",
    "\n",
    "model = XGBClassifier()\n",
    "model.fit(X_train, y_train)\n",
    "\n",
    "# feature importance\n",
    "\n",
    "plt.figure(figsize=(25,20))\n",
    "plot_importance(model)\n",
    "pyplot.show()\n",
    "\n",
    "# Make predictions on the test data\n",
    "y_pred = model.predict(X_test)\n",
    "\n",
    "# Calculate and print accuracy\n",
    "accuracy = accuracy_score(y_test, y_pred)\n",
    "print(f\"Accuracy: {accuracy:.2f}\")\n",
    "\n",
    "# Print the confusion matrix\n",
    "conf_matrix = confusion_matrix(y_test, y_pred)\n",
    "print(\"Confusion Matrix:\")\n",
    "print(conf_matrix)\n",
    "\n",
    "target_names = ['class 0', 'class 1', 'class 2']\n",
    "\n",
    "# Print the classification report\n",
    "class_report = classification_report(y_test, y_pred, target_names=target_names)\n",
    "print(\"Classification Report:\")\n",
    "print(class_report)"
   ]
  },
  {
   "cell_type": "markdown",
   "id": "4ac34fe0-9820-4162-8e30-8b0c6026123c",
   "metadata": {},
   "source": [
    "### Feature Importance"
   ]
  },
  {
   "cell_type": "code",
   "execution_count": 51,
   "id": "dfafeee7-07cf-44db-b582-f653d30b517e",
   "metadata": {},
   "outputs": [
    {
     "data": {
      "image/png": "[encoded data removed]",
      "text/plain": [
       "<Figure size 720x432 with 1 Axes>"
      ]
     },
     "metadata": {
      "needs_background": "light"
     },
     "output_type": "display_data"
    }
   ],
   "source": [
    "from sklearn.feature_selection import f_classif\n",
    "\n",
    "X = df.drop(columns='LevelOfDetail')\n",
    "y = df['LevelOfDetail']\n",
    "\n",
    "# Create f_classif object to calculate F-value\n",
    "f_value = f_classif(X, y)\n",
    "\n",
    "plt.figure(figsize=(10,6))\n",
    "plt.bar(x=X.columns, height=f_value[0], color='tomato')\n",
    "plt.xticks(rotation='vertical')\n",
    "plt.ylabel('F-value')\n",
    "plt.title('F-value Comparison')\n",
    "plt.show()"
   ]
  },
  {
   "cell_type": "code",
   "execution_count": 52,
   "id": "95297589-6b57-4369-9d77-f71aa2d8ea3f",
   "metadata": {},
   "outputs": [
    {
     "data": {
      "image/png": "[encoded data removed]",
      "text/plain": [
       "<Figure size 720x432 with 1 Axes>"
      ]
     },
     "metadata": {
      "needs_background": "light"
     },
     "output_type": "display_data"
    }
   ],
   "source": [
    "from sklearn.feature_selection import mutual_info_classif\n",
    "import matplotlib.pyplot as plt\n",
    "\n",
    "X = df.drop(columns='LevelOfDetail')\n",
    "y = df['LevelOfDetail']\n",
    "\n",
    "MI_score = mutual_info_classif(X, y, random_state=0)\n",
    "\n",
    "plt.figure(figsize=(10,6))\n",
    "plt.bar(x=X.columns, height=MI_score, color='tomato')\n",
    "\n",
    "plt.xticks(rotation='vertical')\n",
    "plt.ylabel('Mutual Information Score')\n",
    "plt.title('Mutual Information Score Comparison')\n",
    "\n",
    "plt.show()"
   ]
  },
  {
   "cell_type": "markdown",
   "id": "d7b1b363-24c9-455b-b762-4878bf946c0f",
   "metadata": {},
   "source": [
    "### Using Pipeline "
   ]
  },
  {
   "cell_type": "markdown",
   "id": "9f403cd1-dfc7-4eed-9971-242a7d4f47ca",
   "metadata": {},
   "source": [
    "#### No GridSearch, no k-fold cross validation with Standardisation"
   ]
  },
  {
   "cell_type": "code",
   "execution_count": 53,
   "id": "9d0f3068-25ba-4f9e-8017-0b324b16c4e7",
   "metadata": {},
   "outputs": [
    {
     "name": "stdout",
     "output_type": "stream",
     "text": [
      "(80, 29) (80,) (20, 29) (20,)\n",
      "Classifier: GaussianNB\n",
      "Accuracy: 0.45\n",
      "Classification Report:\n",
      "              precision    recall  f1-score   support\n",
      "\n",
      "     class 0       0.30      1.00      0.46         3\n",
      "     class 1       1.00      0.18      0.31        11\n",
      "     class 2       0.50      0.67      0.57         6\n",
      "\n",
      "    accuracy                           0.45        20\n",
      "   macro avg       0.60      0.62      0.45        20\n",
      "weighted avg       0.74      0.45      0.41        20\n",
      "\n",
      "=======================================================\n",
      "Classifier: Logistic Regression\n",
      "Accuracy: 0.85\n",
      "Classification Report:\n",
      "              precision    recall  f1-score   support\n",
      "\n",
      "     class 0       0.67      0.67      0.67         3\n",
      "     class 1       0.85      1.00      0.92        11\n",
      "     class 2       1.00      0.67      0.80         6\n",
      "\n",
      "    accuracy                           0.85        20\n",
      "   macro avg       0.84      0.78      0.79        20\n",
      "weighted avg       0.87      0.85      0.84        20\n",
      "\n",
      "=======================================================\n",
      "Classifier: Support Vector Machine Linear\n",
      "Accuracy: 0.65\n",
      "Classification Report:\n",
      "              precision    recall  f1-score   support\n",
      "\n",
      "     class 0       0.50      0.67      0.57         3\n",
      "     class 1       0.69      0.82      0.75        11\n",
      "     class 2       0.67      0.33      0.44         6\n",
      "\n",
      "    accuracy                           0.65        20\n",
      "   macro avg       0.62      0.61      0.59        20\n",
      "weighted avg       0.66      0.65      0.63        20\n",
      "\n",
      "=======================================================\n",
      "Classifier: Support Vector Machine RBF\n",
      "Accuracy: 0.55\n",
      "Classification Report:\n",
      "              precision    recall  f1-score   support\n",
      "\n",
      "     class 0       0.00      0.00      0.00         3\n",
      "     class 1       0.55      1.00      0.71        11\n",
      "     class 2       0.00      0.00      0.00         6\n",
      "\n",
      "    accuracy                           0.55        20\n",
      "   macro avg       0.18      0.33      0.24        20\n",
      "weighted avg       0.30      0.55      0.39        20\n",
      "\n",
      "=======================================================\n",
      "Classifier: XGBoost\n",
      "Accuracy: 0.65\n",
      "Classification Report:\n",
      "              precision    recall  f1-score   support\n",
      "\n",
      "     class 0       0.50      0.67      0.57         3\n",
      "     class 1       0.67      0.73      0.70        11\n",
      "     class 2       0.75      0.50      0.60         6\n",
      "\n",
      "    accuracy                           0.65        20\n",
      "   macro avg       0.64      0.63      0.62        20\n",
      "weighted avg       0.67      0.65      0.65        20\n",
      "\n",
      "=======================================================\n",
      "Classifier: KNN\n",
      "Accuracy: 0.55\n",
      "Classification Report:\n",
      "              precision    recall  f1-score   support\n",
      "\n",
      "     class 0       0.00      0.00      0.00         3\n",
      "     class 1       0.55      1.00      0.71        11\n",
      "     class 2       0.00      0.00      0.00         6\n",
      "\n",
      "    accuracy                           0.55        20\n",
      "   macro avg       0.18      0.33      0.24        20\n",
      "weighted avg       0.30      0.55      0.39        20\n",
      "\n",
      "=======================================================\n",
      "Classifier: Decision Tree\n",
      "Accuracy: 0.65\n",
      "Classification Report:\n",
      "              precision    recall  f1-score   support\n",
      "\n",
      "     class 0       0.50      0.33      0.40         3\n",
      "     class 1       0.64      0.82      0.72        11\n",
      "     class 2       0.75      0.50      0.60         6\n",
      "\n",
      "    accuracy                           0.65        20\n",
      "   macro avg       0.63      0.55      0.57        20\n",
      "weighted avg       0.65      0.65      0.64        20\n",
      "\n",
      "=======================================================\n",
      "Classifier: Random Forest\n",
      "Accuracy: 0.65\n",
      "Classification Report:\n",
      "              precision    recall  f1-score   support\n",
      "\n",
      "     class 0       1.00      0.67      0.80         3\n",
      "     class 1       0.62      0.91      0.74        11\n",
      "     class 2       0.50      0.17      0.25         6\n",
      "\n",
      "    accuracy                           0.65        20\n",
      "   macro avg       0.71      0.58      0.60        20\n",
      "weighted avg       0.64      0.65      0.60        20\n",
      "\n",
      "=======================================================\n"
     ]
    }
   ],
   "source": [
    "import warnings\n",
    "\n",
    "# Ignore warnings\n",
    "warnings.filterwarnings(\"ignore\")\n",
    "\n",
    "from sklearn.model_selection import train_test_split\n",
    "from sklearn.preprocessing import StandardScaler\n",
    "from sklearn.pipeline import Pipeline\n",
    "from sklearn.tree import DecisionTreeClassifier\n",
    "from sklearn.ensemble import RandomForestClassifier\n",
    "from sklearn.svm import SVC\n",
    "from sklearn.linear_model import LogisticRegression\n",
    "from sklearn.neighbors import KNeighborsClassifier\n",
    "from sklearn.metrics import accuracy_score, classification_report\n",
    "import xgboost\n",
    "from xgboost import XGBClassifier\n",
    "from xgboost import plot_importance\n",
    "from matplotlib import pyplot\n",
    "\n",
    "X = df.drop(columns='LevelOfDetail')\n",
    "y = df['LevelOfDetail']\n",
    "\n",
    "# Split the dataset into training and testing sets\n",
    "X_train, X_test, y_train, y_test = train_test_split(X, y, test_size=0.2, random_state=0)\n",
    "print(X_train.shape, y_train.shape, X_test.shape, y_test.shape)\n",
    "\n",
    "# Create a dictionary of classifiers\n",
    "classifiers = {\n",
    "    'GaussianNB': GaussianNB(),\n",
    "    'Logistic Regression': LogisticRegression(),\n",
    "    'Support Vector Machine Linear': SVC(kernel='linear'),\n",
    "    'Support Vector Machine RBF': SVC(kernel='rbf'),\n",
    "    'XGBoost': xgboost.XGBClassifier(objective=\"multi:softmax\"),\n",
    "    'KNN': KNeighborsClassifier(n_neighbors=20),\n",
    "    'Decision Tree': DecisionTreeClassifier(max_depth=4, criterion='entropy'),\n",
    "    'Random Forest': RandomForestClassifier(max_depth=4)\n",
    "}\n",
    "\n",
    "# Create pipelines for each classifier\n",
    "pipelines = {}\n",
    "for name, clf in classifiers.items():\n",
    "    pipelines[name] = Pipeline([\n",
    "        # ('feature_selector', SelectKBest(score_func=f_classif, k=4)), \n",
    "        ('scaler', StandardScaler()),  # Standardize features (optional but often recommended)\n",
    "        ('classifier', clf)\n",
    "    ])\n",
    "    \n",
    "target_names = ['class 0', 'class 1', 'class 2']\n",
    "\n",
    "# Train and evaluate each classifier\n",
    "for name, pipe in pipelines.items():\n",
    "    \n",
    "    # Fit classifier\n",
    "    pipe.fit(X_train, y_train)\n",
    "    \n",
    "    # Make prediction\n",
    "    y_pred = pipe.predict(X_test)\n",
    "    \n",
    "    accuracy = accuracy_score(y_test, y_pred)\n",
    "    report = classification_report(y_test, y_pred, target_names=target_names)\n",
    "    \n",
    "    print(f\"Classifier: {name}\")\n",
    "    print(f\"Accuracy: {accuracy:.2f}\")\n",
    "    print(\"Classification Report:\")\n",
    "    print(report)    \n",
    "    \n",
    "    print(\"=\"*55)"
   ]
  },
  {
   "cell_type": "markdown",
   "id": "ed760c79-e586-4038-81da-e22877d95d33",
   "metadata": {},
   "source": [
    "#### No GridSearch, no k-fold cross validation without Standardisation"
   ]
  },
  {
   "cell_type": "code",
   "execution_count": 54,
   "id": "6d17dc71-9901-45c6-bb63-bf4929b57bfc",
   "metadata": {
    "scrolled": true,
    "tags": []
   },
   "outputs": [
    {
     "name": "stdout",
     "output_type": "stream",
     "text": [
      "(80, 29) (80,) (20, 29) (20,)\n",
      "Classifier: GaussianNB\n",
      "Accuracy: 0.50\n",
      "Classification Report:\n",
      "              precision    recall  f1-score   support\n",
      "\n",
      "     class 0       0.75      1.00      0.86         3\n",
      "     class 1       0.60      0.27      0.37        11\n",
      "     class 2       0.36      0.67      0.47         6\n",
      "\n",
      "    accuracy                           0.50        20\n",
      "   macro avg       0.57      0.65      0.57        20\n",
      "weighted avg       0.55      0.50      0.48        20\n",
      "\n",
      "=======================================================\n",
      "Classifier: Logistic Regression\n",
      "Accuracy: 0.60\n",
      "Classification Report:\n",
      "              precision    recall  f1-score   support\n",
      "\n",
      "     class 0       0.50      0.33      0.40         3\n",
      "     class 1       0.80      0.73      0.76        11\n",
      "     class 2       0.38      0.50      0.43         6\n",
      "\n",
      "    accuracy                           0.60        20\n",
      "   macro avg       0.56      0.52      0.53        20\n",
      "weighted avg       0.63      0.60      0.61        20\n",
      "\n",
      "=======================================================\n",
      "Classifier: Support Vector Machine Linear\n",
      "Accuracy: 0.65\n",
      "Classification Report:\n",
      "              precision    recall  f1-score   support\n",
      "\n",
      "     class 0       0.25      0.33      0.29         3\n",
      "     class 1       0.75      0.82      0.78        11\n",
      "     class 2       0.75      0.50      0.60         6\n",
      "\n",
      "    accuracy                           0.65        20\n",
      "   macro avg       0.58      0.55      0.56        20\n",
      "weighted avg       0.68      0.65      0.65        20\n",
      "\n",
      "=======================================================\n",
      "Classifier: Support Vector Machine RBF\n",
      "Accuracy: 0.55\n",
      "Classification Report:\n",
      "              precision    recall  f1-score   support\n",
      "\n",
      "     class 0       0.00      0.00      0.00         3\n",
      "     class 1       0.55      1.00      0.71        11\n",
      "     class 2       0.00      0.00      0.00         6\n",
      "\n",
      "    accuracy                           0.55        20\n",
      "   macro avg       0.18      0.33      0.24        20\n",
      "weighted avg       0.30      0.55      0.39        20\n",
      "\n",
      "=======================================================\n",
      "Classifier: XGBoost\n",
      "Accuracy: 0.65\n",
      "Classification Report:\n",
      "              precision    recall  f1-score   support\n",
      "\n",
      "     class 0       0.50      0.67      0.57         3\n",
      "     class 1       0.67      0.73      0.70        11\n",
      "     class 2       0.75      0.50      0.60         6\n",
      "\n",
      "    accuracy                           0.65        20\n",
      "   macro avg       0.64      0.63      0.62        20\n",
      "weighted avg       0.67      0.65      0.65        20\n",
      "\n",
      "=======================================================\n",
      "Classifier: KNN\n",
      "Accuracy: 0.55\n",
      "Classification Report:\n",
      "              precision    recall  f1-score   support\n",
      "\n",
      "     class 0       0.00      0.00      0.00         3\n",
      "     class 1       0.55      1.00      0.71        11\n",
      "     class 2       0.00      0.00      0.00         6\n",
      "\n",
      "    accuracy                           0.55        20\n",
      "   macro avg       0.18      0.33      0.24        20\n",
      "weighted avg       0.30      0.55      0.39        20\n",
      "\n",
      "=======================================================\n",
      "Classifier: Decision Tree\n",
      "Accuracy: 0.70\n",
      "Classification Report:\n",
      "              precision    recall  f1-score   support\n",
      "\n",
      "     class 0       1.00      0.33      0.50         3\n",
      "     class 1       0.71      0.91      0.80        11\n",
      "     class 2       0.60      0.50      0.55         6\n",
      "\n",
      "    accuracy                           0.70        20\n",
      "   macro avg       0.77      0.58      0.62        20\n",
      "weighted avg       0.72      0.70      0.68        20\n",
      "\n",
      "=======================================================\n",
      "Classifier: Random Forest\n",
      "Accuracy: 0.65\n",
      "Classification Report:\n",
      "              precision    recall  f1-score   support\n",
      "\n",
      "     class 0       1.00      0.33      0.50         3\n",
      "     class 1       0.61      1.00      0.76        11\n",
      "     class 2       1.00      0.17      0.29         6\n",
      "\n",
      "    accuracy                           0.65        20\n",
      "   macro avg       0.87      0.50      0.51        20\n",
      "weighted avg       0.79      0.65      0.58        20\n",
      "\n",
      "=======================================================\n"
     ]
    }
   ],
   "source": [
    "import warnings\n",
    "\n",
    "# Ignore warnings\n",
    "warnings.filterwarnings(\"ignore\")\n",
    "\n",
    "from sklearn.model_selection import train_test_split\n",
    "from sklearn.preprocessing import StandardScaler\n",
    "from sklearn.pipeline import Pipeline\n",
    "from sklearn.tree import DecisionTreeClassifier\n",
    "from sklearn.ensemble import RandomForestClassifier\n",
    "from sklearn.svm import SVC\n",
    "from sklearn.linear_model import LogisticRegression\n",
    "from sklearn.neighbors import KNeighborsClassifier\n",
    "from sklearn.metrics import accuracy_score, classification_report\n",
    "from lightgbm import LGBMClassifier\n",
    "import xgboost\n",
    "from xgboost import XGBClassifier\n",
    "from xgboost import plot_importance\n",
    "from matplotlib import pyplot\n",
    "\n",
    "X = df.drop(columns='LevelOfDetail')\n",
    "y = df['LevelOfDetail']\n",
    "\n",
    "# Split the dataset into training and testing sets\n",
    "X_train, X_test, y_train, y_test = train_test_split(X, y, test_size=0.2, random_state=0)\n",
    "print(X_train.shape, y_train.shape, X_test.shape, y_test.shape)\n",
    "\n",
    "# Create a dictionary of classifiers\n",
    "classifiers = {\n",
    "    'GaussianNB': GaussianNB(),\n",
    "    'Logistic Regression': LogisticRegression(),\n",
    "    'Support Vector Machine Linear': SVC(kernel='linear'),\n",
    "    'Support Vector Machine RBF': SVC(kernel='rbf'),\n",
    "    'XGBoost': xgboost.XGBClassifier(objective=\"multi:softmax\"),\n",
    "    'KNN': KNeighborsClassifier(n_neighbors=20),\n",
    "    'Decision Tree': DecisionTreeClassifier(max_depth=4, criterion='entropy'),\n",
    "    'Random Forest': RandomForestClassifier(max_depth=4)\n",
    "}\n",
    "\n",
    "# Create pipelines for each classifier\n",
    "pipelines = {}\n",
    "for name, clf in classifiers.items():\n",
    "    pipelines[name] = Pipeline([\n",
    "        ('classifier', clf)\n",
    "    ])\n",
    "    \n",
    "target_names = ['class 0', 'class 1', 'class 2']\n",
    "\n",
    "# Train and evaluate each classifier\n",
    "for name, pipe in pipelines.items():\n",
    "    \n",
    "    # Fit classifier\n",
    "    pipe.fit(X_train, y_train)\n",
    "    \n",
    "    # Make prediction\n",
    "    y_pred = pipe.predict(X_test)\n",
    "    \n",
    "    accuracy = accuracy_score(y_test, y_pred)\n",
    "    report = classification_report(y_test, y_pred, target_names=target_names)\n",
    "    \n",
    "    print(f\"Classifier: {name}\")\n",
    "    print(f\"Accuracy: {accuracy:.2f}\")\n",
    "    print(\"Classification Report:\")\n",
    "    print(report)    \n",
    "    \n",
    "    print(\"=\"*55)"
   ]
  },
  {
   "cell_type": "markdown",
   "id": "0e2f8f50-f99a-4e12-bfe6-d4667155e10b",
   "metadata": {},
   "source": [
    "SUMMARY: Differences in results between standardisation and non-standardisation\n",
    "\n",
    "- Logistic regression (0.85) with standardisation, (0.60) without standardisation\n",
    "- Decision tree (0.65) with standardisation, (0.75) without standardisation\n",
    "- Gaussian (0.45) with standardisation, (0.50) without standardisation\n",
    "\n",
    "There is no difference in results for other 5 classifiers."
   ]
  },
  {
   "cell_type": "markdown",
   "id": "7a65fed0-1c41-4d37-b56f-f0987657faed",
   "metadata": {},
   "source": [
    "### Try SelectKBest with SVM linear"
   ]
  },
  {
   "cell_type": "code",
   "execution_count": 57,
   "id": "e3068063-ef7f-4628-a475-e944ca52e9ca",
   "metadata": {},
   "outputs": [
    {
     "name": "stdout",
     "output_type": "stream",
     "text": [
      "Classification accuracy without selecting features: 0.650\n"
     ]
    }
   ],
   "source": [
    "# Ref: https://scikit-learn.org/stable/auto_examples/feature_selection/plot_feature_selection.html#sphx-glr-auto-examples-feature-selection-plot-feature-selection-py\n",
    "\n",
    "from sklearn.pipeline import make_pipeline\n",
    "from sklearn.feature_selection import SelectKBest, f_classif\n",
    "from sklearn.svm import LinearSVC\n",
    "\n",
    "X = df.drop(columns='LevelOfDetail')\n",
    "y = df['LevelOfDetail']\n",
    "\n",
    "clf = make_pipeline(StandardScaler(), SVC(kernel='linear'))\n",
    "clf.fit(X_train, y_train)\n",
    "print(\n",
    "    \"Classification accuracy without selecting features: {:.3f}\".format(\n",
    "        clf.score(X_test, y_test)\n",
    "    )\n",
    ")\n",
    "\n",
    "svm_weights = np.abs(clf[-1].coef_).sum(axis=0)\n",
    "svm_weights /= svm_weights.sum()"
   ]
  },
  {
   "cell_type": "code",
   "execution_count": 58,
   "id": "80716043-036b-4022-9539-6d1f03db6c16",
   "metadata": {},
   "outputs": [
    {
     "name": "stdout",
     "output_type": "stream",
     "text": [
      "Classification accuracy after univariate feature selection: 0.600\n"
     ]
    }
   ],
   "source": [
    "clf_selected = make_pipeline(\n",
    "    SelectKBest(f_classif, k=25), StandardScaler(), SVC(kernel='linear')\n",
    ")\n",
    "clf_selected.fit(X_train, y_train)\n",
    "print(\n",
    "    \"Classification accuracy after univariate feature selection: {:.3f}\".format(\n",
    "        clf_selected.score(X_test, y_test)\n",
    "    )\n",
    ")\n",
    "\n",
    "svm_weights_selected = np.abs(clf_selected[-1].coef_).sum(axis=0)\n",
    "svm_weights_selected /= svm_weights_selected.sum()"
   ]
  },
  {
   "cell_type": "markdown",
   "id": "18f5e1f7-1867-4508-8967-5f424fb91221",
   "metadata": {},
   "source": [
    "SUMMARY: Model performs better without selecting features."
   ]
  },
  {
   "cell_type": "markdown",
   "id": "f7e7dde9-ac36-4d90-ae1f-e64ee92e1d96",
   "metadata": {},
   "source": [
    "### Fine tuning hyperparameters for SVM"
   ]
  },
  {
   "cell_type": "markdown",
   "id": "31af15d5-0906-4860-b99d-cf032017d215",
   "metadata": {},
   "source": [
    "### k-fold Cross-validation without Grid Search"
   ]
  },
  {
   "cell_type": "markdown",
   "id": "e43d16ea-51db-41cb-8ce8-abeb8f0d4dc5",
   "metadata": {},
   "source": [
    "As the simple train / test split might not be representative of the model's performance, we'll perform cross-validation."
   ]
  },
  {
   "cell_type": "markdown",
   "id": "f7882716-f2d6-4fd7-bb0b-83ac630bde30",
   "metadata": {},
   "source": [
    "#### SVC Linear"
   ]
  },
  {
   "cell_type": "code",
   "execution_count": 71,
   "id": "188a34ca-2fbb-42d4-b0ca-abe0eacb4405",
   "metadata": {},
   "outputs": [
    {
     "name": "stdout",
     "output_type": "stream",
     "text": [
      "Mean accuracy: 42.000%\n",
      "Mean precision: 0.363 \n",
      "Mean recall: 0.371\n",
      "Mean F1: 0.346\n"
     ]
    }
   ],
   "source": [
    "from statistics import mean\n",
    "\n",
    "# B. Prepate the dataset\n",
    "X = df.drop(columns='LevelOfDetail')\n",
    "y = df['LevelOfDetail']\n",
    "\n",
    "# C. Prepare Cross Validator and the scoring schemes\n",
    "\n",
    "scoring = ['accuracy', 'recall_macro', 'precision_macro', 'f1_macro']\n",
    "\n",
    "# D. Build a cross validation pipeline\n",
    "pipe = make_pipeline(preprocessing.StandardScaler(), svm.SVC(kernel='linear'))\n",
    "\n",
    "\n",
    "# E. Evaluate the model\n",
    "scores = cross_validate(pipe, X, y, cv=10, scoring=scoring)\n",
    "\n",
    "\n",
    "# accuracy\n",
    "print(\"Mean accuracy: %.3f%%\" % (mean(scores['test_accuracy'])*100))\n",
    "\n",
    "# precision\n",
    "print(\"Mean precision: %.3f \" % (mean(scores['test_precision_macro'])))\n",
    "\n",
    "# recall\n",
    "print(\"Mean recall: %.3f\" % (mean(scores['test_recall_macro'])))\n",
    "\n",
    "# # F1 (F-Measure)\n",
    "print(\"Mean F1: %.3f\" % (mean(scores['test_f1_macro'])))\n"
   ]
  },
  {
   "cell_type": "code",
   "execution_count": 80,
   "id": "1b6eb8bf-383c-46e5-82ca-45a189117863",
   "metadata": {},
   "outputs": [
    {
     "name": "stdout",
     "output_type": "stream",
     "text": [
      "Number features: 16\tTotal Variance Explained: 0.9579776542169016\n"
     ]
    }
   ],
   "source": [
    "from sklearn.preprocessing import StandardScaler\n",
    "from sklearn.decomposition import PCA\n",
    "\n",
    "X = df.iloc[:,:-1].values\n",
    "X_train = df.drop(columns='LevelOfDetail')\n",
    "y_train = df['LevelOfDetail']\n",
    "\n",
    "scaler = StandardScaler()\n",
    "X_train_scaled = scaler.fit_transform(X_train)\n",
    "pca = PCA()\n",
    "X_pca = pca.fit_transform(X_train_scaled)\n",
    "total_explained_variance = pca.explained_variance_ratio_.cumsum()\n",
    "n_over_95 = len(total_explained_variance[total_explained_variance >= .95])\n",
    "n_to_reach_95 = X.shape[1] - n_over_95 + 1\n",
    "print(\"Number features: {}\\tTotal Variance Explained: {}\".format(n_to_reach_95, total_explained_variance[n_to_reach_95-1]))"
   ]
  },
  {
   "cell_type": "code",
   "execution_count": 83,
   "id": "c8b79abd-cff8-410e-9bb4-4dbd829d497d",
   "metadata": {},
   "outputs": [
    {
     "name": "stdout",
     "output_type": "stream",
     "text": [
      "Classifier: GaussianNB\n",
      "Mean accuracy: 39.00%\n",
      "Mean precision: 0.40 \n",
      "Mean recall: 0.43\n",
      "Mean F1: 0.36\n",
      "=============================================\n",
      "Classifier: Logistic Regression\n",
      "Mean accuracy: 52.00%\n",
      "Mean precision: 0.44 \n",
      "Mean recall: 0.45\n",
      "Mean F1: 0.42\n",
      "=============================================\n",
      "Classifier: Support Vector Machine Linear\n",
      "Mean accuracy: 50.00%\n",
      "Mean precision: 0.50 \n",
      "Mean recall: 0.44\n",
      "Mean F1: 0.43\n",
      "=============================================\n",
      "Classifier: Support Vector Machine RBF\n",
      "Mean accuracy: 46.00%\n",
      "Mean precision: 0.29 \n",
      "Mean recall: 0.33\n",
      "Mean F1: 0.29\n",
      "=============================================\n",
      "Classifier: XGBoost\n",
      "Mean accuracy: 49.00%\n",
      "Mean precision: 0.44 \n",
      "Mean recall: 0.41\n",
      "Mean F1: 0.40\n",
      "=============================================\n",
      "Classifier: KNN\n",
      "Mean accuracy: 51.00%\n",
      "Mean precision: 0.30 \n",
      "Mean recall: 0.36\n",
      "Mean F1: 0.30\n",
      "=============================================\n",
      "Classifier: Decision Tree\n",
      "Mean accuracy: 41.00%\n",
      "Mean precision: 0.37 \n",
      "Mean recall: 0.35\n",
      "Mean F1: 0.33\n",
      "=============================================\n",
      "Classifier: Random Forest\n",
      "Mean accuracy: 51.00%\n",
      "Mean precision: 0.40 \n",
      "Mean recall: 0.40\n",
      "Mean F1: 0.37\n",
      "=============================================\n"
     ]
    }
   ],
   "source": [
    "# Create a dictionary of classifiers\n",
    "classifiers = {\n",
    "    'GaussianNB': GaussianNB(),\n",
    "    'Logistic Regression': LogisticRegression(),\n",
    "    'Support Vector Machine Linear': SVC(kernel='linear'),\n",
    "    'Support Vector Machine RBF': SVC(kernel='rbf'),\n",
    "    'XGBoost': xgboost.XGBClassifier(objective=\"multi:softmax\"),\n",
    "    'KNN': KNeighborsClassifier(n_neighbors=20),\n",
    "    'Decision Tree': DecisionTreeClassifier(max_depth=4, criterion='entropy'),\n",
    "    'Random Forest': RandomForestClassifier(max_depth=4)\n",
    "}\n",
    "\n",
    "# Create pipelines for each classifier\n",
    "pipelines = {}\n",
    "for name, clf in classifiers.items():\n",
    "    pipelines[name] = make_pipeline(SelectKBest(f_classif, k=16), \n",
    "                                    StandardScaler(), clf)\n",
    "\n",
    "scoring = ['accuracy', 'recall_macro', 'precision_macro', 'f1_macro']\n",
    "\n",
    "# Train and evaluate each classifier\n",
    "for name, pipe in pipelines.items():\n",
    "    \n",
    "    print(f\"Classifier: {name}\")\n",
    "    \n",
    "    # E. Evaluate the model\n",
    "    scores = cross_validate(pipe, X, y, cv=10, scoring=scoring)\n",
    "\n",
    "    # accuracy\n",
    "    print(\"Mean accuracy: %.2f%%\" % (mean(scores['test_accuracy'])*100))\n",
    "\n",
    "    # precision\n",
    "    print(\"Mean precision: %.2f \" % (mean(scores['test_precision_macro'])))\n",
    "\n",
    "    # recall\n",
    "    print(\"Mean recall: %.2f\" % (mean(scores['test_recall_macro'])))\n",
    "\n",
    "    # # F1 (F-Measure)\n",
    "    print(\"Mean F1: %.2f\" % (mean(scores['test_f1_macro'])))\n",
    "    \n",
    "    print(\"=\"*45)"
   ]
  },
  {
   "cell_type": "markdown",
   "id": "28ab44b3-37ee-4999-a589-62f2eb8a35c4",
   "metadata": {},
   "source": [
    "With SelectKBest, Standardisation, results are highest for Logistic regression with 52%."
   ]
  },
  {
   "cell_type": "code",
   "execution_count": 87,
   "id": "cb1d08d7-a017-48d5-bf13-dd2de67ccb07",
   "metadata": {},
   "outputs": [
    {
     "name": "stdout",
     "output_type": "stream",
     "text": [
      "Classifier: GaussianNB\n",
      "Mean accuracy: 57.00%\n",
      "Mean precision: 0.48 \n",
      "Mean recall: 0.47\n",
      "Mean F1: 0.44\n",
      "=============================================\n",
      "Classifier: Logistic Regression\n",
      "Mean accuracy: 58.00%\n",
      "Mean precision: 0.49 \n",
      "Mean recall: 0.48\n",
      "Mean F1: 0.45\n",
      "=============================================\n",
      "Classifier: Support Vector Machine Linear\n",
      "Mean accuracy: 52.00%\n",
      "Mean precision: 0.39 \n",
      "Mean recall: 0.42\n",
      "Mean F1: 0.37\n",
      "=============================================\n",
      "Classifier: Support Vector Machine RBF\n",
      "Mean accuracy: 49.00%\n",
      "Mean precision: 0.23 \n",
      "Mean recall: 0.33\n",
      "Mean F1: 0.26\n",
      "=============================================\n",
      "Classifier: XGBoost\n",
      "Mean accuracy: 54.00%\n",
      "Mean precision: 0.44 \n",
      "Mean recall: 0.44\n",
      "Mean F1: 0.42\n",
      "=============================================\n",
      "Classifier: KNN\n",
      "Mean accuracy: 54.00%\n",
      "Mean precision: 0.32 \n",
      "Mean recall: 0.38\n",
      "Mean F1: 0.32\n",
      "=============================================\n",
      "Classifier: Decision Tree\n",
      "Mean accuracy: 51.00%\n",
      "Mean precision: 0.43 \n",
      "Mean recall: 0.44\n",
      "Mean F1: 0.42\n",
      "=============================================\n",
      "Classifier: Random Forest\n",
      "Mean accuracy: 51.00%\n",
      "Mean precision: 0.31 \n",
      "Mean recall: 0.37\n",
      "Mean F1: 0.32\n",
      "=============================================\n"
     ]
    }
   ],
   "source": [
    "# Create a dictionary of classifiers\n",
    "classifiers = {\n",
    "    'GaussianNB': GaussianNB(),\n",
    "    'Logistic Regression': LogisticRegression(),\n",
    "    'Support Vector Machine Linear': SVC(kernel='linear'),\n",
    "    'Support Vector Machine RBF': SVC(kernel='rbf'),\n",
    "    'XGBoost': xgboost.XGBClassifier(objective=\"multi:softmax\"),\n",
    "    'KNN': KNeighborsClassifier(n_neighbors=20),\n",
    "    'Decision Tree': DecisionTreeClassifier(max_depth=4, criterion='entropy'),\n",
    "    'Random Forest': RandomForestClassifier(max_depth=4)\n",
    "}\n",
    "\n",
    "# Create pipelines for each classifier\n",
    "pipelines = {}\n",
    "for name, clf in classifiers.items():\n",
    "    pipelines[name] = make_pipeline(#SelectKBest(f_classif, k=16), \n",
    "                                    StandardScaler(), PCA(n_components=5), clf)\n",
    "\n",
    "scoring = ['accuracy', 'recall_macro', 'precision_macro', 'f1_macro']\n",
    "\n",
    "# Train and evaluate each classifier\n",
    "for name, pipe in pipelines.items():\n",
    "    \n",
    "    print(f\"Classifier: {name}\")\n",
    "    \n",
    "    # E. Evaluate the model\n",
    "    scores = cross_validate(pipe, X, y, cv=10, scoring=scoring)\n",
    "\n",
    "    # accuracy\n",
    "    print(\"Mean accuracy: %.2f%%\" % (mean(scores['test_accuracy'])*100))\n",
    "\n",
    "    # precision\n",
    "    print(\"Mean precision: %.2f \" % (mean(scores['test_precision_macro'])))\n",
    "\n",
    "    # recall\n",
    "    print(\"Mean recall: %.2f\" % (mean(scores['test_recall_macro'])))\n",
    "\n",
    "    # # F1 (F-Measure)\n",
    "    print(\"Mean F1: %.2f\" % (mean(scores['test_f1_macro'])))\n",
    "    \n",
    "    print(\"=\"*45)"
   ]
  },
  {
   "cell_type": "markdown",
   "id": "5a232f97-e14c-4c1f-b233-656af62b44e8",
   "metadata": {},
   "source": [
    "With Standardisation, PCA(n=5) results are highest for Logistic Regression with 58%."
   ]
  },
  {
   "cell_type": "markdown",
   "id": "98b7bca0-a88d-4b46-b2fa-61769a22d944",
   "metadata": {},
   "source": [
    "### Fine-tuning without PCA"
   ]
  },
  {
   "cell_type": "code",
   "execution_count": 150,
   "id": "c0efd804-92b3-4fb4-8d24-dc995fc44f3f",
   "metadata": {},
   "outputs": [],
   "source": [
    "X = df.drop(columns='LevelOfDetail')\n",
    "y = df['LevelOfDetail']\n",
    "\n",
    "# Step 1: Splitting data into 80% training and 20% test\n",
    "X_train, X_test, y_train, y_test = train_test_split(X, y, test_size=0.2, random_state=0)"
   ]
  },
  {
   "cell_type": "code",
   "execution_count": 115,
   "id": "ab060195-7b39-46b1-9c97-7e09e4db93b7",
   "metadata": {},
   "outputs": [],
   "source": [
    "# # Ref: https://www.kaggle.com/code/ceyhunsahin/rus-gridsearch-private-score-0-4\n",
    "\n",
    "# def modelPipelineGrid(X_train, y_train, nfolds):\n",
    "#     scores_Cv = []\n",
    "    \n",
    "#     # nb = GaussianNB()\n",
    "#     log_reg = LogisticRegression()\n",
    "#     knn = KNeighborsClassifier()\n",
    "#     svm = SVC()\n",
    "#     # mlp = MLPClassifier(max_iter=500, **rs)\n",
    "#     dt = DecisionTreeClassifier()\n",
    "#     rf = RandomForestClassifier()\n",
    "#     xgb = XGBClassifier()\n",
    " \n",
    "#     # Dictionary of parameters\n",
    "    \n",
    "#     xgb_params = {'n_estimators':range(5,100,5), 'max_depth': [5, 7, 10,15], 'learning_rate':[0.1, 0.05]}\n",
    "\n",
    "#     log_reg_params = {'C': [0.1, 3, 50]}\n",
    "\n",
    "#     knn_params = {'n_neighbors':range(2,200,2)}\n",
    "\n",
    "#     random_params = {'n_estimators':range(5,50,5), 'max_depth': [5, 7, 10]}\n",
    "\n",
    "#     dt_params = {'criterion' : ['gini', 'entropy'],  'max_depth' : [2,4,6,8,10]}\n",
    "\n",
    "#     svm_params = {'C': [0.1,1, 10], 'gamma': [1,0.1,0.01,0.001],'kernel': ['rbf', 'linear', 'poly', 'sigmoid']}\n",
    "\n",
    "#     clfs = [\n",
    "#             # ('Naive Bayes', nb, nb_params)\n",
    "#             ('Logistic Regression', log_reg,log_reg_params),\n",
    "#             ('K-Nearest Neighbors', knn,knn_params),\n",
    "#             ('SVM', svm,svm_params),\n",
    "#             ('Decision Tree', dt, dt_params),\n",
    "#             ('Random Forest', rf, random_params),\n",
    "#             ('XGBoost', xgb, xgb_params),\n",
    "#             ]\n",
    "\n",
    "    \n",
    "#     for clf_name, clf, param_grid in clfs:\n",
    "\n",
    "#         pipe = Pipeline(steps=[\n",
    "#                                    ('std', StandardScaler()),\n",
    "#                                    ('classifier', clf)\n",
    "#                                    ]\n",
    "#                             )\n",
    "\n",
    "#         search = GridSearchCV(pipe, \n",
    "#                               {f'classifier__{paramname}': paramvalue for paramname, paramvalue in param_grid.items()},\n",
    "#                               cv = nfolds)\n",
    "#         search.fit(X_train, y_train)\n",
    "#         scores_Cv.append({'model':clf_name, 'best_score ROC_AUC':search.best_score_, 'best parameters':search.best_params_,\n",
    "#                           'Best model':search.best_estimator_,'Refit Time(s)':search.refit_time_})\n",
    "\n",
    "#     return scores_Cv"
   ]
  },
  {
   "cell_type": "code",
   "execution_count": 146,
   "id": "ed86cfd9-59fb-4c2f-a526-703b2eee9bdd",
   "metadata": {},
   "outputs": [],
   "source": [
    "# scores1 = modelPipelineGrid(X_train, y_train, 10)"
   ]
  },
  {
   "cell_type": "code",
   "execution_count": 149,
   "id": "d520f5e6-d6c0-4236-b1a2-94eaed2d1646",
   "metadata": {},
   "outputs": [
    {
     "data": {
      "text/plain": [
       "[{'model': 'Logistic Regression',\n",
       "  'best_score ROC_AUC': 0.4125,\n",
       "  'best parameters': {'classifier__C': 0.1},\n",
       "  'Best model': Pipeline(steps=[('std', StandardScaler()),\n",
       "                  ('classifier', LogisticRegression(C=0.1))]),\n",
       "  'Refit Time(s)': 0.0},\n",
       " {'model': 'K-Nearest Neighbors',\n",
       "  'best_score ROC_AUC': 0.5125,\n",
       "  'best parameters': {'classifier__n_neighbors': 28},\n",
       "  'Best model': Pipeline(steps=[('std', StandardScaler()),\n",
       "                  ('classifier', KNeighborsClassifier(n_neighbors=28))]),\n",
       "  'Refit Time(s)': 0.004015922546386719},\n",
       " {'model': 'SVM',\n",
       "  'best_score ROC_AUC': 0.5125,\n",
       "  'best parameters': {'classifier__C': 0.1,\n",
       "   'classifier__gamma': 1,\n",
       "   'classifier__kernel': 'rbf'},\n",
       "  'Best model': Pipeline(steps=[('std', StandardScaler()), ('classifier', SVC(C=0.1, gamma=1))]),\n",
       "  'Refit Time(s)': 0.0},\n",
       " {'model': 'Decision Tree',\n",
       "  'best_score ROC_AUC': 0.4875,\n",
       "  'best parameters': {'classifier__criterion': 'entropy',\n",
       "   'classifier__max_depth': 2},\n",
       "  'Best model': Pipeline(steps=[('std', StandardScaler()),\n",
       "                  ('classifier',\n",
       "                   DecisionTreeClassifier(criterion='entropy', max_depth=2))]),\n",
       "  'Refit Time(s)': 0.0},\n",
       " {'model': 'Random Forest',\n",
       "  'best_score ROC_AUC': 0.4625,\n",
       "  'best parameters': {'classifier__max_depth': 7,\n",
       "   'classifier__n_estimators': 20},\n",
       "  'Best model': Pipeline(steps=[('std', StandardScaler()),\n",
       "                  ('classifier',\n",
       "                   RandomForestClassifier(max_depth=7, n_estimators=20))]),\n",
       "  'Refit Time(s)': 0.028641700744628906},\n",
       " {'model': 'XGBoost',\n",
       "  'best_score ROC_AUC': 0.4625,\n",
       "  'best parameters': {'classifier__learning_rate': 0.1,\n",
       "   'classifier__max_depth': 7,\n",
       "   'classifier__n_estimators': 70},\n",
       "  'Best model': Pipeline(steps=[('std', StandardScaler()),\n",
       "                  ('classifier',\n",
       "                   XGBClassifier(base_score=None, booster=None, callbacks=None,\n",
       "                                 colsample_bylevel=None, colsample_bynode=None,\n",
       "                                 colsample_bytree=None,\n",
       "                                 early_stopping_rounds=None,\n",
       "                                 enable_categorical=False, eval_metric=None,\n",
       "                                 feature_types=None, gamma=None, gpu_id=None,\n",
       "                                 grow_policy=None, importance_type=None,\n",
       "                                 interaction_constraints=None, learning_rate=0.1,\n",
       "                                 max_bin=None, max_cat_threshold=None,\n",
       "                                 max_cat_to_onehot=None, max_delta_step=None,\n",
       "                                 max_depth=7, max_leaves=None,\n",
       "                                 min_child_weight=None, missing=nan,\n",
       "                                 monotone_constraints=None, n_estimators=70,\n",
       "                                 n_jobs=None, num_parallel_tree=None,\n",
       "                                 objective='multi:softprob', predictor=None, ...))]),\n",
       "  'Refit Time(s)': 0.06250858306884766}]"
      ]
     },
     "execution_count": 149,
     "metadata": {},
     "output_type": "execute_result"
    }
   ],
   "source": [
    "scores1"
   ]
  },
  {
   "cell_type": "code",
   "execution_count": 147,
   "id": "12eae14b-6e62-4bbb-93aa-fbf3b9b45872",
   "metadata": {},
   "outputs": [],
   "source": [
    "df_scores_GS1 = pd.DataFrame(scores1)\n",
    "df_scores_avec_GS1 = pd.DataFrame()\n",
    "\n",
    "for i in df_scores_GS1.index:\n",
    "    model = df_scores_GS1.iloc[i, 3]\n",
    "    y_model_pred = model.predict(X_test)\n",
    "    result3= []\n",
    "    result3.append({'model': df_scores_GS.iloc[i, 0], 'F1_score': f1_score(y_test, y_model_pred, average='macro'), \n",
    "                    'Precision': precision_score(y_test,y_model_pred, average='macro'), 'Recall': recall_score(y_test, y_model_pred, average='macro'),\n",
    "                    'Accuracy': accuracy_score(y_test, y_model_pred),\n",
    "                    })\n",
    "    df_scores_avec_GS1 = df_scores_avec_GS1.append(result3, ignore_index=True)"
   ]
  },
  {
   "cell_type": "code",
   "execution_count": 148,
   "id": "97b2edd3-4091-4053-87bf-15c357093500",
   "metadata": {},
   "outputs": [
    {
     "data": {
      "text/html": [
       "<div>\n",
       "<style scoped>\n",
       "    .dataframe tbody tr th:only-of-type {\n",
       "        vertical-align: middle;\n",
       "    }\n",
       "\n",
       "    .dataframe tbody tr th {\n",
       "        vertical-align: top;\n",
       "    }\n",
       "\n",
       "    .dataframe thead th {\n",
       "        text-align: right;\n",
       "    }\n",
       "</style>\n",
       "<table border=\"1\" class=\"dataframe\">\n",
       "  <thead>\n",
       "    <tr style=\"text-align: right;\">\n",
       "      <th></th>\n",
       "      <th>model</th>\n",
       "      <th>F1_score</th>\n",
       "      <th>Precision</th>\n",
       "      <th>Recall</th>\n",
       "      <th>Accuracy</th>\n",
       "    </tr>\n",
       "  </thead>\n",
       "  <tbody>\n",
       "    <tr>\n",
       "      <th>0</th>\n",
       "      <td>Logistic Regression</td>\n",
       "      <td>0.770940</td>\n",
       "      <td>0.911111</td>\n",
       "      <td>0.722222</td>\n",
       "      <td>0.80</td>\n",
       "    </tr>\n",
       "    <tr>\n",
       "      <th>1</th>\n",
       "      <td>K-Nearest Neighbors</td>\n",
       "      <td>0.236559</td>\n",
       "      <td>0.183333</td>\n",
       "      <td>0.333333</td>\n",
       "      <td>0.55</td>\n",
       "    </tr>\n",
       "    <tr>\n",
       "      <th>2</th>\n",
       "      <td>SVM</td>\n",
       "      <td>0.236559</td>\n",
       "      <td>0.183333</td>\n",
       "      <td>0.333333</td>\n",
       "      <td>0.55</td>\n",
       "    </tr>\n",
       "    <tr>\n",
       "      <th>3</th>\n",
       "      <td>Decision Tree</td>\n",
       "      <td>0.455128</td>\n",
       "      <td>0.421245</td>\n",
       "      <td>0.494949</td>\n",
       "      <td>0.65</td>\n",
       "    </tr>\n",
       "    <tr>\n",
       "      <th>4</th>\n",
       "      <td>Random Forest</td>\n",
       "      <td>0.537374</td>\n",
       "      <td>0.571795</td>\n",
       "      <td>0.520202</td>\n",
       "      <td>0.60</td>\n",
       "    </tr>\n",
       "    <tr>\n",
       "      <th>5</th>\n",
       "      <td>XGBoost</td>\n",
       "      <td>0.415152</td>\n",
       "      <td>0.398485</td>\n",
       "      <td>0.459596</td>\n",
       "      <td>0.45</td>\n",
       "    </tr>\n",
       "  </tbody>\n",
       "</table>\n",
       "</div>"
      ],
      "text/plain": [
       "                 model  F1_score  Precision    Recall  Accuracy\n",
       "0  Logistic Regression  0.770940   0.911111  0.722222      0.80\n",
       "1  K-Nearest Neighbors  0.236559   0.183333  0.333333      0.55\n",
       "2                  SVM  0.236559   0.183333  0.333333      0.55\n",
       "3        Decision Tree  0.455128   0.421245  0.494949      0.65\n",
       "4        Random Forest  0.537374   0.571795  0.520202      0.60\n",
       "5              XGBoost  0.415152   0.398485  0.459596      0.45"
      ]
     },
     "execution_count": 148,
     "metadata": {},
     "output_type": "execute_result"
    }
   ],
   "source": [
    "df_scores_avec_GS1"
   ]
  },
  {
   "cell_type": "markdown",
   "id": "6f638b1c-1468-4a59-899e-d9affbb87270",
   "metadata": {},
   "source": [
    "### Fine-tuning with PCA included "
   ]
  },
  {
   "cell_type": "code",
   "execution_count": 125,
   "id": "edf7773c-70df-473d-80b3-56194bd152bd",
   "metadata": {},
   "outputs": [],
   "source": [
    "# # Ref: https://www.kaggle.com/code/ceyhunsahin/rus-gridsearch-private-score-0-4\n",
    "\n",
    "# def modelPipelineGrid2(X_train, y_train, nfolds):\n",
    "#     scores_Cv = []\n",
    "    \n",
    "#     # nb = GaussianNB()\n",
    "#     log_reg = LogisticRegression()\n",
    "#     knn = KNeighborsClassifier()\n",
    "#     svm = SVC()\n",
    "#     # mlp = MLPClassifier(max_iter=500, **rs)\n",
    "#     dt = DecisionTreeClassifier()\n",
    "#     rf = RandomForestClassifier()\n",
    "#     xgb = XGBClassifier()\n",
    " \n",
    "#     # Dictionary of parameters\n",
    "    \n",
    "#     xgb_params = {'n_estimators':range(5,100,5), 'max_depth': [5, 7, 10,15], 'learning_rate':[0.1, 0.05]}\n",
    "\n",
    "#     log_reg_params = {'C': [0.1, 3, 50]}\n",
    "\n",
    "#     knn_params = {'n_neighbors':range(2,200,2)}\n",
    "\n",
    "#     random_params = {'n_estimators':range(5,50,5), 'max_depth': [5, 7, 10]}\n",
    "\n",
    "#     dt_params = {'criterion' : ['gini', 'entropy'],  'max_depth' : [2,4,6,8,10]}\n",
    "\n",
    "#     svm_params = {'C': [0.1,1, 10], 'gamma': [1,0.1,0.01,0.001],'kernel': ['rbf', 'linear', 'poly', 'sigmoid']}\n",
    "\n",
    "#     clfs = [\n",
    "#             # ('Naive Bayes', nb, nb_params)\n",
    "#             ('Logistic Regression', log_reg,log_reg_params),\n",
    "#             ('K-Nearest Neighbors', knn,knn_params),\n",
    "#             ('SVM', svm,svm_params),\n",
    "#             ('Decision Tree', dt, dt_params),\n",
    "#             ('Random Forest', rf, random_params),\n",
    "#             ('XGBoost', xgb, xgb_params),\n",
    "#             ]\n",
    "\n",
    "    \n",
    "#     for clf_name, clf, param_grid in clfs:\n",
    "\n",
    "#         pipe = Pipeline(steps=[\n",
    "#                                     ('std', StandardScaler()),\n",
    "#                                     ('pca', PCA(n_components=16)),\n",
    "#                                    ('classifier', clf)\n",
    "#                                    ]\n",
    "#                             )\n",
    "\n",
    "#         search = GridSearchCV(pipe, \n",
    "#                               {f'classifier__{paramname}': paramvalue for paramname, paramvalue in param_grid.items()},\n",
    "#                               cv = nfolds)\n",
    "#         search.fit(X_train, y_train)\n",
    "#         scores_Cv.append({'model':clf_name, 'best_score ROC_AUC':search.best_score_, 'best parameters':search.best_params_,\n",
    "#                           'Best model':search.best_estimator_,'Refit Time(s)':search.refit_time_})\n",
    "\n",
    "#     return scores_Cv"
   ]
  },
  {
   "cell_type": "code",
   "execution_count": 127,
   "id": "67db5ae8-6adc-430c-997b-e4872ae51788",
   "metadata": {},
   "outputs": [],
   "source": [
    "# scores2 = modelPipelineGrid2(X_train, y_train, 10)"
   ]
  },
  {
   "cell_type": "code",
   "execution_count": 128,
   "id": "c543cf2d-94c0-4a18-9544-60875093be14",
   "metadata": {},
   "outputs": [
    {
     "data": {
      "text/plain": [
       "[{'model': 'Logistic Regression',\n",
       "  'best_score ROC_AUC': 0.4375,\n",
       "  'best parameters': {'classifier__C': 0.1},\n",
       "  'Best model': Pipeline(steps=[('std', StandardScaler()), ('pca', PCA(n_components=16)),\n",
       "                  ('classifier', LogisticRegression(C=0.1))]),\n",
       "  'Refit Time(s)': 0.01562952995300293},\n",
       " {'model': 'K-Nearest Neighbors',\n",
       "  'best_score ROC_AUC': 0.5125,\n",
       "  'best parameters': {'classifier__n_neighbors': 30},\n",
       "  'Best model': Pipeline(steps=[('std', StandardScaler()), ('pca', PCA(n_components=16)),\n",
       "                  ('classifier', KNeighborsClassifier(n_neighbors=30))]),\n",
       "  'Refit Time(s)': 0.015631437301635742},\n",
       " {'model': 'SVM',\n",
       "  'best_score ROC_AUC': 0.5125,\n",
       "  'best parameters': {'classifier__C': 0.1,\n",
       "   'classifier__gamma': 1,\n",
       "   'classifier__kernel': 'rbf'},\n",
       "  'Best model': Pipeline(steps=[('std', StandardScaler()), ('pca', PCA(n_components=16)),\n",
       "                  ('classifier', SVC(C=0.1, gamma=1))]),\n",
       "  'Refit Time(s)': 0.0},\n",
       " {'model': 'Decision Tree',\n",
       "  'best_score ROC_AUC': 0.4625,\n",
       "  'best parameters': {'classifier__criterion': 'gini',\n",
       "   'classifier__max_depth': 2},\n",
       "  'Best model': Pipeline(steps=[('std', StandardScaler()), ('pca', PCA(n_components=16)),\n",
       "                  ('classifier', DecisionTreeClassifier(max_depth=2))]),\n",
       "  'Refit Time(s)': 0.0},\n",
       " {'model': 'Random Forest',\n",
       "  'best_score ROC_AUC': 0.4875,\n",
       "  'best parameters': {'classifier__max_depth': 7,\n",
       "   'classifier__n_estimators': 20},\n",
       "  'Best model': Pipeline(steps=[('std', StandardScaler()), ('pca', PCA(n_components=16)),\n",
       "                  ('classifier',\n",
       "                   RandomForestClassifier(max_depth=7, n_estimators=20))]),\n",
       "  'Refit Time(s)': 0.0741891860961914},\n",
       " {'model': 'XGBoost',\n",
       "  'best_score ROC_AUC': 0.525,\n",
       "  'best parameters': {'classifier__learning_rate': 0.05,\n",
       "   'classifier__max_depth': 7,\n",
       "   'classifier__n_estimators': 5},\n",
       "  'Best model': Pipeline(steps=[('std', StandardScaler()), ('pca', PCA(n_components=16)),\n",
       "                  ('classifier',\n",
       "                   XGBClassifier(base_score=None, booster=None, callbacks=None,\n",
       "                                 colsample_bylevel=None, colsample_bynode=None,\n",
       "                                 colsample_bytree=None,\n",
       "                                 early_stopping_rounds=None,\n",
       "                                 enable_categorical=False, eval_metric=None,\n",
       "                                 feature_types=None, gamma=None, gpu_id=None,\n",
       "                                 grow_policy=None, importance_type=None,\n",
       "                                 interaction_constraints=None, learning_rate=0.05,\n",
       "                                 max_bin=None, max_cat_threshold=None,\n",
       "                                 max_cat_to_onehot=None, max_delta_step=None,\n",
       "                                 max_depth=7, max_leaves=None,\n",
       "                                 min_child_weight=None, missing=nan,\n",
       "                                 monotone_constraints=None, n_estimators=5,\n",
       "                                 n_jobs=None, num_parallel_tree=None,\n",
       "                                 objective='multi:softprob', predictor=None, ...))]),\n",
       "  'Refit Time(s)': 0.01562666893005371}]"
      ]
     },
     "execution_count": 128,
     "metadata": {},
     "output_type": "execute_result"
    }
   ],
   "source": [
    "scores2"
   ]
  },
  {
   "cell_type": "code",
   "execution_count": 129,
   "id": "8b318991-fdae-41dc-b673-753927e93d70",
   "metadata": {},
   "outputs": [
    {
     "data": {
      "text/html": [
       "<div>\n",
       "<style scoped>\n",
       "    .dataframe tbody tr th:only-of-type {\n",
       "        vertical-align: middle;\n",
       "    }\n",
       "\n",
       "    .dataframe tbody tr th {\n",
       "        vertical-align: top;\n",
       "    }\n",
       "\n",
       "    .dataframe thead th {\n",
       "        text-align: right;\n",
       "    }\n",
       "</style>\n",
       "<table border=\"1\" class=\"dataframe\">\n",
       "  <thead>\n",
       "    <tr style=\"text-align: right;\">\n",
       "      <th></th>\n",
       "      <th>model</th>\n",
       "      <th>best_score ROC_AUC</th>\n",
       "      <th>best parameters</th>\n",
       "      <th>Best model</th>\n",
       "      <th>Refit Time(s)</th>\n",
       "    </tr>\n",
       "  </thead>\n",
       "  <tbody>\n",
       "    <tr>\n",
       "      <th>0</th>\n",
       "      <td>Logistic Regression</td>\n",
       "      <td>0.4375</td>\n",
       "      <td>{'classifier__C': 0.1}</td>\n",
       "      <td>(StandardScaler(), PCA(n_components=16), Logis...</td>\n",
       "      <td>0.015630</td>\n",
       "    </tr>\n",
       "    <tr>\n",
       "      <th>1</th>\n",
       "      <td>K-Nearest Neighbors</td>\n",
       "      <td>0.5125</td>\n",
       "      <td>{'classifier__n_neighbors': 30}</td>\n",
       "      <td>(StandardScaler(), PCA(n_components=16), KNeig...</td>\n",
       "      <td>0.015631</td>\n",
       "    </tr>\n",
       "    <tr>\n",
       "      <th>2</th>\n",
       "      <td>SVM</td>\n",
       "      <td>0.5125</td>\n",
       "      <td>{'classifier__C': 0.1, 'classifier__gamma': 1,...</td>\n",
       "      <td>(StandardScaler(), PCA(n_components=16), SVC(C...</td>\n",
       "      <td>0.000000</td>\n",
       "    </tr>\n",
       "    <tr>\n",
       "      <th>3</th>\n",
       "      <td>Decision Tree</td>\n",
       "      <td>0.4625</td>\n",
       "      <td>{'classifier__criterion': 'gini', 'classifier_...</td>\n",
       "      <td>(StandardScaler(), PCA(n_components=16), Decis...</td>\n",
       "      <td>0.000000</td>\n",
       "    </tr>\n",
       "    <tr>\n",
       "      <th>4</th>\n",
       "      <td>Random Forest</td>\n",
       "      <td>0.4875</td>\n",
       "      <td>{'classifier__max_depth': 7, 'classifier__n_es...</td>\n",
       "      <td>(StandardScaler(), PCA(n_components=16), (Deci...</td>\n",
       "      <td>0.074189</td>\n",
       "    </tr>\n",
       "    <tr>\n",
       "      <th>5</th>\n",
       "      <td>XGBoost</td>\n",
       "      <td>0.5250</td>\n",
       "      <td>{'classifier__learning_rate': 0.05, 'classifie...</td>\n",
       "      <td>(StandardScaler(), PCA(n_components=16), XGBCl...</td>\n",
       "      <td>0.015627</td>\n",
       "    </tr>\n",
       "  </tbody>\n",
       "</table>\n",
       "</div>"
      ],
      "text/plain": [
       "                 model  best_score ROC_AUC  \\\n",
       "0  Logistic Regression              0.4375   \n",
       "1  K-Nearest Neighbors              0.5125   \n",
       "2                  SVM              0.5125   \n",
       "3        Decision Tree              0.4625   \n",
       "4        Random Forest              0.4875   \n",
       "5              XGBoost              0.5250   \n",
       "\n",
       "                                     best parameters  \\\n",
       "0                             {'classifier__C': 0.1}   \n",
       "1                    {'classifier__n_neighbors': 30}   \n",
       "2  {'classifier__C': 0.1, 'classifier__gamma': 1,...   \n",
       "3  {'classifier__criterion': 'gini', 'classifier_...   \n",
       "4  {'classifier__max_depth': 7, 'classifier__n_es...   \n",
       "5  {'classifier__learning_rate': 0.05, 'classifie...   \n",
       "\n",
       "                                          Best model  Refit Time(s)  \n",
       "0  (StandardScaler(), PCA(n_components=16), Logis...       0.015630  \n",
       "1  (StandardScaler(), PCA(n_components=16), KNeig...       0.015631  \n",
       "2  (StandardScaler(), PCA(n_components=16), SVC(C...       0.000000  \n",
       "3  (StandardScaler(), PCA(n_components=16), Decis...       0.000000  \n",
       "4  (StandardScaler(), PCA(n_components=16), (Deci...       0.074189  \n",
       "5  (StandardScaler(), PCA(n_components=16), XGBCl...       0.015627  "
      ]
     },
     "execution_count": 129,
     "metadata": {},
     "output_type": "execute_result"
    }
   ],
   "source": [
    "df_scores_GS = pd.DataFrame(scores2)\n",
    "df_scores_GS"
   ]
  },
  {
   "cell_type": "code",
   "execution_count": 227,
   "id": "1a425b48-c857-44c5-a514-3931887b7939",
   "metadata": {},
   "outputs": [
    {
     "data": {
      "image/png": "[encoded data removed]",
      "text/plain": [
       "<Figure size 432x288 with 1 Axes>"
      ]
     },
     "metadata": {
      "needs_background": "light"
     },
     "output_type": "display_data"
    },
    {
     "name": "stdout",
     "output_type": "stream",
     "text": [
      "Classification Report:\n",
      "              precision    recall  f1-score   support\n",
      "\n",
      "     class 0       1.00      0.33      0.50         3\n",
      "     class 1       0.69      1.00      0.81        11\n",
      "     class 2       1.00      0.50      0.67         6\n",
      "\n",
      "    accuracy                           0.75        20\n",
      "   macro avg       0.90      0.61      0.66        20\n",
      "weighted avg       0.83      0.75      0.72        20\n",
      "\n",
      "============================================================\n"
     ]
    },
    {
     "data": {
      "image/png": "[encoded data removed]",
      "text/plain": [
       "<Figure size 432x288 with 1 Axes>"
      ]
     },
     "metadata": {
      "needs_background": "light"
     },
     "output_type": "display_data"
    },
    {
     "name": "stdout",
     "output_type": "stream",
     "text": [
      "Classification Report:\n",
      "              precision    recall  f1-score   support\n",
      "\n",
      "     class 0       0.00      0.00      0.00         3\n",
      "     class 1       0.55      1.00      0.71        11\n",
      "     class 2       0.00      0.00      0.00         6\n",
      "\n",
      "    accuracy                           0.55        20\n",
      "   macro avg       0.18      0.33      0.24        20\n",
      "weighted avg       0.30      0.55      0.39        20\n",
      "\n",
      "============================================================\n"
     ]
    },
    {
     "data": {
      "image/png": "[encoded data removed]",
      "text/plain": [
       "<Figure size 432x288 with 1 Axes>"
      ]
     },
     "metadata": {
      "needs_background": "light"
     },
     "output_type": "display_data"
    },
    {
     "name": "stdout",
     "output_type": "stream",
     "text": [
      "Classification Report:\n",
      "              precision    recall  f1-score   support\n",
      "\n",
      "     class 0       0.00      0.00      0.00         3\n",
      "     class 1       0.55      1.00      0.71        11\n",
      "     class 2       0.00      0.00      0.00         6\n",
      "\n",
      "    accuracy                           0.55        20\n",
      "   macro avg       0.18      0.33      0.24        20\n",
      "weighted avg       0.30      0.55      0.39        20\n",
      "\n",
      "============================================================\n"
     ]
    },
    {
     "data": {
      "image/png": "[encoded data removed]",
      "text/plain": [
       "<Figure size 432x288 with 1 Axes>"
      ]
     },
     "metadata": {
      "needs_background": "light"
     },
     "output_type": "display_data"
    },
    {
     "name": "stdout",
     "output_type": "stream",
     "text": [
      "Classification Report:\n",
      "              precision    recall  f1-score   support\n",
      "\n",
      "     class 0       0.00      0.00      0.00         3\n",
      "     class 1       0.53      0.73      0.62        11\n",
      "     class 2       1.00      0.17      0.29         6\n",
      "\n",
      "    accuracy                           0.45        20\n",
      "   macro avg       0.51      0.30      0.30        20\n",
      "weighted avg       0.59      0.45      0.42        20\n",
      "\n",
      "============================================================\n"
     ]
    },
    {
     "data": {
      "image/png": "[encoded data removed]",
      "text/plain": [
       "<Figure size 432x288 with 1 Axes>"
      ]
     },
     "metadata": {
      "needs_background": "light"
     },
     "output_type": "display_data"
    },
    {
     "name": "stdout",
     "output_type": "stream",
     "text": [
      "Classification Report:\n",
      "              precision    recall  f1-score   support\n",
      "\n",
      "     class 0       1.00      0.33      0.50         3\n",
      "     class 1       0.62      0.91      0.74        11\n",
      "     class 2       0.67      0.33      0.44         6\n",
      "\n",
      "    accuracy                           0.65        20\n",
      "   macro avg       0.76      0.53      0.56        20\n",
      "weighted avg       0.69      0.65      0.62        20\n",
      "\n",
      "============================================================\n"
     ]
    },
    {
     "data": {
      "image/png": "[encoded data removed]",
      "text/plain": [
       "<Figure size 432x288 with 1 Axes>"
      ]
     },
     "metadata": {
      "needs_background": "light"
     },
     "output_type": "display_data"
    },
    {
     "name": "stdout",
     "output_type": "stream",
     "text": [
      "Classification Report:\n",
      "              precision    recall  f1-score   support\n",
      "\n",
      "     class 0       0.20      0.33      0.25         3\n",
      "     class 1       0.54      0.64      0.58        11\n",
      "     class 2       0.50      0.17      0.25         6\n",
      "\n",
      "    accuracy                           0.45        20\n",
      "   macro avg       0.41      0.38      0.36        20\n",
      "weighted avg       0.48      0.45      0.43        20\n",
      "\n",
      "============================================================\n"
     ]
    }
   ],
   "source": [
    "from sklearn.metrics import confusion_matrix, ConfusionMatrixDisplay\n",
    "df_scores_avec_GS = pd.DataFrame()\n",
    "target_names = ['class 0', 'class 1', 'class 2']\n",
    "\n",
    "for i in df_scores_GS.index:\n",
    "    model = df_scores_GS.iloc[i, 3]\n",
    "    y_model_pred = model.predict(X_test)\n",
    "    result3= []\n",
    "    result3.append({'model': df_scores_GS.iloc[i, 0], 'F1_score': f1_score(y_test, y_model_pred, average='macro'), \n",
    "                    'Precision': precision_score(y_test,y_model_pred, average='macro'), 'Recall': recall_score(y_test, y_model_pred, average='macro'),\n",
    "                    'Accuracy': accuracy_score(y_test, y_model_pred),\n",
    "                    })\n",
    "    df_scores_avec_GS = df_scores_avec_GS.append(result3, ignore_index=True)\n",
    "    \n",
    "    cm = confusion_matrix(y_test, y_model_pred)\n",
    "    \n",
    "    # Plot confusion matrix\n",
    "    plt.figure(figsize=(6, 4))\n",
    "    sns.heatmap(cm, annot=True, fmt=\"d\", cmap=\"Blues\", cbar=False)\n",
    "    plt.title(f\"Confusion Matrix - {df_scores_GS.iloc[i, 0]}\")\n",
    "    plt.xlabel(\"Predicted\")\n",
    "    plt.ylabel(\"True\")\n",
    "    plt.show()\n",
    "    \n",
    "    # Print the classification report\n",
    "    class_report = classification_report(y_test, y_model_pred, target_names=target_names)\n",
    "    print(\"Classification Report:\")\n",
    "    print(class_report)    \n",
    "    print(\"=\"*60)\n"
   ]
  },
  {
   "cell_type": "code",
   "execution_count": null,
   "id": "4db4af5b-95b2-4f48-9915-2d0073318ed1",
   "metadata": {},
   "outputs": [
    {
     "data": {
      "text/html": [
       "<div>\n",
       "<style scoped>\n",
       "    .dataframe tbody tr th:only-of-type {\n",
       "        vertical-align: middle;\n",
       "    }\n",
       "\n",
       "    .dataframe tbody tr th {\n",
       "        vertical-align: top;\n",
       "    }\n",
       "\n",
       "    .dataframe thead th {\n",
       "        text-align: right;\n",
       "    }\n",
       "</style>\n",
       "<table border=\"1\" class=\"dataframe\">\n",
       "  <thead>\n",
       "    <tr style=\"text-align: right;\">\n",
       "      <th></th>\n",
       "      <th>model</th>\n",
       "      <th>F1_score</th>\n",
       "      <th>Precision</th>\n",
       "      <th>Recall</th>\n",
       "      <th>Accuracy</th>\n",
       "    </tr>\n",
       "  </thead>\n",
       "  <tbody>\n",
       "    <tr>\n",
       "      <th>0</th>\n",
       "      <td>Logistic Regression</td>\n",
       "      <td>0.660494</td>\n",
       "      <td>0.895833</td>\n",
       "      <td>0.611111</td>\n",
       "      <td>0.75</td>\n",
       "    </tr>\n",
       "    <tr>\n",
       "      <th>1</th>\n",
       "      <td>K-Nearest Neighbors</td>\n",
       "      <td>0.236559</td>\n",
       "      <td>0.183333</td>\n",
       "      <td>0.333333</td>\n",
       "      <td>0.55</td>\n",
       "    </tr>\n",
       "    <tr>\n",
       "      <th>2</th>\n",
       "      <td>SVM</td>\n",
       "      <td>0.236559</td>\n",
       "      <td>0.183333</td>\n",
       "      <td>0.333333</td>\n",
       "      <td>0.55</td>\n",
       "    </tr>\n",
       "    <tr>\n",
       "      <th>3</th>\n",
       "      <td>Decision Tree</td>\n",
       "      <td>0.300366</td>\n",
       "      <td>0.511111</td>\n",
       "      <td>0.297980</td>\n",
       "      <td>0.45</td>\n",
       "    </tr>\n",
       "    <tr>\n",
       "      <th>4</th>\n",
       "      <td>Random Forest</td>\n",
       "      <td>0.561728</td>\n",
       "      <td>0.763889</td>\n",
       "      <td>0.525253</td>\n",
       "      <td>0.65</td>\n",
       "    </tr>\n",
       "    <tr>\n",
       "      <th>5</th>\n",
       "      <td>XGBoost</td>\n",
       "      <td>0.361111</td>\n",
       "      <td>0.412821</td>\n",
       "      <td>0.378788</td>\n",
       "      <td>0.45</td>\n",
       "    </tr>\n",
       "  </tbody>\n",
       "</table>\n",
       "</div>"
      ],
      "text/plain": [
       "                 model  F1_score  Precision    Recall  Accuracy\n",
       "0  Logistic Regression  0.660494   0.895833  0.611111      0.75\n",
       "1  K-Nearest Neighbors  0.236559   0.183333  0.333333      0.55\n",
       "2                  SVM  0.236559   0.183333  0.333333      0.55\n",
       "3        Decision Tree  0.300366   0.511111  0.297980      0.45\n",
       "4        Random Forest  0.561728   0.763889  0.525253      0.65\n",
       "5              XGBoost  0.361111   0.412821  0.378788      0.45"
      ]
     },
     "execution_count": 154,
     "metadata": {},
     "output_type": "execute_result"
    }
   ],
   "source": [
    "df_scores_avec_GS"
   ]
  },
  {
   "cell_type": "code",
   "execution_count": null,
   "id": "2076c842-b97d-45ff-b262-0698e8737007",
   "metadata": {},
   "outputs": [],
   "source": [
    "# Ref: https://towardsdatascience.com/cross-validation-and-grid-search-efa64b127c1b\n",
    "# Ref: https://towardsdatascience.com/random-forest-classification-678e551462f5"
   ]
  },
  {
   "cell_type": "code",
   "execution_count": null,
   "id": "e2e4e853-5318-4c34-b59b-5a1b7e1c0009",
   "metadata": {},
   "outputs": [],
   "source": []
  }
 ],
 "metadata": {
  "kernelspec": {
   "display_name": "Python 3 (ipykernel)",
   "language": "python",
   "name": "python3"
  },
  "language_info": {
   "codemirror_mode": {
    "name": "ipython",
    "version": 3
   },
   "file_extension": ".py",
   "mimetype": "text/x-python",
   "name": "python",
   "nbconvert_exporter": "python",
   "pygments_lexer": "ipython3",
   "version": "3.9.7"
  }
 },
 "nbformat": 4,
 "nbformat_minor": 5
}
