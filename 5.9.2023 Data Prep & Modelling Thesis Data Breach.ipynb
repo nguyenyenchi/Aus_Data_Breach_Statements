{
 "cells": [
  {
   "cell_type": "code",
   "execution_count": 22,
   "id": "338f9988-b1eb-4806-889f-6f65e0b66f2d",
   "metadata": {},
   "outputs": [],
   "source": [
    "import pandas as pd\n",
    "import numpy as np\n",
    "import matplotlib.pyplot as plt\n",
    "import seaborn as sns"
   ]
  },
  {
   "cell_type": "code",
   "execution_count": 23,
   "id": "35b96f36-b43e-4fad-a3ce-8390bfe2f4c9",
   "metadata": {},
   "outputs": [
    {
     "name": "stdout",
     "output_type": "stream",
     "text": [
      "<class 'pandas.core.frame.DataFrame'>\n",
      "RangeIndex: 100 entries, 0 to 99\n",
      "Data columns (total 31 columns):\n",
      " #   Column                 Non-Null Count  Dtype  \n",
      "---  ------                 --------------  -----  \n",
      " 0   Name                   100 non-null    object \n",
      " 1   DataBreachSource       100 non-null    object \n",
      " 2   Title                  95 non-null     object \n",
      " 3   Channel                100 non-null    object \n",
      " 4   Sector                 100 non-null    object \n",
      " 5   Author                 42 non-null     object \n",
      " 6   VaderSentiment         100 non-null    object \n",
      " 7   DataType               80 non-null     object \n",
      " 8   PositiveCount          100 non-null    int64  \n",
      " 9   NegativeCount          100 non-null    int64  \n",
      " 10  PosNegRatio            100 non-null    float64\n",
      " 11  PosTotalRatio          100 non-null    float64\n",
      " 12  AvgPositiveConf        100 non-null    float64\n",
      " 13  AvgNegativeConf        100 non-null    float64\n",
      " 14  WordCount              100 non-null    int64  \n",
      " 15  SentenceCount          100 non-null    int64  \n",
      " 16  ReadingEase            100 non-null    float64\n",
      " 17  Flesch-KincaidGrade    100 non-null    float64\n",
      " 18  HyperlinksCount        100 non-null    int64  \n",
      " 19  CyberKeywordCount      100 non-null    int64  \n",
      " 20  AuthorityKeywordCount  100 non-null    int64  \n",
      " 21  FAQKeywordCount        100 non-null    int64  \n",
      " 22  AvgWordLength          100 non-null    float64\n",
      " 23  AvgSentenceLength      100 non-null    float64\n",
      " 24  UniqueWordCount        100 non-null    int64  \n",
      " 25  StopWordCount          100 non-null    int64  \n",
      " 26  CharCount              100 non-null    int64  \n",
      " 27  PunctuationCount       100 non-null    int64  \n",
      " 28  EmailTagCount          100 non-null    int64  \n",
      " 29  TimelagGroupEncoded    100 non-null    float64\n",
      " 30  CombinedLabel          100 non-null    float64\n",
      "dtypes: float64(10), int64(13), object(8)\n",
      "memory usage: 24.3+ KB\n"
     ]
    }
   ],
   "source": [
    "df = pd.read_csv('model1.csv')\n",
    "df.info()"
   ]
  },
  {
   "cell_type": "code",
   "execution_count": 24,
   "id": "2a66b7f4-c54a-4952-8607-429e6a7c2ddd",
   "metadata": {},
   "outputs": [
    {
     "data": {
      "text/html": [
       "<div>\n",
       "<style scoped>\n",
       "    .dataframe tbody tr th:only-of-type {\n",
       "        vertical-align: middle;\n",
       "    }\n",
       "\n",
       "    .dataframe tbody tr th {\n",
       "        vertical-align: top;\n",
       "    }\n",
       "\n",
       "    .dataframe thead th {\n",
       "        text-align: right;\n",
       "    }\n",
       "</style>\n",
       "<table border=\"1\" class=\"dataframe\">\n",
       "  <thead>\n",
       "    <tr style=\"text-align: right;\">\n",
       "      <th></th>\n",
       "      <th>Name</th>\n",
       "      <th>DataBreachSource</th>\n",
       "      <th>Title</th>\n",
       "      <th>Channel</th>\n",
       "      <th>Sector</th>\n",
       "      <th>Author</th>\n",
       "      <th>VaderSentiment</th>\n",
       "      <th>DataType</th>\n",
       "      <th>PositiveCount</th>\n",
       "      <th>NegativeCount</th>\n",
       "      <th>...</th>\n",
       "      <th>FAQKeywordCount</th>\n",
       "      <th>AvgWordLength</th>\n",
       "      <th>AvgSentenceLength</th>\n",
       "      <th>UniqueWordCount</th>\n",
       "      <th>StopWordCount</th>\n",
       "      <th>CharCount</th>\n",
       "      <th>PunctuationCount</th>\n",
       "      <th>EmailTagCount</th>\n",
       "      <th>TimelagGroupEncoded</th>\n",
       "      <th>CombinedLabel</th>\n",
       "    </tr>\n",
       "  </thead>\n",
       "  <tbody>\n",
       "    <tr>\n",
       "      <th>0</th>\n",
       "      <td>PageUp People</td>\n",
       "      <td>Malicious or criminal attack</td>\n",
       "      <td>Unauthorised Activity on IT System</td>\n",
       "      <td>Website</td>\n",
       "      <td>Information media and telecommunications</td>\n",
       "      <td>Chief Executive Officer</td>\n",
       "      <td>Positive</td>\n",
       "      <td>name, street address, email address, telephone...</td>\n",
       "      <td>7</td>\n",
       "      <td>3</td>\n",
       "      <td>...</td>\n",
       "      <td>2</td>\n",
       "      <td>5.240566</td>\n",
       "      <td>21.200000</td>\n",
       "      <td>150</td>\n",
       "      <td>91</td>\n",
       "      <td>1349</td>\n",
       "      <td>21</td>\n",
       "      <td>0</td>\n",
       "      <td>0.45</td>\n",
       "      <td>2.0</td>\n",
       "    </tr>\n",
       "    <tr>\n",
       "      <th>1</th>\n",
       "      <td>Canva</td>\n",
       "      <td>Malicious or criminal attack</td>\n",
       "      <td>Canva Security Incident  May 24 FAQs</td>\n",
       "      <td>Website</td>\n",
       "      <td>Information media and telecommunications</td>\n",
       "      <td>Head of Security</td>\n",
       "      <td>Neutral</td>\n",
       "      <td>username, name, email address, country, city, ...</td>\n",
       "      <td>23</td>\n",
       "      <td>24</td>\n",
       "      <td>...</td>\n",
       "      <td>0</td>\n",
       "      <td>4.885478</td>\n",
       "      <td>19.250000</td>\n",
       "      <td>440</td>\n",
       "      <td>376</td>\n",
       "      <td>5118</td>\n",
       "      <td>111</td>\n",
       "      <td>0</td>\n",
       "      <td>0.45</td>\n",
       "      <td>1.0</td>\n",
       "    </tr>\n",
       "    <tr>\n",
       "      <th>2</th>\n",
       "      <td>Australian National University</td>\n",
       "      <td>Malicious or criminal attack</td>\n",
       "      <td>Message from the Vice-Chancellor</td>\n",
       "      <td>Website</td>\n",
       "      <td>Education and training</td>\n",
       "      <td>Vice-Chancellor</td>\n",
       "      <td>Positive</td>\n",
       "      <td>name, address, date of birth, phone number, pe...</td>\n",
       "      <td>21</td>\n",
       "      <td>7</td>\n",
       "      <td>...</td>\n",
       "      <td>1</td>\n",
       "      <td>5.143141</td>\n",
       "      <td>16.833333</td>\n",
       "      <td>281</td>\n",
       "      <td>229</td>\n",
       "      <td>3206</td>\n",
       "      <td>61</td>\n",
       "      <td>1</td>\n",
       "      <td>0.17</td>\n",
       "      <td>2.0</td>\n",
       "    </tr>\n",
       "    <tr>\n",
       "      <th>3</th>\n",
       "      <td>Australian Catholic University</td>\n",
       "      <td>Malicious or criminal attack</td>\n",
       "      <td>Cyber attack on ACU IT systems</td>\n",
       "      <td>Website</td>\n",
       "      <td>Education and training</td>\n",
       "      <td>Acting Vice-Chancellor</td>\n",
       "      <td>Positive</td>\n",
       "      <td>email account, calendar, bank account details</td>\n",
       "      <td>7</td>\n",
       "      <td>9</td>\n",
       "      <td>...</td>\n",
       "      <td>0</td>\n",
       "      <td>5.392523</td>\n",
       "      <td>20.619048</td>\n",
       "      <td>255</td>\n",
       "      <td>169</td>\n",
       "      <td>2799</td>\n",
       "      <td>49</td>\n",
       "      <td>1</td>\n",
       "      <td>0.45</td>\n",
       "      <td>1.0</td>\n",
       "    </tr>\n",
       "    <tr>\n",
       "      <th>4</th>\n",
       "      <td>NAB</td>\n",
       "      <td>Human error</td>\n",
       "      <td>NAB apologises to customers for data breach</td>\n",
       "      <td>Website</td>\n",
       "      <td>Financial and insurance services</td>\n",
       "      <td>NaN</td>\n",
       "      <td>Positive</td>\n",
       "      <td>customer name, date of birth, contact details,...</td>\n",
       "      <td>14</td>\n",
       "      <td>5</td>\n",
       "      <td>...</td>\n",
       "      <td>0</td>\n",
       "      <td>5.308357</td>\n",
       "      <td>14.708333</td>\n",
       "      <td>217</td>\n",
       "      <td>134</td>\n",
       "      <td>2274</td>\n",
       "      <td>52</td>\n",
       "      <td>0</td>\n",
       "      <td>0.45</td>\n",
       "      <td>1.0</td>\n",
       "    </tr>\n",
       "  </tbody>\n",
       "</table>\n",
       "<p>5 rows × 31 columns</p>\n",
       "</div>"
      ],
      "text/plain": [
       "                             Name              DataBreachSource  \\\n",
       "0                   PageUp People  Malicious or criminal attack   \n",
       "1                           Canva  Malicious or criminal attack   \n",
       "2  Australian National University  Malicious or criminal attack   \n",
       "3  Australian Catholic University  Malicious or criminal attack   \n",
       "4                             NAB                   Human error   \n",
       "\n",
       "                                         Title  Channel  \\\n",
       "0           Unauthorised Activity on IT System  Website   \n",
       "1        Canva Security Incident  May 24 FAQs  Website   \n",
       "2             Message from the Vice-Chancellor  Website   \n",
       "3               Cyber attack on ACU IT systems  Website   \n",
       "4  NAB apologises to customers for data breach  Website   \n",
       "\n",
       "                                     Sector                   Author  \\\n",
       "0  Information media and telecommunications  Chief Executive Officer   \n",
       "1  Information media and telecommunications         Head of Security   \n",
       "2                    Education and training          Vice-Chancellor   \n",
       "3                    Education and training   Acting Vice-Chancellor   \n",
       "4          Financial and insurance services                      NaN   \n",
       "\n",
       "  VaderSentiment                                           DataType  \\\n",
       "0       Positive  name, street address, email address, telephone...   \n",
       "1        Neutral  username, name, email address, country, city, ...   \n",
       "2       Positive  name, address, date of birth, phone number, pe...   \n",
       "3       Positive      email account, calendar, bank account details   \n",
       "4       Positive  customer name, date of birth, contact details,...   \n",
       "\n",
       "   PositiveCount  NegativeCount  ...  FAQKeywordCount  AvgWordLength  \\\n",
       "0              7              3  ...                2       5.240566   \n",
       "1             23             24  ...                0       4.885478   \n",
       "2             21              7  ...                1       5.143141   \n",
       "3              7              9  ...                0       5.392523   \n",
       "4             14              5  ...                0       5.308357   \n",
       "\n",
       "   AvgSentenceLength  UniqueWordCount  StopWordCount  CharCount  \\\n",
       "0          21.200000              150             91       1349   \n",
       "1          19.250000              440            376       5118   \n",
       "2          16.833333              281            229       3206   \n",
       "3          20.619048              255            169       2799   \n",
       "4          14.708333              217            134       2274   \n",
       "\n",
       "   PunctuationCount  EmailTagCount  TimelagGroupEncoded  CombinedLabel  \n",
       "0                21              0                 0.45            2.0  \n",
       "1               111              0                 0.45            1.0  \n",
       "2                61              1                 0.17            2.0  \n",
       "3                49              1                 0.45            1.0  \n",
       "4                52              0                 0.45            1.0  \n",
       "\n",
       "[5 rows x 31 columns]"
      ]
     },
     "execution_count": 24,
     "metadata": {},
     "output_type": "execute_result"
    }
   ],
   "source": [
    "df.head()"
   ]
  },
  {
   "cell_type": "markdown",
   "id": "3582093b-95a5-40ed-8e9b-ebcb7aa09dd7",
   "metadata": {},
   "source": [
    "### Feature Engineering & Feature Transformation"
   ]
  },
  {
   "cell_type": "markdown",
   "id": "0a45aedb-0279-4003-880e-9e694b07a0d3",
   "metadata": {
    "tags": []
   },
   "source": [
    "#### Transform CombinedLabel"
   ]
  },
  {
   "cell_type": "code",
   "execution_count": 25,
   "id": "2b4a484d-9245-4bd1-8ae5-381d8c983f15",
   "metadata": {},
   "outputs": [],
   "source": [
    "# Rename the column\n",
    "df.rename(columns={'CombinedLabel': 'LevelOfDetail'}, inplace=True)\n",
    "\n",
    "# Convert the class label from int to string\n",
    "df['LevelOfDetail'] = df['LevelOfDetail'].astype(str)"
   ]
  },
  {
   "cell_type": "code",
   "execution_count": 26,
   "id": "2fae6b26-c506-427f-bc55-52caea97f943",
   "metadata": {},
   "outputs": [],
   "source": [
    "label = {'1.0' : 0, '2.0': 1, '3.0': 2} # 0 FullTranparency, 1 Guarded, 2 Opacity\n",
    "\n",
    "for dataset in [df]:\n",
    "    dataset['LevelOfDetail'] = dataset['LevelOfDetail'].map(label)"
   ]
  },
  {
   "cell_type": "code",
   "execution_count": 27,
   "id": "deb84015-3f7d-405f-a47e-b32c916e3ac4",
   "metadata": {},
   "outputs": [
    {
     "data": {
      "image/png": "[encoded data removed]",
      "text/plain": [
       "<Figure size 432x288 with 1 Axes>"
      ]
     },
     "metadata": {
      "needs_background": "light"
     },
     "output_type": "display_data"
    }
   ],
   "source": [
    "sns.countplot(x='LevelOfDetail', data=df)\n",
    "plt.show()"
   ]
  },
  {
   "cell_type": "code",
   "execution_count": 28,
   "id": "20aa998a-7052-408d-b3af-619c30283c6c",
   "metadata": {},
   "outputs": [
    {
     "data": {
      "text/plain": [
       "1    52\n",
       "2    25\n",
       "0    23\n",
       "Name: LevelOfDetail, dtype: int64"
      ]
     },
     "execution_count": 28,
     "metadata": {},
     "output_type": "execute_result"
    }
   ],
   "source": [
    "df['LevelOfDetail'].value_counts()"
   ]
  },
  {
   "cell_type": "markdown",
   "id": "78e01bf1-59a0-484d-8f03-5cae37dee402",
   "metadata": {},
   "source": [
    "#### Frequency Encoding Categorical features"
   ]
  },
  {
   "cell_type": "code",
   "execution_count": 29,
   "id": "38491d49-100f-4106-938a-7db9ab6fe30b",
   "metadata": {},
   "outputs": [],
   "source": [
    "nominal_col = ['DataBreachSource', 'Channel', 'Sector', 'VaderSentiment']\n",
    "\n",
    "def freq_encoding(df, nominal_cols):\n",
    "    for col in nominal_cols:\n",
    "        # generate the frequency encoding for each categorical value in the target column\n",
    "        fr_enc = (df.groupby(col).size()) / len(df)\n",
    "\n",
    "        # # print the encoding values\n",
    "        # print(fr_enc)\n",
    "\n",
    "        # create a new column that apply frequency encoding to Age Group\n",
    "        df[col+\"_Encoded\"] = df[col].apply(lambda x : fr_enc[x])\n",
    "        \n",
    "freq_encoding(df, nominal_col)"
   ]
  },
  {
   "cell_type": "code",
   "execution_count": 30,
   "id": "16a0667a-f17f-4cee-85ac-441d437c6807",
   "metadata": {},
   "outputs": [
    {
     "data": {
      "text/plain": [
       "0.24    24\n",
       "0.07    14\n",
       "0.13    13\n",
       "0.09     9\n",
       "0.04     8\n",
       "0.08     8\n",
       "0.02     8\n",
       "0.03     6\n",
       "0.01     5\n",
       "0.05     5\n",
       "Name: Sector_Encoded, dtype: int64"
      ]
     },
     "execution_count": 30,
     "metadata": {},
     "output_type": "execute_result"
    }
   ],
   "source": [
    "df['Sector_Encoded'].value_counts()"
   ]
  },
  {
   "cell_type": "markdown",
   "id": "edd6c325-a2bd-4eae-b9e7-e070f7dbcece",
   "metadata": {},
   "source": [
    "#### Author column"
   ]
  },
  {
   "cell_type": "code",
   "execution_count": 31,
   "id": "99dcb2ec-5a51-4a60-afef-8b720cb6c38a",
   "metadata": {},
   "outputs": [
    {
     "data": {
      "text/plain": [
       "NaN                                   58\n",
       "Chief Executive Officer               11\n",
       "Company's Name                         5\n",
       "Board                                  5\n",
       "Vice-Chancellor                        3\n",
       "Managing Director                      2\n",
       "Chief Information Security Officer     1\n",
       "Community moderator                    1\n",
       "VP of Product Management               1\n",
       "Chief Digital Officer                  1\n",
       "Vice President Media Relations         1\n",
       "Chairman                               1\n",
       "Media contact                          1\n",
       "Chief Financial Officer                1\n",
       "Principal                              1\n",
       "Head of Security                       1\n",
       "Chief Security Officer                 1\n",
       "Acting Chief Executive                 1\n",
       "General Secretary                      1\n",
       "Company Secretary                      1\n",
       "Acting Vice-Chancellor                 1\n",
       "General Manager Corporate HR / IR      1\n",
       "Name: Author, dtype: int64"
      ]
     },
     "execution_count": 31,
     "metadata": {},
     "output_type": "execute_result"
    }
   ],
   "source": [
    "df['Author'].value_counts(dropna=False)"
   ]
  },
  {
   "cell_type": "code",
   "execution_count": 32,
   "id": "d5f0385d-fbfe-49dd-85df-437793003c5d",
   "metadata": {},
   "outputs": [
    {
     "data": {
      "text/plain": [
       "False"
      ]
     },
     "execution_count": 32,
     "metadata": {},
     "output_type": "execute_result"
    }
   ],
   "source": [
    "isinstance(df['Author'][4], str)"
   ]
  },
  {
   "cell_type": "code",
   "execution_count": 33,
   "id": "9a6774b2-a3d5-4402-a45d-ba5618718e7d",
   "metadata": {},
   "outputs": [],
   "source": [
    "# Create new column if there is an author mentioned\n",
    "df['AuthorMention'] = df['Author'].apply(lambda x: 1 if isinstance(x, str) else 0)"
   ]
  },
  {
   "cell_type": "code",
   "execution_count": 34,
   "id": "e6cda97d-0d14-45a4-8c57-e0d021a154f0",
   "metadata": {},
   "outputs": [
    {
     "data": {
      "text/plain": [
       "0    58\n",
       "1    42\n",
       "Name: AuthorMention, dtype: int64"
      ]
     },
     "execution_count": 34,
     "metadata": {},
     "output_type": "execute_result"
    }
   ],
   "source": [
    "df['AuthorMention'].value_counts()"
   ]
  },
  {
   "cell_type": "markdown",
   "id": "9e75507d-e9dc-4ce9-8566-7ee197832082",
   "metadata": {},
   "source": [
    "#### Title column"
   ]
  },
  {
   "cell_type": "code",
   "execution_count": 35,
   "id": "3300526e-4596-4a52-8efd-b396925743e6",
   "metadata": {},
   "outputs": [
    {
     "data": {
      "text/plain": [
       "0             Unauthorised Activity on IT System\n",
       "1          Canva Security Incident  May 24 FAQs\n",
       "2               Message from the Vice-Chancellor\n",
       "3                 Cyber attack on ACU IT systems\n",
       "4    NAB apologises to customers for data breach\n",
       "Name: Title, dtype: object"
      ]
     },
     "execution_count": 35,
     "metadata": {},
     "output_type": "execute_result"
    }
   ],
   "source": [
    "df['Title'].head()"
   ]
  },
  {
   "cell_type": "code",
   "execution_count": 36,
   "id": "a96fffd4-1b32-4df1-a754-83c05bb99877",
   "metadata": {},
   "outputs": [],
   "source": [
    "import string\n",
    "import nltk\n",
    "from nltk.corpus import stopwords\n",
    "from nltk import sent_tokenize\n",
    "from nltk.tokenize import word_tokenize\n",
    "from nltk.stem import WordNetLemmatizer\n",
    "from nltk.tokenize import word_tokenize\n",
    "from nltk.stem import WordNetLemmatizer"
   ]
  },
  {
   "cell_type": "code",
   "execution_count": 37,
   "id": "b279b208-30f0-477a-bb89-1ead0e97a899",
   "metadata": {},
   "outputs": [],
   "source": [
    "# Ref: https://www.machinelearningplus.com/nlp/lemmatization-examples-python/\n",
    "\n",
    "# Lemmatize with POS Tag\n",
    "from nltk.corpus import wordnet\n",
    "# nltk.download('averaged_perceptron_tagger')\n",
    "\n",
    "def get_wordnet_pos(word):\n",
    "    \"\"\"Map POS tag to first character lemmatize() accepts\"\"\"\n",
    "    tag = nltk.pos_tag([word])[0][1][0].upper()\n",
    "    tag_dict = {\"J\": wordnet.ADJ,\n",
    "                \"N\": wordnet.NOUN,\n",
    "                \"V\": wordnet.VERB,\n",
    "                \"R\": wordnet.ADV}\n",
    "\n",
    "    return tag_dict.get(tag, wordnet.NOUN)"
   ]
  },
  {
   "cell_type": "code",
   "execution_count": 38,
   "id": "844cd456-1807-4426-972b-97ac786f6559",
   "metadata": {},
   "outputs": [],
   "source": [
    "def preprocess(text):\n",
    "    try: \n",
    "        # split into sentences\n",
    "        sentences = sent_tokenize(text)\n",
    "\n",
    "        # split into words\n",
    "        tokens = word_tokenize(text)\n",
    "\n",
    "        # convert to lower case\n",
    "        tokens = [w.lower() for w in tokens]\n",
    "\n",
    "        # remove punctuation from each word\n",
    "        table = str.maketrans('', '', string.punctuation)\n",
    "        stripped = [w.translate(table) for w in tokens]\n",
    "\n",
    "        # remove remaining tokens that are not alphabetic\n",
    "        words = [word for word in stripped if word.isalpha()]\n",
    "\n",
    "        # filter out stop words\n",
    "        stop_words = set(stopwords.words('english'))\n",
    "        words = [w for w in words if not w in stop_words]\n",
    "\n",
    "        # Lemmatise the tokens\n",
    "        lemmatizer = WordNetLemmatizer()\n",
    "        lemmatized_tokens = [lemmatizer.lemmatize(word, get_wordnet_pos(word)) for word in words]\n",
    "\n",
    "        # Join the tokens back into a string\n",
    "        processed_text = ' '.join(lemmatized_tokens)\n",
    "        return processed_text\n",
    "    except TypeError:\n",
    "        return \"\""
   ]
  },
  {
   "cell_type": "code",
   "execution_count": 39,
   "id": "11acafba-85bc-4428-afcd-de54477f63b5",
   "metadata": {},
   "outputs": [],
   "source": [
    "df['Title_nltk'] = df['Title'].apply(lambda x: preprocess(x))"
   ]
  },
  {
   "cell_type": "code",
   "execution_count": 40,
   "id": "8c3e05ee-4985-4eab-8331-6dab166b935a",
   "metadata": {},
   "outputs": [
    {
     "data": {
      "text/plain": [
       "0           unauthorised activity system\n",
       "1        canva security incident may faq\n",
       "2                 message vicechancellor\n",
       "3                cyber attack acu system\n",
       "4    nab apologises customer data breach\n",
       "Name: Title_nltk, dtype: object"
      ]
     },
     "execution_count": 40,
     "metadata": {},
     "output_type": "execute_result"
    }
   ],
   "source": [
    "df['Title_nltk'].head()"
   ]
  },
  {
   "cell_type": "markdown",
   "id": "05a8ff3d-7538-4627-930d-b09ee19deee4",
   "metadata": {},
   "source": [
    "##### Topic modelling for Title"
   ]
  },
  {
   "cell_type": "code",
   "execution_count": 41,
   "id": "7eec3669-8542-4cd4-a1f5-68dc15a6c035",
   "metadata": {},
   "outputs": [
    {
     "name": "stdout",
     "output_type": "stream",
     "text": [
      "Topic 0:\n",
      "data incident\n",
      "Topic 1:\n",
      "data incident\n",
      "Topic 2:\n",
      "incident data\n",
      "Topic 3:\n",
      "incident data\n",
      "Topic 4:\n",
      "incident data\n"
     ]
    }
   ],
   "source": [
    "# Ref: https://scikit-learn.org/stable/modules/generated/sklearn.feature_extraction.text.CountVectorizer.html\n",
    "# Ref: https://www.studytonight.com/post/scikitlearn-countvectorizer-in-nlp\n",
    "\n",
    "from sklearn.feature_extraction.text import CountVectorizer\n",
    "from sklearn.decomposition import LatentDirichletAllocation\n",
    "\n",
    "# LATENT DIRICHLET ALLOCATION (LDA) TOPIC MODELLING\n",
    "\n",
    "tf_vectorizer = CountVectorizer(max_df=0.90, min_df=25, max_features=5000)\n",
    "tf = tf_vectorizer.fit_transform(df['Title_nltk'].values.astype('U'))\n",
    "tf_feature_names = tf_vectorizer.get_feature_names_out()\n",
    "doc_term_matrix = pd.DataFrame(tf.toarray(), columns=list(tf_feature_names))\n",
    "doc_term_matrix\n",
    "\n",
    "lda_model = LatentDirichletAllocation(n_components=5,learning_method='online',max_iter=50, random_state=0).fit(tf)\n",
    "no_top_words = 2\n",
    "def display_topics(model, feature_names, no_top_words):\n",
    "    for topix_idx, topic in enumerate(model.components_):\n",
    "        print(\"Topic %d:\" % (topix_idx))\n",
    "        print(\" \".join([feature_names[i] for i in topic.argsort()[:-no_top_words-1:-1]]))\n",
    "display_topics(lda_model, tf_feature_names, no_top_words)"
   ]
  },
  {
   "cell_type": "markdown",
   "id": "0c388d6d-e7e3-458f-bc2d-730a029b19f4",
   "metadata": {},
   "source": [
    "Summary: All titles revolve around the topic: \"data incident.\""
   ]
  },
  {
   "cell_type": "code",
   "execution_count": 42,
   "id": "144ddf06-564b-49a8-aeff-cb3bec16b393",
   "metadata": {},
   "outputs": [
    {
     "data": {
      "text/plain": [
       "NaN                                                5\n",
       "Data Breach                                        2\n",
       "Cyber Security Incident                            2\n",
       "Privacy breach                                     2\n",
       "Cyber Incident                                     2\n",
       "                                                  ..\n",
       "IMPORTANT INFORMATION: CTARS DATA BREACH           1\n",
       "AIS privacy incident                               1\n",
       "Unauthorised disclosure of personal information    1\n",
       "Frontier Software Cyber Incident                   1\n",
       "Appen Advises Of IT Security Incident              1\n",
       "Name: Title, Length: 92, dtype: int64"
      ]
     },
     "execution_count": 42,
     "metadata": {},
     "output_type": "execute_result"
    }
   ],
   "source": [
    "df['Title'].value_counts(dropna=False)"
   ]
  },
  {
   "cell_type": "code",
   "execution_count": 43,
   "id": "eeba66bb-450c-4352-a4da-63a1ef02d110",
   "metadata": {},
   "outputs": [],
   "source": [
    "# Create new column if there is a title for the statement\n",
    "df['TitleMention'] = df['Title'].apply(lambda x: 1 if isinstance(x, str) else 0)"
   ]
  },
  {
   "cell_type": "code",
   "execution_count": 44,
   "id": "ac91c507-5e99-4622-9f68-f9f9efed3377",
   "metadata": {},
   "outputs": [
    {
     "data": {
      "text/plain": [
       "1    95\n",
       "0     5\n",
       "Name: TitleMention, dtype: int64"
      ]
     },
     "execution_count": 44,
     "metadata": {},
     "output_type": "execute_result"
    }
   ],
   "source": [
    "df['TitleMention'].value_counts(dropna=False)"
   ]
  },
  {
   "cell_type": "markdown",
   "id": "4a70a840-72d5-4b9d-a8df-0b2d1acfd579",
   "metadata": {},
   "source": [
    "#### Datatype"
   ]
  },
  {
   "cell_type": "code",
   "execution_count": 45,
   "id": "c5cd52c2-f6ad-4a61-9126-4fd28bed80d3",
   "metadata": {},
   "outputs": [
    {
     "data": {
      "text/plain": [
       "0     name, street address, email address, telephone...\n",
       "1     username, name, email address, country, city, ...\n",
       "2     name, address, date of birth, phone number, pe...\n",
       "3         email account, calendar, bank account details\n",
       "4     customer name, date of birth, contact details,...\n",
       "                            ...                        \n",
       "95    name, address, country, phone, email, hashed p...\n",
       "96                    name, phone number, email address\n",
       "97    name, email address, mobile, Landline phone nu...\n",
       "98    personal information of Aristocrate employees ...\n",
       "99    customer and crowd name, company name, email a...\n",
       "Name: DataType, Length: 100, dtype: object"
      ]
     },
     "execution_count": 45,
     "metadata": {},
     "output_type": "execute_result"
    }
   ],
   "source": [
    "df['DataType']"
   ]
  },
  {
   "cell_type": "code",
   "execution_count": 46,
   "id": "d3d1573f-3a6a-4a41-b5d9-caaaa96e9329",
   "metadata": {},
   "outputs": [
    {
     "data": {
      "text/plain": [
       "'name, street address, email address, telephone number, employment information, gender, date of birth, middle name, nationality, job references, job information, system communication, approval request, agency contacts login detail'"
      ]
     },
     "execution_count": 46,
     "metadata": {},
     "output_type": "execute_result"
    }
   ],
   "source": [
    "df['DataType'][0]"
   ]
  },
  {
   "cell_type": "code",
   "execution_count": 47,
   "id": "5a65f61d-fac8-4d7d-b262-5a191de4b0e0",
   "metadata": {},
   "outputs": [
    {
     "data": {
      "text/plain": [
       "{'OAuth login token',\n",
       " 'city',\n",
       " 'country',\n",
       " 'credit card',\n",
       " 'cryptographically protected password',\n",
       " 'email address',\n",
       " 'homepage URL',\n",
       " 'name',\n",
       " 'payment data',\n",
       " 'username'}"
      ]
     },
     "execution_count": 47,
     "metadata": {},
     "output_type": "execute_result"
    }
   ],
   "source": [
    "set(df['DataType'][1].split(', '))"
   ]
  },
  {
   "cell_type": "code",
   "execution_count": 48,
   "id": "ab44e3af-6eaa-4817-a987-8d7f753fb153",
   "metadata": {},
   "outputs": [
    {
     "data": {
      "text/plain": [
       "10"
      ]
     },
     "execution_count": 48,
     "metadata": {},
     "output_type": "execute_result"
    }
   ],
   "source": [
    "len(set(df['DataType'][1].split(', ')))"
   ]
  },
  {
   "cell_type": "code",
   "execution_count": 49,
   "id": "5e1f6e99-2621-409e-800d-ebf7547ef471",
   "metadata": {},
   "outputs": [
    {
     "data": {
      "text/plain": [
       "NaN                                                                                                                                                                                                                                      20\n",
       "name, email address, phone number, customer chat transcripts                                                                                                                                                                              2\n",
       "                                                                                                                                                                                                                                          2\n",
       "email address, phone number                                                                                                                                                                                                               2\n",
       "name, street address, email address, telephone number, employment information, gender, date of birth, middle name, nationality, job references, job information, system communication, approval request, agency contacts login detail     1\n",
       "                                                                                                                                                                                                                                         ..\n",
       "name, student ID and image, date of birth, contact details, course details, unit grades                                                                                                                                                   1\n",
       "student name, student ID, mobile number, Deakin email address, special comments                                                                                                                                                           1\n",
       "confidential government tax policy information                                                                                                                                                                                            1\n",
       "personal, health and other sensitive information                                                                                                                                                                                          1\n",
       "customer and crowd name, company name, email address, encrypted (hashed) password, IP address, historical login and log off time, phone number                                                                                            1\n",
       "Name: DataType, Length: 78, dtype: int64"
      ]
     },
     "execution_count": 49,
     "metadata": {},
     "output_type": "execute_result"
    }
   ],
   "source": [
    "# 20 records without datatype mentioned\n",
    "df['DataType'].value_counts(dropna=False)"
   ]
  },
  {
   "cell_type": "code",
   "execution_count": 50,
   "id": "06cac980-f6d7-41bd-abb3-0681862a855a",
   "metadata": {},
   "outputs": [
    {
     "data": {
      "text/plain": [
       "False"
      ]
     },
     "execution_count": 50,
     "metadata": {},
     "output_type": "execute_result"
    }
   ],
   "source": [
    "isinstance(df['DataType'][7], str)"
   ]
  },
  {
   "cell_type": "code",
   "execution_count": 51,
   "id": "5336899a-c55d-4555-a598-7a5759023fe4",
   "metadata": {},
   "outputs": [],
   "source": [
    "df['DataTypeCount'] = df['DataType'].apply(lambda x: len(set(x.split(', '))) if isinstance(x, str) else 0)"
   ]
  },
  {
   "cell_type": "code",
   "execution_count": 52,
   "id": "fc09b4a8-1d9a-445a-9fe3-edfba88ddbbd",
   "metadata": {},
   "outputs": [
    {
     "data": {
      "text/plain": [
       "0     20\n",
       "1     17\n",
       "2     12\n",
       "4      8\n",
       "7      8\n",
       "3      7\n",
       "6      7\n",
       "9      4\n",
       "10     4\n",
       "5      4\n",
       "12     3\n",
       "14     1\n",
       "8      1\n",
       "18     1\n",
       "13     1\n",
       "22     1\n",
       "11     1\n",
       "Name: DataTypeCount, dtype: int64"
      ]
     },
     "execution_count": 52,
     "metadata": {},
     "output_type": "execute_result"
    }
   ],
   "source": [
    "df['DataTypeCount'].value_counts()"
   ]
  },
  {
   "cell_type": "code",
   "execution_count": 53,
   "id": "f84427cc-b773-4b04-9a74-9ab38568b3d2",
   "metadata": {},
   "outputs": [
    {
     "data": {
      "text/html": [
       "<div>\n",
       "<style scoped>\n",
       "    .dataframe tbody tr th:only-of-type {\n",
       "        vertical-align: middle;\n",
       "    }\n",
       "\n",
       "    .dataframe tbody tr th {\n",
       "        vertical-align: top;\n",
       "    }\n",
       "\n",
       "    .dataframe thead th {\n",
       "        text-align: right;\n",
       "    }\n",
       "</style>\n",
       "<table border=\"1\" class=\"dataframe\">\n",
       "  <thead>\n",
       "    <tr style=\"text-align: right;\">\n",
       "      <th></th>\n",
       "      <th>Name</th>\n",
       "      <th>DataBreachSource</th>\n",
       "      <th>Title</th>\n",
       "      <th>Channel</th>\n",
       "      <th>Sector</th>\n",
       "      <th>Author</th>\n",
       "      <th>VaderSentiment</th>\n",
       "      <th>DataType</th>\n",
       "      <th>PositiveCount</th>\n",
       "      <th>NegativeCount</th>\n",
       "      <th>...</th>\n",
       "      <th>TimelagGroupEncoded</th>\n",
       "      <th>LevelOfDetail</th>\n",
       "      <th>DataBreachSource_Encoded</th>\n",
       "      <th>Channel_Encoded</th>\n",
       "      <th>Sector_Encoded</th>\n",
       "      <th>VaderSentiment_Encoded</th>\n",
       "      <th>AuthorMention</th>\n",
       "      <th>Title_nltk</th>\n",
       "      <th>TitleMention</th>\n",
       "      <th>DataTypeCount</th>\n",
       "    </tr>\n",
       "  </thead>\n",
       "  <tbody>\n",
       "    <tr>\n",
       "      <th>0</th>\n",
       "      <td>PageUp People</td>\n",
       "      <td>Malicious or criminal attack</td>\n",
       "      <td>Unauthorised Activity on IT System</td>\n",
       "      <td>Website</td>\n",
       "      <td>Information media and telecommunications</td>\n",
       "      <td>Chief Executive Officer</td>\n",
       "      <td>Positive</td>\n",
       "      <td>name, street address, email address, telephone...</td>\n",
       "      <td>7</td>\n",
       "      <td>3</td>\n",
       "      <td>...</td>\n",
       "      <td>0.45</td>\n",
       "      <td>1</td>\n",
       "      <td>0.75</td>\n",
       "      <td>0.79</td>\n",
       "      <td>0.24</td>\n",
       "      <td>0.77</td>\n",
       "      <td>1</td>\n",
       "      <td>unauthorised activity system</td>\n",
       "      <td>1</td>\n",
       "      <td>14</td>\n",
       "    </tr>\n",
       "    <tr>\n",
       "      <th>1</th>\n",
       "      <td>Canva</td>\n",
       "      <td>Malicious or criminal attack</td>\n",
       "      <td>Canva Security Incident  May 24 FAQs</td>\n",
       "      <td>Website</td>\n",
       "      <td>Information media and telecommunications</td>\n",
       "      <td>Head of Security</td>\n",
       "      <td>Neutral</td>\n",
       "      <td>username, name, email address, country, city, ...</td>\n",
       "      <td>23</td>\n",
       "      <td>24</td>\n",
       "      <td>...</td>\n",
       "      <td>0.45</td>\n",
       "      <td>0</td>\n",
       "      <td>0.75</td>\n",
       "      <td>0.79</td>\n",
       "      <td>0.24</td>\n",
       "      <td>0.19</td>\n",
       "      <td>1</td>\n",
       "      <td>canva security incident may faq</td>\n",
       "      <td>1</td>\n",
       "      <td>10</td>\n",
       "    </tr>\n",
       "    <tr>\n",
       "      <th>2</th>\n",
       "      <td>Australian National University</td>\n",
       "      <td>Malicious or criminal attack</td>\n",
       "      <td>Message from the Vice-Chancellor</td>\n",
       "      <td>Website</td>\n",
       "      <td>Education and training</td>\n",
       "      <td>Vice-Chancellor</td>\n",
       "      <td>Positive</td>\n",
       "      <td>name, address, date of birth, phone number, pe...</td>\n",
       "      <td>21</td>\n",
       "      <td>7</td>\n",
       "      <td>...</td>\n",
       "      <td>0.17</td>\n",
       "      <td>1</td>\n",
       "      <td>0.75</td>\n",
       "      <td>0.79</td>\n",
       "      <td>0.13</td>\n",
       "      <td>0.77</td>\n",
       "      <td>1</td>\n",
       "      <td>message vicechancellor</td>\n",
       "      <td>1</td>\n",
       "      <td>9</td>\n",
       "    </tr>\n",
       "    <tr>\n",
       "      <th>3</th>\n",
       "      <td>Australian Catholic University</td>\n",
       "      <td>Malicious or criminal attack</td>\n",
       "      <td>Cyber attack on ACU IT systems</td>\n",
       "      <td>Website</td>\n",
       "      <td>Education and training</td>\n",
       "      <td>Acting Vice-Chancellor</td>\n",
       "      <td>Positive</td>\n",
       "      <td>email account, calendar, bank account details</td>\n",
       "      <td>7</td>\n",
       "      <td>9</td>\n",
       "      <td>...</td>\n",
       "      <td>0.45</td>\n",
       "      <td>0</td>\n",
       "      <td>0.75</td>\n",
       "      <td>0.79</td>\n",
       "      <td>0.13</td>\n",
       "      <td>0.77</td>\n",
       "      <td>1</td>\n",
       "      <td>cyber attack acu system</td>\n",
       "      <td>1</td>\n",
       "      <td>3</td>\n",
       "    </tr>\n",
       "    <tr>\n",
       "      <th>4</th>\n",
       "      <td>NAB</td>\n",
       "      <td>Human error</td>\n",
       "      <td>NAB apologises to customers for data breach</td>\n",
       "      <td>Website</td>\n",
       "      <td>Financial and insurance services</td>\n",
       "      <td>NaN</td>\n",
       "      <td>Positive</td>\n",
       "      <td>customer name, date of birth, contact details,...</td>\n",
       "      <td>14</td>\n",
       "      <td>5</td>\n",
       "      <td>...</td>\n",
       "      <td>0.45</td>\n",
       "      <td>0</td>\n",
       "      <td>0.18</td>\n",
       "      <td>0.79</td>\n",
       "      <td>0.09</td>\n",
       "      <td>0.77</td>\n",
       "      <td>0</td>\n",
       "      <td>nab apologises customer data breach</td>\n",
       "      <td>1</td>\n",
       "      <td>4</td>\n",
       "    </tr>\n",
       "  </tbody>\n",
       "</table>\n",
       "<p>5 rows × 39 columns</p>\n",
       "</div>"
      ],
      "text/plain": [
       "                             Name              DataBreachSource  \\\n",
       "0                   PageUp People  Malicious or criminal attack   \n",
       "1                           Canva  Malicious or criminal attack   \n",
       "2  Australian National University  Malicious or criminal attack   \n",
       "3  Australian Catholic University  Malicious or criminal attack   \n",
       "4                             NAB                   Human error   \n",
       "\n",
       "                                         Title  Channel  \\\n",
       "0           Unauthorised Activity on IT System  Website   \n",
       "1        Canva Security Incident  May 24 FAQs  Website   \n",
       "2             Message from the Vice-Chancellor  Website   \n",
       "3               Cyber attack on ACU IT systems  Website   \n",
       "4  NAB apologises to customers for data breach  Website   \n",
       "\n",
       "                                     Sector                   Author  \\\n",
       "0  Information media and telecommunications  Chief Executive Officer   \n",
       "1  Information media and telecommunications         Head of Security   \n",
       "2                    Education and training          Vice-Chancellor   \n",
       "3                    Education and training   Acting Vice-Chancellor   \n",
       "4          Financial and insurance services                      NaN   \n",
       "\n",
       "  VaderSentiment                                           DataType  \\\n",
       "0       Positive  name, street address, email address, telephone...   \n",
       "1        Neutral  username, name, email address, country, city, ...   \n",
       "2       Positive  name, address, date of birth, phone number, pe...   \n",
       "3       Positive      email account, calendar, bank account details   \n",
       "4       Positive  customer name, date of birth, contact details,...   \n",
       "\n",
       "   PositiveCount  NegativeCount  ...  TimelagGroupEncoded  LevelOfDetail  \\\n",
       "0              7              3  ...                 0.45              1   \n",
       "1             23             24  ...                 0.45              0   \n",
       "2             21              7  ...                 0.17              1   \n",
       "3              7              9  ...                 0.45              0   \n",
       "4             14              5  ...                 0.45              0   \n",
       "\n",
       "   DataBreachSource_Encoded  Channel_Encoded  Sector_Encoded  \\\n",
       "0                      0.75             0.79            0.24   \n",
       "1                      0.75             0.79            0.24   \n",
       "2                      0.75             0.79            0.13   \n",
       "3                      0.75             0.79            0.13   \n",
       "4                      0.18             0.79            0.09   \n",
       "\n",
       "   VaderSentiment_Encoded  AuthorMention                           Title_nltk  \\\n",
       "0                    0.77              1         unauthorised activity system   \n",
       "1                    0.19              1      canva security incident may faq   \n",
       "2                    0.77              1               message vicechancellor   \n",
       "3                    0.77              1              cyber attack acu system   \n",
       "4                    0.77              0  nab apologises customer data breach   \n",
       "\n",
       "   TitleMention  DataTypeCount  \n",
       "0             1             14  \n",
       "1             1             10  \n",
       "2             1              9  \n",
       "3             1              3  \n",
       "4             1              4  \n",
       "\n",
       "[5 rows x 39 columns]"
      ]
     },
     "execution_count": 53,
     "metadata": {},
     "output_type": "execute_result"
    }
   ],
   "source": [
    "df.head()"
   ]
  },
  {
   "cell_type": "markdown",
   "id": "b26c8f99-1eab-4215-b36e-cf4369514a65",
   "metadata": {
    "tags": []
   },
   "source": [
    "### Feature Selection"
   ]
  },
  {
   "cell_type": "code",
   "execution_count": 54,
   "id": "fef5c0b3-e4fd-4d3a-9bfc-570c269e0c53",
   "metadata": {},
   "outputs": [],
   "source": [
    "# Copy certain columns to create a new DataFrame\n",
    "selected_columns = ['AuthorMention', 'TitleMention', 'DataTypeCount',\n",
    "    'DataBreachSource_Encoded', 'Channel_Encoded', 'Sector_Encoded', 'VaderSentiment_Encoded',\n",
    "    'PositiveCount', 'NegativeCount', 'PosNegRatio', 'PosTotalRatio', 'AvgPositiveConf', 'AvgNegativeConf', \n",
    "                                              'WordCount', 'SentenceCount', 'ReadingEase', 'Flesch-KincaidGrade', 'HyperlinksCount', 'CyberKeywordCount', 'AuthorityKeywordCount',  'FAQKeywordCount', \n",
    "                                             'AvgWordLength', 'AvgSentenceLength', \n",
    "    'UniqueWordCount', 'StopWordCount', 'CharCount', 'PunctuationCount', 'EmailTagCount', 'TimelagGroupEncoded',\n",
    "    'LevelOfDetail']  \n",
    "# Test modelling for class \"LevelDetail\"\n",
    "df = df[selected_columns].copy()"
   ]
  },
  {
   "cell_type": "code",
   "execution_count": 55,
   "id": "9a8207c8-5d37-4432-a03a-007efe149b9b",
   "metadata": {},
   "outputs": [
    {
     "name": "stdout",
     "output_type": "stream",
     "text": [
      "<class 'pandas.core.frame.DataFrame'>\n",
      "RangeIndex: 100 entries, 0 to 99\n",
      "Data columns (total 30 columns):\n",
      " #   Column                    Non-Null Count  Dtype  \n",
      "---  ------                    --------------  -----  \n",
      " 0   AuthorMention             100 non-null    int64  \n",
      " 1   TitleMention              100 non-null    int64  \n",
      " 2   DataTypeCount             100 non-null    int64  \n",
      " 3   DataBreachSource_Encoded  100 non-null    float64\n",
      " 4   Channel_Encoded           100 non-null    float64\n",
      " 5   Sector_Encoded            100 non-null    float64\n",
      " 6   VaderSentiment_Encoded    100 non-null    float64\n",
      " 7   PositiveCount             100 non-null    int64  \n",
      " 8   NegativeCount             100 non-null    int64  \n",
      " 9   PosNegRatio               100 non-null    float64\n",
      " 10  PosTotalRatio             100 non-null    float64\n",
      " 11  AvgPositiveConf           100 non-null    float64\n",
      " 12  AvgNegativeConf           100 non-null    float64\n",
      " 13  WordCount                 100 non-null    int64  \n",
      " 14  SentenceCount             100 non-null    int64  \n",
      " 15  ReadingEase               100 non-null    float64\n",
      " 16  Flesch-KincaidGrade       100 non-null    float64\n",
      " 17  HyperlinksCount           100 non-null    int64  \n",
      " 18  CyberKeywordCount         100 non-null    int64  \n",
      " 19  AuthorityKeywordCount     100 non-null    int64  \n",
      " 20  FAQKeywordCount           100 non-null    int64  \n",
      " 21  AvgWordLength             100 non-null    float64\n",
      " 22  AvgSentenceLength         100 non-null    float64\n",
      " 23  UniqueWordCount           100 non-null    int64  \n",
      " 24  StopWordCount             100 non-null    int64  \n",
      " 25  CharCount                 100 non-null    int64  \n",
      " 26  PunctuationCount          100 non-null    int64  \n",
      " 27  EmailTagCount             100 non-null    int64  \n",
      " 28  TimelagGroupEncoded       100 non-null    float64\n",
      " 29  LevelOfDetail             100 non-null    int64  \n",
      "dtypes: float64(13), int64(17)\n",
      "memory usage: 23.6 KB\n"
     ]
    }
   ],
   "source": [
    "df.info()"
   ]
  },
  {
   "cell_type": "code",
   "execution_count": 56,
   "id": "8c8aa043-0f29-438c-bc64-20ed380b455e",
   "metadata": {},
   "outputs": [
    {
     "data": {
      "text/html": [
       "<div>\n",
       "<style scoped>\n",
       "    .dataframe tbody tr th:only-of-type {\n",
       "        vertical-align: middle;\n",
       "    }\n",
       "\n",
       "    .dataframe tbody tr th {\n",
       "        vertical-align: top;\n",
       "    }\n",
       "\n",
       "    .dataframe thead th {\n",
       "        text-align: right;\n",
       "    }\n",
       "</style>\n",
       "<table border=\"1\" class=\"dataframe\">\n",
       "  <thead>\n",
       "    <tr style=\"text-align: right;\">\n",
       "      <th></th>\n",
       "      <th>AuthorMention</th>\n",
       "      <th>TitleMention</th>\n",
       "      <th>DataTypeCount</th>\n",
       "      <th>DataBreachSource_Encoded</th>\n",
       "      <th>Channel_Encoded</th>\n",
       "      <th>Sector_Encoded</th>\n",
       "      <th>VaderSentiment_Encoded</th>\n",
       "      <th>PositiveCount</th>\n",
       "      <th>NegativeCount</th>\n",
       "      <th>PosNegRatio</th>\n",
       "      <th>...</th>\n",
       "      <th>FAQKeywordCount</th>\n",
       "      <th>AvgWordLength</th>\n",
       "      <th>AvgSentenceLength</th>\n",
       "      <th>UniqueWordCount</th>\n",
       "      <th>StopWordCount</th>\n",
       "      <th>CharCount</th>\n",
       "      <th>PunctuationCount</th>\n",
       "      <th>EmailTagCount</th>\n",
       "      <th>TimelagGroupEncoded</th>\n",
       "      <th>LevelOfDetail</th>\n",
       "    </tr>\n",
       "  </thead>\n",
       "  <tbody>\n",
       "    <tr>\n",
       "      <th>0</th>\n",
       "      <td>1</td>\n",
       "      <td>1</td>\n",
       "      <td>14</td>\n",
       "      <td>0.75</td>\n",
       "      <td>0.79</td>\n",
       "      <td>0.24</td>\n",
       "      <td>0.77</td>\n",
       "      <td>7</td>\n",
       "      <td>3</td>\n",
       "      <td>2.333333</td>\n",
       "      <td>...</td>\n",
       "      <td>2</td>\n",
       "      <td>5.240566</td>\n",
       "      <td>21.200000</td>\n",
       "      <td>150</td>\n",
       "      <td>91</td>\n",
       "      <td>1349</td>\n",
       "      <td>21</td>\n",
       "      <td>0</td>\n",
       "      <td>0.45</td>\n",
       "      <td>1</td>\n",
       "    </tr>\n",
       "    <tr>\n",
       "      <th>1</th>\n",
       "      <td>1</td>\n",
       "      <td>1</td>\n",
       "      <td>10</td>\n",
       "      <td>0.75</td>\n",
       "      <td>0.79</td>\n",
       "      <td>0.24</td>\n",
       "      <td>0.19</td>\n",
       "      <td>23</td>\n",
       "      <td>24</td>\n",
       "      <td>0.958333</td>\n",
       "      <td>...</td>\n",
       "      <td>0</td>\n",
       "      <td>4.885478</td>\n",
       "      <td>19.250000</td>\n",
       "      <td>440</td>\n",
       "      <td>376</td>\n",
       "      <td>5118</td>\n",
       "      <td>111</td>\n",
       "      <td>0</td>\n",
       "      <td>0.45</td>\n",
       "      <td>0</td>\n",
       "    </tr>\n",
       "    <tr>\n",
       "      <th>2</th>\n",
       "      <td>1</td>\n",
       "      <td>1</td>\n",
       "      <td>9</td>\n",
       "      <td>0.75</td>\n",
       "      <td>0.79</td>\n",
       "      <td>0.13</td>\n",
       "      <td>0.77</td>\n",
       "      <td>21</td>\n",
       "      <td>7</td>\n",
       "      <td>3.000000</td>\n",
       "      <td>...</td>\n",
       "      <td>1</td>\n",
       "      <td>5.143141</td>\n",
       "      <td>16.833333</td>\n",
       "      <td>281</td>\n",
       "      <td>229</td>\n",
       "      <td>3206</td>\n",
       "      <td>61</td>\n",
       "      <td>1</td>\n",
       "      <td>0.17</td>\n",
       "      <td>1</td>\n",
       "    </tr>\n",
       "    <tr>\n",
       "      <th>3</th>\n",
       "      <td>1</td>\n",
       "      <td>1</td>\n",
       "      <td>3</td>\n",
       "      <td>0.75</td>\n",
       "      <td>0.79</td>\n",
       "      <td>0.13</td>\n",
       "      <td>0.77</td>\n",
       "      <td>7</td>\n",
       "      <td>9</td>\n",
       "      <td>0.777778</td>\n",
       "      <td>...</td>\n",
       "      <td>0</td>\n",
       "      <td>5.392523</td>\n",
       "      <td>20.619048</td>\n",
       "      <td>255</td>\n",
       "      <td>169</td>\n",
       "      <td>2799</td>\n",
       "      <td>49</td>\n",
       "      <td>1</td>\n",
       "      <td>0.45</td>\n",
       "      <td>0</td>\n",
       "    </tr>\n",
       "    <tr>\n",
       "      <th>4</th>\n",
       "      <td>0</td>\n",
       "      <td>1</td>\n",
       "      <td>4</td>\n",
       "      <td>0.18</td>\n",
       "      <td>0.79</td>\n",
       "      <td>0.09</td>\n",
       "      <td>0.77</td>\n",
       "      <td>14</td>\n",
       "      <td>5</td>\n",
       "      <td>2.800000</td>\n",
       "      <td>...</td>\n",
       "      <td>0</td>\n",
       "      <td>5.308357</td>\n",
       "      <td>14.708333</td>\n",
       "      <td>217</td>\n",
       "      <td>134</td>\n",
       "      <td>2274</td>\n",
       "      <td>52</td>\n",
       "      <td>0</td>\n",
       "      <td>0.45</td>\n",
       "      <td>0</td>\n",
       "    </tr>\n",
       "  </tbody>\n",
       "</table>\n",
       "<p>5 rows × 30 columns</p>\n",
       "</div>"
      ],
      "text/plain": [
       "   AuthorMention  TitleMention  DataTypeCount  DataBreachSource_Encoded  \\\n",
       "0              1             1             14                      0.75   \n",
       "1              1             1             10                      0.75   \n",
       "2              1             1              9                      0.75   \n",
       "3              1             1              3                      0.75   \n",
       "4              0             1              4                      0.18   \n",
       "\n",
       "   Channel_Encoded  Sector_Encoded  VaderSentiment_Encoded  PositiveCount  \\\n",
       "0             0.79            0.24                    0.77              7   \n",
       "1             0.79            0.24                    0.19             23   \n",
       "2             0.79            0.13                    0.77             21   \n",
       "3             0.79            0.13                    0.77              7   \n",
       "4             0.79            0.09                    0.77             14   \n",
       "\n",
       "   NegativeCount  PosNegRatio  ...  FAQKeywordCount  AvgWordLength  \\\n",
       "0              3     2.333333  ...                2       5.240566   \n",
       "1             24     0.958333  ...                0       4.885478   \n",
       "2              7     3.000000  ...                1       5.143141   \n",
       "3              9     0.777778  ...                0       5.392523   \n",
       "4              5     2.800000  ...                0       5.308357   \n",
       "\n",
       "   AvgSentenceLength  UniqueWordCount  StopWordCount  CharCount  \\\n",
       "0          21.200000              150             91       1349   \n",
       "1          19.250000              440            376       5118   \n",
       "2          16.833333              281            229       3206   \n",
       "3          20.619048              255            169       2799   \n",
       "4          14.708333              217            134       2274   \n",
       "\n",
       "   PunctuationCount  EmailTagCount  TimelagGroupEncoded  LevelOfDetail  \n",
       "0                21              0                 0.45              1  \n",
       "1               111              0                 0.45              0  \n",
       "2                61              1                 0.17              1  \n",
       "3                49              1                 0.45              0  \n",
       "4                52              0                 0.45              0  \n",
       "\n",
       "[5 rows x 30 columns]"
      ]
     },
     "execution_count": 56,
     "metadata": {},
     "output_type": "execute_result"
    }
   ],
   "source": [
    "df.head()"
   ]
  },
  {
   "cell_type": "code",
   "execution_count": 57,
   "id": "1b6eb8bf-383c-46e5-82ca-45a189117863",
   "metadata": {},
   "outputs": [
    {
     "name": "stdout",
     "output_type": "stream",
     "text": [
      "Number features: 16\tTotal Variance Explained: 0.9579776542169016\n"
     ]
    }
   ],
   "source": [
    "from sklearn.preprocessing import StandardScaler\n",
    "from sklearn.decomposition import PCA\n",
    "\n",
    "X = df.iloc[:,:-1].values\n",
    "X_train = df.drop(columns='LevelOfDetail')\n",
    "y_train = df['LevelOfDetail']\n",
    "\n",
    "scaler = StandardScaler()\n",
    "X_train_scaled = scaler.fit_transform(X_train)\n",
    "pca = PCA()\n",
    "X_pca = pca.fit_transform(X_train_scaled)\n",
    "total_explained_variance = pca.explained_variance_ratio_.cumsum()\n",
    "n_over_95 = len(total_explained_variance[total_explained_variance >= .95])\n",
    "n_to_reach_95 = X.shape[1] - n_over_95 + 1\n",
    "print(\"Number features: {}\\tTotal Variance Explained: {}\".format(n_to_reach_95, total_explained_variance[n_to_reach_95-1]))"
   ]
  },
  {
   "cell_type": "code",
   "execution_count": 58,
   "id": "82f2ea6d-cd6f-4d73-91c4-3b038b03cd95",
   "metadata": {},
   "outputs": [],
   "source": [
    "# Machine learning\n",
    "from sklearn.model_selection import train_test_split, GridSearchCV\n",
    "from sklearn import model_selection, tree, preprocessing, datasets, metrics, linear_model\n",
    "from sklearn.svm import LinearSVC, SVC\n",
    "from sklearn.ensemble import RandomForestRegressor, RandomForestClassifier\n",
    "from sklearn.naive_bayes import GaussianNB\n",
    "from sklearn.linear_model import LinearRegression\n",
    "from sklearn.preprocessing import StandardScaler\n",
    "from sklearn.pipeline import make_pipeline\n",
    "from sklearn.decomposition import PCA\n",
    "from sklearn.metrics import accuracy_score, precision_score, recall_score, f1_score, roc_curve, precision_recall_curve, confusion_matrix\n",
    "\n",
    "import math, time, random, datetime"
   ]
  },
  {
   "cell_type": "code",
   "execution_count": 59,
   "id": "3a9a48c0-ad0e-414c-8a60-4332ddd3511d",
   "metadata": {},
   "outputs": [
    {
     "name": "stderr",
     "output_type": "stream",
     "text": [
      "C:\\Apps\\Anaconda\\lib\\site-packages\\sklearn\\metrics\\_classification.py:1344: UndefinedMetricWarning: Precision is ill-defined and being set to 0.0 in labels with no predicted samples. Use `zero_division` parameter to control this behavior.\n",
      "  _warn_prf(average, modifier, msg_start, len(result))\n"
     ]
    },
    {
     "name": "stdout",
     "output_type": "stream",
     "text": [
      "Performance Metrics:\n",
      "Naive Bayes: \n",
      " Accuracy: 66.000% \n",
      " Precision: 0.633 \n",
      " Recall: 0.600 \n",
      " F1 Score: 0.611\n",
      "SVC_linear: \n",
      " Accuracy: 68.000% \n",
      " Precision: 0.663 \n",
      " Recall: 0.618 \n",
      " F1 Score: 0.626\n",
      "SVC_rbf: \n",
      " Accuracy: 52.000% \n",
      " Precision: 0.173 \n",
      " Recall: 0.333 \n",
      " F1 Score: 0.228\n",
      "Random Forest: \n",
      " Accuracy 100.000% \n",
      " Precision: 1.000 \n",
      " Recall: 1.000 \n",
      " F1 Score: 1.000\n",
      "\n",
      "Feature Weights:\n",
      "SVC weights: [[ 0.20497671 -0.11729823 -0.09723671  0.09073002  0.17903575 -0.13097836\n",
      "  -0.04172817  0.36883514  0.32765295  0.02229256  0.21210448 -0.14675051\n",
      "  -0.0454492  -0.07507494 -0.01143145 -0.02822594]\n",
      " [ 0.18835244 -0.00548521 -0.18200582 -0.35619232  0.27700468  0.03733779\n",
      "   0.0648966   0.33941541 -0.04006368  0.23220456 -0.01137768 -0.11716129\n",
      "  -0.02534692 -0.03403468 -0.01961385 -0.13222401]\n",
      " [ 0.16738298  0.00271377 -0.14029712 -0.48462963  0.30943884  0.18210763\n",
      "  -0.00506665  0.26975309 -0.28988886  0.14921515 -0.21994871  0.37917339\n",
      "   0.00672784 -0.04424747 -0.15244072 -0.13745793]]\n",
      "Random Forest weights: [0.08847377 0.0422075  0.04506538 0.12579408 0.05483254 0.0573091\n",
      " 0.04832748 0.05466034 0.07292975 0.05003827 0.05864475 0.05622902\n",
      " 0.0610445  0.07286832 0.05212623 0.05944897]\n",
      "Best Estimator Parameters:\n",
      "Naive Bayes: {}\n",
      "SVC_linear: {'C': 0.1, 'gamma': 0.001}\n",
      "SVC_rbf: {'C': 1, 'gamma': 0.001}\n",
      "Random Forest: {'max_depth': 100, 'n_estimators': 500}\n"
     ]
    },
    {
     "data": {
      "image/png": "[encoded data removed]",
      "text/plain": [
       "<Figure size 1440x360 with 4 Axes>"
      ]
     },
     "metadata": {
      "needs_background": "light"
     },
     "output_type": "display_data"
    }
   ],
   "source": [
    "y_train = df['LevelOfDetail']\n",
    "X_train = df.drop('LevelOfDetail', axis=1)\n",
    "\n",
    "def create_pipeline(X_train, y_train): \n",
    "    # Create transformers\n",
    "    scaler = StandardScaler()\n",
    "    pca = PCA(n_components=16)\n",
    "\n",
    "    # Fit transformers\n",
    "    X_train_scaled = scaler.fit_transform(X_train)\n",
    "    X_train_pca = pca.fit_transform(X_train_scaled)\n",
    "\n",
    "    # Create models\n",
    "    nb = GaussianNB()\n",
    "    svc = SVC(kernel='linear')\n",
    "    svc_r = SVC(kernel='rbf')\n",
    "    rf = RandomForestClassifier()\n",
    "\n",
    "    # Fit models using grid search\n",
    "    nb_grid = GridSearchCV(nb, param_grid={}, cv=10)\n",
    "    nb_grid.fit(X_train_pca, y_train)\n",
    "    \n",
    "    param_grid_svc = {'C': [0.1, 1, 10],\n",
    "                      'gamma': [0.001, 0.01, 0.1]}\n",
    "    svc_grid = GridSearchCV(svc, param_grid=param_grid_svc, cv=10)\n",
    "    svc_grid.fit(X_train_pca, y_train)\n",
    "    \n",
    "    param_grid_svc_r = {'C': [1, 10, 100, 1000],\n",
    "                        'gamma': [1e-3, 1e-4]}\n",
    "    svc_r_grid = GridSearchCV(svc_r, param_grid=param_grid_svc_r, cv=10)\n",
    "    svc_r_grid.fit(X_train_pca, y_train)\n",
    "\n",
    "    param_grid_rf = {'n_estimators': [100, 250, 500, 750, 1000],\n",
    "                     'max_depth': [10, 50, 100]}\n",
    "    rf_grid = GridSearchCV(rf, param_grid=param_grid_rf, cv=10)\n",
    "    rf_grid.fit(X_train_pca, y_train)\n",
    "\n",
    "    # Make predictions\n",
    "    y_pred_nb = nb_grid.predict(X_train_pca)\n",
    "    y_pred_svc = svc_grid.predict(X_train_pca)\n",
    "    y_pred_svc_r = svc_r_grid.predict(X_train_pca)\n",
    "    y_pred_rf = rf_grid.predict(X_train_pca)\n",
    "\n",
    "    # Calculate performance metrics\n",
    "    accuracy_nb = accuracy_score(y_train, y_pred_nb)*100\n",
    "    accuracy_svc = accuracy_score(y_train, y_pred_svc)*100\n",
    "    accuracy_svc_r = accuracy_score(y_train, y_pred_svc_r)*100\n",
    "    accuracy_rf = accuracy_score(y_train, y_pred_rf)*100\n",
    "\n",
    "    precision_nb = precision_score(y_train, y_pred_nb, average='macro')\n",
    "    precision_svc = precision_score(y_train, y_pred_svc, average='macro')\n",
    "    precision_svc_r = precision_score(y_train, y_pred_svc_r, average='macro')\n",
    "    precision_rf = precision_score(y_train, y_pred_rf, average='macro')\n",
    "\n",
    "    recall_nb = recall_score(y_train, y_pred_nb, average='macro')\n",
    "    recall_svc = recall_score(y_train, y_pred_svc, average='macro')\n",
    "    recall_svc_r = recall_score(y_train, y_pred_svc_r, average='macro')\n",
    "    recall_rf = recall_score(y_train, y_pred_rf, average='macro')\n",
    "\n",
    "    f1_nb = f1_score(y_train, y_pred_nb, average='macro')\n",
    "    f1_svc = f1_score(y_train, y_pred_svc, average='macro')\n",
    "    f1_svc_r = f1_score(y_train, y_pred_svc_r, average='macro')\n",
    "    f1_rf = f1_score(y_train, y_pred_rf, average='macro')\n",
    "    \n",
    "     # Extract feature weights for models\n",
    "    feature_weights = {}\n",
    "    if hasattr(svc_grid.best_estimator_, 'coef_'):\n",
    "        feature_weights['SVC'] = svc_grid.best_estimator_.coef_\n",
    "    if hasattr(svc_r_grid.best_estimator_, 'coef_'):\n",
    "        feature_weights['SVC_rbf'] = svc_r_grid.best_estimator_.coef_\n",
    "    if hasattr(rf_grid.best_estimator_, 'feature_importances_'):\n",
    "        feature_weights['Random Forest'] = rf_grid.best_estimator_.feature_importances_\n",
    "\n",
    "    # Print the results\n",
    "    print(\"Performance Metrics:\")\n",
    "    print(\"Naive Bayes:\",\"\\n Accuracy: %.3f%%\" % accuracy_nb, \"\\n Precision: %.3f\" % precision_nb, \"\\n Recall: %.3f\" % recall_nb, \"\\n F1 Score: %.3f\" % f1_nb)\n",
    "    print(\"SVC_linear:\", \"\\n Accuracy: %.3f%%\" % accuracy_svc, \"\\n Precision: %.3f\" % precision_svc, \"\\n Recall: %.3f\" % recall_svc, \"\\n F1 Score: %.3f\" % f1_svc)\n",
    "    print(\"SVC_rbf:\", \"\\n Accuracy: %.3f%%\" % accuracy_svc_r, \"\\n Precision: %.3f\" % precision_svc_r, \"\\n Recall: %.3f\" % recall_svc_r, \"\\n F1 Score: %.3f\" % f1_svc_r)\n",
    "    print(\"Random Forest:\",\"\\n Accuracy %.3f%%\" % accuracy_rf, \"\\n Precision: %.3f\" % precision_rf, \"\\n Recall: %.3f\" % recall_rf, \"\\n F1 Score: %.3f\" % f1_rf)\n",
    "    \n",
    "    print(\"\\nFeature Weights:\")\n",
    "    for model_name, weights in feature_weights.items():\n",
    "        print(model_name, \"weights:\", weights)\n",
    "        \n",
    "    print(\"Best Estimator Parameters:\")\n",
    "    print(\"Naive Bayes:\", nb_grid.best_params_)\n",
    "    print(\"SVC_linear:\", svc_grid.best_params_)\n",
    "    print(\"SVC_rbf:\", svc_r_grid.best_params_)\n",
    "    print(\"Random Forest:\", rf_grid.best_params_)\n",
    "    \n",
    "    # Calculate and plot confusion matrix\n",
    "    y_pred_svc = svc_grid.predict(X_train_pca)\n",
    "    y_pred_svc_r = svc_r_grid.predict(X_train_pca)\n",
    "    y_pred_rf = rf_grid.predict(X_train_pca)\n",
    "\n",
    "    cm_nb = confusion_matrix(y_train, y_pred_nb)\n",
    "    cm_svc = confusion_matrix(y_train, y_pred_svc)\n",
    "    cm_svc_r = confusion_matrix(y_train, y_pred_svc_r)\n",
    "    cm_rf = confusion_matrix(y_train, y_pred_rf)\n",
    "\n",
    "    plt.figure(figsize=(20, 5))\n",
    "\n",
    "    plt.subplot(1, 4, 1)\n",
    "    sns.heatmap(cm_nb, annot=True, cmap='Blues', fmt='d', cbar=False)\n",
    "    plt.title('Naive Bayes')\n",
    "    plt.xlabel('Predicted')\n",
    "    plt.ylabel('True')\n",
    "\n",
    "    plt.subplot(1, 4, 2)\n",
    "    sns.heatmap(cm_svc, annot=True, cmap='Blues', fmt='d', cbar=False)\n",
    "    plt.title('SVC_linear')\n",
    "    plt.xlabel('Predicted')\n",
    "    plt.ylabel('True')\n",
    "    \n",
    "    plt.subplot(1, 4, 3)\n",
    "    sns.heatmap(cm_svc_r, annot=True, cmap='Blues', fmt='d', cbar=False)\n",
    "    plt.title('SVC_rbf')\n",
    "    plt.xlabel('Predicted')\n",
    "    plt.ylabel('True')\n",
    "\n",
    "    plt.subplot(1, 4, 4)\n",
    "    sns.heatmap(cm_rf, annot=True, cmap='Blues', fmt='d', cbar=False)\n",
    "    plt.title('Random Forest')\n",
    "    plt.xlabel('Predicted')\n",
    "    plt.ylabel('True')\n",
    "\n",
    "    plt.tight_layout()\n",
    "    plt.show()\n",
    "    \n",
    "    # Return the pipelines\n",
    "    return nb_grid, svc_grid, svc_r_grid, rf_grid, feature_weights\n",
    "\n",
    "# Call the function\n",
    "nb_pipeline, svc_pipeline, svc_r_pipeline, rf_pipeline, feature_weights = create_pipeline(X_train, y_train)\n"
   ]
  },
  {
   "cell_type": "code",
   "execution_count": null,
   "id": "d4821e23-3564-48db-9f8a-6dd9acf2107b",
   "metadata": {},
   "outputs": [],
   "source": []
  },
  {
   "cell_type": "code",
   "execution_count": null,
   "id": "4038e14f-960a-4ea1-a936-d0a8bb16142e",
   "metadata": {},
   "outputs": [],
   "source": []
  },
  {
   "cell_type": "code",
   "execution_count": null,
   "id": "698b27a0-0aff-45fa-89d6-6d6a6155a1ba",
   "metadata": {},
   "outputs": [],
   "source": []
  },
  {
   "cell_type": "markdown",
   "id": "8b367c26-ffe8-4757-b8bf-4cda7f939fbb",
   "metadata": {
    "tags": []
   },
   "source": [
    "#### 2. Train/Test Split"
   ]
  },
  {
   "cell_type": "code",
   "execution_count": 36,
   "id": "0c289048-95f6-412c-b786-bc6a9d181bb3",
   "metadata": {},
   "outputs": [],
   "source": [
    "from sklearn.model_selection import train_test_split\n",
    "from sklearn.preprocessing import StandardScaler\n",
    "from sklearn.decomposition import PCA\n",
    "from sklearn.pipeline import make_pipeline\n",
    "from sklearn.pipeline import Pipeline\n",
    "from sklearn import metrics\n",
    "from sklearn import datasets, preprocessing, svm\n",
    "from sklearn.model_selection import cross_validate\n",
    "from sklearn.metrics import accuracy_score, classification_report, confusion_matrix"
   ]
  },
  {
   "cell_type": "code",
   "execution_count": 37,
   "id": "a01a93cc-2658-4ae3-8915-57b33379ad9f",
   "metadata": {},
   "outputs": [
    {
     "data": {
      "text/plain": [
       "((70, 25), (70,), (30, 25), (30,))"
      ]
     },
     "execution_count": 37,
     "metadata": {},
     "output_type": "execute_result"
    }
   ],
   "source": [
    "X = df.drop(columns='LevelOfDetail')\n",
    "y = df['LevelOfDetail']\n",
    "\n",
    "X_train, X_test, y_train, y_test = train_test_split(X, y, test_size=0.3, random_state=0)\n",
    "X_train.shape, y_train.shape, X_test.shape, y_test.shape"
   ]
  },
  {
   "cell_type": "code",
   "execution_count": 38,
   "id": "287c27f9-9ac3-4530-a510-585267ac42d3",
   "metadata": {},
   "outputs": [
    {
     "data": {
      "text/html": [
       "<div>\n",
       "<style scoped>\n",
       "    .dataframe tbody tr th:only-of-type {\n",
       "        vertical-align: middle;\n",
       "    }\n",
       "\n",
       "    .dataframe tbody tr th {\n",
       "        vertical-align: top;\n",
       "    }\n",
       "\n",
       "    .dataframe thead th {\n",
       "        text-align: right;\n",
       "    }\n",
       "</style>\n",
       "<table border=\"1\" class=\"dataframe\">\n",
       "  <thead>\n",
       "    <tr style=\"text-align: right;\">\n",
       "      <th></th>\n",
       "      <th>DataBreachSource_Encoded</th>\n",
       "      <th>Channel_Encoded</th>\n",
       "      <th>Sector_Encoded</th>\n",
       "      <th>VaderSentiment_Encoded</th>\n",
       "      <th>PositiveCount</th>\n",
       "      <th>NegativeCount</th>\n",
       "      <th>PosNegRatio</th>\n",
       "      <th>PosTotalRatio</th>\n",
       "      <th>AvgPositiveConf</th>\n",
       "      <th>AvgNegativeConf</th>\n",
       "      <th>...</th>\n",
       "      <th>CyberKeywordCount</th>\n",
       "      <th>AuthorityKeywordCount</th>\n",
       "      <th>FAQKeywordCount</th>\n",
       "      <th>AvgWordLength</th>\n",
       "      <th>AvgSentenceLength</th>\n",
       "      <th>UniqueWordCount</th>\n",
       "      <th>StopWordCount</th>\n",
       "      <th>CharCount</th>\n",
       "      <th>PunctuationCount</th>\n",
       "      <th>EmailTagCount</th>\n",
       "    </tr>\n",
       "  </thead>\n",
       "  <tbody>\n",
       "    <tr>\n",
       "      <th>0</th>\n",
       "      <td>0.75</td>\n",
       "      <td>0.79</td>\n",
       "      <td>0.24</td>\n",
       "      <td>0.77</td>\n",
       "      <td>7</td>\n",
       "      <td>3</td>\n",
       "      <td>2.333333</td>\n",
       "      <td>0.700000</td>\n",
       "      <td>0.980128</td>\n",
       "      <td>0.972266</td>\n",
       "      <td>...</td>\n",
       "      <td>1</td>\n",
       "      <td>0</td>\n",
       "      <td>2</td>\n",
       "      <td>5.240566</td>\n",
       "      <td>21.200000</td>\n",
       "      <td>150</td>\n",
       "      <td>91</td>\n",
       "      <td>1349</td>\n",
       "      <td>21</td>\n",
       "      <td>0</td>\n",
       "    </tr>\n",
       "    <tr>\n",
       "      <th>1</th>\n",
       "      <td>0.75</td>\n",
       "      <td>0.79</td>\n",
       "      <td>0.24</td>\n",
       "      <td>0.19</td>\n",
       "      <td>23</td>\n",
       "      <td>24</td>\n",
       "      <td>0.958333</td>\n",
       "      <td>0.489362</td>\n",
       "      <td>0.987493</td>\n",
       "      <td>0.995686</td>\n",
       "      <td>...</td>\n",
       "      <td>4</td>\n",
       "      <td>0</td>\n",
       "      <td>0</td>\n",
       "      <td>4.885478</td>\n",
       "      <td>19.250000</td>\n",
       "      <td>440</td>\n",
       "      <td>376</td>\n",
       "      <td>5118</td>\n",
       "      <td>111</td>\n",
       "      <td>0</td>\n",
       "    </tr>\n",
       "    <tr>\n",
       "      <th>2</th>\n",
       "      <td>0.75</td>\n",
       "      <td>0.79</td>\n",
       "      <td>0.13</td>\n",
       "      <td>0.77</td>\n",
       "      <td>21</td>\n",
       "      <td>7</td>\n",
       "      <td>3.000000</td>\n",
       "      <td>0.750000</td>\n",
       "      <td>0.989652</td>\n",
       "      <td>0.995580</td>\n",
       "      <td>...</td>\n",
       "      <td>5</td>\n",
       "      <td>0</td>\n",
       "      <td>1</td>\n",
       "      <td>5.143141</td>\n",
       "      <td>16.833333</td>\n",
       "      <td>281</td>\n",
       "      <td>229</td>\n",
       "      <td>3206</td>\n",
       "      <td>61</td>\n",
       "      <td>1</td>\n",
       "    </tr>\n",
       "    <tr>\n",
       "      <th>3</th>\n",
       "      <td>0.75</td>\n",
       "      <td>0.79</td>\n",
       "      <td>0.13</td>\n",
       "      <td>0.77</td>\n",
       "      <td>7</td>\n",
       "      <td>9</td>\n",
       "      <td>0.777778</td>\n",
       "      <td>0.437500</td>\n",
       "      <td>0.997064</td>\n",
       "      <td>0.996481</td>\n",
       "      <td>...</td>\n",
       "      <td>11</td>\n",
       "      <td>4</td>\n",
       "      <td>0</td>\n",
       "      <td>5.392523</td>\n",
       "      <td>20.619048</td>\n",
       "      <td>255</td>\n",
       "      <td>169</td>\n",
       "      <td>2799</td>\n",
       "      <td>49</td>\n",
       "      <td>1</td>\n",
       "    </tr>\n",
       "    <tr>\n",
       "      <th>4</th>\n",
       "      <td>0.18</td>\n",
       "      <td>0.79</td>\n",
       "      <td>0.09</td>\n",
       "      <td>0.77</td>\n",
       "      <td>14</td>\n",
       "      <td>5</td>\n",
       "      <td>2.800000</td>\n",
       "      <td>0.736842</td>\n",
       "      <td>0.993265</td>\n",
       "      <td>0.971655</td>\n",
       "      <td>...</td>\n",
       "      <td>0</td>\n",
       "      <td>1</td>\n",
       "      <td>0</td>\n",
       "      <td>5.308357</td>\n",
       "      <td>14.708333</td>\n",
       "      <td>217</td>\n",
       "      <td>134</td>\n",
       "      <td>2274</td>\n",
       "      <td>52</td>\n",
       "      <td>0</td>\n",
       "    </tr>\n",
       "  </tbody>\n",
       "</table>\n",
       "<p>5 rows × 25 columns</p>\n",
       "</div>"
      ],
      "text/plain": [
       "   DataBreachSource_Encoded  Channel_Encoded  Sector_Encoded  \\\n",
       "0                      0.75             0.79            0.24   \n",
       "1                      0.75             0.79            0.24   \n",
       "2                      0.75             0.79            0.13   \n",
       "3                      0.75             0.79            0.13   \n",
       "4                      0.18             0.79            0.09   \n",
       "\n",
       "   VaderSentiment_Encoded  PositiveCount  NegativeCount  PosNegRatio  \\\n",
       "0                    0.77              7              3     2.333333   \n",
       "1                    0.19             23             24     0.958333   \n",
       "2                    0.77             21              7     3.000000   \n",
       "3                    0.77              7              9     0.777778   \n",
       "4                    0.77             14              5     2.800000   \n",
       "\n",
       "   PosTotalRatio  AvgPositiveConf  AvgNegativeConf  ...  CyberKeywordCount  \\\n",
       "0       0.700000         0.980128         0.972266  ...                  1   \n",
       "1       0.489362         0.987493         0.995686  ...                  4   \n",
       "2       0.750000         0.989652         0.995580  ...                  5   \n",
       "3       0.437500         0.997064         0.996481  ...                 11   \n",
       "4       0.736842         0.993265         0.971655  ...                  0   \n",
       "\n",
       "   AuthorityKeywordCount  FAQKeywordCount  AvgWordLength  AvgSentenceLength  \\\n",
       "0                      0                2       5.240566          21.200000   \n",
       "1                      0                0       4.885478          19.250000   \n",
       "2                      0                1       5.143141          16.833333   \n",
       "3                      4                0       5.392523          20.619048   \n",
       "4                      1                0       5.308357          14.708333   \n",
       "\n",
       "   UniqueWordCount  StopWordCount  CharCount  PunctuationCount  EmailTagCount  \n",
       "0              150             91       1349                21              0  \n",
       "1              440            376       5118               111              0  \n",
       "2              281            229       3206                61              1  \n",
       "3              255            169       2799                49              1  \n",
       "4              217            134       2274                52              0  \n",
       "\n",
       "[5 rows x 25 columns]"
      ]
     },
     "execution_count": 38,
     "metadata": {},
     "output_type": "execute_result"
    }
   ],
   "source": [
    "X.head()"
   ]
  },
  {
   "cell_type": "code",
   "execution_count": 39,
   "id": "f87a253c-8c23-4793-b947-45317de625f1",
   "metadata": {},
   "outputs": [
    {
     "data": {
      "text/plain": [
       "Index(['DataBreachSource_Encoded', 'Channel_Encoded', 'Sector_Encoded',\n",
       "       'VaderSentiment_Encoded', 'PositiveCount', 'NegativeCount',\n",
       "       'PosNegRatio', 'PosTotalRatio', 'AvgPositiveConf', 'AvgNegativeConf',\n",
       "       'WordCount', 'SentenceCount', 'ReadingEase', 'Flesch-KincaidGrade',\n",
       "       'HyperlinksCount', 'CyberKeywordCount', 'AuthorityKeywordCount',\n",
       "       'FAQKeywordCount', 'AvgWordLength', 'AvgSentenceLength',\n",
       "       'UniqueWordCount', 'StopWordCount', 'CharCount', 'PunctuationCount',\n",
       "       'EmailTagCount'],\n",
       "      dtype='object')"
      ]
     },
     "execution_count": 39,
     "metadata": {},
     "output_type": "execute_result"
    }
   ],
   "source": [
    "X.columns"
   ]
  },
  {
   "cell_type": "markdown",
   "id": "a1912d0f-3ceb-4793-8401-b898751c2252",
   "metadata": {},
   "source": [
    "#### 3. Standardisation"
   ]
  },
  {
   "cell_type": "code",
   "execution_count": 40,
   "id": "d604ca2e-eb13-4f28-b369-b47ed00aa6e3",
   "metadata": {},
   "outputs": [],
   "source": [
    "from sklearn import preprocessing\n",
    "\n",
    "# apply standardisation to explanatory variables\n",
    "# Build scaler on the train set\n",
    "std_scaler = preprocessing.StandardScaler().fit(X_train)\n",
    "\n",
    "# Standardise the train set\n",
    "X_train_std = std_scaler.transform(X_train)\n",
    "\n",
    "# Standardise the test set\n",
    "X_test_std = std_scaler.transform(X_test)"
   ]
  },
  {
   "cell_type": "markdown",
   "id": "9a671e0f-b2cd-426e-ab56-3fd68d9fa436",
   "metadata": {},
   "source": [
    "#### 4. Decision Tree"
   ]
  },
  {
   "cell_type": "code",
   "execution_count": 41,
   "id": "1596f602-ad09-4ada-adac-c7e658a3f0bf",
   "metadata": {
    "tags": []
   },
   "outputs": [
    {
     "name": "stdout",
     "output_type": "stream",
     "text": [
      "Accuracy: 0.43\n"
     ]
    },
    {
     "data": {
      "image/png": "[encoded data removed]",
      "text/plain": [
       "<Figure size 2520x1440 with 1 Axes>"
      ]
     },
     "metadata": {
      "needs_background": "light"
     },
     "output_type": "display_data"
    }
   ],
   "source": [
    "from sklearn.tree import DecisionTreeClassifier\n",
    "from sklearn import tree\n",
    "\n",
    "clf = tree.DecisionTreeClassifier(max_depth=4, criterion='entropy')\n",
    "clf.fit(X_train_std, y_train)\n",
    "y_pred = clf.predict(X_test_std)\n",
    "print('Accuracy: %.2f' % accuracy_score(y_test, y_pred))\n",
    "\n",
    "fig = plt.figure(figsize=(35,20))\n",
    "\n",
    "\n",
    "t = tree.plot_tree(clf, feature_names=(#'AuthorMention', 'TitleMention', 'DataTypeCount', \n",
    "                                       'DataBreachSource_Encoded', 'Channel_Encoded', 'Sector_Encoded',\n",
    "       'VaderSentiment_Encoded', 'PositiveCount', 'NegativeCount',\n",
    "       'PosNegRatio', 'PosTotalRatio', 'AvgPositiveConf', 'AvgNegativeConf',\n",
    "       'WordCount', 'SentenceCount', 'ReadingEase', 'Flesch-KincaidGrade',\n",
    "       'HyperlinksCount', 'CyberKeywordCount', 'AuthorityKeywordCount',\n",
    "       'FAQKeywordCount', 'AvgWordLength', 'AvgSentenceLength',\n",
    "                                       'UniqueWordCount', 'StopWordCount', 'CharCount', 'PunctuationCount', 'EmailTagCount',\n",
    "       ),\n",
    "                   class_names=['0', '1', '2'],\n",
    "                   filled=True)"
   ]
  },
  {
   "cell_type": "markdown",
   "id": "c1180fb2-445a-4c5d-b7be-351624240dc0",
   "metadata": {},
   "source": [
    "#### 5. Random Forest Classifier"
   ]
  },
  {
   "cell_type": "code",
   "execution_count": 42,
   "id": "c5c270a9-3593-4e3e-ab88-8db6b2764f61",
   "metadata": {},
   "outputs": [
    {
     "name": "stdout",
     "output_type": "stream",
     "text": [
      "Accuracy: 0.50\n"
     ]
    }
   ],
   "source": [
    "from sklearn.ensemble import RandomForestClassifier\n",
    "\n",
    "clf = RandomForestClassifier(max_depth=4)\n",
    "clf.fit(X_train_std, y_train)\n",
    "y_pred = clf.predict(X_test_std)\n",
    "print('Accuracy: %.2f' % accuracy_score(y_test, y_pred))"
   ]
  },
  {
   "cell_type": "markdown",
   "id": "0c1dead2-8eb6-45e7-8b89-5d4d236f6c52",
   "metadata": {},
   "source": [
    "#### 6. XGBoost"
   ]
  },
  {
   "cell_type": "code",
   "execution_count": 43,
   "id": "fe230f80-009f-4b1b-a87e-7281c9b6e80c",
   "metadata": {},
   "outputs": [
    {
     "data": {
      "image/png": "[encoded data removed]",
      "text/plain": [
       "<Figure size 432x288 with 1 Axes>"
      ]
     },
     "metadata": {
      "needs_background": "light"
     },
     "output_type": "display_data"
    },
    {
     "name": "stdout",
     "output_type": "stream",
     "text": [
      "Accuracy: 0.57\n",
      "Confusion Matrix:\n",
      "[[ 3  2  0]\n",
      " [ 4 11  1]\n",
      " [ 1  5  3]]\n"
     ]
    }
   ],
   "source": [
    "# Ensemble\n",
    "import xgboost\n",
    "from xgboost import XGBClassifier\n",
    "from xgboost import plot_importance\n",
    "from matplotlib import pyplot\n",
    "\n",
    "model = XGBClassifier()\n",
    "model.fit(X_train_std, y_train)\n",
    "\n",
    "# feature importance\n",
    "\n",
    "plot_importance(model)\n",
    "pyplot.show()\n",
    "\n",
    "# Make predictions on the test data\n",
    "y_pred = model.predict(X_test_std)\n",
    "\n",
    "# Calculate and print accuracy\n",
    "accuracy = accuracy_score(y_test, y_pred)\n",
    "print(f\"Accuracy: {accuracy:.2f}\")\n",
    "\n",
    "# Print the confusion matrix\n",
    "conf_matrix = confusion_matrix(y_test, y_pred)\n",
    "print(\"Confusion Matrix:\")\n",
    "print(conf_matrix)\n",
    "\n",
    "# Print the classification report\n",
    "# class_report = classification_report(y_test, y_pred, target_names=data.target_names)\n",
    "# print(\"Classification Report:\")\n",
    "# print(class_report)"
   ]
  },
  {
   "cell_type": "markdown",
   "id": "4ac34fe0-9820-4162-8e30-8b0c6026123c",
   "metadata": {},
   "source": [
    "### Feature Selection"
   ]
  },
  {
   "cell_type": "code",
   "execution_count": 60,
   "id": "dfafeee7-07cf-44db-b582-f653d30b517e",
   "metadata": {},
   "outputs": [
    {
     "data": {
      "image/png": "[encoded data removed]",
      "text/plain": [
       "<Figure size 720x432 with 1 Axes>"
      ]
     },
     "metadata": {
      "needs_background": "light"
     },
     "output_type": "display_data"
    }
   ],
   "source": [
    "from sklearn.feature_selection import f_classif\n",
    "\n",
    "X = df.drop(columns='LevelOfDetail')\n",
    "y = df['LevelOfDetail']\n",
    "\n",
    "# Create f_classif object to calculate F-value\n",
    "f_value = f_classif(X, y)\n",
    "\n",
    "plt.figure(figsize=(10,6))\n",
    "plt.bar(x=X.columns, height=f_value[0], color='tomato')\n",
    "plt.xticks(rotation='vertical')\n",
    "plt.ylabel('F-value')\n",
    "plt.title('F-value Comparison')\n",
    "plt.show()"
   ]
  },
  {
   "cell_type": "code",
   "execution_count": 61,
   "id": "95297589-6b57-4369-9d77-f71aa2d8ea3f",
   "metadata": {},
   "outputs": [
    {
     "data": {
      "image/png": "[encoded data removed]",
      "text/plain": [
       "<Figure size 720x432 with 1 Axes>"
      ]
     },
     "metadata": {
      "needs_background": "light"
     },
     "output_type": "display_data"
    }
   ],
   "source": [
    "from sklearn.feature_selection import mutual_info_classif\n",
    "import matplotlib.pyplot as plt\n",
    "\n",
    "X = df.drop(columns='LevelOfDetail')\n",
    "y = df['LevelOfDetail']\n",
    "\n",
    "MI_score = mutual_info_classif(X, y, random_state=0)\n",
    "\n",
    "plt.figure(figsize=(10,6))\n",
    "plt.bar(x=X.columns, height=MI_score, color='tomato')\n",
    "\n",
    "plt.xticks(rotation='vertical')\n",
    "plt.ylabel('Mutual Information Score')\n",
    "plt.title('Mutual Information Score Comparison')\n",
    "\n",
    "plt.show()"
   ]
  },
  {
   "cell_type": "markdown",
   "id": "d7b1b363-24c9-455b-b762-4878bf946c0f",
   "metadata": {},
   "source": [
    "### Test different classifiers wihtout AuthorMention, TitleMention, DataTypeCount"
   ]
  },
  {
   "cell_type": "markdown",
   "id": "9d6b5e80-836a-443b-a443-45e946e35a1f",
   "metadata": {},
   "source": [
    "#### Test 1"
   ]
  },
  {
   "cell_type": "code",
   "execution_count": 64,
   "id": "9d0f3068-25ba-4f9e-8017-0b324b16c4e7",
   "metadata": {},
   "outputs": [
    {
     "name": "stdout",
     "output_type": "stream",
     "text": [
      "(80, 29) (80,) (20, 29) (20,)\n",
      "Classifier: Random Forest\n",
      "Accuracy: 0.55\n",
      "Classification Report:\n",
      "              precision    recall  f1-score   support\n",
      "\n",
      "     class 0       0.00      0.00      0.00         4\n",
      "     class 1       0.56      1.00      0.71        10\n",
      "     class 2       1.00      0.17      0.29         6\n",
      "\n",
      "    accuracy                           0.55        20\n",
      "   macro avg       0.52      0.39      0.33        20\n",
      "weighted avg       0.58      0.55      0.44        20\n",
      "\n",
      "========================================\n",
      "Classifier: Support Vector Machine\n",
      "Accuracy: 0.55\n",
      "Classification Report:\n",
      "              precision    recall  f1-score   support\n",
      "\n",
      "     class 0       0.33      0.25      0.29         4\n",
      "     class 1       0.57      0.80      0.67        10\n",
      "     class 2       0.67      0.33      0.44         6\n",
      "\n",
      "    accuracy                           0.55        20\n",
      "   macro avg       0.52      0.46      0.47        20\n",
      "weighted avg       0.55      0.55      0.52        20\n",
      "\n",
      "========================================\n",
      "Classifier: Logistic Regression\n",
      "Accuracy: 0.60\n",
      "Classification Report:\n",
      "              precision    recall  f1-score   support\n",
      "\n",
      "     class 0       1.00      0.25      0.40         4\n",
      "     class 1       0.56      0.90      0.69        10\n",
      "     class 2       0.67      0.33      0.44         6\n",
      "\n",
      "    accuracy                           0.60        20\n",
      "   macro avg       0.74      0.49      0.51        20\n",
      "weighted avg       0.68      0.60      0.56        20\n",
      "\n",
      "========================================\n",
      "Classifier: Decision Tree\n",
      "Accuracy: 0.45\n",
      "Classification Report:\n",
      "              precision    recall  f1-score   support\n",
      "\n",
      "     class 0       0.00      0.00      0.00         4\n",
      "     class 1       0.58      0.70      0.64        10\n",
      "     class 2       0.50      0.33      0.40         6\n",
      "\n",
      "    accuracy                           0.45        20\n",
      "   macro avg       0.36      0.34      0.35        20\n",
      "weighted avg       0.44      0.45      0.44        20\n",
      "\n",
      "========================================\n",
      "Classifier: XGBoost\n",
      "Accuracy: 0.45\n",
      "Classification Report:\n",
      "              precision    recall  f1-score   support\n",
      "\n",
      "     class 0       0.00      0.00      0.00         4\n",
      "     class 1       0.50      0.80      0.62        10\n",
      "     class 2       0.33      0.17      0.22         6\n",
      "\n",
      "    accuracy                           0.45        20\n",
      "   macro avg       0.28      0.32      0.28        20\n",
      "weighted avg       0.35      0.45      0.37        20\n",
      "\n",
      "========================================\n",
      "Classifier: KNN\n",
      "Accuracy: 0.55\n",
      "Classification Report:\n",
      "              precision    recall  f1-score   support\n",
      "\n",
      "     class 0       1.00      0.25      0.40         4\n",
      "     class 1       0.53      1.00      0.69        10\n",
      "     class 2       0.00      0.00      0.00         6\n",
      "\n",
      "    accuracy                           0.55        20\n",
      "   macro avg       0.51      0.42      0.36        20\n",
      "weighted avg       0.46      0.55      0.42        20\n",
      "\n",
      "========================================\n"
     ]
    }
   ],
   "source": [
    "import warnings\n",
    "\n",
    "# Ignore warnings\n",
    "warnings.filterwarnings(\"ignore\")\n",
    "\n",
    "from sklearn.model_selection import train_test_split\n",
    "from sklearn.preprocessing import StandardScaler\n",
    "from sklearn.pipeline import Pipeline\n",
    "from sklearn.tree import DecisionTreeClassifier\n",
    "from sklearn.ensemble import RandomForestClassifier\n",
    "from sklearn.svm import SVC\n",
    "from sklearn.linear_model import LogisticRegression\n",
    "from sklearn.neighbors import KNeighborsClassifier\n",
    "from sklearn.metrics import accuracy_score, classification_report\n",
    "import xgboost\n",
    "from xgboost import XGBClassifier\n",
    "from xgboost import plot_importance\n",
    "from matplotlib import pyplot\n",
    "\n",
    "X = df.drop(columns='LevelOfDetail')\n",
    "y = df['LevelOfDetail']\n",
    "\n",
    "# Split the dataset into training and testing sets\n",
    "X_train, X_test, y_train, y_test = train_test_split(X, y, test_size=0.2, random_state=42)\n",
    "print(X_train.shape, y_train.shape, X_test.shape, y_test.shape)\n",
    "\n",
    "# Create a dictionary of classifiers\n",
    "classifiers = {\n",
    "    'Random Forest': RandomForestClassifier(random_state=42),\n",
    "    'Support Vector Machine': SVC(kernel='linear', random_state=42),\n",
    "    'Logistic Regression': LogisticRegression(random_state=42),\n",
    "    'Decision Tree': DecisionTreeClassifier(random_state=42),\n",
    "    'XGBoost': xgboost.XGBClassifier(objective=\"multi:softmax\", random_state=42),\n",
    "    'KNN': KNeighborsClassifier(n_neighbors=20)\n",
    "}\n",
    "\n",
    "# Create pipelines for each classifier\n",
    "pipelines = {}\n",
    "for name, clf in classifiers.items():\n",
    "    pipelines[name] = Pipeline([\n",
    "        ('scaler', StandardScaler()),  # Standardize features (optional but often recommended)\n",
    "        ('classifier', clf)\n",
    "    ])\n",
    "    \n",
    "target_names = ['class 0', 'class 1', 'class 2']\n",
    "\n",
    "# Train and evaluate each classifier\n",
    "for name, pipe in pipelines.items():\n",
    "    pipe.fit(X_train, y_train)\n",
    "    y_pred = pipe.predict(X_test)\n",
    "    \n",
    "    accuracy = accuracy_score(y_test, y_pred)\n",
    "    report = classification_report(y_test, y_pred, target_names=target_names)\n",
    "    \n",
    "    print(f\"Classifier: {name}\")\n",
    "    print(f\"Accuracy: {accuracy:.2f}\")\n",
    "    print(\"Classification Report:\")\n",
    "    print(report)    \n",
    "    \n",
    "    print(\"=\"*40)"
   ]
  },
  {
   "cell_type": "markdown",
   "id": "68daeea8-1a8d-4554-aa1f-bb8e918ed0f0",
   "metadata": {},
   "source": [
    "#### Test 2 with SelectKBest included"
   ]
  },
  {
   "cell_type": "code",
   "execution_count": 47,
   "id": "66031e8a-5cf1-420b-8943-8ca70669a7db",
   "metadata": {},
   "outputs": [
    {
     "name": "stdout",
     "output_type": "stream",
     "text": [
      "(80, 25) (80,) (20, 25) (20,)\n",
      "Classifier: Random Forest\n",
      "Accuracy: 0.70\n",
      "Classification Report:\n",
      "              precision    recall  f1-score   support\n",
      "\n",
      "     class 0       1.00      0.50      0.67         4\n",
      "     class 1       0.62      1.00      0.77        10\n",
      "     class 2       1.00      0.33      0.50         6\n",
      "\n",
      "    accuracy                           0.70        20\n",
      "   macro avg       0.88      0.61      0.65        20\n",
      "weighted avg       0.81      0.70      0.67        20\n",
      "\n",
      "======================================================\n",
      "Classifier: Support Vector Machine\n",
      "Accuracy: 0.60\n",
      "Classification Report:\n",
      "              precision    recall  f1-score   support\n",
      "\n",
      "     class 0       0.50      0.25      0.33         4\n",
      "     class 1       0.60      0.90      0.72        10\n",
      "     class 2       0.67      0.33      0.44         6\n",
      "\n",
      "    accuracy                           0.60        20\n",
      "   macro avg       0.59      0.49      0.50        20\n",
      "weighted avg       0.60      0.60      0.56        20\n",
      "\n",
      "======================================================\n",
      "Classifier: Logistic Regression\n",
      "Accuracy: 0.50\n",
      "Classification Report:\n",
      "              precision    recall  f1-score   support\n",
      "\n",
      "     class 0       0.50      0.25      0.33         4\n",
      "     class 1       0.50      0.80      0.62        10\n",
      "     class 2       0.50      0.17      0.25         6\n",
      "\n",
      "    accuracy                           0.50        20\n",
      "   macro avg       0.50      0.41      0.40        20\n",
      "weighted avg       0.50      0.50      0.45        20\n",
      "\n",
      "======================================================\n",
      "Classifier: Decision Tree\n",
      "Accuracy: 0.40\n",
      "Classification Report:\n",
      "              precision    recall  f1-score   support\n",
      "\n",
      "     class 0       0.00      0.00      0.00         4\n",
      "     class 1       0.55      0.60      0.57        10\n",
      "     class 2       0.50      0.33      0.40         6\n",
      "\n",
      "    accuracy                           0.40        20\n",
      "   macro avg       0.35      0.31      0.32        20\n",
      "weighted avg       0.42      0.40      0.41        20\n",
      "\n",
      "======================================================\n",
      "Classifier: XGBoost\n",
      "Accuracy: 0.45\n",
      "Classification Report:\n",
      "              precision    recall  f1-score   support\n",
      "\n",
      "     class 0       0.00      0.00      0.00         4\n",
      "     class 1       0.50      0.70      0.58        10\n",
      "     class 2       0.67      0.33      0.44         6\n",
      "\n",
      "    accuracy                           0.45        20\n",
      "   macro avg       0.39      0.34      0.34        20\n",
      "weighted avg       0.45      0.45      0.42        20\n",
      "\n",
      "======================================================\n",
      "Classifier: KNN\n",
      "Accuracy: 0.50\n",
      "Classification Report:\n",
      "              precision    recall  f1-score   support\n",
      "\n",
      "     class 0       0.50      0.25      0.33         4\n",
      "     class 1       0.50      0.90      0.64        10\n",
      "     class 2       0.00      0.00      0.00         6\n",
      "\n",
      "    accuracy                           0.50        20\n",
      "   macro avg       0.33      0.38      0.33        20\n",
      "weighted avg       0.35      0.50      0.39        20\n",
      "\n",
      "======================================================\n"
     ]
    }
   ],
   "source": [
    "import warnings\n",
    "\n",
    "# Ignore warnings\n",
    "warnings.filterwarnings(\"ignore\")\n",
    "from sklearn.feature_selection import SelectKBest, chi2, f_regression\n",
    "from sklearn.model_selection import train_test_split\n",
    "from sklearn.preprocessing import StandardScaler\n",
    "from sklearn.pipeline import Pipeline\n",
    "from sklearn.ensemble import RandomForestClassifier\n",
    "from sklearn.svm import SVC\n",
    "from sklearn.linear_model import LogisticRegression\n",
    "from sklearn.neighbors import KNeighborsClassifier\n",
    "from sklearn.metrics import accuracy_score, classification_report\n",
    "\n",
    "X = df.drop(columns='LevelOfDetail')\n",
    "y = df['LevelOfDetail']\n",
    "\n",
    "# Split the dataset into training and testing sets\n",
    "X_train, X_test, y_train, y_test = train_test_split(X, y, test_size=0.2, random_state=42)\n",
    "print(X_train.shape, y_train.shape, X_test.shape, y_test.shape)\n",
    "\n",
    "# Create a dictionary of classifiers\n",
    "classifiers = {\n",
    "    'Random Forest': RandomForestClassifier(random_state=42),\n",
    "    'Support Vector Machine': SVC(kernel='linear', random_state=42),\n",
    "    'Logistic Regression': LogisticRegression(random_state=42),\n",
    "    'Decision Tree': DecisionTreeClassifier(random_state=42),\n",
    "    'XGBoost': xgboost.XGBClassifier(objective=\"multi:softmax\", random_state=42),\n",
    "    'KNN': KNeighborsClassifier(n_neighbors=20)\n",
    "}\n",
    "\n",
    "# Create pipelines for each classifier\n",
    "pipelines = {}\n",
    "for name, clf in classifiers.items():\n",
    "    pipelines[name] = Pipeline([\n",
    "        ('feature_selector', SelectKBest(score_func=f_classif, k=25)), \n",
    "        ('scaler', StandardScaler()),  # Standardize features (optional but often recommended)\n",
    "        ('classifier', clf)\n",
    "    ])\n",
    "    \n",
    "target_names = ['class 0', 'class 1', 'class 2']\n",
    "\n",
    "# Train and evaluate each classifier\n",
    "for name, pipe in pipelines.items():\n",
    "    pipe.fit(X_train, y_train)\n",
    "    y_pred = pipe.predict(X_test)\n",
    "    \n",
    "    accuracy = accuracy_score(y_test, y_pred)\n",
    "    report = classification_report(y_test, y_pred, target_names=target_names)\n",
    "    \n",
    "    print(f\"Classifier: {name}\")\n",
    "    print(f\"Accuracy: {accuracy:.2f}\")\n",
    "    print(\"Classification Report:\")\n",
    "    print(report)    \n",
    "        \n",
    "    print(\"=\"*54)"
   ]
  },
  {
   "cell_type": "code",
   "execution_count": null,
   "id": "eb2c7ae3-10e0-4a1d-a137-884e7286c175",
   "metadata": {},
   "outputs": [],
   "source": []
  },
  {
   "cell_type": "code",
   "execution_count": null,
   "id": "8899f40c-375a-4b92-b626-6a5106ab3091",
   "metadata": {},
   "outputs": [],
   "source": []
  },
  {
   "cell_type": "code",
   "execution_count": null,
   "id": "086ab04a-325b-4ad5-b0a6-69b116c031ad",
   "metadata": {},
   "outputs": [],
   "source": []
  },
  {
   "cell_type": "markdown",
   "id": "7a65fed0-1c41-4d37-b56f-f0987657faed",
   "metadata": {},
   "source": [
    "### Try SelectKBest"
   ]
  },
  {
   "cell_type": "code",
   "execution_count": 48,
   "id": "e3068063-ef7f-4628-a475-e944ca52e9ca",
   "metadata": {},
   "outputs": [
    {
     "name": "stdout",
     "output_type": "stream",
     "text": [
      "(80, 25) (80,) (20, 25) (20,)\n",
      "Classification accuracy after univariate feature selection: 0.600\n"
     ]
    }
   ],
   "source": [
    "# Ref: https://scikit-learn.org/stable/auto_examples/feature_selection/plot_feature_selection.html#sphx-glr-auto-examples-feature-selection-plot-feature-selection-py\n",
    "\n",
    "from sklearn.preprocessing import MinMaxScaler\n",
    "from sklearn.svm import LinearSVC\n",
    "\n",
    "X = df.drop(columns='LevelOfDetail')\n",
    "y = df['LevelOfDetail']\n",
    "\n",
    "# Split the dataset into training and testing sets\n",
    "X_train, X_test, y_train, y_test = train_test_split(X, y, test_size=0.2, random_state=42)\n",
    "print(X_train.shape, y_train.shape, X_test.shape, y_test.shape)\n",
    "\n",
    "clf_selected = make_pipeline(\n",
    "    SelectKBest(f_classif, k=4), MinMaxScaler(), LinearSVC()\n",
    ")\n",
    "clf_selected.fit(X_train, y_train)\n",
    "print(\n",
    "    \"Classification accuracy after univariate feature selection: {:.3f}\".format(\n",
    "        clf_selected.score(X_test, y_test)\n",
    "    )\n",
    ")\n",
    "\n",
    "svm_weights_selected = np.abs(clf_selected[-1].coef_).sum(axis=0)\n",
    "svm_weights_selected /= svm_weights_selected.sum()"
   ]
  }
 ],
 "metadata": {
  "kernelspec": {
   "display_name": "Python 3 (ipykernel)",
   "language": "python",
   "name": "python3"
  },
  "language_info": {
   "codemirror_mode": {
    "name": "ipython",
    "version": 3
   },
   "file_extension": ".py",
   "mimetype": "text/x-python",
   "name": "python",
   "nbconvert_exporter": "python",
   "pygments_lexer": "ipython3",
   "version": "3.9.7"
  }
 },
 "nbformat": 4,
 "nbformat_minor": 5
}
