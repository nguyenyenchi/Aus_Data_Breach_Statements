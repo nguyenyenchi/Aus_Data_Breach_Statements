{
 "cells": [
  {
   "cell_type": "markdown",
   "id": "c90f5011",
   "metadata": {},
   "source": [
    "https://machinelearningmastery.com/clean-text-machine-learning-python/"
   ]
  },
  {
   "cell_type": "markdown",
   "id": "3c6d99d3",
   "metadata": {},
   "source": [
    "## Text Mining"
   ]
  },
  {
   "cell_type": "code",
   "execution_count": 1,
   "id": "709dc271",
   "metadata": {},
   "outputs": [],
   "source": [
    "import pandas as pd\n",
    "import numpy as np\n",
    "import matplotlib.pyplot as plt\n",
    "\n",
    "import string\n",
    "import nltk\n",
    "from nltk.corpus import stopwords\n",
    "from nltk.tokenize import word_tokenize\n",
    "from nltk.stem import WordNetLemmatizer\n",
    "from nltk.tokenize import word_tokenize\n",
    "from wordcloud import WordCloud, STOPWORDS"
   ]
  },
  {
   "cell_type": "code",
   "execution_count": 2,
   "id": "88cfd624",
   "metadata": {},
   "outputs": [],
   "source": [
    "text = '''20 March 2023\n",
    "Latitude Financial announced on 16 March 2023 that it had detected unusual activity on its systems which it can now confirm as a sophisticated, well-organised and malicious cyber-attack which remains active.\n",
    "\n",
    "We recognise the distress to our customers caused by the theft of their personal information and we are committed to transparently updating our customers, partners, employees and the broader community.\n",
    "\n",
    "Latitude immediately engaged leading external cyber security experts, the Australian Cyber Security Centre, the Australian Federal Police and other relevant Government agencies.\n",
    "\n",
    "The attack on Latitude is now the subject of an investigation by the Australian Federal Police.\n",
    "\n",
    "Our people are working around the clock to contain the attackers. We have taken the prudent action of isolating some of our technology platforms which means that we are currently not onboarding new customers.\n",
    "\n",
    "Because the attack remains active, we have taken our platforms offline and are unable to service our customers and merchant partners. We cannot restore this capability immediately, however we are working to do so gradually over the coming days and ask our customers for their continued patience. Our restoration of these services is aligned to our forensic review.\n",
    "\n",
    "In conjunction with our cyber-security experts, we are continuing our forensic review of our IT platforms to identify the full extent of the theft of customer information as a result of the attack on Latitude.\n",
    "\n",
    "So far, Latitude can confirm that:\n",
    "\n",
    "As previously disclosed, approximately 330,000 customers and applicants have had their personal information stolen\n",
    "Approximately 96% of the personal information stolen was copies of drivers’ licences or driver licence numbers\n",
    "Less than 4% was copies of passports or passport numbers\n",
    "Less than 1% was Medicare numbers\n",
    "As our review deepens to include non-customer originating platforms and historical customer information, we are likely to uncover more stolen information affecting both current and past Latitude customers and applicants. We will provide a further update when we have more information to share.\n",
    "\n",
    "Latitude encourages our customers to remain vigilant. We will never contact customers requesting their passwords.\n",
    "\n",
    "From today, Latitude will commence contacting customers and applicants who have so far been impacted by this criminal act, having already written to all our customers on Thursday 16 March 2023 to alert them to the cyber-attack.\n",
    "\n",
    "Latitude will confirm to each impacted customer and applicant what personal information has been stolen, what we are doing to support them and what additional steps customers should consider taking to further protect their information. This includes Latitude working with relevant agencies to replace identification documents, where necessary, at no cost to our customers.\n",
    "\n",
    "We have engaged IDCARE to help support those impacted. IDCARE is a not-for profit organisation and Australia and New Zealand’s national incident response service specialising in providing free, confidential cyber incident information and assistance. Impacted customers and applicants will be able to contact IDCARE during business hours on 1800 595 160.\n",
    "\n",
    "As of today, Latitude has established dedicated contact centres for impacted customers in Australia and New Zealand to answer queries, as well as a dedicated help page on our website to keep customers and partners fully informed of developments.\n",
    "\n",
    "Once the cyber-attack is contained, Latitude commits to a review of this incident. This review will help Latitude to most effectively safeguard our customers, partners and platforms, while contributing to the continued fight against cyber-crime on Australian businesses.\n",
    "\n",
    "Latitude is still assessing the anticipated total cost to it of this incident, including the cost to Latitude of the support we intend to provide our customers as described in this announcement.\n",
    "\n",
    "Latitude maintains insurance policies to cover risks, including cyber security risks, and we have notified our insurers in respect of the incident.\n",
    "\n",
    "Latitude Financial Services CEO Ahmed Fahour said:\n",
    "“I sincerely apologise to our customers and partners for the distress and inconvenience this criminal act has caused. I understand fully the wider concern that this cyber-attack has created within the community.\n",
    "\n",
    "“Our focus is on protecting the ongoing security of our customers, partners and employees’ personal and identity information, while also doing everything we can to support customers and applicants who have had information stolen.\n",
    "\n",
    "“While we continue to deliver transactional services, some functionality has been affected resulting in disruption. We are working extremely hard to restore full services to our customers and merchant partners and thank them for their patience and support. We understand their frustration. Customers should refer to Latitude’s website for regular updates.”\n",
    "\n",
    "Media contact\n",
    "Mark Gardy\n",
    "Mark.Gardy@latitudefinancial.com\n",
    "+61 412 376 817\n",
    "\n",
    "Latitude strongly advises all Australian and New Zealand citizens to regulary change passwords of important financial accounts.\n",
    "\n",
    "There are immediate precautions that you can take to protect your identity and personal information:\n",
    "\n",
    "You can contact one of Australia’s three credit reporting bodies to obtain your credit report so you can confirm if your identity has been used to obtain credit without your knowledge.\n",
    "You can also request the credit reporting bodies to place a credit ban on your credit file via their website or by contacting them directly. If you intend to apply for a credit ban, please be aware that you will not be able to apply for credit while the ban is in place.\n",
    "Credit Reporting Agency\tWebsite\n",
    "Illion\tAU: illion.com.au/credit-report-ban-request/\n",
    "NZ dbcsprodaecdn.azureedge.net/web/themes/cycnz/ assets/static/SuppressionRequestFormCYCNZ.pdf\n",
    "Equifax\tAU www.equifax.com.au/eform/submit/credit-ban\n",
    "NZ equifax.co.nz/credit-file-suppression\n",
    "Experian\texperian.com.au/consumer/request-a-ban\n",
    "Centrix\tcentrix.co.nz/my-credit-score/suppress-your-credit-file/\n",
    "You can refer to Australian Government information on how you can protect yourself at cyber.gov.au or to Office of the Privacy Commissioner for information on how you can protect yourself at privacy.org.nz\n",
    "\n",
    "You should be alert for any phishing scams that may be sent via SMS, phone, email or post.\n",
    "\n",
    "You should always verify the sender of the communications you receive to ensure they are legitimate.\n",
    "\n",
    "You should never click on links contained in SMS or email messages unless you know they are legitimate.\n",
    "\n",
    "You should be careful when opening or responding to texts from unknown or suspicious numbers.\n",
    "\n",
    "You should be careful when answering calls from private numbers or callers originating from unusual geographic locations.\n",
    "\n",
    "You should regularly update your passwords and ensure you are using strong passwords. Also use multi-factor authentication where possible.\n",
    "\n",
    "'''"
   ]
  },
  {
   "cell_type": "markdown",
   "id": "b9c774cb",
   "metadata": {},
   "source": [
    "### Split into Sentences"
   ]
  },
  {
   "cell_type": "code",
   "execution_count": 3,
   "id": "4b30fa54",
   "metadata": {},
   "outputs": [
    {
     "name": "stdout",
     "output_type": "stream",
     "text": [
      "20 March 2023\n",
      "Latitude Financial announced on 16 March 2023 that it had detected unusual activity on its systems which it can now confirm as a sophisticated, well-organised and malicious cyber-attack which remains active.\n"
     ]
    }
   ],
   "source": [
    "from nltk import sent_tokenize\n",
    "sentences = sent_tokenize(text)\n",
    "print(sentences[0])"
   ]
  },
  {
   "cell_type": "markdown",
   "id": "faf3d1b4",
   "metadata": {},
   "source": [
    "### Split into Words"
   ]
  },
  {
   "cell_type": "code",
   "execution_count": 4,
   "id": "8b725266",
   "metadata": {},
   "outputs": [
    {
     "name": "stdout",
     "output_type": "stream",
     "text": [
      "['20', 'March', '2023', 'Latitude', 'Financial', 'announced', 'on', '16', 'March', '2023', 'that', 'it', 'had', 'detected', 'unusual', 'activity', 'on', 'its', 'systems', 'which', 'it', 'can', 'now', 'confirm', 'as', 'a', 'sophisticated', ',', 'well-organised', 'and', 'malicious', 'cyber-attack', 'which', 'remains', 'active', '.', 'We', 'recognise', 'the', 'distress', 'to', 'our', 'customers', 'caused', 'by', 'the', 'theft', 'of', 'their', 'personal', 'information', 'and', 'we', 'are', 'committed', 'to', 'transparently', 'updating', 'our', 'customers', ',', 'partners', ',', 'employees', 'and', 'the', 'broader', 'community', '.', 'Latitude', 'immediately', 'engaged', 'leading', 'external', 'cyber', 'security', 'experts', ',', 'the', 'Australian', 'Cyber', 'Security', 'Centre', ',', 'the', 'Australian', 'Federal', 'Police', 'and', 'other', 'relevant', 'Government', 'agencies', '.', 'The', 'attack', 'on', 'Latitude', 'is', 'now']\n"
     ]
    }
   ],
   "source": [
    "# split into words\n",
    "from nltk.tokenize import word_tokenize\n",
    "tokens = word_tokenize(text)\n",
    "print(tokens[:100])"
   ]
  },
  {
   "cell_type": "markdown",
   "id": "cd946bdb",
   "metadata": {},
   "source": [
    "### Convert to lower case"
   ]
  },
  {
   "cell_type": "code",
   "execution_count": 5,
   "id": "5acc5ccb",
   "metadata": {},
   "outputs": [
    {
     "name": "stdout",
     "output_type": "stream",
     "text": [
      "['20', 'march', '2023', 'latitude', 'financial', 'announced', 'on', '16', 'march', '2023', 'that', 'it', 'had', 'detected', 'unusual', 'activity', 'on', 'its', 'systems', 'which', 'it', 'can', 'now', 'confirm', 'as', 'a', 'sophisticated', ',', 'well-organised', 'and', 'malicious', 'cyber-attack', 'which', 'remains', 'active', '.', 'we', 'recognise', 'the', 'distress', 'to', 'our', 'customers', 'caused', 'by', 'the', 'theft', 'of', 'their', 'personal', 'information', 'and', 'we', 'are', 'committed', 'to', 'transparently', 'updating', 'our', 'customers', ',', 'partners', ',', 'employees', 'and', 'the', 'broader', 'community', '.', 'latitude', 'immediately', 'engaged', 'leading', 'external', 'cyber', 'security', 'experts', ',', 'the', 'australian', 'cyber', 'security', 'centre', ',', 'the', 'australian', 'federal', 'police', 'and', 'other', 'relevant', 'government', 'agencies', '.', 'the', 'attack', 'on', 'latitude', 'is', 'now']\n"
     ]
    }
   ],
   "source": [
    "# convert to lower case\n",
    "tokens = [w.lower() for w in tokens]\n",
    "print(tokens[:100])"
   ]
  },
  {
   "cell_type": "markdown",
   "id": "41e05aa1",
   "metadata": {},
   "source": [
    "### Remove punctuation"
   ]
  },
  {
   "cell_type": "code",
   "execution_count": 6,
   "id": "47498f94",
   "metadata": {},
   "outputs": [
    {
     "name": "stdout",
     "output_type": "stream",
     "text": [
      "['20', 'march', '2023', 'latitude', 'financial', 'announced', 'on', '16', 'march', '2023', 'that', 'it', 'had', 'detected', 'unusual', 'activity', 'on', 'its', 'systems', 'which', 'it', 'can', 'now', 'confirm', 'as', 'a', 'sophisticated', '', 'wellorganised', 'and', 'malicious', 'cyberattack', 'which', 'remains', 'active', '', 'we', 'recognise', 'the', 'distress', 'to', 'our', 'customers', 'caused', 'by', 'the', 'theft', 'of', 'their', 'personal', 'information', 'and', 'we', 'are', 'committed', 'to', 'transparently', 'updating', 'our', 'customers', '', 'partners', '', 'employees', 'and', 'the', 'broader', 'community', '', 'latitude', 'immediately', 'engaged', 'leading', 'external', 'cyber', 'security', 'experts', '', 'the', 'australian', 'cyber', 'security', 'centre', '', 'the', 'australian', 'federal', 'police', 'and', 'other', 'relevant', 'government', 'agencies', '', 'the', 'attack', 'on', 'latitude', 'is', 'now']\n"
     ]
    }
   ],
   "source": [
    "# remove punctuation from each word\n",
    "import string\n",
    "table = str.maketrans('', '', string.punctuation)\n",
    "stripped = [w.translate(table) for w in tokens]\n",
    "print(stripped[:100])"
   ]
  },
  {
   "cell_type": "code",
   "execution_count": 7,
   "id": "64da72dd",
   "metadata": {},
   "outputs": [],
   "source": [
    "# Another way to remove punctuation\n",
    "# from nltk.tokenize import RegexpTokenizer\n",
    "\n",
    "# tokenizer = RegexpTokenizer(r'\\w+')\n",
    "\n",
    "# text1 = tokenizer.tokenize('Hello! Its me#$%!')\n",
    "# text1 = ' '.join(word for word in text1)\n",
    "# text1"
   ]
  },
  {
   "cell_type": "code",
   "execution_count": 8,
   "id": "8f4f7862",
   "metadata": {},
   "outputs": [],
   "source": [
    "# Ref: https://github.com/khuyentran1401/Web-scrape-Ghibli-Movie-Database/blob/master/Web%20scrape%20Ghibli%20Movie%20DB-3.ipynb\n",
    "# Another way to remove punctuation\n",
    "\n",
    "#remove punctuation\n",
    "# print(string.punctuation)\n",
    "\n",
    "# def remove_punctuation(text):\n",
    "#   no_punct = ''.join([c for c in text if c not in string.punctuation])\n",
    "#   return no_punct\n",
    "\n",
    "# print(remove_punctuation(text))"
   ]
  },
  {
   "cell_type": "markdown",
   "id": "91bd3ab1",
   "metadata": {},
   "source": [
    "### Remove non-alphabetic words"
   ]
  },
  {
   "cell_type": "code",
   "execution_count": 9,
   "id": "bd84c481",
   "metadata": {},
   "outputs": [
    {
     "name": "stdout",
     "output_type": "stream",
     "text": [
      "['march', 'latitude', 'financial', 'announced', 'on', 'march', 'that', 'it', 'had', 'detected', 'unusual', 'activity', 'on', 'its', 'systems', 'which', 'it', 'can', 'now', 'confirm', 'as', 'a', 'sophisticated', 'wellorganised', 'and', 'malicious', 'cyberattack', 'which', 'remains', 'active', 'we', 'recognise', 'the', 'distress', 'to', 'our', 'customers', 'caused', 'by', 'the', 'theft', 'of', 'their', 'personal', 'information', 'and', 'we', 'are', 'committed', 'to', 'transparently', 'updating', 'our', 'customers', 'partners', 'employees', 'and', 'the', 'broader', 'community', 'latitude', 'immediately', 'engaged', 'leading', 'external', 'cyber', 'security', 'experts', 'the', 'australian', 'cyber', 'security', 'centre', 'the', 'australian', 'federal', 'police', 'and', 'other', 'relevant', 'government', 'agencies', 'the', 'attack', 'on', 'latitude', 'is', 'now', 'the', 'subject', 'of', 'an', 'investigation', 'by', 'the', 'australian', 'federal', 'police', 'our', 'people']\n"
     ]
    }
   ],
   "source": [
    "# remove remaining tokens that are not alphabetic\n",
    "words = [word for word in stripped if word.isalpha()]\n",
    "print(words[:100])"
   ]
  },
  {
   "cell_type": "markdown",
   "id": "2c4a2073",
   "metadata": {},
   "source": [
    "### Remove stop words"
   ]
  },
  {
   "cell_type": "code",
   "execution_count": 10,
   "id": "c98faf3e",
   "metadata": {},
   "outputs": [
    {
     "name": "stdout",
     "output_type": "stream",
     "text": [
      "['march', 'latitude', 'financial', 'announced', 'march', 'detected', 'unusual', 'activity', 'systems', 'confirm', 'sophisticated', 'wellorganised', 'malicious', 'cyberattack', 'remains', 'active', 'recognise', 'distress', 'customers', 'caused', 'theft', 'personal', 'information', 'committed', 'transparently', 'updating', 'customers', 'partners', 'employees', 'broader', 'community', 'latitude', 'immediately', 'engaged', 'leading', 'external', 'cyber', 'security', 'experts', 'australian', 'cyber', 'security', 'centre', 'australian', 'federal', 'police', 'relevant', 'government', 'agencies', 'attack', 'latitude', 'subject', 'investigation', 'australian', 'federal', 'police', 'people', 'working', 'around', 'clock', 'contain', 'attackers', 'taken', 'prudent', 'action', 'isolating', 'technology', 'platforms', 'means', 'currently', 'onboarding', 'new', 'customers', 'attack', 'remains', 'active', 'taken', 'platforms', 'offline', 'unable', 'service', 'customers', 'merchant', 'partners', 'restore', 'capability', 'immediately', 'however', 'working', 'gradually', 'coming', 'days', 'ask', 'customers', 'continued', 'patience', 'restoration', 'services', 'aligned', 'forensic']\n"
     ]
    }
   ],
   "source": [
    "# filter out stop words\n",
    "from nltk.corpus import stopwords\n",
    "stop_words = set(stopwords.words('english'))\n",
    "words = [w for w in words if not w in stop_words]\n",
    "print(words[:100])"
   ]
  },
  {
   "cell_type": "markdown",
   "id": "f093932a",
   "metadata": {},
   "source": [
    "### Lemmatisation"
   ]
  },
  {
   "cell_type": "code",
   "execution_count": 11,
   "id": "18e6384d",
   "metadata": {},
   "outputs": [
    {
     "name": "stdout",
     "output_type": "stream",
     "text": [
      "['march', 'latitude', 'financial', 'announced', 'march', 'detected', 'unusual', 'activity', 'system', 'confirm', 'sophisticated', 'wellorganised', 'malicious', 'cyberattack', 'remains', 'active', 'recognise', 'distress', 'customer', 'caused', 'theft', 'personal', 'information', 'committed', 'transparently', 'updating', 'customer', 'partner', 'employee', 'broader', 'community', 'latitude', 'immediately', 'engaged', 'leading', 'external', 'cyber', 'security', 'expert', 'australian', 'cyber', 'security', 'centre', 'australian', 'federal', 'police', 'relevant', 'government', 'agency', 'attack', 'latitude', 'subject', 'investigation', 'australian', 'federal', 'police', 'people', 'working', 'around', 'clock', 'contain', 'attacker', 'taken', 'prudent', 'action', 'isolating', 'technology', 'platform', 'mean', 'currently', 'onboarding', 'new', 'customer', 'attack', 'remains', 'active', 'taken', 'platform', 'offline', 'unable', 'service', 'customer', 'merchant', 'partner', 'restore', 'capability', 'immediately', 'however', 'working', 'gradually', 'coming', 'day', 'ask', 'customer', 'continued', 'patience', 'restoration', 'service', 'aligned', 'forensic']\n"
     ]
    }
   ],
   "source": [
    "# Lemmatize the tokens\n",
    "# nltk.download('wordnet')\n",
    "from nltk.stem import WordNetLemmatizer\n",
    "lemmatizer = WordNetLemmatizer()\n",
    "lemmatized_tokens = [lemmatizer.lemmatize(word) for word in words]\n",
    "print(lemmatized_tokens[:100])"
   ]
  },
  {
   "cell_type": "markdown",
   "id": "85beaa77",
   "metadata": {},
   "source": [
    "### Stemming"
   ]
  },
  {
   "cell_type": "code",
   "execution_count": 12,
   "id": "16605020",
   "metadata": {},
   "outputs": [
    {
     "name": "stdout",
     "output_type": "stream",
     "text": [
      "['march', 'latitud', 'financi', 'announc', 'march', 'detect', 'unusu', 'activ', 'system', 'confirm', 'sophist', 'wellorganis', 'malici', 'cyberattack', 'remain', 'activ', 'recognis', 'distress', 'custom', 'caus', 'theft', 'person', 'inform', 'commit', 'transpar', 'updat', 'custom', 'partner', 'employe', 'broader', 'commun', 'latitud', 'immedi', 'engag', 'lead', 'extern', 'cyber', 'secur', 'expert', 'australian', 'cyber', 'secur', 'centr', 'australian', 'feder', 'polic', 'relev', 'govern', 'agenc', 'attack', 'latitud', 'subject', 'investig', 'australian', 'feder', 'polic', 'peopl', 'work', 'around', 'clock', 'contain', 'attack', 'taken', 'prudent', 'action', 'isol', 'technolog', 'platform', 'mean', 'current', 'onboard', 'new', 'custom', 'attack', 'remain', 'activ', 'taken', 'platform', 'offlin', 'unabl', 'servic', 'custom', 'merchant', 'partner', 'restor', 'capabl', 'immedi', 'howev', 'work', 'gradual', 'come', 'day', 'ask', 'custom', 'continu', 'patienc', 'restor', 'servic', 'align', 'forens']\n"
     ]
    }
   ],
   "source": [
    "# stemming of words\n",
    "from nltk.stem.porter import PorterStemmer\n",
    "porter = PorterStemmer()\n",
    "stemmed_tokens = [porter.stem(word) for word in words]\n",
    "print(stemmed_tokens[:100])"
   ]
  },
  {
   "cell_type": "code",
   "execution_count": 13,
   "id": "e685a9ea",
   "metadata": {},
   "outputs": [
    {
     "data": {
      "text/plain": [
       "553"
      ]
     },
     "execution_count": 13,
     "metadata": {},
     "output_type": "execute_result"
    }
   ],
   "source": [
    "len(words)"
   ]
  },
  {
   "cell_type": "markdown",
   "id": "496ae5be",
   "metadata": {},
   "source": [
    "### Compare between lemmatisation and stemming"
   ]
  },
  {
   "cell_type": "markdown",
   "id": "9cd47630",
   "metadata": {},
   "source": [
    "#### Lemmatisation"
   ]
  },
  {
   "cell_type": "code",
   "execution_count": 14,
   "id": "2cb558ef",
   "metadata": {},
   "outputs": [],
   "source": [
    "from nltk.probability import FreqDist\n",
    "fdist = FreqDist(lemmatized_tokens)"
   ]
  },
  {
   "cell_type": "code",
   "execution_count": 15,
   "id": "0312f7bf",
   "metadata": {},
   "outputs": [
    {
     "data": {
      "text/plain": [
       "[('customer', 26),\n",
       " ('latitude', 19),\n",
       " ('information', 15),\n",
       " ('credit', 9),\n",
       " ('partner', 7),\n",
       " ('personal', 6),\n",
       " ('australian', 6),\n",
       " ('service', 6),\n",
       " ('applicant', 6),\n",
       " ('platform', 5),\n",
       " ('review', 5),\n",
       " ('stolen', 5),\n",
       " ('number', 5),\n",
       " ('contact', 5),\n",
       " ('impacted', 5),\n",
       " ('support', 5),\n",
       " ('incident', 5),\n",
       " ('confirm', 4),\n",
       " ('cyberattack', 4),\n",
       " ('cyber', 4)]"
      ]
     },
     "execution_count": 15,
     "metadata": {},
     "output_type": "execute_result"
    }
   ],
   "source": [
    "most_common = fdist.most_common(20)\n",
    "most_common"
   ]
  },
  {
   "cell_type": "code",
   "execution_count": 16,
   "id": "5b7dff7a",
   "metadata": {},
   "outputs": [
    {
     "data": {
      "image/png": "[encoded data removed]",
      "text/plain": [
       "<Figure size 1440x360 with 1 Axes>"
      ]
     },
     "metadata": {
      "needs_background": "light"
     },
     "output_type": "display_data"
    }
   ],
   "source": [
    "# Visualise with matplotlib\n",
    "plt.figure(figsize=(20,5))\n",
    "plt.plot([word[0] for word in most_common], [word[1] for word in most_common])\n",
    "plt.plot()\n",
    "plt.xlabel('Lemmatised Words')\n",
    "plt.ylabel('Frequency')\n",
    "plt.show()"
   ]
  },
  {
   "cell_type": "markdown",
   "id": "faf836cc",
   "metadata": {},
   "source": [
    "#### Stemming"
   ]
  },
  {
   "cell_type": "code",
   "execution_count": 17,
   "id": "a1f888c2",
   "metadata": {},
   "outputs": [],
   "source": [
    "fdist = FreqDist(stemmed_tokens)"
   ]
  },
  {
   "cell_type": "code",
   "execution_count": 18,
   "id": "86585dae",
   "metadata": {},
   "outputs": [
    {
     "data": {
      "text/plain": [
       "[('custom', 26),\n",
       " ('latitud', 19),\n",
       " ('inform', 16),\n",
       " ('credit', 9),\n",
       " ('partner', 7),\n",
       " ('contact', 7),\n",
       " ('person', 6),\n",
       " ('australian', 6),\n",
       " ('servic', 6),\n",
       " ('applic', 6),\n",
       " ('platform', 5),\n",
       " ('review', 5),\n",
       " ('stolen', 5),\n",
       " ('number', 5),\n",
       " ('impact', 5),\n",
       " ('support', 5),\n",
       " ('protect', 5),\n",
       " ('incid', 5),\n",
       " ('confirm', 4),\n",
       " ('cyberattack', 4)]"
      ]
     },
     "execution_count": 18,
     "metadata": {},
     "output_type": "execute_result"
    }
   ],
   "source": [
    "most_common = fdist.most_common(20)\n",
    "most_common"
   ]
  },
  {
   "cell_type": "code",
   "execution_count": 19,
   "id": "e0018202",
   "metadata": {},
   "outputs": [
    {
     "data": {
      "image/png": "[encoded data removed]",
      "text/plain": [
       "<Figure size 1440x360 with 1 Axes>"
      ]
     },
     "metadata": {
      "needs_background": "light"
     },
     "output_type": "display_data"
    }
   ],
   "source": [
    "# Visualise with matplotlib\n",
    "plt.figure(figsize=(20,5))\n",
    "plt.plot([word[0] for word in most_common], [word[1] for word in most_common])\n",
    "plt.plot()\n",
    "plt.xlabel('Stemmed Words')\n",
    "plt.ylabel('Frequency')\n",
    "plt.show()"
   ]
  },
  {
   "cell_type": "markdown",
   "id": "425b3a5b",
   "metadata": {},
   "source": [
    "### Get Frequency of words before lemmatisation"
   ]
  },
  {
   "cell_type": "code",
   "execution_count": 20,
   "id": "99974618",
   "metadata": {},
   "outputs": [],
   "source": [
    "fdist = FreqDist(word for word in words)"
   ]
  },
  {
   "cell_type": "code",
   "execution_count": 21,
   "id": "0388c676",
   "metadata": {},
   "outputs": [
    {
     "name": "stdout",
     "output_type": "stream",
     "text": [
      "[('customers', 23), ('latitude', 19), ('information', 15), ('credit', 9), ('partners', 7), ('personal', 6), ('australian', 6), ('platforms', 5), ('review', 5), ('applicants', 5)]\n"
     ]
    }
   ],
   "source": [
    "# Most common words\n",
    "most_common = fdist.most_common(10)\n",
    "print(most_common) "
   ]
  },
  {
   "cell_type": "code",
   "execution_count": 22,
   "id": "fc068274",
   "metadata": {},
   "outputs": [
    {
     "name": "stdout",
     "output_type": "stream",
     "text": [
      "325\n"
     ]
    }
   ],
   "source": [
    "# Total number of unique words\n",
    "unique_words = len(fdist)\n",
    "print(unique_words)"
   ]
  },
  {
   "cell_type": "code",
   "execution_count": 23,
   "id": "1eb132c8",
   "metadata": {},
   "outputs": [
    {
     "data": {
      "image/png": "[encoded data removed]",
      "text/plain": [
       "<Figure size 432x288 with 1 Axes>"
      ]
     },
     "metadata": {
      "needs_background": "light"
     },
     "output_type": "display_data"
    }
   ],
   "source": [
    "# Plot a frequency distribution graph of 10 most common words\n",
    "fdist.plot(10)\n",
    "plt.show()"
   ]
  },
  {
   "cell_type": "markdown",
   "id": "4dd9a79e",
   "metadata": {},
   "source": [
    "### Get all files in the Statements folder"
   ]
  },
  {
   "cell_type": "code",
   "execution_count": 24,
   "id": "656cdca4",
   "metadata": {},
   "outputs": [
    {
     "name": "stdout",
     "output_type": "stream",
     "text": [
      "['2019.02.25 Melbourne Heart Group.txt', '2019.05.24 Canva.txt', '2020.05.28 Service NSW.txt', '2021.02.05 Ambulance Tasmania.txt', '2021.03.17 Eastern Health.txt', '2021.11.16 Frontier.txt', '2022.00.00 CSBS (Ctars).txt', '2022.05.04 National Tertiary Education Union.txt', '2022.05.15 Ctars.txt', '2022.09.12 Telstra.txt', '2022.09.20 Optus.txt', '2022.10.14 MyDeal (Woolworths Group).txt', '2022.11.22 The Smith Family (Twitter).txt', '2022.11.22 The Smith Family.txt', '2022.11.30 GoTo.txt', '2022.12.13 iinet (TPG).txt', '2022.12.20 Medlab Pathology.txt', '2023.03.16 iph.txt', '2023.03.20 Latitude.txt', '2023.05.19 Ambulance Victoria.txt']\n"
     ]
    }
   ],
   "source": [
    "import glob\n",
    "import os\n",
    "\n",
    "folder_path = \"Statements\"  # Replace with the path to your folder\n",
    "\n",
    "# Get all file paths in the folder\n",
    "file_paths = glob.glob(folder_path + \"/*\")\n",
    "\n",
    "all_files = []\n",
    "# Iterate over the file paths and print their names\n",
    "for file_path in file_paths:\n",
    "    file_name = os.path.basename(file_path)\n",
    "    all_files.append(file_name)\n",
    "print(all_files)"
   ]
  },
  {
   "cell_type": "markdown",
   "id": "8ffea4bf",
   "metadata": {},
   "source": [
    "### Read each file / statement into a string"
   ]
  },
  {
   "cell_type": "code",
   "execution_count": 25,
   "id": "cd57ff34",
   "metadata": {},
   "outputs": [],
   "source": [
    "def read_file_as_string(file_path):\n",
    "    with open('Statements/'+file_path, 'r', encoding='utf-8') as file:\n",
    "        lines = file.readlines()\n",
    "        text = ' '.join(lines).replace(\"\\n\", \"\")\n",
    "    return text"
   ]
  },
  {
   "cell_type": "code",
   "execution_count": 26,
   "id": "a63f1195",
   "metadata": {},
   "outputs": [],
   "source": [
    "from datetime import datetime\n",
    "\n",
    "statements = []\n",
    "companies = []\n",
    "dates = []\n",
    "years = []\n",
    "\n",
    "# Function to format date\n",
    "def format_date(date):\n",
    "    # Get date\n",
    "    date_str = date\n",
    "\n",
    "    # Convert the date string to a datetime object\n",
    "    try:\n",
    "        date_obj = datetime.strptime(date_str, \"%Y.%m.%d\")\n",
    "        # Convert the datetime object to the desired format\n",
    "        formatted_date = date_obj.strftime(\"%d/%m/%Y\")\n",
    "        return formatted_date\n",
    "    except ValueError:\n",
    "        return None  \n",
    "\n",
    "for file_name in all_files:\n",
    "    # Get statement\n",
    "    statements.append(read_file_as_string(file_name))\n",
    "    # Get company name from file name\n",
    "    companies.append(file_name[11:-4])\n",
    "    \n",
    "    # Transform date into correct datetime format\n",
    "    date = file_name[:10]\n",
    "    formatted_date = format_date(date)\n",
    "    dates.append(formatted_date)\n",
    "    \n",
    "    # Get year\n",
    "    year = file_name[:4]\n",
    "    years.append(year)"
   ]
  },
  {
   "cell_type": "code",
   "execution_count": 27,
   "id": "bf83491a",
   "metadata": {},
   "outputs": [
    {
     "name": "stdout",
     "output_type": "stream",
     "text": [
      "<class 'pandas.core.frame.DataFrame'>\n",
      "RangeIndex: 20 entries, 0 to 19\n",
      "Data columns (total 4 columns):\n",
      " #   Column            Non-Null Count  Dtype \n",
      "---  ------            --------------  ----- \n",
      " 0   Company           20 non-null     object\n",
      " 1   NotificationDate  19 non-null     object\n",
      " 2   Year              20 non-null     object\n",
      " 3   Statement         20 non-null     object\n",
      "dtypes: object(4)\n",
      "memory usage: 768.0+ bytes\n"
     ]
    },
    {
     "data": {
      "text/html": [
       "<div>\n",
       "<style scoped>\n",
       "    .dataframe tbody tr th:only-of-type {\n",
       "        vertical-align: middle;\n",
       "    }\n",
       "\n",
       "    .dataframe tbody tr th {\n",
       "        vertical-align: top;\n",
       "    }\n",
       "\n",
       "    .dataframe thead th {\n",
       "        text-align: right;\n",
       "    }\n",
       "</style>\n",
       "<table border=\"1\" class=\"dataframe\">\n",
       "  <thead>\n",
       "    <tr style=\"text-align: right;\">\n",
       "      <th></th>\n",
       "      <th>Company</th>\n",
       "      <th>NotificationDate</th>\n",
       "      <th>Year</th>\n",
       "      <th>Statement</th>\n",
       "    </tr>\n",
       "  </thead>\n",
       "  <tbody>\n",
       "    <tr>\n",
       "      <th>0</th>\n",
       "      <td>Melbourne Heart Group</td>\n",
       "      <td>25/02/2019</td>\n",
       "      <td>2019</td>\n",
       "      <td>Melbourne Heart Group wishes to advise all our...</td>\n",
       "    </tr>\n",
       "    <tr>\n",
       "      <th>1</th>\n",
       "      <td>Canva</td>\n",
       "      <td>24/05/2019</td>\n",
       "      <td>2019</td>\n",
       "      <td>June 1, 10:13 AEST  Following an investigation...</td>\n",
       "    </tr>\n",
       "    <tr>\n",
       "      <th>2</th>\n",
       "      <td>Service NSW</td>\n",
       "      <td>28/05/2020</td>\n",
       "      <td>2020</td>\n",
       "      <td>The investigation into the cyber attack is pro...</td>\n",
       "    </tr>\n",
       "    <tr>\n",
       "      <th>3</th>\n",
       "      <td>Ambulance Tasmania</td>\n",
       "      <td>05/02/2021</td>\n",
       "      <td>2021</td>\n",
       "      <td>Ambulance Tasmania is committed to the privacy...</td>\n",
       "    </tr>\n",
       "    <tr>\n",
       "      <th>4</th>\n",
       "      <td>Eastern Health</td>\n",
       "      <td>17/03/2021</td>\n",
       "      <td>2021</td>\n",
       "      <td>Late on Tuesday, Eastern Health has experience...</td>\n",
       "    </tr>\n",
       "  </tbody>\n",
       "</table>\n",
       "</div>"
      ],
      "text/plain": [
       "                 Company NotificationDate  Year  \\\n",
       "0  Melbourne Heart Group       25/02/2019  2019   \n",
       "1                  Canva       24/05/2019  2019   \n",
       "2            Service NSW       28/05/2020  2020   \n",
       "3     Ambulance Tasmania       05/02/2021  2021   \n",
       "4         Eastern Health       17/03/2021  2021   \n",
       "\n",
       "                                           Statement  \n",
       "0  Melbourne Heart Group wishes to advise all our...  \n",
       "1  June 1, 10:13 AEST  Following an investigation...  \n",
       "2  The investigation into the cyber attack is pro...  \n",
       "3  Ambulance Tasmania is committed to the privacy...  \n",
       "4  Late on Tuesday, Eastern Health has experience...  "
      ]
     },
     "execution_count": 27,
     "metadata": {},
     "output_type": "execute_result"
    }
   ],
   "source": [
    "data = {'Company': companies, 'NotificationDate': dates, 'Year': years, 'Statement': statements}\n",
    "df = pd.DataFrame(data=data)\n",
    "df.info()\n",
    "df.head()"
   ]
  },
  {
   "cell_type": "markdown",
   "id": "c0b2e762",
   "metadata": {},
   "source": [
    "### Feature Engineering - Length / Count of words in the statement"
   ]
  },
  {
   "cell_type": "code",
   "execution_count": 28,
   "id": "45ffd538",
   "metadata": {},
   "outputs": [],
   "source": [
    "df['Length'] = df['Statement'].apply(lambda x: len(x.split()))"
   ]
  },
  {
   "cell_type": "code",
   "execution_count": 29,
   "id": "7d6b65f4",
   "metadata": {},
   "outputs": [
    {
     "data": {
      "text/plain": [
       "473.7"
      ]
     },
     "execution_count": 29,
     "metadata": {},
     "output_type": "execute_result"
    }
   ],
   "source": [
    "sum(df['Length']) / 20"
   ]
  },
  {
   "cell_type": "markdown",
   "id": "16b40099",
   "metadata": {},
   "source": [
    "### Text Preprocessing"
   ]
  },
  {
   "cell_type": "code",
   "execution_count": 30,
   "id": "bac8230b",
   "metadata": {},
   "outputs": [],
   "source": [
    "import string\n",
    "import nltk\n",
    "from nltk.corpus import stopwords\n",
    "from nltk import sent_tokenize\n",
    "from nltk.tokenize import word_tokenize\n",
    "from nltk.stem import WordNetLemmatizer\n",
    "from nltk.tokenize import word_tokenize\n",
    "from nltk.stem import WordNetLemmatizer\n",
    "\n",
    "def preprocess(text):\n",
    "    # split into sentences\n",
    "    sentences = sent_tokenize(text)\n",
    "    \n",
    "    # split into words\n",
    "    tokens = word_tokenize(text)\n",
    "    \n",
    "    # convert to lower case\n",
    "    tokens = [w.lower() for w in tokens]\n",
    "    \n",
    "    # remove punctuation from each word\n",
    "    table = str.maketrans('', '', string.punctuation)\n",
    "    stripped = [w.translate(table) for w in tokens]\n",
    "    \n",
    "    # remove remaining tokens that are not alphabetic\n",
    "    words = [word for word in stripped if word.isalpha()]\n",
    "    \n",
    "    # filter out stop words\n",
    "    stop_words = set(stopwords.words('english'))\n",
    "    words = [w for w in words if not w in stop_words]\n",
    "    \n",
    "    # Lemmatize the tokens\n",
    "    lemmatizer = WordNetLemmatizer()\n",
    "    lemmatized_tokens = [lemmatizer.lemmatize(word) for word in words]\n",
    "\n",
    "    # Join the tokens back into a string\n",
    "    processed_text = ' '.join(lemmatized_tokens)\n",
    "    return processed_text"
   ]
  },
  {
   "cell_type": "code",
   "execution_count": 31,
   "id": "6e00a20a",
   "metadata": {},
   "outputs": [],
   "source": [
    "df['CleanStatement'] = df['Statement'].apply(lambda x: preprocess(x))"
   ]
  },
  {
   "cell_type": "code",
   "execution_count": 32,
   "id": "229158bd",
   "metadata": {},
   "outputs": [
    {
     "data": {
      "text/html": [
       "<div>\n",
       "<style scoped>\n",
       "    .dataframe tbody tr th:only-of-type {\n",
       "        vertical-align: middle;\n",
       "    }\n",
       "\n",
       "    .dataframe tbody tr th {\n",
       "        vertical-align: top;\n",
       "    }\n",
       "\n",
       "    .dataframe thead th {\n",
       "        text-align: right;\n",
       "    }\n",
       "</style>\n",
       "<table border=\"1\" class=\"dataframe\">\n",
       "  <thead>\n",
       "    <tr style=\"text-align: right;\">\n",
       "      <th></th>\n",
       "      <th>Company</th>\n",
       "      <th>NotificationDate</th>\n",
       "      <th>Year</th>\n",
       "      <th>Statement</th>\n",
       "      <th>Length</th>\n",
       "      <th>CleanStatement</th>\n",
       "    </tr>\n",
       "  </thead>\n",
       "  <tbody>\n",
       "    <tr>\n",
       "      <th>0</th>\n",
       "      <td>Melbourne Heart Group</td>\n",
       "      <td>25/02/2019</td>\n",
       "      <td>2019</td>\n",
       "      <td>Melbourne Heart Group wishes to advise all our...</td>\n",
       "      <td>81</td>\n",
       "      <td>melbourne heart group wish advise patient cybe...</td>\n",
       "    </tr>\n",
       "    <tr>\n",
       "      <th>1</th>\n",
       "      <td>Canva</td>\n",
       "      <td>24/05/2019</td>\n",
       "      <td>2019</td>\n",
       "      <td>June 1, 10:13 AEST  Following an investigation...</td>\n",
       "      <td>847</td>\n",
       "      <td>june aest following investigation cyber securi...</td>\n",
       "    </tr>\n",
       "    <tr>\n",
       "      <th>2</th>\n",
       "      <td>Service NSW</td>\n",
       "      <td>28/05/2020</td>\n",
       "      <td>2020</td>\n",
       "      <td>The investigation into the cyber attack is pro...</td>\n",
       "      <td>167</td>\n",
       "      <td>investigation cyber attack progressing team fo...</td>\n",
       "    </tr>\n",
       "    <tr>\n",
       "      <th>3</th>\n",
       "      <td>Ambulance Tasmania</td>\n",
       "      <td>05/02/2021</td>\n",
       "      <td>2021</td>\n",
       "      <td>Ambulance Tasmania is committed to the privacy...</td>\n",
       "      <td>272</td>\n",
       "      <td>ambulance tasmania committed privacy confident...</td>\n",
       "    </tr>\n",
       "    <tr>\n",
       "      <th>4</th>\n",
       "      <td>Eastern Health</td>\n",
       "      <td>17/03/2021</td>\n",
       "      <td>2021</td>\n",
       "      <td>Late on Tuesday, Eastern Health has experience...</td>\n",
       "      <td>102</td>\n",
       "      <td>late tuesday eastern health experienced cyber ...</td>\n",
       "    </tr>\n",
       "  </tbody>\n",
       "</table>\n",
       "</div>"
      ],
      "text/plain": [
       "                 Company NotificationDate  Year  \\\n",
       "0  Melbourne Heart Group       25/02/2019  2019   \n",
       "1                  Canva       24/05/2019  2019   \n",
       "2            Service NSW       28/05/2020  2020   \n",
       "3     Ambulance Tasmania       05/02/2021  2021   \n",
       "4         Eastern Health       17/03/2021  2021   \n",
       "\n",
       "                                           Statement  Length  \\\n",
       "0  Melbourne Heart Group wishes to advise all our...      81   \n",
       "1  June 1, 10:13 AEST  Following an investigation...     847   \n",
       "2  The investigation into the cyber attack is pro...     167   \n",
       "3  Ambulance Tasmania is committed to the privacy...     272   \n",
       "4  Late on Tuesday, Eastern Health has experience...     102   \n",
       "\n",
       "                                      CleanStatement  \n",
       "0  melbourne heart group wish advise patient cybe...  \n",
       "1  june aest following investigation cyber securi...  \n",
       "2  investigation cyber attack progressing team fo...  \n",
       "3  ambulance tasmania committed privacy confident...  \n",
       "4  late tuesday eastern health experienced cyber ...  "
      ]
     },
     "execution_count": 32,
     "metadata": {},
     "output_type": "execute_result"
    }
   ],
   "source": [
    "df.head()"
   ]
  },
  {
   "cell_type": "markdown",
   "id": "eb7f54c4",
   "metadata": {},
   "source": [
    "### Get sentiment using SiEBERT - English-Language Sentiment Classification"
   ]
  },
  {
   "cell_type": "code",
   "execution_count": 33,
   "id": "688619b2",
   "metadata": {},
   "outputs": [],
   "source": [
    "# Ref: https://huggingface.co/siebert/sentiment-roberta-large-english\n",
    "\n",
    "from transformers import pipeline\n",
    "sentiment_analysis = pipeline(\"sentiment-analysis\", model=\"siebert/sentiment-roberta-large-english\")\n",
    "# print(sentiment_analysis(\"I love this!\"))"
   ]
  },
  {
   "cell_type": "code",
   "execution_count": 34,
   "id": "251f97cc",
   "metadata": {},
   "outputs": [],
   "source": [
    "# Create a function to get sentiment\n",
    "def get_sentiment(text):\n",
    "    sentences = sent_tokenize(text)\n",
    "\n",
    "    sent_dict = {'Positive': 0, 'Negative': 0}\n",
    "\n",
    "    for sentence in sentences:\n",
    "        # Get sentiment for each sentence in the statement\n",
    "        sentiment = sentiment_analysis(sentence)   \n",
    "        if sentiment[0]['label'] == 'NEGATIVE':\n",
    "            sent_dict['Negative'] += 1\n",
    "        else: \n",
    "            sent_dict['Positive'] += 1\n",
    "    # Check Positive or Negative has higher values\n",
    "    if sent_dict['Positive'] > sent_dict['Negative']:\n",
    "        return 1\n",
    "    else:\n",
    "        return 0"
   ]
  },
  {
   "cell_type": "code",
   "execution_count": 35,
   "id": "641287d4",
   "metadata": {},
   "outputs": [],
   "source": [
    "# df['Siebert_Sentiment'] = df['Statement'].apply(lambda x: get_sentiment(x))"
   ]
  },
  {
   "cell_type": "code",
   "execution_count": 36,
   "id": "77227294",
   "metadata": {},
   "outputs": [
    {
     "data": {
      "text/plain": [
       "1    11\n",
       "0     9\n",
       "Name: Siebert_Sentiment, dtype: int64"
      ]
     },
     "execution_count": 36,
     "metadata": {},
     "output_type": "execute_result"
    }
   ],
   "source": [
    "df['Siebert_Sentiment'].value_counts()"
   ]
  },
  {
   "cell_type": "code",
   "execution_count": 37,
   "id": "4a600a03",
   "metadata": {},
   "outputs": [
    {
     "data": {
      "text/html": [
       "<div>\n",
       "<style scoped>\n",
       "    .dataframe tbody tr th:only-of-type {\n",
       "        vertical-align: middle;\n",
       "    }\n",
       "\n",
       "    .dataframe tbody tr th {\n",
       "        vertical-align: top;\n",
       "    }\n",
       "\n",
       "    .dataframe thead th {\n",
       "        text-align: right;\n",
       "    }\n",
       "</style>\n",
       "<table border=\"1\" class=\"dataframe\">\n",
       "  <thead>\n",
       "    <tr style=\"text-align: right;\">\n",
       "      <th></th>\n",
       "      <th>Company</th>\n",
       "      <th>NotificationDate</th>\n",
       "      <th>Year</th>\n",
       "      <th>Statement</th>\n",
       "      <th>Length</th>\n",
       "      <th>CleanStatement</th>\n",
       "      <th>Siebert_Sentiment</th>\n",
       "    </tr>\n",
       "  </thead>\n",
       "  <tbody>\n",
       "    <tr>\n",
       "      <th>0</th>\n",
       "      <td>Melbourne Heart Group</td>\n",
       "      <td>25/02/2019</td>\n",
       "      <td>2019</td>\n",
       "      <td>Melbourne Heart Group wishes to advise all our...</td>\n",
       "      <td>81</td>\n",
       "      <td>melbourne heart group wish advise patient cybe...</td>\n",
       "      <td>1</td>\n",
       "    </tr>\n",
       "    <tr>\n",
       "      <th>1</th>\n",
       "      <td>Canva</td>\n",
       "      <td>24/05/2019</td>\n",
       "      <td>2019</td>\n",
       "      <td>June 1, 10:13 AEST  Following an investigation...</td>\n",
       "      <td>847</td>\n",
       "      <td>june aest following investigation cyber securi...</td>\n",
       "      <td>0</td>\n",
       "    </tr>\n",
       "    <tr>\n",
       "      <th>2</th>\n",
       "      <td>Service NSW</td>\n",
       "      <td>28/05/2020</td>\n",
       "      <td>2020</td>\n",
       "      <td>The investigation into the cyber attack is pro...</td>\n",
       "      <td>167</td>\n",
       "      <td>investigation cyber attack progressing team fo...</td>\n",
       "      <td>1</td>\n",
       "    </tr>\n",
       "    <tr>\n",
       "      <th>3</th>\n",
       "      <td>Ambulance Tasmania</td>\n",
       "      <td>05/02/2021</td>\n",
       "      <td>2021</td>\n",
       "      <td>Ambulance Tasmania is committed to the privacy...</td>\n",
       "      <td>272</td>\n",
       "      <td>ambulance tasmania committed privacy confident...</td>\n",
       "      <td>1</td>\n",
       "    </tr>\n",
       "    <tr>\n",
       "      <th>4</th>\n",
       "      <td>Eastern Health</td>\n",
       "      <td>17/03/2021</td>\n",
       "      <td>2021</td>\n",
       "      <td>Late on Tuesday, Eastern Health has experience...</td>\n",
       "      <td>102</td>\n",
       "      <td>late tuesday eastern health experienced cyber ...</td>\n",
       "      <td>0</td>\n",
       "    </tr>\n",
       "  </tbody>\n",
       "</table>\n",
       "</div>"
      ],
      "text/plain": [
       "                 Company NotificationDate  Year  \\\n",
       "0  Melbourne Heart Group       25/02/2019  2019   \n",
       "1                  Canva       24/05/2019  2019   \n",
       "2            Service NSW       28/05/2020  2020   \n",
       "3     Ambulance Tasmania       05/02/2021  2021   \n",
       "4         Eastern Health       17/03/2021  2021   \n",
       "\n",
       "                                           Statement  Length  \\\n",
       "0  Melbourne Heart Group wishes to advise all our...      81   \n",
       "1  June 1, 10:13 AEST  Following an investigation...     847   \n",
       "2  The investigation into the cyber attack is pro...     167   \n",
       "3  Ambulance Tasmania is committed to the privacy...     272   \n",
       "4  Late on Tuesday, Eastern Health has experience...     102   \n",
       "\n",
       "                                      CleanStatement  Siebert_Sentiment  \n",
       "0  melbourne heart group wish advise patient cybe...                  1  \n",
       "1  june aest following investigation cyber securi...                  0  \n",
       "2  investigation cyber attack progressing team fo...                  1  \n",
       "3  ambulance tasmania committed privacy confident...                  1  \n",
       "4  late tuesday eastern health experienced cyber ...                  0  "
      ]
     },
     "execution_count": 37,
     "metadata": {},
     "output_type": "execute_result"
    }
   ],
   "source": [
    "df.head()"
   ]
  },
  {
   "cell_type": "code",
   "execution_count": null,
   "id": "85602820",
   "metadata": {},
   "outputs": [],
   "source": []
  },
  {
   "cell_type": "code",
   "execution_count": 38,
   "id": "f3c000d7",
   "metadata": {},
   "outputs": [],
   "source": [
    "# df.to_excel('output.xlsx', index=False)"
   ]
  },
  {
   "cell_type": "code",
   "execution_count": 39,
   "id": "81c53ee0",
   "metadata": {},
   "outputs": [],
   "source": [
    "# df.drop(['CleanStatement2'], axis=1, inplace=True)"
   ]
  },
  {
   "cell_type": "code",
   "execution_count": 40,
   "id": "a68961af",
   "metadata": {},
   "outputs": [],
   "source": [
    "# initialize NLTK sentiment analyzer\n",
    "# nltk.download('vader_lexicon')\n",
    "# from nltk.sentiment.vader import SentimentIntensityAnalyzer\n",
    "# analyzer = SentimentIntensityAnalyzer()\n",
    "\n",
    "# # create get_sentiment function\n",
    "# def get_sentiment(text):\n",
    "#     scores = analyzer.polarity_scores(text)\n",
    "#     sentiment = 1 if scores['pos'] > 0 else 0\n",
    "#     return sentiment"
   ]
  }
 ],
 "metadata": {
  "kernelspec": {
   "display_name": "Python 3 (ipykernel)",
   "language": "python",
   "name": "python3"
  },
  "language_info": {
   "codemirror_mode": {
    "name": "ipython",
    "version": 3
   },
   "file_extension": ".py",
   "mimetype": "text/x-python",
   "name": "python",
   "nbconvert_exporter": "python",
   "pygments_lexer": "ipython3",
   "version": "3.9.7"
  }
 },
 "nbformat": 4,
 "nbformat_minor": 5
}
